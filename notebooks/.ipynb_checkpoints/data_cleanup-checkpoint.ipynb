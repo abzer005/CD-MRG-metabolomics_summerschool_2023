{
 "cells": [
  {
   "cell_type": "markdown",
   "id": "c923b31a-6fc2-4b4d-8cc0-3abd2efa5a4a",
   "metadata": {},
   "source": [
    "# Data-Cleanup\n",
    "Author: Abzer Kelminal Pakkir Mohamed Shah <br>\n",
    "Last update: July 22, 2023<br>\n",
    "\n",
    "In this notebook we will perform some preliminay data cleanup such as: Look for batch effects and correct it, remove the features from the blank samples, impute missing values and perform normalization and/or scaling on our data. <br>\n",
    "\n",
    "<b>Data</b> <br>\n",
    "\n",
    "Non-invasive drug monitoring is desirable as it improves patient experience. Instead of relying on invasive blood draws, drug pharmacokinetics and metabolism could, for example, be monitored through the skin. In this tutorial, we will be working with a subset of the data published by [Panitchpakdi and collaborators (2022)](https://journals.plos.org/plosone/article?id=10.1371/journal.pone.0271794). The datasets consists of plasma and skin swabs (forearm, forehead and upper back) collected from healthy volunteers (n=7) over the course of 24 hours, who have been administered the antihistaminic diphenhydramine. "
   ]
  },
  {
   "cell_type": "code",
   "execution_count": 1,
   "id": "5cb45887-fd74-41fe-8cbc-31fb4776e562",
   "metadata": {},
   "outputs": [
    {
     "data": {
      "text/html": [
       "'20230724'"
      ],
      "text/latex": [
       "'20230724'"
      ],
      "text/markdown": [
       "'20230724'"
      ],
      "text/plain": [
       "[1] \"20230724\""
      ]
     },
     "metadata": {},
     "output_type": "display_data"
    }
   ],
   "source": [
    "Date <- format(Sys.Date(), \"%Y%m%d\")\n",
    "Date"
   ]
  },
  {
   "cell_type": "markdown",
   "id": "e97ff190-3218-46f8-92bc-5c15b60b4ba1",
   "metadata": {},
   "source": [
    "## Install libraries\n",
    "Install packages needed to perform the analyses:"
   ]
  },
  {
   "cell_type": "code",
   "execution_count": null,
   "id": "11c695ed-14f8-447d-b023-d331e371b818",
   "metadata": {},
   "outputs": [],
   "source": [
    "install.packages('tidyverse')\n",
    "install.pacakages('factoextra')\n",
    "install.pacakages('KODAMA')\n",
    "install.pacakages('vegan')"
   ]
  },
  {
   "cell_type": "markdown",
   "id": "bf81a847-d4da-4907-8214-a542a9e53a3d",
   "metadata": {},
   "source": [
    "Load the installed packages into the current R session:"
   ]
  },
  {
   "cell_type": "code",
   "execution_count": 2,
   "id": "1e811c59-37b1-49fd-a2f4-99333e71cba8",
   "metadata": {},
   "outputs": [
    {
     "name": "stderr",
     "output_type": "stream",
     "text": [
      "-- \u001b[1mAttaching core tidyverse packages\u001b[22m ------------------------ tidyverse 2.0.0 --\n",
      "\u001b[32mv\u001b[39m \u001b[34mdplyr    \u001b[39m 1.1.0     \u001b[32mv\u001b[39m \u001b[34mreadr    \u001b[39m 2.1.4\n",
      "\u001b[32mv\u001b[39m \u001b[34mforcats  \u001b[39m 1.0.0     \u001b[32mv\u001b[39m \u001b[34mstringr  \u001b[39m 1.5.0\n",
      "\u001b[32mv\u001b[39m \u001b[34mggplot2  \u001b[39m 3.4.1     \u001b[32mv\u001b[39m \u001b[34mtibble   \u001b[39m 3.2.1\n",
      "\u001b[32mv\u001b[39m \u001b[34mlubridate\u001b[39m 1.9.2     \u001b[32mv\u001b[39m \u001b[34mtidyr    \u001b[39m 1.3.0\n",
      "\u001b[32mv\u001b[39m \u001b[34mpurrr    \u001b[39m 1.0.1     \n",
      "-- \u001b[1mConflicts\u001b[22m ------------------------------------------ tidyverse_conflicts() --\n",
      "\u001b[31mx\u001b[39m \u001b[34mdplyr\u001b[39m::\u001b[32mfilter()\u001b[39m masks \u001b[34mstats\u001b[39m::filter()\n",
      "\u001b[31mx\u001b[39m \u001b[34mdplyr\u001b[39m::\u001b[32mlag()\u001b[39m    masks \u001b[34mstats\u001b[39m::lag()\n",
      "\u001b[36mi\u001b[39m Use the conflicted package (\u001b[3m\u001b[34m<http://conflicted.r-lib.org/>\u001b[39m\u001b[23m) to force all conflicts to become errors\n",
      "Welcome! Want to learn more? See two factoextra-related books at https://goo.gl/ve3WBa\n",
      "\n",
      "Loading required package: minerva\n",
      "\n",
      "Loading required package: Rtsne\n",
      "\n",
      "Loading required package: umap\n",
      "\n",
      "Loading required package: permute\n",
      "\n",
      "Loading required package: lattice\n",
      "\n",
      "This is vegan 2.6-4\n",
      "\n"
     ]
    }
   ],
   "source": [
    "library(tidyverse)\n",
    "library(factoextra)\n",
    "library(KODAMA)\n",
    "library(vegan)"
   ]
  },
  {
   "cell_type": "markdown",
   "id": "795395a2-c8bb-43e6-b12c-795bedb6a29e",
   "metadata": {},
   "source": [
    "## Read and arrange dataset\n",
    "\n",
    "Read data from GitHub:"
   ]
  },
  {
   "cell_type": "code",
   "execution_count": 3,
   "id": "86e6656e-4c90-4265-8c45-9dfded9509ec",
   "metadata": {},
   "outputs": [],
   "source": [
    "## feature table\n",
    "ft_url <- 'https://raw.githubusercontent.com/ssi-dk/CD-MRG-metabolomics_summerschool_2023/main/data/mzmine_output/Example/example_iimn_gnps_quant.csv'\n",
    "\n",
    "## metadata\n",
    "md_url <- 'https://raw.githubusercontent.com/ssi-dk/CD-MRG-metabolomics_summerschool_2023/main/data/metadata/metadata.txt'"
   ]
  },
  {
   "cell_type": "code",
   "execution_count": 26,
   "id": "a1a333e0-1b7a-4549-a200-f9a4584b381a",
   "metadata": {},
   "outputs": [],
   "source": [
    "ft <- read.csv(ft_url, check.names=FALSE)\n",
    "md <- read.csv(md_url, sep=\"\\t\", check.names=FALSE)"
   ]
  },
  {
   "cell_type": "markdown",
   "id": "e6f30da8-49ca-4326-8c45-d2be10f30ea7",
   "metadata": {},
   "source": [
    "View the data:"
   ]
  },
  {
   "cell_type": "code",
   "execution_count": 27,
   "id": "977af3fc-af89-4b4b-a8f6-5a04847aa338",
   "metadata": {},
   "outputs": [
    {
     "data": {
      "text/html": [
       "<table class=\"dataframe\">\n",
       "<caption>A data.frame: 3 × 102</caption>\n",
       "<thead>\n",
       "\t<tr><th></th><th scope=col>row ID</th><th scope=col>row m/z</th><th scope=col>row retention time</th><th scope=col>row ion mobility</th><th scope=col>row ion mobility unit</th><th scope=col>row CCS</th><th scope=col>correlation group ID</th><th scope=col>annotation network number</th><th scope=col>best ion</th><th scope=col>auto MS2 verify</th><th scope=col>...</th><th scope=col>skin_08_480_UB.mzML Peak area</th><th scope=col>skin_08_0_UB.mzML Peak area</th><th scope=col>skin_08_720_UB.mzML Peak area</th><th scope=col>skin_10_720_UB.mzML Peak area</th><th scope=col>skin_08_120_UB.mzML Peak area</th><th scope=col>skin_03_120_UB.mzML Peak area</th><th scope=col>skin_03_240_UB.mzML Peak area</th><th scope=col>skin_03_0_UB.mzML Peak area</th><th scope=col>skin_08_600_UB.mzML Peak area</th><th scope=col></th></tr>\n",
       "\t<tr><th></th><th scope=col>&lt;int&gt;</th><th scope=col>&lt;dbl&gt;</th><th scope=col>&lt;dbl&gt;</th><th scope=col>&lt;lgl&gt;</th><th scope=col>&lt;lgl&gt;</th><th scope=col>&lt;lgl&gt;</th><th scope=col>&lt;int&gt;</th><th scope=col>&lt;int&gt;</th><th scope=col>&lt;chr&gt;</th><th scope=col>&lt;lgl&gt;</th><th scope=col>...</th><th scope=col>&lt;dbl&gt;</th><th scope=col>&lt;dbl&gt;</th><th scope=col>&lt;dbl&gt;</th><th scope=col>&lt;dbl&gt;</th><th scope=col>&lt;dbl&gt;</th><th scope=col>&lt;dbl&gt;</th><th scope=col>&lt;dbl&gt;</th><th scope=col>&lt;dbl&gt;</th><th scope=col>&lt;dbl&gt;</th><th scope=col>&lt;lgl&gt;</th></tr>\n",
       "</thead>\n",
       "<tbody>\n",
       "\t<tr><th scope=row>1</th><td>9002</td><td>150.0629</td><td>4.962805</td><td>NA</td><td>NA</td><td>NA</td><td>20</td><td>144</td><td>[M+H]+</td><td>NA</td><td>...</td><td>900854.30</td><td>1083294.00</td><td>1015355.060</td><td>1320949.000</td><td>1210520.80</td><td>2636820.20</td><td>2352653.8</td><td>2145513.00</td><td>866366.75</td><td>NA</td></tr>\n",
       "\t<tr><th scope=row>2</th><td>8808</td><td>150.5959</td><td>4.821733</td><td>NA</td><td>NA</td><td>NA</td><td>NA</td><td> NA</td><td>      </td><td>NA</td><td>...</td><td>     0.00</td><td>      0.00</td><td>      0.000</td><td>   3297.581</td><td>      0.00</td><td>      0.00</td><td>      0.0</td><td>      0.00</td><td>     0.00</td><td>NA</td></tr>\n",
       "\t<tr><th scope=row>3</th><td>4094</td><td>151.0390</td><td>3.305284</td><td>NA</td><td>NA</td><td>NA</td><td> 0</td><td> NA</td><td>      </td><td>NA</td><td>...</td><td> 12955.71</td><td>  16671.13</td><td>   5774.838</td><td>  22974.564</td><td>  19106.33</td><td>  27579.59</td><td>  18463.5</td><td>  14913.52</td><td> 18610.68</td><td>NA</td></tr>\n",
       "</tbody>\n",
       "</table>\n"
      ],
      "text/latex": [
       "A data.frame: 3 × 102\n",
       "\\begin{tabular}{r|lllllllllllllllllllll}\n",
       "  & row ID & row m/z & row retention time & row ion mobility & row ion mobility unit & row CCS & correlation group ID & annotation network number & best ion & auto MS2 verify & ... & skin\\_08\\_480\\_UB.mzML Peak area & skin\\_08\\_0\\_UB.mzML Peak area & skin\\_08\\_720\\_UB.mzML Peak area & skin\\_10\\_720\\_UB.mzML Peak area & skin\\_08\\_120\\_UB.mzML Peak area & skin\\_03\\_120\\_UB.mzML Peak area & skin\\_03\\_240\\_UB.mzML Peak area & skin\\_03\\_0\\_UB.mzML Peak area & skin\\_08\\_600\\_UB.mzML Peak area & \\\\\n",
       "  & <int> & <dbl> & <dbl> & <lgl> & <lgl> & <lgl> & <int> & <int> & <chr> & <lgl> & ... & <dbl> & <dbl> & <dbl> & <dbl> & <dbl> & <dbl> & <dbl> & <dbl> & <dbl> & <lgl>\\\\\n",
       "\\hline\n",
       "\t1 & 9002 & 150.0629 & 4.962805 & NA & NA & NA & 20 & 144 & {[}M+H{]}+ & NA & ... & 900854.30 & 1083294.00 & 1015355.060 & 1320949.000 & 1210520.80 & 2636820.20 & 2352653.8 & 2145513.00 & 866366.75 & NA\\\\\n",
       "\t2 & 8808 & 150.5959 & 4.821733 & NA & NA & NA & NA &  NA &        & NA & ... &      0.00 &       0.00 &       0.000 &    3297.581 &       0.00 &       0.00 &       0.0 &       0.00 &      0.00 & NA\\\\\n",
       "\t3 & 4094 & 151.0390 & 3.305284 & NA & NA & NA &  0 &  NA &        & NA & ... &  12955.71 &   16671.13 &    5774.838 &   22974.564 &   19106.33 &   27579.59 &   18463.5 &   14913.52 &  18610.68 & NA\\\\\n",
       "\\end{tabular}\n"
      ],
      "text/markdown": [
       "\n",
       "A data.frame: 3 × 102\n",
       "\n",
       "| <!--/--> | row ID &lt;int&gt; | row m/z &lt;dbl&gt; | row retention time &lt;dbl&gt; | row ion mobility &lt;lgl&gt; | row ion mobility unit &lt;lgl&gt; | row CCS &lt;lgl&gt; | correlation group ID &lt;int&gt; | annotation network number &lt;int&gt; | best ion &lt;chr&gt; | auto MS2 verify &lt;lgl&gt; | ... ... | skin_08_480_UB.mzML Peak area &lt;dbl&gt; | skin_08_0_UB.mzML Peak area &lt;dbl&gt; | skin_08_720_UB.mzML Peak area &lt;dbl&gt; | skin_10_720_UB.mzML Peak area &lt;dbl&gt; | skin_08_120_UB.mzML Peak area &lt;dbl&gt; | skin_03_120_UB.mzML Peak area &lt;dbl&gt; | skin_03_240_UB.mzML Peak area &lt;dbl&gt; | skin_03_0_UB.mzML Peak area &lt;dbl&gt; | skin_08_600_UB.mzML Peak area &lt;dbl&gt; | <!----> &lt;lgl&gt; |\n",
       "|---|---|---|---|---|---|---|---|---|---|---|---|---|---|---|---|---|---|---|---|---|---|\n",
       "| 1 | 9002 | 150.0629 | 4.962805 | NA | NA | NA | 20 | 144 | [M+H]+ | NA | ... | 900854.30 | 1083294.00 | 1015355.060 | 1320949.000 | 1210520.80 | 2636820.20 | 2352653.8 | 2145513.00 | 866366.75 | NA |\n",
       "| 2 | 8808 | 150.5959 | 4.821733 | NA | NA | NA | NA |  NA | <!----> | NA | ... |      0.00 |       0.00 |       0.000 |    3297.581 |       0.00 |       0.00 |       0.0 |       0.00 |      0.00 | NA |\n",
       "| 3 | 4094 | 151.0390 | 3.305284 | NA | NA | NA |  0 |  NA | <!----> | NA | ... |  12955.71 |   16671.13 |    5774.838 |   22974.564 |   19106.33 |   27579.59 |   18463.5 |   14913.52 |  18610.68 | NA |\n",
       "\n"
      ],
      "text/plain": [
       "  row ID row m/z  row retention time row ion mobility row ion mobility unit\n",
       "1 9002   150.0629 4.962805           NA               NA                   \n",
       "2 8808   150.5959 4.821733           NA               NA                   \n",
       "3 4094   151.0390 3.305284           NA               NA                   \n",
       "  row CCS correlation group ID annotation network number best ion\n",
       "1 NA      20                   144                       [M+H]+  \n",
       "2 NA      NA                    NA                               \n",
       "3 NA       0                    NA                               \n",
       "  auto MS2 verify ... skin_08_480_UB.mzML Peak area skin_08_0_UB.mzML Peak area\n",
       "1 NA              ... 900854.30                     1083294.00                 \n",
       "2 NA              ...      0.00                           0.00                 \n",
       "3 NA              ...  12955.71                       16671.13                 \n",
       "  skin_08_720_UB.mzML Peak area skin_10_720_UB.mzML Peak area\n",
       "1 1015355.060                   1320949.000                  \n",
       "2       0.000                      3297.581                  \n",
       "3    5774.838                     22974.564                  \n",
       "  skin_08_120_UB.mzML Peak area skin_03_120_UB.mzML Peak area\n",
       "1 1210520.80                    2636820.20                   \n",
       "2       0.00                          0.00                   \n",
       "3   19106.33                      27579.59                   \n",
       "  skin_03_240_UB.mzML Peak area skin_03_0_UB.mzML Peak area\n",
       "1 2352653.8                     2145513.00                 \n",
       "2       0.0                           0.00                 \n",
       "3   18463.5                       14913.52                 \n",
       "  skin_08_600_UB.mzML Peak area   \n",
       "1 866366.75                     NA\n",
       "2      0.00                     NA\n",
       "3  18610.68                     NA"
      ]
     },
     "metadata": {},
     "output_type": "display_data"
    }
   ],
   "source": [
    "head(ft,3) # shows the first 3 rows of ft"
   ]
  },
  {
   "cell_type": "code",
   "execution_count": 28,
   "id": "5fa7fab5-6257-40fc-a38d-3fee7c5f946b",
   "metadata": {},
   "outputs": [
    {
     "data": {
      "text/html": [
       "<table class=\"dataframe\">\n",
       "<caption>A data.frame: 3 × 6</caption>\n",
       "<thead>\n",
       "\t<tr><th></th><th scope=col>filename</th><th scope=col>ATTRIBUTE_Sample_Type</th><th scope=col>ATTRIBUTE_Subject</th><th scope=col>ATTRIBUTE_Timepoint_min</th><th scope=col>ATTRIBUTE_Sampling_Location</th><th scope=col>ATTRIBUTE_Analysis_order</th></tr>\n",
       "\t<tr><th></th><th scope=col>&lt;chr&gt;</th><th scope=col>&lt;chr&gt;</th><th scope=col>&lt;chr&gt;</th><th scope=col>&lt;chr&gt;</th><th scope=col>&lt;chr&gt;</th><th scope=col>&lt;int&gt;</th></tr>\n",
       "</thead>\n",
       "<tbody>\n",
       "\t<tr><th scope=row>1</th><td>bld_plt1_01_0_1.mzML  </td><td>plasma</td><td>Subject_1</td><td>0  </td><td>not applicable</td><td>19</td></tr>\n",
       "\t<tr><th scope=row>2</th><td>bld_plt1_01_120_1.mzML</td><td>plasma</td><td>Subject_1</td><td>120</td><td>not applicable</td><td>32</td></tr>\n",
       "\t<tr><th scope=row>3</th><td>bld_plt1_01_600_1.mzML</td><td>plasma</td><td>Subject_1</td><td>600</td><td>not applicable</td><td>51</td></tr>\n",
       "</tbody>\n",
       "</table>\n"
      ],
      "text/latex": [
       "A data.frame: 3 × 6\n",
       "\\begin{tabular}{r|llllll}\n",
       "  & filename & ATTRIBUTE\\_Sample\\_Type & ATTRIBUTE\\_Subject & ATTRIBUTE\\_Timepoint\\_min & ATTRIBUTE\\_Sampling\\_Location & ATTRIBUTE\\_Analysis\\_order\\\\\n",
       "  & <chr> & <chr> & <chr> & <chr> & <chr> & <int>\\\\\n",
       "\\hline\n",
       "\t1 & bld\\_plt1\\_01\\_0\\_1.mzML   & plasma & Subject\\_1 & 0   & not applicable & 19\\\\\n",
       "\t2 & bld\\_plt1\\_01\\_120\\_1.mzML & plasma & Subject\\_1 & 120 & not applicable & 32\\\\\n",
       "\t3 & bld\\_plt1\\_01\\_600\\_1.mzML & plasma & Subject\\_1 & 600 & not applicable & 51\\\\\n",
       "\\end{tabular}\n"
      ],
      "text/markdown": [
       "\n",
       "A data.frame: 3 × 6\n",
       "\n",
       "| <!--/--> | filename &lt;chr&gt; | ATTRIBUTE_Sample_Type &lt;chr&gt; | ATTRIBUTE_Subject &lt;chr&gt; | ATTRIBUTE_Timepoint_min &lt;chr&gt; | ATTRIBUTE_Sampling_Location &lt;chr&gt; | ATTRIBUTE_Analysis_order &lt;int&gt; |\n",
       "|---|---|---|---|---|---|---|\n",
       "| 1 | bld_plt1_01_0_1.mzML   | plasma | Subject_1 | 0   | not applicable | 19 |\n",
       "| 2 | bld_plt1_01_120_1.mzML | plasma | Subject_1 | 120 | not applicable | 32 |\n",
       "| 3 | bld_plt1_01_600_1.mzML | plasma | Subject_1 | 600 | not applicable | 51 |\n",
       "\n"
      ],
      "text/plain": [
       "  filename               ATTRIBUTE_Sample_Type ATTRIBUTE_Subject\n",
       "1 bld_plt1_01_0_1.mzML   plasma                Subject_1        \n",
       "2 bld_plt1_01_120_1.mzML plasma                Subject_1        \n",
       "3 bld_plt1_01_600_1.mzML plasma                Subject_1        \n",
       "  ATTRIBUTE_Timepoint_min ATTRIBUTE_Sampling_Location ATTRIBUTE_Analysis_order\n",
       "1 0                       not applicable              19                      \n",
       "2 120                     not applicable              32                      \n",
       "3 600                     not applicable              51                      "
      ]
     },
     "metadata": {},
     "output_type": "display_data"
    }
   ],
   "source": [
    "head(md,3)"
   ]
  },
  {
   "cell_type": "code",
   "execution_count": 29,
   "id": "18a9a759-0f14-4488-b9fd-555f183ebfe2",
   "metadata": {},
   "outputs": [],
   "source": [
    "#storing the files under different names to preserve the original files\n",
    "new_ft <- ft \n",
    "new_md <- md"
   ]
  },
  {
   "cell_type": "code",
   "execution_count": 30,
   "id": "c23e016e-4ce4-460a-8335-660e5d9cd557",
   "metadata": {},
   "outputs": [],
   "source": [
    "#removing Peak area extensions from the column names of new_ft to match with filenames in new_md\n",
    "colnames(new_ft) <- gsub(' Peak area','',colnames(new_ft)) "
   ]
  },
  {
   "cell_type": "markdown",
   "id": "ea8d8ec9-60bb-4a29-9bea-bb5b34283986",
   "metadata": {},
   "source": [
    "Looking at the ft dataframe, we can notice that the last column is full of 'NA' values."
   ]
  },
  {
   "cell_type": "code",
   "execution_count": 31,
   "id": "43d4b391-dff8-4248-83cd-05f701071b99",
   "metadata": {},
   "outputs": [],
   "source": [
    "#removing if any NA columns present in the new_ft and new_md file\n",
    "new_ft <- new_ft[,colSums(is.na(new_ft))<nrow(new_ft)] #removing NA columns from new_ft\n",
    "new_md <- new_md[,colSums(is.na(new_md))<nrow(new_md)] #removing NA columns from new_md"
   ]
  },
  {
   "cell_type": "code",
   "execution_count": 32,
   "id": "45beb585-1b27-4971-ba4c-9a74c9224bdc",
   "metadata": {},
   "outputs": [],
   "source": [
    "#Changing the row names of the files into the combined name as \"XID_mz_RT\" to capture the important info:\n",
    "rownames(new_ft) <- paste(paste0(\"X\", new_ft$`row ID`),\n",
    "                          round(new_ft$`row m/z`, digits = 3),\n",
    "                          round(new_ft$`row retention time`, digits = 3),\n",
    "                          sep = '_')"
   ]
  },
  {
   "cell_type": "code",
   "execution_count": 33,
   "id": "0cfbb91e-4f83-4cd6-8fd7-5f2585e437d8",
   "metadata": {},
   "outputs": [
    {
     "data": {
      "text/html": [
       "<table class=\"dataframe\">\n",
       "<caption>A data.frame: 2 × 97</caption>\n",
       "<thead>\n",
       "\t<tr><th></th><th scope=col>row ID</th><th scope=col>row m/z</th><th scope=col>row retention time</th><th scope=col>correlation group ID</th><th scope=col>annotation network number</th><th scope=col>best ion</th><th scope=col>identified by n=</th><th scope=col>partners</th><th scope=col>neutral M mass</th><th scope=col>bld_plt2_blk_04.mzML</th><th scope=col>...</th><th scope=col>skin_08_240_UB.mzML</th><th scope=col>skin_08_480_UB.mzML</th><th scope=col>skin_08_0_UB.mzML</th><th scope=col>skin_08_720_UB.mzML</th><th scope=col>skin_10_720_UB.mzML</th><th scope=col>skin_08_120_UB.mzML</th><th scope=col>skin_03_120_UB.mzML</th><th scope=col>skin_03_240_UB.mzML</th><th scope=col>skin_03_0_UB.mzML</th><th scope=col>skin_08_600_UB.mzML</th></tr>\n",
       "\t<tr><th></th><th scope=col>&lt;int&gt;</th><th scope=col>&lt;dbl&gt;</th><th scope=col>&lt;dbl&gt;</th><th scope=col>&lt;int&gt;</th><th scope=col>&lt;int&gt;</th><th scope=col>&lt;chr&gt;</th><th scope=col>&lt;int&gt;</th><th scope=col>&lt;chr&gt;</th><th scope=col>&lt;dbl&gt;</th><th scope=col>&lt;dbl&gt;</th><th scope=col>...</th><th scope=col>&lt;dbl&gt;</th><th scope=col>&lt;dbl&gt;</th><th scope=col>&lt;dbl&gt;</th><th scope=col>&lt;dbl&gt;</th><th scope=col>&lt;dbl&gt;</th><th scope=col>&lt;dbl&gt;</th><th scope=col>&lt;dbl&gt;</th><th scope=col>&lt;dbl&gt;</th><th scope=col>&lt;dbl&gt;</th><th scope=col>&lt;dbl&gt;</th></tr>\n",
       "</thead>\n",
       "<tbody>\n",
       "\t<tr><th scope=row>X9002_150.063_4.963</th><td>9002</td><td>150.0629</td><td>4.962805</td><td>20</td><td>144</td><td>[M+H]+</td><td> 2</td><td>9002;9013</td><td>149.0556</td><td>260.5778</td><td>...</td><td>963556.1</td><td>900854.3</td><td>1083294</td><td>1015355</td><td>1320949.000</td><td>1210521</td><td>2636820</td><td>2352654</td><td>2145513</td><td>866366.8</td></tr>\n",
       "\t<tr><th scope=row>X8808_150.596_4.822</th><td>8808</td><td>150.5959</td><td>4.821733</td><td>NA</td><td> NA</td><td>      </td><td>NA</td><td>         </td><td>      NA</td><td>  0.0000</td><td>...</td><td>     0.0</td><td>     0.0</td><td>      0</td><td>      0</td><td>   3297.581</td><td>      0</td><td>      0</td><td>      0</td><td>      0</td><td>     0.0</td></tr>\n",
       "</tbody>\n",
       "</table>\n"
      ],
      "text/latex": [
       "A data.frame: 2 × 97\n",
       "\\begin{tabular}{r|lllllllllllllllllllll}\n",
       "  & row ID & row m/z & row retention time & correlation group ID & annotation network number & best ion & identified by n= & partners & neutral M mass & bld\\_plt2\\_blk\\_04.mzML & ... & skin\\_08\\_240\\_UB.mzML & skin\\_08\\_480\\_UB.mzML & skin\\_08\\_0\\_UB.mzML & skin\\_08\\_720\\_UB.mzML & skin\\_10\\_720\\_UB.mzML & skin\\_08\\_120\\_UB.mzML & skin\\_03\\_120\\_UB.mzML & skin\\_03\\_240\\_UB.mzML & skin\\_03\\_0\\_UB.mzML & skin\\_08\\_600\\_UB.mzML\\\\\n",
       "  & <int> & <dbl> & <dbl> & <int> & <int> & <chr> & <int> & <chr> & <dbl> & <dbl> & ... & <dbl> & <dbl> & <dbl> & <dbl> & <dbl> & <dbl> & <dbl> & <dbl> & <dbl> & <dbl>\\\\\n",
       "\\hline\n",
       "\tX9002\\_150.063\\_4.963 & 9002 & 150.0629 & 4.962805 & 20 & 144 & {[}M+H{]}+ &  2 & 9002;9013 & 149.0556 & 260.5778 & ... & 963556.1 & 900854.3 & 1083294 & 1015355 & 1320949.000 & 1210521 & 2636820 & 2352654 & 2145513 & 866366.8\\\\\n",
       "\tX8808\\_150.596\\_4.822 & 8808 & 150.5959 & 4.821733 & NA &  NA &        & NA &           &       NA &   0.0000 & ... &      0.0 &      0.0 &       0 &       0 &    3297.581 &       0 &       0 &       0 &       0 &      0.0\\\\\n",
       "\\end{tabular}\n"
      ],
      "text/markdown": [
       "\n",
       "A data.frame: 2 × 97\n",
       "\n",
       "| <!--/--> | row ID &lt;int&gt; | row m/z &lt;dbl&gt; | row retention time &lt;dbl&gt; | correlation group ID &lt;int&gt; | annotation network number &lt;int&gt; | best ion &lt;chr&gt; | identified by n= &lt;int&gt; | partners &lt;chr&gt; | neutral M mass &lt;dbl&gt; | bld_plt2_blk_04.mzML &lt;dbl&gt; | ... ... | skin_08_240_UB.mzML &lt;dbl&gt; | skin_08_480_UB.mzML &lt;dbl&gt; | skin_08_0_UB.mzML &lt;dbl&gt; | skin_08_720_UB.mzML &lt;dbl&gt; | skin_10_720_UB.mzML &lt;dbl&gt; | skin_08_120_UB.mzML &lt;dbl&gt; | skin_03_120_UB.mzML &lt;dbl&gt; | skin_03_240_UB.mzML &lt;dbl&gt; | skin_03_0_UB.mzML &lt;dbl&gt; | skin_08_600_UB.mzML &lt;dbl&gt; |\n",
       "|---|---|---|---|---|---|---|---|---|---|---|---|---|---|---|---|---|---|---|---|---|---|\n",
       "| X9002_150.063_4.963 | 9002 | 150.0629 | 4.962805 | 20 | 144 | [M+H]+ |  2 | 9002;9013 | 149.0556 | 260.5778 | ... | 963556.1 | 900854.3 | 1083294 | 1015355 | 1320949.000 | 1210521 | 2636820 | 2352654 | 2145513 | 866366.8 |\n",
       "| X8808_150.596_4.822 | 8808 | 150.5959 | 4.821733 | NA |  NA | <!----> | NA | <!----> |       NA |   0.0000 | ... |      0.0 |      0.0 |       0 |       0 |    3297.581 |       0 |       0 |       0 |       0 |      0.0 |\n",
       "\n"
      ],
      "text/plain": [
       "                    row ID row m/z  row retention time correlation group ID\n",
       "X9002_150.063_4.963 9002   150.0629 4.962805           20                  \n",
       "X8808_150.596_4.822 8808   150.5959 4.821733           NA                  \n",
       "                    annotation network number best ion identified by n=\n",
       "X9002_150.063_4.963 144                       [M+H]+    2              \n",
       "X8808_150.596_4.822  NA                                NA              \n",
       "                    partners  neutral M mass bld_plt2_blk_04.mzML ...\n",
       "X9002_150.063_4.963 9002;9013 149.0556       260.5778             ...\n",
       "X8808_150.596_4.822                 NA         0.0000             ...\n",
       "                    skin_08_240_UB.mzML skin_08_480_UB.mzML skin_08_0_UB.mzML\n",
       "X9002_150.063_4.963 963556.1            900854.3            1083294          \n",
       "X8808_150.596_4.822      0.0                 0.0                  0          \n",
       "                    skin_08_720_UB.mzML skin_10_720_UB.mzML skin_08_120_UB.mzML\n",
       "X9002_150.063_4.963 1015355             1320949.000         1210521            \n",
       "X8808_150.596_4.822       0                3297.581               0            \n",
       "                    skin_03_120_UB.mzML skin_03_240_UB.mzML skin_03_0_UB.mzML\n",
       "X9002_150.063_4.963 2636820             2352654             2145513          \n",
       "X8808_150.596_4.822       0                   0                   0          \n",
       "                    skin_08_600_UB.mzML\n",
       "X9002_150.063_4.963 866366.8           \n",
       "X8808_150.596_4.822      0.0           "
      ]
     },
     "metadata": {},
     "output_type": "display_data"
    },
    {
     "data": {
      "text/html": [
       "<table class=\"dataframe\">\n",
       "<caption>A data.frame: 2 × 6</caption>\n",
       "<thead>\n",
       "\t<tr><th></th><th scope=col>filename</th><th scope=col>ATTRIBUTE_Sample_Type</th><th scope=col>ATTRIBUTE_Subject</th><th scope=col>ATTRIBUTE_Timepoint_min</th><th scope=col>ATTRIBUTE_Sampling_Location</th><th scope=col>ATTRIBUTE_Analysis_order</th></tr>\n",
       "\t<tr><th></th><th scope=col>&lt;chr&gt;</th><th scope=col>&lt;chr&gt;</th><th scope=col>&lt;chr&gt;</th><th scope=col>&lt;chr&gt;</th><th scope=col>&lt;chr&gt;</th><th scope=col>&lt;int&gt;</th></tr>\n",
       "</thead>\n",
       "<tbody>\n",
       "\t<tr><th scope=row>1</th><td>bld_plt1_01_0_1.mzML  </td><td>plasma</td><td>Subject_1</td><td>0  </td><td>not applicable</td><td>19</td></tr>\n",
       "\t<tr><th scope=row>2</th><td>bld_plt1_01_120_1.mzML</td><td>plasma</td><td>Subject_1</td><td>120</td><td>not applicable</td><td>32</td></tr>\n",
       "</tbody>\n",
       "</table>\n"
      ],
      "text/latex": [
       "A data.frame: 2 × 6\n",
       "\\begin{tabular}{r|llllll}\n",
       "  & filename & ATTRIBUTE\\_Sample\\_Type & ATTRIBUTE\\_Subject & ATTRIBUTE\\_Timepoint\\_min & ATTRIBUTE\\_Sampling\\_Location & ATTRIBUTE\\_Analysis\\_order\\\\\n",
       "  & <chr> & <chr> & <chr> & <chr> & <chr> & <int>\\\\\n",
       "\\hline\n",
       "\t1 & bld\\_plt1\\_01\\_0\\_1.mzML   & plasma & Subject\\_1 & 0   & not applicable & 19\\\\\n",
       "\t2 & bld\\_plt1\\_01\\_120\\_1.mzML & plasma & Subject\\_1 & 120 & not applicable & 32\\\\\n",
       "\\end{tabular}\n"
      ],
      "text/markdown": [
       "\n",
       "A data.frame: 2 × 6\n",
       "\n",
       "| <!--/--> | filename &lt;chr&gt; | ATTRIBUTE_Sample_Type &lt;chr&gt; | ATTRIBUTE_Subject &lt;chr&gt; | ATTRIBUTE_Timepoint_min &lt;chr&gt; | ATTRIBUTE_Sampling_Location &lt;chr&gt; | ATTRIBUTE_Analysis_order &lt;int&gt; |\n",
       "|---|---|---|---|---|---|---|\n",
       "| 1 | bld_plt1_01_0_1.mzML   | plasma | Subject_1 | 0   | not applicable | 19 |\n",
       "| 2 | bld_plt1_01_120_1.mzML | plasma | Subject_1 | 120 | not applicable | 32 |\n",
       "\n"
      ],
      "text/plain": [
       "  filename               ATTRIBUTE_Sample_Type ATTRIBUTE_Subject\n",
       "1 bld_plt1_01_0_1.mzML   plasma                Subject_1        \n",
       "2 bld_plt1_01_120_1.mzML plasma                Subject_1        \n",
       "  ATTRIBUTE_Timepoint_min ATTRIBUTE_Sampling_Location ATTRIBUTE_Analysis_order\n",
       "1 0                       not applicable              19                      \n",
       "2 120                     not applicable              32                      "
      ]
     },
     "metadata": {},
     "output_type": "display_data"
    }
   ],
   "source": [
    "head(new_ft,2) \n",
    "head(new_md,2) "
   ]
  },
  {
   "cell_type": "code",
   "execution_count": 34,
   "id": "3bd003f6-657a-4a57-98b5-90100c936f78",
   "metadata": {},
   "outputs": [],
   "source": [
    "#Picking only the files with column names containing 'mzML' and excluding other columns:\n",
    "new_ft <- new_ft[,grep('\\\\.mzML$',colnames(new_ft))] "
   ]
  },
  {
   "cell_type": "code",
   "execution_count": 35,
   "id": "b3ab28f1-fabe-463c-8850-72e522f47852",
   "metadata": {},
   "outputs": [],
   "source": [
    "new_ft <- new_ft[,order(colnames(new_ft)),drop=F] #ordering the ft by its column names\n",
    "new_md <- new_md[order(new_md$filename),,drop=F] #ordering the md by the 1st column filename"
   ]
  },
  {
   "cell_type": "code",
   "execution_count": 36,
   "id": "6a2fa16e-d613-4ff5-bed8-720631a1c6bd",
   "metadata": {},
   "outputs": [
    {
     "data": {
      "text/html": [
       "<table class=\"dataframe\">\n",
       "<caption>A data.frame: 2 × 88</caption>\n",
       "<thead>\n",
       "\t<tr><th></th><th scope=col>bld_plt1_01_0_1.mzML</th><th scope=col>bld_plt1_01_120_1.mzML</th><th scope=col>bld_plt1_01_600_1.mzML</th><th scope=col>bld_plt1_01_720_1.mzML</th><th scope=col>bld_plt1_03_0_1.mzML</th><th scope=col>bld_plt1_03_480_1.mzML</th><th scope=col>bld_plt1_03_600_1.mzML</th><th scope=col>bld_plt1_04_240_1.mzML</th><th scope=col>bld_plt1_04_480_1.mzML</th><th scope=col>bld_plt1_04_600_1.mzML</th><th scope=col>...</th><th scope=col>skin_08_600_UB.mzML</th><th scope=col>skin_08_720_UB.mzML</th><th scope=col>skin_10_0_UB.mzML</th><th scope=col>skin_10_120_UB.mzML</th><th scope=col>skin_10_240_UB.mzML</th><th scope=col>skin_10_480_UB.mzML</th><th scope=col>skin_10_600_UB.mzML</th><th scope=col>skin_10_720_UB.mzML</th><th scope=col>skin_blank_03.mzML</th><th scope=col>skin_blank_20.mzML</th></tr>\n",
       "\t<tr><th></th><th scope=col>&lt;dbl&gt;</th><th scope=col>&lt;dbl&gt;</th><th scope=col>&lt;dbl&gt;</th><th scope=col>&lt;dbl&gt;</th><th scope=col>&lt;dbl&gt;</th><th scope=col>&lt;dbl&gt;</th><th scope=col>&lt;dbl&gt;</th><th scope=col>&lt;dbl&gt;</th><th scope=col>&lt;dbl&gt;</th><th scope=col>&lt;dbl&gt;</th><th scope=col>...</th><th scope=col>&lt;dbl&gt;</th><th scope=col>&lt;dbl&gt;</th><th scope=col>&lt;dbl&gt;</th><th scope=col>&lt;dbl&gt;</th><th scope=col>&lt;dbl&gt;</th><th scope=col>&lt;dbl&gt;</th><th scope=col>&lt;dbl&gt;</th><th scope=col>&lt;dbl&gt;</th><th scope=col>&lt;dbl&gt;</th><th scope=col>&lt;dbl&gt;</th></tr>\n",
       "</thead>\n",
       "<tbody>\n",
       "\t<tr><th scope=row>X9002_150.063_4.963</th><td>0</td><td>0</td><td>185.3507</td><td>57.32955</td><td>0</td><td>0</td><td>111.4226</td><td>0</td><td>0</td><td>496.618</td><td>...</td><td>866366.8</td><td>1015355</td><td>1442369.60</td><td>1360433.200</td><td>1315715.100</td><td>1142062.800</td><td>1215813.400</td><td>1320949.000</td><td>178.2026</td><td>779.6436</td></tr>\n",
       "\t<tr><th scope=row>X8808_150.596_4.822</th><td>0</td><td>0</td><td>  0.0000</td><td> 0.00000</td><td>0</td><td>0</td><td>  0.0000</td><td>0</td><td>0</td><td>  0.000</td><td>...</td><td>     0.0</td><td>      0</td><td>  13985.54</td><td>   2072.857</td><td>   1364.211</td><td>   1253.273</td><td>   6596.773</td><td>   3297.581</td><td>  0.0000</td><td>  0.0000</td></tr>\n",
       "</tbody>\n",
       "</table>\n"
      ],
      "text/latex": [
       "A data.frame: 2 × 88\n",
       "\\begin{tabular}{r|lllllllllllllllllllll}\n",
       "  & bld\\_plt1\\_01\\_0\\_1.mzML & bld\\_plt1\\_01\\_120\\_1.mzML & bld\\_plt1\\_01\\_600\\_1.mzML & bld\\_plt1\\_01\\_720\\_1.mzML & bld\\_plt1\\_03\\_0\\_1.mzML & bld\\_plt1\\_03\\_480\\_1.mzML & bld\\_plt1\\_03\\_600\\_1.mzML & bld\\_plt1\\_04\\_240\\_1.mzML & bld\\_plt1\\_04\\_480\\_1.mzML & bld\\_plt1\\_04\\_600\\_1.mzML & ... & skin\\_08\\_600\\_UB.mzML & skin\\_08\\_720\\_UB.mzML & skin\\_10\\_0\\_UB.mzML & skin\\_10\\_120\\_UB.mzML & skin\\_10\\_240\\_UB.mzML & skin\\_10\\_480\\_UB.mzML & skin\\_10\\_600\\_UB.mzML & skin\\_10\\_720\\_UB.mzML & skin\\_blank\\_03.mzML & skin\\_blank\\_20.mzML\\\\\n",
       "  & <dbl> & <dbl> & <dbl> & <dbl> & <dbl> & <dbl> & <dbl> & <dbl> & <dbl> & <dbl> & ... & <dbl> & <dbl> & <dbl> & <dbl> & <dbl> & <dbl> & <dbl> & <dbl> & <dbl> & <dbl>\\\\\n",
       "\\hline\n",
       "\tX9002\\_150.063\\_4.963 & 0 & 0 & 185.3507 & 57.32955 & 0 & 0 & 111.4226 & 0 & 0 & 496.618 & ... & 866366.8 & 1015355 & 1442369.60 & 1360433.200 & 1315715.100 & 1142062.800 & 1215813.400 & 1320949.000 & 178.2026 & 779.6436\\\\\n",
       "\tX8808\\_150.596\\_4.822 & 0 & 0 &   0.0000 &  0.00000 & 0 & 0 &   0.0000 & 0 & 0 &   0.000 & ... &      0.0 &       0 &   13985.54 &    2072.857 &    1364.211 &    1253.273 &    6596.773 &    3297.581 &   0.0000 &   0.0000\\\\\n",
       "\\end{tabular}\n"
      ],
      "text/markdown": [
       "\n",
       "A data.frame: 2 × 88\n",
       "\n",
       "| <!--/--> | bld_plt1_01_0_1.mzML &lt;dbl&gt; | bld_plt1_01_120_1.mzML &lt;dbl&gt; | bld_plt1_01_600_1.mzML &lt;dbl&gt; | bld_plt1_01_720_1.mzML &lt;dbl&gt; | bld_plt1_03_0_1.mzML &lt;dbl&gt; | bld_plt1_03_480_1.mzML &lt;dbl&gt; | bld_plt1_03_600_1.mzML &lt;dbl&gt; | bld_plt1_04_240_1.mzML &lt;dbl&gt; | bld_plt1_04_480_1.mzML &lt;dbl&gt; | bld_plt1_04_600_1.mzML &lt;dbl&gt; | ... ... | skin_08_600_UB.mzML &lt;dbl&gt; | skin_08_720_UB.mzML &lt;dbl&gt; | skin_10_0_UB.mzML &lt;dbl&gt; | skin_10_120_UB.mzML &lt;dbl&gt; | skin_10_240_UB.mzML &lt;dbl&gt; | skin_10_480_UB.mzML &lt;dbl&gt; | skin_10_600_UB.mzML &lt;dbl&gt; | skin_10_720_UB.mzML &lt;dbl&gt; | skin_blank_03.mzML &lt;dbl&gt; | skin_blank_20.mzML &lt;dbl&gt; |\n",
       "|---|---|---|---|---|---|---|---|---|---|---|---|---|---|---|---|---|---|---|---|---|---|\n",
       "| X9002_150.063_4.963 | 0 | 0 | 185.3507 | 57.32955 | 0 | 0 | 111.4226 | 0 | 0 | 496.618 | ... | 866366.8 | 1015355 | 1442369.60 | 1360433.200 | 1315715.100 | 1142062.800 | 1215813.400 | 1320949.000 | 178.2026 | 779.6436 |\n",
       "| X8808_150.596_4.822 | 0 | 0 |   0.0000 |  0.00000 | 0 | 0 |   0.0000 | 0 | 0 |   0.000 | ... |      0.0 |       0 |   13985.54 |    2072.857 |    1364.211 |    1253.273 |    6596.773 |    3297.581 |   0.0000 |   0.0000 |\n",
       "\n"
      ],
      "text/plain": [
       "                    bld_plt1_01_0_1.mzML bld_plt1_01_120_1.mzML\n",
       "X9002_150.063_4.963 0                    0                     \n",
       "X8808_150.596_4.822 0                    0                     \n",
       "                    bld_plt1_01_600_1.mzML bld_plt1_01_720_1.mzML\n",
       "X9002_150.063_4.963 185.3507               57.32955              \n",
       "X8808_150.596_4.822   0.0000                0.00000              \n",
       "                    bld_plt1_03_0_1.mzML bld_plt1_03_480_1.mzML\n",
       "X9002_150.063_4.963 0                    0                     \n",
       "X8808_150.596_4.822 0                    0                     \n",
       "                    bld_plt1_03_600_1.mzML bld_plt1_04_240_1.mzML\n",
       "X9002_150.063_4.963 111.4226               0                     \n",
       "X8808_150.596_4.822   0.0000               0                     \n",
       "                    bld_plt1_04_480_1.mzML bld_plt1_04_600_1.mzML ...\n",
       "X9002_150.063_4.963 0                      496.618                ...\n",
       "X8808_150.596_4.822 0                        0.000                ...\n",
       "                    skin_08_600_UB.mzML skin_08_720_UB.mzML skin_10_0_UB.mzML\n",
       "X9002_150.063_4.963 866366.8            1015355             1442369.60       \n",
       "X8808_150.596_4.822      0.0                  0               13985.54       \n",
       "                    skin_10_120_UB.mzML skin_10_240_UB.mzML skin_10_480_UB.mzML\n",
       "X9002_150.063_4.963 1360433.200         1315715.100         1142062.800        \n",
       "X8808_150.596_4.822    2072.857            1364.211            1253.273        \n",
       "                    skin_10_600_UB.mzML skin_10_720_UB.mzML skin_blank_03.mzML\n",
       "X9002_150.063_4.963 1215813.400         1320949.000         178.2026          \n",
       "X8808_150.596_4.822    6596.773            3297.581           0.0000          \n",
       "                    skin_blank_20.mzML\n",
       "X9002_150.063_4.963 779.6436          \n",
       "X8808_150.596_4.822   0.0000          "
      ]
     },
     "metadata": {},
     "output_type": "display_data"
    },
    {
     "data": {
      "text/html": [
       "<table class=\"dataframe\">\n",
       "<caption>A data.frame: 2 × 6</caption>\n",
       "<thead>\n",
       "\t<tr><th></th><th scope=col>filename</th><th scope=col>ATTRIBUTE_Sample_Type</th><th scope=col>ATTRIBUTE_Subject</th><th scope=col>ATTRIBUTE_Timepoint_min</th><th scope=col>ATTRIBUTE_Sampling_Location</th><th scope=col>ATTRIBUTE_Analysis_order</th></tr>\n",
       "\t<tr><th></th><th scope=col>&lt;chr&gt;</th><th scope=col>&lt;chr&gt;</th><th scope=col>&lt;chr&gt;</th><th scope=col>&lt;chr&gt;</th><th scope=col>&lt;chr&gt;</th><th scope=col>&lt;int&gt;</th></tr>\n",
       "</thead>\n",
       "<tbody>\n",
       "\t<tr><th scope=row>1</th><td>bld_plt1_01_0_1.mzML  </td><td>plasma</td><td>Subject_1</td><td>0  </td><td>not applicable</td><td>19</td></tr>\n",
       "\t<tr><th scope=row>2</th><td>bld_plt1_01_120_1.mzML</td><td>plasma</td><td>Subject_1</td><td>120</td><td>not applicable</td><td>32</td></tr>\n",
       "</tbody>\n",
       "</table>\n"
      ],
      "text/latex": [
       "A data.frame: 2 × 6\n",
       "\\begin{tabular}{r|llllll}\n",
       "  & filename & ATTRIBUTE\\_Sample\\_Type & ATTRIBUTE\\_Subject & ATTRIBUTE\\_Timepoint\\_min & ATTRIBUTE\\_Sampling\\_Location & ATTRIBUTE\\_Analysis\\_order\\\\\n",
       "  & <chr> & <chr> & <chr> & <chr> & <chr> & <int>\\\\\n",
       "\\hline\n",
       "\t1 & bld\\_plt1\\_01\\_0\\_1.mzML   & plasma & Subject\\_1 & 0   & not applicable & 19\\\\\n",
       "\t2 & bld\\_plt1\\_01\\_120\\_1.mzML & plasma & Subject\\_1 & 120 & not applicable & 32\\\\\n",
       "\\end{tabular}\n"
      ],
      "text/markdown": [
       "\n",
       "A data.frame: 2 × 6\n",
       "\n",
       "| <!--/--> | filename &lt;chr&gt; | ATTRIBUTE_Sample_Type &lt;chr&gt; | ATTRIBUTE_Subject &lt;chr&gt; | ATTRIBUTE_Timepoint_min &lt;chr&gt; | ATTRIBUTE_Sampling_Location &lt;chr&gt; | ATTRIBUTE_Analysis_order &lt;int&gt; |\n",
       "|---|---|---|---|---|---|---|\n",
       "| 1 | bld_plt1_01_0_1.mzML   | plasma | Subject_1 | 0   | not applicable | 19 |\n",
       "| 2 | bld_plt1_01_120_1.mzML | plasma | Subject_1 | 120 | not applicable | 32 |\n",
       "\n"
      ],
      "text/plain": [
       "  filename               ATTRIBUTE_Sample_Type ATTRIBUTE_Subject\n",
       "1 bld_plt1_01_0_1.mzML   plasma                Subject_1        \n",
       "2 bld_plt1_01_120_1.mzML plasma                Subject_1        \n",
       "  ATTRIBUTE_Timepoint_min ATTRIBUTE_Sampling_Location ATTRIBUTE_Analysis_order\n",
       "1 0                       not applicable              19                      \n",
       "2 120                     not applicable              32                      "
      ]
     },
     "metadata": {},
     "output_type": "display_data"
    }
   ],
   "source": [
    "head(new_ft,2) \n",
    "head(new_md,2) "
   ]
  },
  {
   "cell_type": "markdown",
   "id": "6d17ac09-713d-4b50-aaba-f7cb3c280cbb",
   "metadata": {},
   "source": [
    "Looking at the different groups:"
   ]
  },
  {
   "cell_type": "code",
   "execution_count": 42,
   "id": "cb763ed8-89bc-4b31-8c44-cad9a4dd02c1",
   "metadata": {},
   "outputs": [
    {
     "data": {
      "text/plain": [
       "\n",
       "not applicable     upper back \n",
       "            46             42 "
      ]
     },
     "metadata": {},
     "output_type": "display_data"
    }
   ],
   "source": [
    "table(new_md$ATTRIBUTE_Sampling_Location)"
   ]
  },
  {
   "cell_type": "code",
   "execution_count": 43,
   "id": "e67f916c-fc2f-4810-a891-931595c33040",
   "metadata": {},
   "outputs": [
    {
     "data": {
      "text/plain": [
       "\n",
       "not applicable      Subject_1     Subject_10      Subject_3      Subject_4 \n",
       "             4             12             12             12             12 \n",
       "     Subject_5      Subject_7      Subject_8 \n",
       "            12             12             12 "
      ]
     },
     "metadata": {},
     "output_type": "display_data"
    }
   ],
   "source": [
    "table(new_md$ATTRIBUTE_Subject)"
   ]
  },
  {
   "cell_type": "code",
   "execution_count": 44,
   "id": "b8df1522-9d17-4b09-91ab-d875597e5781",
   "metadata": {},
   "outputs": [
    {
     "data": {
      "text/plain": [
       "\n",
       "      plasma plasma_blank         skin   skin_blank \n",
       "          42            2           42            2 "
      ]
     },
     "metadata": {},
     "output_type": "display_data"
    }
   ],
   "source": [
    "table(new_md$ATTRIBUTE_Sample_Type)"
   ]
  },
  {
   "cell_type": "markdown",
   "id": "7de8e8d1-de3d-4d95-9acd-af332d038dbd",
   "metadata": {},
   "source": [
    "The command 'table(new_md$ATTRIBUTE_Subject)' shows that we have data from 7 different subjects. For each subject, we collected both skin and plasma samples at six different time points, giving us a total of 84 samples (6 time points * 7 subjects * 2 sample types). Along with these, we also have 4 blank samples, bringing our total sample count to 88.\n",
    "\n",
    "For the purpose of this project, the instructor team will be focusing on samples collected from the upper back. Meanwhile, the students will work on different samples. Specifically:\n",
    "\n",
    "- Group 1 will be examining skin samples collected from the forehead.\n",
    "- Group 2 will be studying skin samples collected from the forearm.\n",
    "\n",
    "The overall objective of these investigations is to check whether skin samples could be suitable for non-invasive drug monitoring by comparing the results with those obtained from plasma samples.  \n",
    "\n",
    "<font color = 'red'>In the following cell, please change the condition in the 'ATTRIBUTE_Sampling_Location' according to that of your group.</font> Here, the files corresponding to plasma samples as well blanks are given under the 'not applicable' condition."
   ]
  },
  {
   "cell_type": "code",
   "execution_count": 45,
   "id": "4b7061f1-848e-4dd9-a6e4-72b469970d55",
   "metadata": {},
   "outputs": [],
   "source": [
    "# subsetting only the upper back samples along with the plasma samples and blanks\n",
    "new_md <- new_md %>% filter(ATTRIBUTE_Sampling_Location == 'upper back'|\n",
    "                            ATTRIBUTE_Sampling_Location == 'not applicable')"
   ]
  },
  {
   "cell_type": "code",
   "execution_count": 46,
   "id": "3c29d275-e750-43c2-bc2b-205a5617082a",
   "metadata": {},
   "outputs": [
    {
     "data": {
      "text/html": [
       "<table class=\"dataframe\">\n",
       "<caption>A data.frame: 2 × 6</caption>\n",
       "<thead>\n",
       "\t<tr><th></th><th scope=col>filename</th><th scope=col>ATTRIBUTE_Sample_Type</th><th scope=col>ATTRIBUTE_Subject</th><th scope=col>ATTRIBUTE_Timepoint_min</th><th scope=col>ATTRIBUTE_Sampling_Location</th><th scope=col>ATTRIBUTE_Analysis_order</th></tr>\n",
       "\t<tr><th></th><th scope=col>&lt;chr&gt;</th><th scope=col>&lt;chr&gt;</th><th scope=col>&lt;chr&gt;</th><th scope=col>&lt;chr&gt;</th><th scope=col>&lt;chr&gt;</th><th scope=col>&lt;int&gt;</th></tr>\n",
       "</thead>\n",
       "<tbody>\n",
       "\t<tr><th scope=row>1</th><td>bld_plt1_01_0_1.mzML  </td><td>plasma</td><td>Subject_1</td><td>0  </td><td>not applicable</td><td>19</td></tr>\n",
       "\t<tr><th scope=row>2</th><td>bld_plt1_01_120_1.mzML</td><td>plasma</td><td>Subject_1</td><td>120</td><td>not applicable</td><td>32</td></tr>\n",
       "</tbody>\n",
       "</table>\n"
      ],
      "text/latex": [
       "A data.frame: 2 × 6\n",
       "\\begin{tabular}{r|llllll}\n",
       "  & filename & ATTRIBUTE\\_Sample\\_Type & ATTRIBUTE\\_Subject & ATTRIBUTE\\_Timepoint\\_min & ATTRIBUTE\\_Sampling\\_Location & ATTRIBUTE\\_Analysis\\_order\\\\\n",
       "  & <chr> & <chr> & <chr> & <chr> & <chr> & <int>\\\\\n",
       "\\hline\n",
       "\t1 & bld\\_plt1\\_01\\_0\\_1.mzML   & plasma & Subject\\_1 & 0   & not applicable & 19\\\\\n",
       "\t2 & bld\\_plt1\\_01\\_120\\_1.mzML & plasma & Subject\\_1 & 120 & not applicable & 32\\\\\n",
       "\\end{tabular}\n"
      ],
      "text/markdown": [
       "\n",
       "A data.frame: 2 × 6\n",
       "\n",
       "| <!--/--> | filename &lt;chr&gt; | ATTRIBUTE_Sample_Type &lt;chr&gt; | ATTRIBUTE_Subject &lt;chr&gt; | ATTRIBUTE_Timepoint_min &lt;chr&gt; | ATTRIBUTE_Sampling_Location &lt;chr&gt; | ATTRIBUTE_Analysis_order &lt;int&gt; |\n",
       "|---|---|---|---|---|---|---|\n",
       "| 1 | bld_plt1_01_0_1.mzML   | plasma | Subject_1 | 0   | not applicable | 19 |\n",
       "| 2 | bld_plt1_01_120_1.mzML | plasma | Subject_1 | 120 | not applicable | 32 |\n",
       "\n"
      ],
      "text/plain": [
       "  filename               ATTRIBUTE_Sample_Type ATTRIBUTE_Subject\n",
       "1 bld_plt1_01_0_1.mzML   plasma                Subject_1        \n",
       "2 bld_plt1_01_120_1.mzML plasma                Subject_1        \n",
       "  ATTRIBUTE_Timepoint_min ATTRIBUTE_Sampling_Location ATTRIBUTE_Analysis_order\n",
       "1 0                       not applicable              19                      \n",
       "2 120                     not applicable              32                      "
      ]
     },
     "metadata": {},
     "output_type": "display_data"
    },
    {
     "data": {
      "text/html": [
       "<style>\n",
       ".list-inline {list-style: none; margin:0; padding: 0}\n",
       ".list-inline>li {display: inline-block}\n",
       ".list-inline>li:not(:last-child)::after {content: \"\\00b7\"; padding: 0 .5ex}\n",
       "</style>\n",
       "<ol class=list-inline><li>88</li><li>6</li></ol>\n"
      ],
      "text/latex": [
       "\\begin{enumerate*}\n",
       "\\item 88\n",
       "\\item 6\n",
       "\\end{enumerate*}\n"
      ],
      "text/markdown": [
       "1. 88\n",
       "2. 6\n",
       "\n",
       "\n"
      ],
      "text/plain": [
       "[1] 88  6"
      ]
     },
     "metadata": {},
     "output_type": "display_data"
    }
   ],
   "source": [
    "head(new_md,2)\n",
    "dim(new_md)"
   ]
  },
  {
   "cell_type": "code",
   "execution_count": 47,
   "id": "422a97dc-5318-4d01-ae9b-9a9718ca3888",
   "metadata": {},
   "outputs": [],
   "source": [
    "#subset the corresponding columns from new_ft\n",
    "new_ft <- new_ft[,colnames(new_ft) %in% new_md$filename]"
   ]
  },
  {
   "cell_type": "code",
   "execution_count": 48,
   "id": "b97585b4-803a-4d09-abe9-9b04f1f79b50",
   "metadata": {},
   "outputs": [
    {
     "data": {
      "text/plain": [
       "\n",
       "TRUE \n",
       "  88 "
      ]
     },
     "metadata": {},
     "output_type": "display_data"
    }
   ],
   "source": [
    "# how many files in the metadata are also present in the feature table\n",
    "table(new_md$filename %in% colnames(new_ft))"
   ]
  },
  {
   "cell_type": "code",
   "execution_count": 50,
   "id": "7eca4011-5127-4ad1-9f21-9d80efae927b",
   "metadata": {},
   "outputs": [
    {
     "data": {
      "text/html": [],
      "text/latex": [],
      "text/markdown": [],
      "text/plain": [
       "character(0)"
      ]
     },
     "metadata": {},
     "output_type": "display_data"
    }
   ],
   "source": [
    "# If the above cell returns FALSE, check which file names in the metadata are not in the feature table.\n",
    "setdiff(new_md$filename,colnames(new_ft))"
   ]
  },
  {
   "cell_type": "code",
   "execution_count": 51,
   "id": "f8341f98-b435-4856-91ce-ca83163c6009",
   "metadata": {},
   "outputs": [
    {
     "data": {
      "text/html": [
       "<style>\n",
       ".list-inline {list-style: none; margin:0; padding: 0}\n",
       ".list-inline>li {display: inline-block}\n",
       ".list-inline>li:not(:last-child)::after {content: \"\\00b7\"; padding: 0 .5ex}\n",
       "</style>\n",
       "<ol class=list-inline><li>6182</li><li>102</li></ol>\n"
      ],
      "text/latex": [
       "\\begin{enumerate*}\n",
       "\\item 6182\n",
       "\\item 102\n",
       "\\end{enumerate*}\n"
      ],
      "text/markdown": [
       "1. 6182\n",
       "2. 102\n",
       "\n",
       "\n"
      ],
      "text/plain": [
       "[1] 6182  102"
      ]
     },
     "metadata": {},
     "output_type": "display_data"
    },
    {
     "data": {
      "text/html": [
       "<style>\n",
       ".list-inline {list-style: none; margin:0; padding: 0}\n",
       ".list-inline>li {display: inline-block}\n",
       ".list-inline>li:not(:last-child)::after {content: \"\\00b7\"; padding: 0 .5ex}\n",
       "</style>\n",
       "<ol class=list-inline><li>6182</li><li>88</li></ol>\n"
      ],
      "text/latex": [
       "\\begin{enumerate*}\n",
       "\\item 6182\n",
       "\\item 88\n",
       "\\end{enumerate*}\n"
      ],
      "text/markdown": [
       "1. 6182\n",
       "2. 88\n",
       "\n",
       "\n"
      ],
      "text/plain": [
       "[1] 6182   88"
      ]
     },
     "metadata": {},
     "output_type": "display_data"
    },
    {
     "data": {
      "text/html": [
       "<style>\n",
       ".list-inline {list-style: none; margin:0; padding: 0}\n",
       ".list-inline>li {display: inline-block}\n",
       ".list-inline>li:not(:last-child)::after {content: \"\\00b7\"; padding: 0 .5ex}\n",
       "</style>\n",
       "<ol class=list-inline><li>88</li><li>6</li></ol>\n"
      ],
      "text/latex": [
       "\\begin{enumerate*}\n",
       "\\item 88\n",
       "\\item 6\n",
       "\\end{enumerate*}\n"
      ],
      "text/markdown": [
       "1. 88\n",
       "2. 6\n",
       "\n",
       "\n"
      ],
      "text/plain": [
       "[1] 88  6"
      ]
     },
     "metadata": {},
     "output_type": "display_data"
    }
   ],
   "source": [
    "#checking the dimensions of our new_ft and new_md:\n",
    "dim(ft) # our original feature table\n",
    "dim(new_ft)\n",
    "dim(new_md)"
   ]
  },
  {
   "cell_type": "markdown",
   "id": "0904147d-169a-42bb-b57a-d2df58ecda68",
   "metadata": {},
   "source": [
    "## Data Cleanup"
   ]
  },
  {
   "cell_type": "code",
   "execution_count": 52,
   "id": "611d20bd-b797-4070-b842-94245b8d8a7d",
   "metadata": {},
   "outputs": [
    {
     "data": {
      "text/html": [
       "TRUE"
      ],
      "text/latex": [
       "TRUE"
      ],
      "text/markdown": [
       "TRUE"
      ],
      "text/plain": [
       "[1] TRUE"
      ]
     },
     "metadata": {},
     "output_type": "display_data"
    }
   ],
   "source": [
    "ft_t <- as.data.frame(t(new_ft)) #transposing the ft\n",
    "ft_t <- ft_t %>% mutate_all(as.numeric)  #converting all values to numeric\n",
    "identical(new_md$filename,rownames(ft_t)) #should return TRUE now"
   ]
  },
  {
   "cell_type": "code",
   "execution_count": 53,
   "id": "ef0c77c6-d30f-486b-ac6c-54189c4a7911",
   "metadata": {},
   "outputs": [
    {
     "data": {
      "text/html": [
       "<table class=\"dataframe\">\n",
       "<caption>A data.frame: 6 × 6182</caption>\n",
       "<thead>\n",
       "\t<tr><th></th><th scope=col>X9002_150.063_4.963</th><th scope=col>X8808_150.596_4.822</th><th scope=col>X4094_151.039_3.305</th><th scope=col>X2584_151.039_2.783</th><th scope=col>X5788_151.075_3.796</th><th scope=col>X5122_151.075_3.587</th><th scope=col>X598_151.075_1.534</th><th scope=col>X1334_151.075_2.335</th><th scope=col>X649_151.075_1.623</th><th scope=col>X2884_151.075_2.864</th><th scope=col>...</th><th scope=col>X7209_1259.493_4.282</th><th scope=col>X7274_1259.638_4.269</th><th scope=col>X14656_1280.974_7.835</th><th scope=col>X7238_1282.787_4.259</th><th scope=col>X14458_1303.827_7.386</th><th scope=col>X14686_1310.987_8.01</th><th scope=col>X14690_1315.94_8.014</th><th scope=col>X14715_1369.027_8.219</th><th scope=col>X14730_1427.068_8.446</th><th scope=col>X7267_1469.075_4.282</th></tr>\n",
       "\t<tr><th></th><th scope=col>&lt;dbl&gt;</th><th scope=col>&lt;dbl&gt;</th><th scope=col>&lt;dbl&gt;</th><th scope=col>&lt;dbl&gt;</th><th scope=col>&lt;dbl&gt;</th><th scope=col>&lt;dbl&gt;</th><th scope=col>&lt;dbl&gt;</th><th scope=col>&lt;dbl&gt;</th><th scope=col>&lt;dbl&gt;</th><th scope=col>&lt;dbl&gt;</th><th scope=col>...</th><th scope=col>&lt;dbl&gt;</th><th scope=col>&lt;dbl&gt;</th><th scope=col>&lt;dbl&gt;</th><th scope=col>&lt;dbl&gt;</th><th scope=col>&lt;dbl&gt;</th><th scope=col>&lt;dbl&gt;</th><th scope=col>&lt;dbl&gt;</th><th scope=col>&lt;dbl&gt;</th><th scope=col>&lt;dbl&gt;</th><th scope=col>&lt;dbl&gt;</th></tr>\n",
       "</thead>\n",
       "<tbody>\n",
       "\t<tr><th scope=row>bld_plt1_01_0_1.mzML</th><td>  0.00000</td><td>0</td><td>0</td><td>36.13497</td><td>  32.80677</td><td> 0.00000</td><td> 0.00000</td><td>14.55033</td><td> 0.000</td><td> 56.37600</td><td>...</td><td>  607.68080</td><td>  873.96606</td><td>0</td><td>373.55997</td><td>513.7577</td><td>0</td><td>0</td><td>0</td><td>0</td><td> 395.26947</td></tr>\n",
       "\t<tr><th scope=row>bld_plt1_01_120_1.mzML</th><td>  0.00000</td><td>0</td><td>0</td><td>17.66232</td><td>   0.00000</td><td> 0.00000</td><td> 0.00000</td><td> 0.00000</td><td> 0.000</td><td> 33.01907</td><td>...</td><td>10690.73500</td><td>10837.20600</td><td>0</td><td>138.98517</td><td>  0.0000</td><td>0</td><td>0</td><td>0</td><td>0</td><td>2239.06180</td></tr>\n",
       "\t<tr><th scope=row>bld_plt1_01_600_1.mzML</th><td>185.35068</td><td>0</td><td>0</td><td> 0.00000</td><td> 308.23676</td><td>31.21204</td><td> 0.00000</td><td>37.54714</td><td> 0.000</td><td> 24.75143</td><td>...</td><td>  857.41420</td><td> 1716.91820</td><td>0</td><td> 33.90259</td><td>510.5584</td><td>0</td><td>0</td><td>0</td><td>0</td><td> 187.02872</td></tr>\n",
       "\t<tr><th scope=row>bld_plt1_01_720_1.mzML</th><td> 57.32955</td><td>0</td><td>0</td><td> 0.00000</td><td> 616.05220</td><td> 0.00000</td><td>15.91446</td><td>44.60009</td><td>11.753</td><td> 36.06472</td><td>...</td><td>   96.46013</td><td>   99.44711</td><td>0</td><td> 35.77258</td><td>558.0222</td><td>0</td><td>0</td><td>0</td><td>0</td><td> 134.53008</td></tr>\n",
       "\t<tr><th scope=row>bld_plt1_03_0_1.mzML</th><td>  0.00000</td><td>0</td><td>0</td><td>15.94072</td><td>2447.52440</td><td> 0.00000</td><td> 0.00000</td><td>21.92746</td><td> 0.000</td><td>172.07106</td><td>...</td><td>  500.14636</td><td>  152.57812</td><td>0</td><td> 32.87445</td><td>  0.0000</td><td>0</td><td>0</td><td>0</td><td>0</td><td>  77.46094</td></tr>\n",
       "\t<tr><th scope=row>bld_plt1_03_480_1.mzML</th><td>  0.00000</td><td>0</td><td>0</td><td>19.65039</td><td>2509.11250</td><td> 0.00000</td><td> 0.00000</td><td> 0.00000</td><td> 0.000</td><td> 71.28131</td><td>...</td><td>  100.30728</td><td>  104.21318</td><td>0</td><td> 43.72868</td><td>443.1587</td><td>0</td><td>0</td><td>0</td><td>0</td><td>  52.57648</td></tr>\n",
       "</tbody>\n",
       "</table>\n"
      ],
      "text/latex": [
       "A data.frame: 6 × 6182\n",
       "\\begin{tabular}{r|lllllllllllllllllllll}\n",
       "  & X9002\\_150.063\\_4.963 & X8808\\_150.596\\_4.822 & X4094\\_151.039\\_3.305 & X2584\\_151.039\\_2.783 & X5788\\_151.075\\_3.796 & X5122\\_151.075\\_3.587 & X598\\_151.075\\_1.534 & X1334\\_151.075\\_2.335 & X649\\_151.075\\_1.623 & X2884\\_151.075\\_2.864 & ... & X7209\\_1259.493\\_4.282 & X7274\\_1259.638\\_4.269 & X14656\\_1280.974\\_7.835 & X7238\\_1282.787\\_4.259 & X14458\\_1303.827\\_7.386 & X14686\\_1310.987\\_8.01 & X14690\\_1315.94\\_8.014 & X14715\\_1369.027\\_8.219 & X14730\\_1427.068\\_8.446 & X7267\\_1469.075\\_4.282\\\\\n",
       "  & <dbl> & <dbl> & <dbl> & <dbl> & <dbl> & <dbl> & <dbl> & <dbl> & <dbl> & <dbl> & ... & <dbl> & <dbl> & <dbl> & <dbl> & <dbl> & <dbl> & <dbl> & <dbl> & <dbl> & <dbl>\\\\\n",
       "\\hline\n",
       "\tbld\\_plt1\\_01\\_0\\_1.mzML &   0.00000 & 0 & 0 & 36.13497 &   32.80677 &  0.00000 &  0.00000 & 14.55033 &  0.000 &  56.37600 & ... &   607.68080 &   873.96606 & 0 & 373.55997 & 513.7577 & 0 & 0 & 0 & 0 &  395.26947\\\\\n",
       "\tbld\\_plt1\\_01\\_120\\_1.mzML &   0.00000 & 0 & 0 & 17.66232 &    0.00000 &  0.00000 &  0.00000 &  0.00000 &  0.000 &  33.01907 & ... & 10690.73500 & 10837.20600 & 0 & 138.98517 &   0.0000 & 0 & 0 & 0 & 0 & 2239.06180\\\\\n",
       "\tbld\\_plt1\\_01\\_600\\_1.mzML & 185.35068 & 0 & 0 &  0.00000 &  308.23676 & 31.21204 &  0.00000 & 37.54714 &  0.000 &  24.75143 & ... &   857.41420 &  1716.91820 & 0 &  33.90259 & 510.5584 & 0 & 0 & 0 & 0 &  187.02872\\\\\n",
       "\tbld\\_plt1\\_01\\_720\\_1.mzML &  57.32955 & 0 & 0 &  0.00000 &  616.05220 &  0.00000 & 15.91446 & 44.60009 & 11.753 &  36.06472 & ... &    96.46013 &    99.44711 & 0 &  35.77258 & 558.0222 & 0 & 0 & 0 & 0 &  134.53008\\\\\n",
       "\tbld\\_plt1\\_03\\_0\\_1.mzML &   0.00000 & 0 & 0 & 15.94072 & 2447.52440 &  0.00000 &  0.00000 & 21.92746 &  0.000 & 172.07106 & ... &   500.14636 &   152.57812 & 0 &  32.87445 &   0.0000 & 0 & 0 & 0 & 0 &   77.46094\\\\\n",
       "\tbld\\_plt1\\_03\\_480\\_1.mzML &   0.00000 & 0 & 0 & 19.65039 & 2509.11250 &  0.00000 &  0.00000 &  0.00000 &  0.000 &  71.28131 & ... &   100.30728 &   104.21318 & 0 &  43.72868 & 443.1587 & 0 & 0 & 0 & 0 &   52.57648\\\\\n",
       "\\end{tabular}\n"
      ],
      "text/markdown": [
       "\n",
       "A data.frame: 6 × 6182\n",
       "\n",
       "| <!--/--> | X9002_150.063_4.963 &lt;dbl&gt; | X8808_150.596_4.822 &lt;dbl&gt; | X4094_151.039_3.305 &lt;dbl&gt; | X2584_151.039_2.783 &lt;dbl&gt; | X5788_151.075_3.796 &lt;dbl&gt; | X5122_151.075_3.587 &lt;dbl&gt; | X598_151.075_1.534 &lt;dbl&gt; | X1334_151.075_2.335 &lt;dbl&gt; | X649_151.075_1.623 &lt;dbl&gt; | X2884_151.075_2.864 &lt;dbl&gt; | ... ... | X7209_1259.493_4.282 &lt;dbl&gt; | X7274_1259.638_4.269 &lt;dbl&gt; | X14656_1280.974_7.835 &lt;dbl&gt; | X7238_1282.787_4.259 &lt;dbl&gt; | X14458_1303.827_7.386 &lt;dbl&gt; | X14686_1310.987_8.01 &lt;dbl&gt; | X14690_1315.94_8.014 &lt;dbl&gt; | X14715_1369.027_8.219 &lt;dbl&gt; | X14730_1427.068_8.446 &lt;dbl&gt; | X7267_1469.075_4.282 &lt;dbl&gt; |\n",
       "|---|---|---|---|---|---|---|---|---|---|---|---|---|---|---|---|---|---|---|---|---|---|\n",
       "| bld_plt1_01_0_1.mzML |   0.00000 | 0 | 0 | 36.13497 |   32.80677 |  0.00000 |  0.00000 | 14.55033 |  0.000 |  56.37600 | ... |   607.68080 |   873.96606 | 0 | 373.55997 | 513.7577 | 0 | 0 | 0 | 0 |  395.26947 |\n",
       "| bld_plt1_01_120_1.mzML |   0.00000 | 0 | 0 | 17.66232 |    0.00000 |  0.00000 |  0.00000 |  0.00000 |  0.000 |  33.01907 | ... | 10690.73500 | 10837.20600 | 0 | 138.98517 |   0.0000 | 0 | 0 | 0 | 0 | 2239.06180 |\n",
       "| bld_plt1_01_600_1.mzML | 185.35068 | 0 | 0 |  0.00000 |  308.23676 | 31.21204 |  0.00000 | 37.54714 |  0.000 |  24.75143 | ... |   857.41420 |  1716.91820 | 0 |  33.90259 | 510.5584 | 0 | 0 | 0 | 0 |  187.02872 |\n",
       "| bld_plt1_01_720_1.mzML |  57.32955 | 0 | 0 |  0.00000 |  616.05220 |  0.00000 | 15.91446 | 44.60009 | 11.753 |  36.06472 | ... |    96.46013 |    99.44711 | 0 |  35.77258 | 558.0222 | 0 | 0 | 0 | 0 |  134.53008 |\n",
       "| bld_plt1_03_0_1.mzML |   0.00000 | 0 | 0 | 15.94072 | 2447.52440 |  0.00000 |  0.00000 | 21.92746 |  0.000 | 172.07106 | ... |   500.14636 |   152.57812 | 0 |  32.87445 |   0.0000 | 0 | 0 | 0 | 0 |   77.46094 |\n",
       "| bld_plt1_03_480_1.mzML |   0.00000 | 0 | 0 | 19.65039 | 2509.11250 |  0.00000 |  0.00000 |  0.00000 |  0.000 |  71.28131 | ... |   100.30728 |   104.21318 | 0 |  43.72868 | 443.1587 | 0 | 0 | 0 | 0 |   52.57648 |\n",
       "\n"
      ],
      "text/plain": [
       "                       X9002_150.063_4.963 X8808_150.596_4.822\n",
       "bld_plt1_01_0_1.mzML     0.00000           0                  \n",
       "bld_plt1_01_120_1.mzML   0.00000           0                  \n",
       "bld_plt1_01_600_1.mzML 185.35068           0                  \n",
       "bld_plt1_01_720_1.mzML  57.32955           0                  \n",
       "bld_plt1_03_0_1.mzML     0.00000           0                  \n",
       "bld_plt1_03_480_1.mzML   0.00000           0                  \n",
       "                       X4094_151.039_3.305 X2584_151.039_2.783\n",
       "bld_plt1_01_0_1.mzML   0                   36.13497           \n",
       "bld_plt1_01_120_1.mzML 0                   17.66232           \n",
       "bld_plt1_01_600_1.mzML 0                    0.00000           \n",
       "bld_plt1_01_720_1.mzML 0                    0.00000           \n",
       "bld_plt1_03_0_1.mzML   0                   15.94072           \n",
       "bld_plt1_03_480_1.mzML 0                   19.65039           \n",
       "                       X5788_151.075_3.796 X5122_151.075_3.587\n",
       "bld_plt1_01_0_1.mzML     32.80677           0.00000           \n",
       "bld_plt1_01_120_1.mzML    0.00000           0.00000           \n",
       "bld_plt1_01_600_1.mzML  308.23676          31.21204           \n",
       "bld_plt1_01_720_1.mzML  616.05220           0.00000           \n",
       "bld_plt1_03_0_1.mzML   2447.52440           0.00000           \n",
       "bld_plt1_03_480_1.mzML 2509.11250           0.00000           \n",
       "                       X598_151.075_1.534 X1334_151.075_2.335\n",
       "bld_plt1_01_0_1.mzML    0.00000           14.55033           \n",
       "bld_plt1_01_120_1.mzML  0.00000            0.00000           \n",
       "bld_plt1_01_600_1.mzML  0.00000           37.54714           \n",
       "bld_plt1_01_720_1.mzML 15.91446           44.60009           \n",
       "bld_plt1_03_0_1.mzML    0.00000           21.92746           \n",
       "bld_plt1_03_480_1.mzML  0.00000            0.00000           \n",
       "                       X649_151.075_1.623 X2884_151.075_2.864 ...\n",
       "bld_plt1_01_0_1.mzML    0.000              56.37600           ...\n",
       "bld_plt1_01_120_1.mzML  0.000              33.01907           ...\n",
       "bld_plt1_01_600_1.mzML  0.000              24.75143           ...\n",
       "bld_plt1_01_720_1.mzML 11.753              36.06472           ...\n",
       "bld_plt1_03_0_1.mzML    0.000             172.07106           ...\n",
       "bld_plt1_03_480_1.mzML  0.000              71.28131           ...\n",
       "                       X7209_1259.493_4.282 X7274_1259.638_4.269\n",
       "bld_plt1_01_0_1.mzML     607.68080            873.96606         \n",
       "bld_plt1_01_120_1.mzML 10690.73500          10837.20600         \n",
       "bld_plt1_01_600_1.mzML   857.41420           1716.91820         \n",
       "bld_plt1_01_720_1.mzML    96.46013             99.44711         \n",
       "bld_plt1_03_0_1.mzML     500.14636            152.57812         \n",
       "bld_plt1_03_480_1.mzML   100.30728            104.21318         \n",
       "                       X14656_1280.974_7.835 X7238_1282.787_4.259\n",
       "bld_plt1_01_0_1.mzML   0                     373.55997           \n",
       "bld_plt1_01_120_1.mzML 0                     138.98517           \n",
       "bld_plt1_01_600_1.mzML 0                      33.90259           \n",
       "bld_plt1_01_720_1.mzML 0                      35.77258           \n",
       "bld_plt1_03_0_1.mzML   0                      32.87445           \n",
       "bld_plt1_03_480_1.mzML 0                      43.72868           \n",
       "                       X14458_1303.827_7.386 X14686_1310.987_8.01\n",
       "bld_plt1_01_0_1.mzML   513.7577              0                   \n",
       "bld_plt1_01_120_1.mzML   0.0000              0                   \n",
       "bld_plt1_01_600_1.mzML 510.5584              0                   \n",
       "bld_plt1_01_720_1.mzML 558.0222              0                   \n",
       "bld_plt1_03_0_1.mzML     0.0000              0                   \n",
       "bld_plt1_03_480_1.mzML 443.1587              0                   \n",
       "                       X14690_1315.94_8.014 X14715_1369.027_8.219\n",
       "bld_plt1_01_0_1.mzML   0                    0                    \n",
       "bld_plt1_01_120_1.mzML 0                    0                    \n",
       "bld_plt1_01_600_1.mzML 0                    0                    \n",
       "bld_plt1_01_720_1.mzML 0                    0                    \n",
       "bld_plt1_03_0_1.mzML   0                    0                    \n",
       "bld_plt1_03_480_1.mzML 0                    0                    \n",
       "                       X14730_1427.068_8.446 X7267_1469.075_4.282\n",
       "bld_plt1_01_0_1.mzML   0                      395.26947          \n",
       "bld_plt1_01_120_1.mzML 0                     2239.06180          \n",
       "bld_plt1_01_600_1.mzML 0                      187.02872          \n",
       "bld_plt1_01_720_1.mzML 0                      134.53008          \n",
       "bld_plt1_03_0_1.mzML   0                       77.46094          \n",
       "bld_plt1_03_480_1.mzML 0                       52.57648          "
      ]
     },
     "metadata": {},
     "output_type": "display_data"
    }
   ],
   "source": [
    "head(ft_t)"
   ]
  },
  {
   "cell_type": "markdown",
   "id": "53a70d73-a4f3-4108-ba83-0e46759136b6",
   "metadata": {},
   "source": [
    "### 1. Batch Correction:"
   ]
  },
  {
   "cell_type": "code",
   "execution_count": 54,
   "id": "29a34ee8-ddab-41c0-9b62-d533fee38ab2",
   "metadata": {},
   "outputs": [],
   "source": [
    "ft_merged <- merge(new_md,ft_t, by.x=1, by.y=0)"
   ]
  },
  {
   "cell_type": "code",
   "execution_count": 55,
   "id": "fd643dae-8c0f-4f2d-869a-b219c9ee3022",
   "metadata": {},
   "outputs": [
    {
     "data": {
      "text/html": [
       "<table class=\"dataframe\">\n",
       "<caption>A data.frame: 6 × 6188</caption>\n",
       "<thead>\n",
       "\t<tr><th></th><th scope=col>filename</th><th scope=col>ATTRIBUTE_Sample_Type</th><th scope=col>ATTRIBUTE_Subject</th><th scope=col>ATTRIBUTE_Timepoint_min</th><th scope=col>ATTRIBUTE_Sampling_Location</th><th scope=col>ATTRIBUTE_Analysis_order</th><th scope=col>X9002_150.063_4.963</th><th scope=col>X8808_150.596_4.822</th><th scope=col>X4094_151.039_3.305</th><th scope=col>X2584_151.039_2.783</th><th scope=col>...</th><th scope=col>X7209_1259.493_4.282</th><th scope=col>X7274_1259.638_4.269</th><th scope=col>X14656_1280.974_7.835</th><th scope=col>X7238_1282.787_4.259</th><th scope=col>X14458_1303.827_7.386</th><th scope=col>X14686_1310.987_8.01</th><th scope=col>X14690_1315.94_8.014</th><th scope=col>X14715_1369.027_8.219</th><th scope=col>X14730_1427.068_8.446</th><th scope=col>X7267_1469.075_4.282</th></tr>\n",
       "\t<tr><th></th><th scope=col>&lt;chr&gt;</th><th scope=col>&lt;chr&gt;</th><th scope=col>&lt;chr&gt;</th><th scope=col>&lt;chr&gt;</th><th scope=col>&lt;chr&gt;</th><th scope=col>&lt;int&gt;</th><th scope=col>&lt;dbl&gt;</th><th scope=col>&lt;dbl&gt;</th><th scope=col>&lt;dbl&gt;</th><th scope=col>&lt;dbl&gt;</th><th scope=col>...</th><th scope=col>&lt;dbl&gt;</th><th scope=col>&lt;dbl&gt;</th><th scope=col>&lt;dbl&gt;</th><th scope=col>&lt;dbl&gt;</th><th scope=col>&lt;dbl&gt;</th><th scope=col>&lt;dbl&gt;</th><th scope=col>&lt;dbl&gt;</th><th scope=col>&lt;dbl&gt;</th><th scope=col>&lt;dbl&gt;</th><th scope=col>&lt;dbl&gt;</th></tr>\n",
       "</thead>\n",
       "<tbody>\n",
       "\t<tr><th scope=row>1</th><td>bld_plt1_01_0_1.mzML  </td><td>plasma</td><td>Subject_1</td><td>0  </td><td>not applicable</td><td>19</td><td>  0.00000</td><td>0</td><td>0</td><td>36.13497</td><td>...</td><td>  607.68080</td><td>  873.96606</td><td>0</td><td>373.55997</td><td>513.7577</td><td>0</td><td>0</td><td>0</td><td>0</td><td> 395.26947</td></tr>\n",
       "\t<tr><th scope=row>2</th><td>bld_plt1_01_120_1.mzML</td><td>plasma</td><td>Subject_1</td><td>120</td><td>not applicable</td><td>32</td><td>  0.00000</td><td>0</td><td>0</td><td>17.66232</td><td>...</td><td>10690.73500</td><td>10837.20600</td><td>0</td><td>138.98517</td><td>  0.0000</td><td>0</td><td>0</td><td>0</td><td>0</td><td>2239.06180</td></tr>\n",
       "\t<tr><th scope=row>3</th><td>bld_plt1_01_600_1.mzML</td><td>plasma</td><td>Subject_1</td><td>600</td><td>not applicable</td><td>51</td><td>185.35068</td><td>0</td><td>0</td><td> 0.00000</td><td>...</td><td>  857.41420</td><td> 1716.91820</td><td>0</td><td> 33.90259</td><td>510.5584</td><td>0</td><td>0</td><td>0</td><td>0</td><td> 187.02872</td></tr>\n",
       "\t<tr><th scope=row>4</th><td>bld_plt1_01_720_1.mzML</td><td>plasma</td><td>Subject_1</td><td>720</td><td>not applicable</td><td>50</td><td> 57.32955</td><td>0</td><td>0</td><td> 0.00000</td><td>...</td><td>   96.46013</td><td>   99.44711</td><td>0</td><td> 35.77258</td><td>558.0222</td><td>0</td><td>0</td><td>0</td><td>0</td><td> 134.53008</td></tr>\n",
       "\t<tr><th scope=row>5</th><td>bld_plt1_03_0_1.mzML  </td><td>plasma</td><td>Subject_3</td><td>0  </td><td>not applicable</td><td>20</td><td>  0.00000</td><td>0</td><td>0</td><td>15.94072</td><td>...</td><td>  500.14636</td><td>  152.57812</td><td>0</td><td> 32.87445</td><td>  0.0000</td><td>0</td><td>0</td><td>0</td><td>0</td><td>  77.46094</td></tr>\n",
       "\t<tr><th scope=row>6</th><td>bld_plt1_03_480_1.mzML</td><td>plasma</td><td>Subject_3</td><td>480</td><td>not applicable</td><td>52</td><td>  0.00000</td><td>0</td><td>0</td><td>19.65039</td><td>...</td><td>  100.30728</td><td>  104.21318</td><td>0</td><td> 43.72868</td><td>443.1587</td><td>0</td><td>0</td><td>0</td><td>0</td><td>  52.57648</td></tr>\n",
       "</tbody>\n",
       "</table>\n"
      ],
      "text/latex": [
       "A data.frame: 6 × 6188\n",
       "\\begin{tabular}{r|lllllllllllllllllllll}\n",
       "  & filename & ATTRIBUTE\\_Sample\\_Type & ATTRIBUTE\\_Subject & ATTRIBUTE\\_Timepoint\\_min & ATTRIBUTE\\_Sampling\\_Location & ATTRIBUTE\\_Analysis\\_order & X9002\\_150.063\\_4.963 & X8808\\_150.596\\_4.822 & X4094\\_151.039\\_3.305 & X2584\\_151.039\\_2.783 & ... & X7209\\_1259.493\\_4.282 & X7274\\_1259.638\\_4.269 & X14656\\_1280.974\\_7.835 & X7238\\_1282.787\\_4.259 & X14458\\_1303.827\\_7.386 & X14686\\_1310.987\\_8.01 & X14690\\_1315.94\\_8.014 & X14715\\_1369.027\\_8.219 & X14730\\_1427.068\\_8.446 & X7267\\_1469.075\\_4.282\\\\\n",
       "  & <chr> & <chr> & <chr> & <chr> & <chr> & <int> & <dbl> & <dbl> & <dbl> & <dbl> & ... & <dbl> & <dbl> & <dbl> & <dbl> & <dbl> & <dbl> & <dbl> & <dbl> & <dbl> & <dbl>\\\\\n",
       "\\hline\n",
       "\t1 & bld\\_plt1\\_01\\_0\\_1.mzML   & plasma & Subject\\_1 & 0   & not applicable & 19 &   0.00000 & 0 & 0 & 36.13497 & ... &   607.68080 &   873.96606 & 0 & 373.55997 & 513.7577 & 0 & 0 & 0 & 0 &  395.26947\\\\\n",
       "\t2 & bld\\_plt1\\_01\\_120\\_1.mzML & plasma & Subject\\_1 & 120 & not applicable & 32 &   0.00000 & 0 & 0 & 17.66232 & ... & 10690.73500 & 10837.20600 & 0 & 138.98517 &   0.0000 & 0 & 0 & 0 & 0 & 2239.06180\\\\\n",
       "\t3 & bld\\_plt1\\_01\\_600\\_1.mzML & plasma & Subject\\_1 & 600 & not applicable & 51 & 185.35068 & 0 & 0 &  0.00000 & ... &   857.41420 &  1716.91820 & 0 &  33.90259 & 510.5584 & 0 & 0 & 0 & 0 &  187.02872\\\\\n",
       "\t4 & bld\\_plt1\\_01\\_720\\_1.mzML & plasma & Subject\\_1 & 720 & not applicable & 50 &  57.32955 & 0 & 0 &  0.00000 & ... &    96.46013 &    99.44711 & 0 &  35.77258 & 558.0222 & 0 & 0 & 0 & 0 &  134.53008\\\\\n",
       "\t5 & bld\\_plt1\\_03\\_0\\_1.mzML   & plasma & Subject\\_3 & 0   & not applicable & 20 &   0.00000 & 0 & 0 & 15.94072 & ... &   500.14636 &   152.57812 & 0 &  32.87445 &   0.0000 & 0 & 0 & 0 & 0 &   77.46094\\\\\n",
       "\t6 & bld\\_plt1\\_03\\_480\\_1.mzML & plasma & Subject\\_3 & 480 & not applicable & 52 &   0.00000 & 0 & 0 & 19.65039 & ... &   100.30728 &   104.21318 & 0 &  43.72868 & 443.1587 & 0 & 0 & 0 & 0 &   52.57648\\\\\n",
       "\\end{tabular}\n"
      ],
      "text/markdown": [
       "\n",
       "A data.frame: 6 × 6188\n",
       "\n",
       "| <!--/--> | filename &lt;chr&gt; | ATTRIBUTE_Sample_Type &lt;chr&gt; | ATTRIBUTE_Subject &lt;chr&gt; | ATTRIBUTE_Timepoint_min &lt;chr&gt; | ATTRIBUTE_Sampling_Location &lt;chr&gt; | ATTRIBUTE_Analysis_order &lt;int&gt; | X9002_150.063_4.963 &lt;dbl&gt; | X8808_150.596_4.822 &lt;dbl&gt; | X4094_151.039_3.305 &lt;dbl&gt; | X2584_151.039_2.783 &lt;dbl&gt; | ... ... | X7209_1259.493_4.282 &lt;dbl&gt; | X7274_1259.638_4.269 &lt;dbl&gt; | X14656_1280.974_7.835 &lt;dbl&gt; | X7238_1282.787_4.259 &lt;dbl&gt; | X14458_1303.827_7.386 &lt;dbl&gt; | X14686_1310.987_8.01 &lt;dbl&gt; | X14690_1315.94_8.014 &lt;dbl&gt; | X14715_1369.027_8.219 &lt;dbl&gt; | X14730_1427.068_8.446 &lt;dbl&gt; | X7267_1469.075_4.282 &lt;dbl&gt; |\n",
       "|---|---|---|---|---|---|---|---|---|---|---|---|---|---|---|---|---|---|---|---|---|---|\n",
       "| 1 | bld_plt1_01_0_1.mzML   | plasma | Subject_1 | 0   | not applicable | 19 |   0.00000 | 0 | 0 | 36.13497 | ... |   607.68080 |   873.96606 | 0 | 373.55997 | 513.7577 | 0 | 0 | 0 | 0 |  395.26947 |\n",
       "| 2 | bld_plt1_01_120_1.mzML | plasma | Subject_1 | 120 | not applicable | 32 |   0.00000 | 0 | 0 | 17.66232 | ... | 10690.73500 | 10837.20600 | 0 | 138.98517 |   0.0000 | 0 | 0 | 0 | 0 | 2239.06180 |\n",
       "| 3 | bld_plt1_01_600_1.mzML | plasma | Subject_1 | 600 | not applicable | 51 | 185.35068 | 0 | 0 |  0.00000 | ... |   857.41420 |  1716.91820 | 0 |  33.90259 | 510.5584 | 0 | 0 | 0 | 0 |  187.02872 |\n",
       "| 4 | bld_plt1_01_720_1.mzML | plasma | Subject_1 | 720 | not applicable | 50 |  57.32955 | 0 | 0 |  0.00000 | ... |    96.46013 |    99.44711 | 0 |  35.77258 | 558.0222 | 0 | 0 | 0 | 0 |  134.53008 |\n",
       "| 5 | bld_plt1_03_0_1.mzML   | plasma | Subject_3 | 0   | not applicable | 20 |   0.00000 | 0 | 0 | 15.94072 | ... |   500.14636 |   152.57812 | 0 |  32.87445 |   0.0000 | 0 | 0 | 0 | 0 |   77.46094 |\n",
       "| 6 | bld_plt1_03_480_1.mzML | plasma | Subject_3 | 480 | not applicable | 52 |   0.00000 | 0 | 0 | 19.65039 | ... |   100.30728 |   104.21318 | 0 |  43.72868 | 443.1587 | 0 | 0 | 0 | 0 |   52.57648 |\n",
       "\n"
      ],
      "text/plain": [
       "  filename               ATTRIBUTE_Sample_Type ATTRIBUTE_Subject\n",
       "1 bld_plt1_01_0_1.mzML   plasma                Subject_1        \n",
       "2 bld_plt1_01_120_1.mzML plasma                Subject_1        \n",
       "3 bld_plt1_01_600_1.mzML plasma                Subject_1        \n",
       "4 bld_plt1_01_720_1.mzML plasma                Subject_1        \n",
       "5 bld_plt1_03_0_1.mzML   plasma                Subject_3        \n",
       "6 bld_plt1_03_480_1.mzML plasma                Subject_3        \n",
       "  ATTRIBUTE_Timepoint_min ATTRIBUTE_Sampling_Location ATTRIBUTE_Analysis_order\n",
       "1 0                       not applicable              19                      \n",
       "2 120                     not applicable              32                      \n",
       "3 600                     not applicable              51                      \n",
       "4 720                     not applicable              50                      \n",
       "5 0                       not applicable              20                      \n",
       "6 480                     not applicable              52                      \n",
       "  X9002_150.063_4.963 X8808_150.596_4.822 X4094_151.039_3.305\n",
       "1   0.00000           0                   0                  \n",
       "2   0.00000           0                   0                  \n",
       "3 185.35068           0                   0                  \n",
       "4  57.32955           0                   0                  \n",
       "5   0.00000           0                   0                  \n",
       "6   0.00000           0                   0                  \n",
       "  X2584_151.039_2.783 ... X7209_1259.493_4.282 X7274_1259.638_4.269\n",
       "1 36.13497            ...   607.68080            873.96606         \n",
       "2 17.66232            ... 10690.73500          10837.20600         \n",
       "3  0.00000            ...   857.41420           1716.91820         \n",
       "4  0.00000            ...    96.46013             99.44711         \n",
       "5 15.94072            ...   500.14636            152.57812         \n",
       "6 19.65039            ...   100.30728            104.21318         \n",
       "  X14656_1280.974_7.835 X7238_1282.787_4.259 X14458_1303.827_7.386\n",
       "1 0                     373.55997            513.7577             \n",
       "2 0                     138.98517              0.0000             \n",
       "3 0                      33.90259            510.5584             \n",
       "4 0                      35.77258            558.0222             \n",
       "5 0                      32.87445              0.0000             \n",
       "6 0                      43.72868            443.1587             \n",
       "  X14686_1310.987_8.01 X14690_1315.94_8.014 X14715_1369.027_8.219\n",
       "1 0                    0                    0                    \n",
       "2 0                    0                    0                    \n",
       "3 0                    0                    0                    \n",
       "4 0                    0                    0                    \n",
       "5 0                    0                    0                    \n",
       "6 0                    0                    0                    \n",
       "  X14730_1427.068_8.446 X7267_1469.075_4.282\n",
       "1 0                      395.26947          \n",
       "2 0                     2239.06180          \n",
       "3 0                      187.02872          \n",
       "4 0                      134.53008          \n",
       "5 0                       77.46094          \n",
       "6 0                       52.57648          "
      ]
     },
     "metadata": {},
     "output_type": "display_data"
    }
   ],
   "source": [
    "head(ft_merged)"
   ]
  },
  {
   "cell_type": "code",
   "execution_count": null,
   "id": "db5180ab-0344-4b62-a602-fd6e149dc347",
   "metadata": {},
   "outputs": [],
   "source": [
    "print(grep(\"X6027_\",colnames(ft_merged),ignore.case=TRUE,value=TRUE))"
   ]
  },
  {
   "cell_type": "markdown",
   "id": "949b4697-98d5-404d-8cf7-947661e583a4",
   "metadata": {},
   "source": [
    "Visualizing within-batch effect using housekeeping features:  \n",
    "What are the housekeeping features here?\n",
    "Tryptophan: Library ID: 448, 449  \n",
    "DL- Phenyalanine: 97\n",
    "\n",
    "Spectral Match to 1-Hexadecanoyl-sn-glycerol from NIST14: X12244_331.285_6.356  \n",
    "X1552_415.254_2.443 PEG 400  \n",
    "6027 glycoholic acid"
   ]
  },
  {
   "cell_type": "code",
   "execution_count": null,
   "id": "2211ee9e-d483-4744-a9a1-47fca9de908d",
   "metadata": {},
   "outputs": [],
   "source": [
    "ft_merged_plasma <- ft_merged %>% filter(ATTRIBUTE_Sample_Type == 'plasma')"
   ]
  },
  {
   "cell_type": "code",
   "execution_count": null,
   "id": "8004c7de-cd24-457d-abb6-d64893cb5556",
   "metadata": {},
   "outputs": [],
   "source": [
    "# Fit the linear model\n",
    "model <- lm(X6027_466.317_3.869 ~ ATTRIBUTE_Analysis_order, data = ft_merged_skin)\n",
    "\n",
    "# Extract the R-squared value\n",
    "rsq <- summary(model)$r.squared\n",
    "\n",
    "# Add the R-squared value to the plot\n",
    "ggplot(ft_merged_plasma, \n",
    "       aes(x=`ATTRIBUTE_Analysis_order`, \n",
    "           y=ft_merged_plasma[,\"X6027_466.317_3.869\"])) + \n",
    "  geom_point(size=2.5, alpha=0.9) +\n",
    "  geom_smooth(method = 'lm',na.rm = T) +\n",
    "  annotate(\"text\", x = Inf, y = Inf, label = paste(\"R^2 =\", round(rsq, 2)), vjust = \"top\", hjust = \"right\")"
   ]
  },
  {
   "cell_type": "code",
   "execution_count": null,
   "id": "3702d9aa-0013-452f-9c16-4a6c15c3209f",
   "metadata": {},
   "outputs": [],
   "source": [
    "ggplot(ft_merged_skin, \n",
    "       aes(x=`ATTRIBUTE_Analysis_order`, \n",
    "           y=ft_merged_skin[,\"X1552_415.254_2.443\"])) + \n",
    "geom_point(size=2.5, alpha=0.9) +\n",
    "#geom_point(size=2.5, alpha=0.9, aes(color=as.factor(`ATTRIBUTE_Subject`), shape = `ATTRIBUTE_Timepoint_min`)) + \n",
    "geom_smooth(method = 'lm',na.rm = T)"
   ]
  },
  {
   "cell_type": "markdown",
   "id": "77cb2065-d66e-44ca-bf60-43d6280b11f9",
   "metadata": {},
   "source": [
    "### 2. Blank removal"
   ]
  },
  {
   "cell_type": "markdown",
   "id": "935c029e-f3aa-4f94-9af4-10b70ff40072",
   "metadata": {},
   "source": [
    "<p style='text-align: justify;'> Blank samples contain no analytes of interest and consist, for example, of the solvent, matrix, tissue or growth media that was used to prepare or dissolve the samples and analytes of interest. Such as the analytes, the mass spectral features deriving from blank samples are also detected by the LC-MS/MS instrument. We need to remove these blank features to obtain accurate results.</p>\n",
    "\n",
    "- To eliminate these blank features, we first split the feature table into blanks and samples, and then use a cutoff filter. \n",
    "- Next, we calculate the average feature intensities for the blanks and samples, and subsequently calculate the ratio of 'average_feature_blanks' to 'average_feature_sample'. \n",
    "- We compare this ratio against the user-defined cutoff to determine which features to be removed. \n",
    "- When the cutoff is set to 0.3, it means that the feature's intensity in the blanks is more than 30% of its intensity in the actual samples. These features are considered to be predominantly from the blank, so they are removed from the dataset.\n",
    "- Raising the cutoff leads to fewer background features being identified and more analyte features being observed. Conversely, lowering the cutoff, such as 10% (0.1), is more rigorous and leads to the removal of more features.\n",
    "\n",
    "**We use a cutoff of 0.3**"
   ]
  },
  {
   "cell_type": "code",
   "execution_count": 56,
   "id": "5180fbe3-bd27-431d-8779-41de34a8437a",
   "metadata": {},
   "outputs": [
    {
     "data": {
      "text/plain": [
       "\n",
       "      plasma plasma_blank         skin   skin_blank \n",
       "          42            2           42            2 "
      ]
     },
     "metadata": {},
     "output_type": "display_data"
    }
   ],
   "source": [
    "table(new_md$ATTRIBUTE_Sample_Type)"
   ]
  },
  {
   "cell_type": "code",
   "execution_count": 57,
   "id": "b62c5a17-7739-4252-bd68-67c877ed80dd",
   "metadata": {},
   "outputs": [
    {
     "data": {
      "text/html": [
       "<table class=\"dataframe\">\n",
       "<caption>A data.frame: 2 × 6182</caption>\n",
       "<thead>\n",
       "\t<tr><th></th><th scope=col>X9002_150.063_4.963</th><th scope=col>X8808_150.596_4.822</th><th scope=col>X4094_151.039_3.305</th><th scope=col>X2584_151.039_2.783</th><th scope=col>X5788_151.075_3.796</th><th scope=col>X5122_151.075_3.587</th><th scope=col>X598_151.075_1.534</th><th scope=col>X1334_151.075_2.335</th><th scope=col>X649_151.075_1.623</th><th scope=col>X2884_151.075_2.864</th><th scope=col>...</th><th scope=col>X7209_1259.493_4.282</th><th scope=col>X7274_1259.638_4.269</th><th scope=col>X14656_1280.974_7.835</th><th scope=col>X7238_1282.787_4.259</th><th scope=col>X14458_1303.827_7.386</th><th scope=col>X14686_1310.987_8.01</th><th scope=col>X14690_1315.94_8.014</th><th scope=col>X14715_1369.027_8.219</th><th scope=col>X14730_1427.068_8.446</th><th scope=col>X7267_1469.075_4.282</th></tr>\n",
       "\t<tr><th></th><th scope=col>&lt;dbl&gt;</th><th scope=col>&lt;dbl&gt;</th><th scope=col>&lt;dbl&gt;</th><th scope=col>&lt;dbl&gt;</th><th scope=col>&lt;dbl&gt;</th><th scope=col>&lt;dbl&gt;</th><th scope=col>&lt;dbl&gt;</th><th scope=col>&lt;dbl&gt;</th><th scope=col>&lt;dbl&gt;</th><th scope=col>&lt;dbl&gt;</th><th scope=col>...</th><th scope=col>&lt;dbl&gt;</th><th scope=col>&lt;dbl&gt;</th><th scope=col>&lt;dbl&gt;</th><th scope=col>&lt;dbl&gt;</th><th scope=col>&lt;dbl&gt;</th><th scope=col>&lt;dbl&gt;</th><th scope=col>&lt;dbl&gt;</th><th scope=col>&lt;dbl&gt;</th><th scope=col>&lt;dbl&gt;</th><th scope=col>&lt;dbl&gt;</th></tr>\n",
       "</thead>\n",
       "<tbody>\n",
       "\t<tr><th scope=row>bld_plt1_blk_02.mzML</th><td>130.0856</td><td>0</td><td>0</td><td>0</td><td> 0.00000</td><td>0</td><td>0</td><td>0</td><td>0</td><td> 0.00000</td><td>...</td><td>26.56705</td><td>32.13451</td><td>0</td><td>38.03688</td><td>1957.326</td><td>0</td><td>0</td><td>0</td><td>0</td><td>41.82424</td></tr>\n",
       "\t<tr><th scope=row>bld_plt2_blk_04.mzML</th><td>260.5778</td><td>0</td><td>0</td><td>0</td><td>14.45017</td><td>0</td><td>0</td><td>0</td><td>0</td><td>10.07951</td><td>...</td><td>37.94781</td><td>20.07441</td><td>0</td><td>24.93487</td><td>   0.000</td><td>0</td><td>0</td><td>0</td><td>0</td><td>24.29009</td></tr>\n",
       "</tbody>\n",
       "</table>\n"
      ],
      "text/latex": [
       "A data.frame: 2 × 6182\n",
       "\\begin{tabular}{r|lllllllllllllllllllll}\n",
       "  & X9002\\_150.063\\_4.963 & X8808\\_150.596\\_4.822 & X4094\\_151.039\\_3.305 & X2584\\_151.039\\_2.783 & X5788\\_151.075\\_3.796 & X5122\\_151.075\\_3.587 & X598\\_151.075\\_1.534 & X1334\\_151.075\\_2.335 & X649\\_151.075\\_1.623 & X2884\\_151.075\\_2.864 & ... & X7209\\_1259.493\\_4.282 & X7274\\_1259.638\\_4.269 & X14656\\_1280.974\\_7.835 & X7238\\_1282.787\\_4.259 & X14458\\_1303.827\\_7.386 & X14686\\_1310.987\\_8.01 & X14690\\_1315.94\\_8.014 & X14715\\_1369.027\\_8.219 & X14730\\_1427.068\\_8.446 & X7267\\_1469.075\\_4.282\\\\\n",
       "  & <dbl> & <dbl> & <dbl> & <dbl> & <dbl> & <dbl> & <dbl> & <dbl> & <dbl> & <dbl> & ... & <dbl> & <dbl> & <dbl> & <dbl> & <dbl> & <dbl> & <dbl> & <dbl> & <dbl> & <dbl>\\\\\n",
       "\\hline\n",
       "\tbld\\_plt1\\_blk\\_02.mzML & 130.0856 & 0 & 0 & 0 &  0.00000 & 0 & 0 & 0 & 0 &  0.00000 & ... & 26.56705 & 32.13451 & 0 & 38.03688 & 1957.326 & 0 & 0 & 0 & 0 & 41.82424\\\\\n",
       "\tbld\\_plt2\\_blk\\_04.mzML & 260.5778 & 0 & 0 & 0 & 14.45017 & 0 & 0 & 0 & 0 & 10.07951 & ... & 37.94781 & 20.07441 & 0 & 24.93487 &    0.000 & 0 & 0 & 0 & 0 & 24.29009\\\\\n",
       "\\end{tabular}\n"
      ],
      "text/markdown": [
       "\n",
       "A data.frame: 2 × 6182\n",
       "\n",
       "| <!--/--> | X9002_150.063_4.963 &lt;dbl&gt; | X8808_150.596_4.822 &lt;dbl&gt; | X4094_151.039_3.305 &lt;dbl&gt; | X2584_151.039_2.783 &lt;dbl&gt; | X5788_151.075_3.796 &lt;dbl&gt; | X5122_151.075_3.587 &lt;dbl&gt; | X598_151.075_1.534 &lt;dbl&gt; | X1334_151.075_2.335 &lt;dbl&gt; | X649_151.075_1.623 &lt;dbl&gt; | X2884_151.075_2.864 &lt;dbl&gt; | ... ... | X7209_1259.493_4.282 &lt;dbl&gt; | X7274_1259.638_4.269 &lt;dbl&gt; | X14656_1280.974_7.835 &lt;dbl&gt; | X7238_1282.787_4.259 &lt;dbl&gt; | X14458_1303.827_7.386 &lt;dbl&gt; | X14686_1310.987_8.01 &lt;dbl&gt; | X14690_1315.94_8.014 &lt;dbl&gt; | X14715_1369.027_8.219 &lt;dbl&gt; | X14730_1427.068_8.446 &lt;dbl&gt; | X7267_1469.075_4.282 &lt;dbl&gt; |\n",
       "|---|---|---|---|---|---|---|---|---|---|---|---|---|---|---|---|---|---|---|---|---|---|\n",
       "| bld_plt1_blk_02.mzML | 130.0856 | 0 | 0 | 0 |  0.00000 | 0 | 0 | 0 | 0 |  0.00000 | ... | 26.56705 | 32.13451 | 0 | 38.03688 | 1957.326 | 0 | 0 | 0 | 0 | 41.82424 |\n",
       "| bld_plt2_blk_04.mzML | 260.5778 | 0 | 0 | 0 | 14.45017 | 0 | 0 | 0 | 0 | 10.07951 | ... | 37.94781 | 20.07441 | 0 | 24.93487 |    0.000 | 0 | 0 | 0 | 0 | 24.29009 |\n",
       "\n"
      ],
      "text/plain": [
       "                     X9002_150.063_4.963 X8808_150.596_4.822\n",
       "bld_plt1_blk_02.mzML 130.0856            0                  \n",
       "bld_plt2_blk_04.mzML 260.5778            0                  \n",
       "                     X4094_151.039_3.305 X2584_151.039_2.783\n",
       "bld_plt1_blk_02.mzML 0                   0                  \n",
       "bld_plt2_blk_04.mzML 0                   0                  \n",
       "                     X5788_151.075_3.796 X5122_151.075_3.587 X598_151.075_1.534\n",
       "bld_plt1_blk_02.mzML  0.00000            0                   0                 \n",
       "bld_plt2_blk_04.mzML 14.45017            0                   0                 \n",
       "                     X1334_151.075_2.335 X649_151.075_1.623 X2884_151.075_2.864\n",
       "bld_plt1_blk_02.mzML 0                   0                   0.00000           \n",
       "bld_plt2_blk_04.mzML 0                   0                  10.07951           \n",
       "                     ... X7209_1259.493_4.282 X7274_1259.638_4.269\n",
       "bld_plt1_blk_02.mzML ... 26.56705             32.13451            \n",
       "bld_plt2_blk_04.mzML ... 37.94781             20.07441            \n",
       "                     X14656_1280.974_7.835 X7238_1282.787_4.259\n",
       "bld_plt1_blk_02.mzML 0                     38.03688            \n",
       "bld_plt2_blk_04.mzML 0                     24.93487            \n",
       "                     X14458_1303.827_7.386 X14686_1310.987_8.01\n",
       "bld_plt1_blk_02.mzML 1957.326              0                   \n",
       "bld_plt2_blk_04.mzML    0.000              0                   \n",
       "                     X14690_1315.94_8.014 X14715_1369.027_8.219\n",
       "bld_plt1_blk_02.mzML 0                    0                    \n",
       "bld_plt2_blk_04.mzML 0                    0                    \n",
       "                     X14730_1427.068_8.446 X7267_1469.075_4.282\n",
       "bld_plt1_blk_02.mzML 0                     41.82424            \n",
       "bld_plt2_blk_04.mzML 0                     24.29009            "
      ]
     },
     "metadata": {},
     "output_type": "display_data"
    },
    {
     "data": {
      "text/html": [
       "<style>\n",
       ".list-inline {list-style: none; margin:0; padding: 0}\n",
       ".list-inline>li {display: inline-block}\n",
       ".list-inline>li:not(:last-child)::after {content: \"\\00b7\"; padding: 0 .5ex}\n",
       "</style>\n",
       "<ol class=list-inline><li>4</li><li>6182</li></ol>\n"
      ],
      "text/latex": [
       "\\begin{enumerate*}\n",
       "\\item 4\n",
       "\\item 6182\n",
       "\\end{enumerate*}\n"
      ],
      "text/markdown": [
       "1. 4\n",
       "2. 6182\n",
       "\n",
       "\n"
      ],
      "text/plain": [
       "[1]    4 6182"
      ]
     },
     "metadata": {},
     "output_type": "display_data"
    }
   ],
   "source": [
    "#Getting the blanks based on the metadata:\n",
    "\n",
    "#filtering the rows from metadata with the condition = blanks\n",
    "md_blank <- new_md %>% filter(`ATTRIBUTE_Sample_Type` == \"plasma_blank\"|\n",
    "                              `ATTRIBUTE_Sample_Type` == \"skin_blank\")  \n",
    "\n",
    "#getting the corresponding rows from ft_t\n",
    "Blanks <- ft_t[which(rownames(ft_t) %in% (md_blank$`filename`)),,drop=F] \n",
    "\n",
    "head(Blanks, n=2)\n",
    "dim(Blanks)"
   ]
  },
  {
   "cell_type": "code",
   "execution_count": 58,
   "id": "33026a5b-8f8c-46ae-beb7-80d8bb135329",
   "metadata": {},
   "outputs": [
    {
     "data": {
      "text/html": [
       "<table class=\"dataframe\">\n",
       "<caption>A data.frame: 2 × 6182</caption>\n",
       "<thead>\n",
       "\t<tr><th></th><th scope=col>X9002_150.063_4.963</th><th scope=col>X8808_150.596_4.822</th><th scope=col>X4094_151.039_3.305</th><th scope=col>X2584_151.039_2.783</th><th scope=col>X5788_151.075_3.796</th><th scope=col>X5122_151.075_3.587</th><th scope=col>X598_151.075_1.534</th><th scope=col>X1334_151.075_2.335</th><th scope=col>X649_151.075_1.623</th><th scope=col>X2884_151.075_2.864</th><th scope=col>...</th><th scope=col>X7209_1259.493_4.282</th><th scope=col>X7274_1259.638_4.269</th><th scope=col>X14656_1280.974_7.835</th><th scope=col>X7238_1282.787_4.259</th><th scope=col>X14458_1303.827_7.386</th><th scope=col>X14686_1310.987_8.01</th><th scope=col>X14690_1315.94_8.014</th><th scope=col>X14715_1369.027_8.219</th><th scope=col>X14730_1427.068_8.446</th><th scope=col>X7267_1469.075_4.282</th></tr>\n",
       "\t<tr><th></th><th scope=col>&lt;dbl&gt;</th><th scope=col>&lt;dbl&gt;</th><th scope=col>&lt;dbl&gt;</th><th scope=col>&lt;dbl&gt;</th><th scope=col>&lt;dbl&gt;</th><th scope=col>&lt;dbl&gt;</th><th scope=col>&lt;dbl&gt;</th><th scope=col>&lt;dbl&gt;</th><th scope=col>&lt;dbl&gt;</th><th scope=col>&lt;dbl&gt;</th><th scope=col>...</th><th scope=col>&lt;dbl&gt;</th><th scope=col>&lt;dbl&gt;</th><th scope=col>&lt;dbl&gt;</th><th scope=col>&lt;dbl&gt;</th><th scope=col>&lt;dbl&gt;</th><th scope=col>&lt;dbl&gt;</th><th scope=col>&lt;dbl&gt;</th><th scope=col>&lt;dbl&gt;</th><th scope=col>&lt;dbl&gt;</th><th scope=col>&lt;dbl&gt;</th></tr>\n",
       "</thead>\n",
       "<tbody>\n",
       "\t<tr><th scope=row>bld_plt1_01_0_1.mzML</th><td>0</td><td>0</td><td>0</td><td>36.13497</td><td>32.80677</td><td>0</td><td>0</td><td>14.55033</td><td>0</td><td>56.37600</td><td>...</td><td>  607.6808</td><td>  873.9661</td><td>0</td><td>373.5600</td><td>513.7577</td><td>0</td><td>0</td><td>0</td><td>0</td><td> 395.2695</td></tr>\n",
       "\t<tr><th scope=row>bld_plt1_01_120_1.mzML</th><td>0</td><td>0</td><td>0</td><td>17.66232</td><td> 0.00000</td><td>0</td><td>0</td><td> 0.00000</td><td>0</td><td>33.01907</td><td>...</td><td>10690.7350</td><td>10837.2060</td><td>0</td><td>138.9852</td><td>  0.0000</td><td>0</td><td>0</td><td>0</td><td>0</td><td>2239.0618</td></tr>\n",
       "</tbody>\n",
       "</table>\n"
      ],
      "text/latex": [
       "A data.frame: 2 × 6182\n",
       "\\begin{tabular}{r|lllllllllllllllllllll}\n",
       "  & X9002\\_150.063\\_4.963 & X8808\\_150.596\\_4.822 & X4094\\_151.039\\_3.305 & X2584\\_151.039\\_2.783 & X5788\\_151.075\\_3.796 & X5122\\_151.075\\_3.587 & X598\\_151.075\\_1.534 & X1334\\_151.075\\_2.335 & X649\\_151.075\\_1.623 & X2884\\_151.075\\_2.864 & ... & X7209\\_1259.493\\_4.282 & X7274\\_1259.638\\_4.269 & X14656\\_1280.974\\_7.835 & X7238\\_1282.787\\_4.259 & X14458\\_1303.827\\_7.386 & X14686\\_1310.987\\_8.01 & X14690\\_1315.94\\_8.014 & X14715\\_1369.027\\_8.219 & X14730\\_1427.068\\_8.446 & X7267\\_1469.075\\_4.282\\\\\n",
       "  & <dbl> & <dbl> & <dbl> & <dbl> & <dbl> & <dbl> & <dbl> & <dbl> & <dbl> & <dbl> & ... & <dbl> & <dbl> & <dbl> & <dbl> & <dbl> & <dbl> & <dbl> & <dbl> & <dbl> & <dbl>\\\\\n",
       "\\hline\n",
       "\tbld\\_plt1\\_01\\_0\\_1.mzML & 0 & 0 & 0 & 36.13497 & 32.80677 & 0 & 0 & 14.55033 & 0 & 56.37600 & ... &   607.6808 &   873.9661 & 0 & 373.5600 & 513.7577 & 0 & 0 & 0 & 0 &  395.2695\\\\\n",
       "\tbld\\_plt1\\_01\\_120\\_1.mzML & 0 & 0 & 0 & 17.66232 &  0.00000 & 0 & 0 &  0.00000 & 0 & 33.01907 & ... & 10690.7350 & 10837.2060 & 0 & 138.9852 &   0.0000 & 0 & 0 & 0 & 0 & 2239.0618\\\\\n",
       "\\end{tabular}\n"
      ],
      "text/markdown": [
       "\n",
       "A data.frame: 2 × 6182\n",
       "\n",
       "| <!--/--> | X9002_150.063_4.963 &lt;dbl&gt; | X8808_150.596_4.822 &lt;dbl&gt; | X4094_151.039_3.305 &lt;dbl&gt; | X2584_151.039_2.783 &lt;dbl&gt; | X5788_151.075_3.796 &lt;dbl&gt; | X5122_151.075_3.587 &lt;dbl&gt; | X598_151.075_1.534 &lt;dbl&gt; | X1334_151.075_2.335 &lt;dbl&gt; | X649_151.075_1.623 &lt;dbl&gt; | X2884_151.075_2.864 &lt;dbl&gt; | ... ... | X7209_1259.493_4.282 &lt;dbl&gt; | X7274_1259.638_4.269 &lt;dbl&gt; | X14656_1280.974_7.835 &lt;dbl&gt; | X7238_1282.787_4.259 &lt;dbl&gt; | X14458_1303.827_7.386 &lt;dbl&gt; | X14686_1310.987_8.01 &lt;dbl&gt; | X14690_1315.94_8.014 &lt;dbl&gt; | X14715_1369.027_8.219 &lt;dbl&gt; | X14730_1427.068_8.446 &lt;dbl&gt; | X7267_1469.075_4.282 &lt;dbl&gt; |\n",
       "|---|---|---|---|---|---|---|---|---|---|---|---|---|---|---|---|---|---|---|---|---|---|\n",
       "| bld_plt1_01_0_1.mzML | 0 | 0 | 0 | 36.13497 | 32.80677 | 0 | 0 | 14.55033 | 0 | 56.37600 | ... |   607.6808 |   873.9661 | 0 | 373.5600 | 513.7577 | 0 | 0 | 0 | 0 |  395.2695 |\n",
       "| bld_plt1_01_120_1.mzML | 0 | 0 | 0 | 17.66232 |  0.00000 | 0 | 0 |  0.00000 | 0 | 33.01907 | ... | 10690.7350 | 10837.2060 | 0 | 138.9852 |   0.0000 | 0 | 0 | 0 | 0 | 2239.0618 |\n",
       "\n"
      ],
      "text/plain": [
       "                       X9002_150.063_4.963 X8808_150.596_4.822\n",
       "bld_plt1_01_0_1.mzML   0                   0                  \n",
       "bld_plt1_01_120_1.mzML 0                   0                  \n",
       "                       X4094_151.039_3.305 X2584_151.039_2.783\n",
       "bld_plt1_01_0_1.mzML   0                   36.13497           \n",
       "bld_plt1_01_120_1.mzML 0                   17.66232           \n",
       "                       X5788_151.075_3.796 X5122_151.075_3.587\n",
       "bld_plt1_01_0_1.mzML   32.80677            0                  \n",
       "bld_plt1_01_120_1.mzML  0.00000            0                  \n",
       "                       X598_151.075_1.534 X1334_151.075_2.335\n",
       "bld_plt1_01_0_1.mzML   0                  14.55033           \n",
       "bld_plt1_01_120_1.mzML 0                   0.00000           \n",
       "                       X649_151.075_1.623 X2884_151.075_2.864 ...\n",
       "bld_plt1_01_0_1.mzML   0                  56.37600            ...\n",
       "bld_plt1_01_120_1.mzML 0                  33.01907            ...\n",
       "                       X7209_1259.493_4.282 X7274_1259.638_4.269\n",
       "bld_plt1_01_0_1.mzML     607.6808             873.9661          \n",
       "bld_plt1_01_120_1.mzML 10690.7350           10837.2060          \n",
       "                       X14656_1280.974_7.835 X7238_1282.787_4.259\n",
       "bld_plt1_01_0_1.mzML   0                     373.5600            \n",
       "bld_plt1_01_120_1.mzML 0                     138.9852            \n",
       "                       X14458_1303.827_7.386 X14686_1310.987_8.01\n",
       "bld_plt1_01_0_1.mzML   513.7577              0                   \n",
       "bld_plt1_01_120_1.mzML   0.0000              0                   \n",
       "                       X14690_1315.94_8.014 X14715_1369.027_8.219\n",
       "bld_plt1_01_0_1.mzML   0                    0                    \n",
       "bld_plt1_01_120_1.mzML 0                    0                    \n",
       "                       X14730_1427.068_8.446 X7267_1469.075_4.282\n",
       "bld_plt1_01_0_1.mzML   0                      395.2695           \n",
       "bld_plt1_01_120_1.mzML 0                     2239.0618           "
      ]
     },
     "metadata": {},
     "output_type": "display_data"
    },
    {
     "data": {
      "text/html": [
       "<style>\n",
       ".list-inline {list-style: none; margin:0; padding: 0}\n",
       ".list-inline>li {display: inline-block}\n",
       ".list-inline>li:not(:last-child)::after {content: \"\\00b7\"; padding: 0 .5ex}\n",
       "</style>\n",
       "<ol class=list-inline><li>84</li><li>6182</li></ol>\n"
      ],
      "text/latex": [
       "\\begin{enumerate*}\n",
       "\\item 84\n",
       "\\item 6182\n",
       "\\end{enumerate*}\n"
      ],
      "text/markdown": [
       "1. 84\n",
       "2. 6182\n",
       "\n",
       "\n"
      ],
      "text/plain": [
       "[1]   84 6182"
      ]
     },
     "metadata": {},
     "output_type": "display_data"
    }
   ],
   "source": [
    "#Getting the samples based on the metadata:\n",
    "\n",
    "#filtering the rows from metadata with the condition = samples\n",
    "md_Samples <- new_md %>% filter(`ATTRIBUTE_Sample_Type` == \"plasma\"|\n",
    "                                `ATTRIBUTE_Sample_Type` == \"skin\")  \n",
    "\n",
    "#getting the corresponding rows from ft_t\n",
    "Samples <- ft_t[which(rownames(ft_t) %in% (md_Samples$`filename`)),,drop=F] \n",
    "\n",
    "head(Samples, n=2)\n",
    "dim(Samples)"
   ]
  },
  {
   "cell_type": "code",
   "execution_count": 59,
   "id": "0ca4d380-d414-4858-969a-e2e8d23e0259",
   "metadata": {},
   "outputs": [],
   "source": [
    "#Ideal cutoff range: 0.1-0.3 (10 -30%)\n",
    "Cutoff <- 0.3 "
   ]
  },
  {
   "cell_type": "code",
   "execution_count": 61,
   "id": "002678cc-b0c9-40a2-8928-9d4dd52e644d",
   "metadata": {},
   "outputs": [
    {
     "name": "stdout",
     "output_type": "stream",
     "text": [
      "Total no.of features: 6182 \n",
      "No.of background or noise features: 419 \n",
      "No.of features after excluding noise: 5763 \n"
     ]
    }
   ],
   "source": [
    "#Getting mean for every feature in blank and Samples in a data frame named 'Avg_ft'\n",
    "Avg_ft <- data.frame(Avg_blank = colMeans(Blanks, na.rm= F)) \n",
    "\n",
    "# adding another column 'Avg_samples' for feature means of samples\n",
    "Avg_ft$`Avg_samples` <- colMeans(Samples, na.rm = F) \n",
    "    \n",
    "#Getting the ratio of blank vs Sample\n",
    "Avg_ft$`Ratio_blank_Sample` <- (Avg_ft$`Avg_blank`+1)/(Avg_ft$`Avg_samples`+1)\n",
    "    \n",
    "# Creating a bin with 1s when the ratio > Cutoff, else put 0s\n",
    "Avg_ft$`Bg_bin` <- ifelse(Avg_ft$`Ratio_blank_Sample` > Cutoff, 1, 0 )\n",
    "\n",
    "# subset the dataframe that are just sample features\n",
    "Avg_ft2 <- filter(Avg_ft, `Bg_bin`==0) \n",
    "\n",
    "#Calculating the number of background features and features present\n",
    "cat(paste(\"Total no.of features:\",nrow(Avg_ft),\"\\n\"))\n",
    "cat(paste(\"No.of background or noise features:\",sum(Avg_ft$`Bg_bin` ==1,na.rm = T),\"\\n\"))\n",
    "cat(paste(\"No.of features after excluding noise:\",nrow(Avg_ft2)),\"\\n\")"
   ]
  },
  {
   "cell_type": "code",
   "execution_count": 62,
   "id": "9a2185ef-f0a7-4a0a-b436-305721dd99c3",
   "metadata": {},
   "outputs": [
    {
     "data": {
      "text/html": [
       "<table class=\"dataframe\">\n",
       "<caption>A data.frame: 6 × 84</caption>\n",
       "<thead>\n",
       "\t<tr><th></th><th scope=col>bld_plt1_01_0_1.mzML</th><th scope=col>bld_plt1_01_120_1.mzML</th><th scope=col>bld_plt1_01_600_1.mzML</th><th scope=col>bld_plt1_01_720_1.mzML</th><th scope=col>bld_plt1_03_0_1.mzML</th><th scope=col>bld_plt1_03_480_1.mzML</th><th scope=col>bld_plt1_03_600_1.mzML</th><th scope=col>bld_plt1_04_240_1.mzML</th><th scope=col>bld_plt1_04_480_1.mzML</th><th scope=col>bld_plt1_04_600_1.mzML</th><th scope=col>...</th><th scope=col>skin_08_240_UB.mzML</th><th scope=col>skin_08_480_UB.mzML</th><th scope=col>skin_08_600_UB.mzML</th><th scope=col>skin_08_720_UB.mzML</th><th scope=col>skin_10_0_UB.mzML</th><th scope=col>skin_10_120_UB.mzML</th><th scope=col>skin_10_240_UB.mzML</th><th scope=col>skin_10_480_UB.mzML</th><th scope=col>skin_10_600_UB.mzML</th><th scope=col>skin_10_720_UB.mzML</th></tr>\n",
       "\t<tr><th></th><th scope=col>&lt;dbl&gt;</th><th scope=col>&lt;dbl&gt;</th><th scope=col>&lt;dbl&gt;</th><th scope=col>&lt;dbl&gt;</th><th scope=col>&lt;dbl&gt;</th><th scope=col>&lt;dbl&gt;</th><th scope=col>&lt;dbl&gt;</th><th scope=col>&lt;dbl&gt;</th><th scope=col>&lt;dbl&gt;</th><th scope=col>&lt;dbl&gt;</th><th scope=col>...</th><th scope=col>&lt;dbl&gt;</th><th scope=col>&lt;dbl&gt;</th><th scope=col>&lt;dbl&gt;</th><th scope=col>&lt;dbl&gt;</th><th scope=col>&lt;dbl&gt;</th><th scope=col>&lt;dbl&gt;</th><th scope=col>&lt;dbl&gt;</th><th scope=col>&lt;dbl&gt;</th><th scope=col>&lt;dbl&gt;</th><th scope=col>&lt;dbl&gt;</th></tr>\n",
       "</thead>\n",
       "<tbody>\n",
       "\t<tr><th scope=row>X9002_150.063_4.963</th><td> 0.00000</td><td> 0.00000</td><td>185.35068</td><td> 57.32955</td><td>   0.00000</td><td>   0.00000</td><td> 111.4226</td><td>  0.0000</td><td>  0.0000</td><td> 496.61798</td><td>...</td><td>963556.10</td><td>900854.300</td><td>866366.75</td><td>1015355.060</td><td>1442369.60</td><td>1360433.200</td><td>1315715.100</td><td>1142062.800</td><td>1215813.400</td><td>1320949.000</td></tr>\n",
       "\t<tr><th scope=row>X8808_150.596_4.822</th><td> 0.00000</td><td> 0.00000</td><td>  0.00000</td><td>  0.00000</td><td>   0.00000</td><td>   0.00000</td><td>   0.0000</td><td>  0.0000</td><td>  0.0000</td><td>   0.00000</td><td>...</td><td>     0.00</td><td>     0.000</td><td>     0.00</td><td>      0.000</td><td>  13985.54</td><td>   2072.857</td><td>   1364.211</td><td>   1253.273</td><td>   6596.773</td><td>   3297.581</td></tr>\n",
       "\t<tr><th scope=row>X4094_151.039_3.305</th><td> 0.00000</td><td> 0.00000</td><td>  0.00000</td><td>  0.00000</td><td>   0.00000</td><td>   0.00000</td><td>   0.0000</td><td>  0.0000</td><td>  0.0000</td><td>   0.00000</td><td>...</td><td> 13201.85</td><td> 12955.710</td><td> 18610.68</td><td>   5774.838</td><td>  18240.96</td><td>  14023.813</td><td>  13446.125</td><td>  17954.543</td><td>  18217.960</td><td>  22974.564</td></tr>\n",
       "\t<tr><th scope=row>X2584_151.039_2.783</th><td>36.13497</td><td>17.66232</td><td>  0.00000</td><td>  0.00000</td><td>  15.94072</td><td>  19.65039</td><td>   0.0000</td><td>  0.0000</td><td>  0.0000</td><td>   0.00000</td><td>...</td><td> 24133.29</td><td> 17694.852</td><td> 22098.75</td><td>  22315.691</td><td>  22034.44</td><td>  23521.568</td><td>  21772.814</td><td>  24635.717</td><td>  20636.242</td><td>  22654.271</td></tr>\n",
       "\t<tr><th scope=row>X5788_151.075_3.796</th><td>32.80677</td><td> 0.00000</td><td>308.23676</td><td>616.05220</td><td>2447.52440</td><td>2509.11250</td><td>3567.6426</td><td>975.3107</td><td>821.5182</td><td>1250.88050</td><td>...</td><td> 11755.28</td><td>  9617.317</td><td> 15605.13</td><td>   8434.861</td><td>  16707.12</td><td>  14635.979</td><td>  17395.395</td><td>  18458.530</td><td>  13516.992</td><td>  21439.904</td></tr>\n",
       "\t<tr><th scope=row>X5122_151.075_3.587</th><td> 0.00000</td><td> 0.00000</td><td> 31.21204</td><td>  0.00000</td><td>   0.00000</td><td>   0.00000</td><td>   0.0000</td><td>  0.0000</td><td>  0.0000</td><td>  17.06957</td><td>...</td><td> 15447.87</td><td> 10175.541</td><td> 15792.29</td><td>  13162.513</td><td>  19439.48</td><td>  16783.209</td><td>  17991.540</td><td>  20361.857</td><td>  16333.573</td><td>  17985.172</td></tr>\n",
       "</tbody>\n",
       "</table>\n"
      ],
      "text/latex": [
       "A data.frame: 6 × 84\n",
       "\\begin{tabular}{r|lllllllllllllllllllll}\n",
       "  & bld\\_plt1\\_01\\_0\\_1.mzML & bld\\_plt1\\_01\\_120\\_1.mzML & bld\\_plt1\\_01\\_600\\_1.mzML & bld\\_plt1\\_01\\_720\\_1.mzML & bld\\_plt1\\_03\\_0\\_1.mzML & bld\\_plt1\\_03\\_480\\_1.mzML & bld\\_plt1\\_03\\_600\\_1.mzML & bld\\_plt1\\_04\\_240\\_1.mzML & bld\\_plt1\\_04\\_480\\_1.mzML & bld\\_plt1\\_04\\_600\\_1.mzML & ... & skin\\_08\\_240\\_UB.mzML & skin\\_08\\_480\\_UB.mzML & skin\\_08\\_600\\_UB.mzML & skin\\_08\\_720\\_UB.mzML & skin\\_10\\_0\\_UB.mzML & skin\\_10\\_120\\_UB.mzML & skin\\_10\\_240\\_UB.mzML & skin\\_10\\_480\\_UB.mzML & skin\\_10\\_600\\_UB.mzML & skin\\_10\\_720\\_UB.mzML\\\\\n",
       "  & <dbl> & <dbl> & <dbl> & <dbl> & <dbl> & <dbl> & <dbl> & <dbl> & <dbl> & <dbl> & ... & <dbl> & <dbl> & <dbl> & <dbl> & <dbl> & <dbl> & <dbl> & <dbl> & <dbl> & <dbl>\\\\\n",
       "\\hline\n",
       "\tX9002\\_150.063\\_4.963 &  0.00000 &  0.00000 & 185.35068 &  57.32955 &    0.00000 &    0.00000 &  111.4226 &   0.0000 &   0.0000 &  496.61798 & ... & 963556.10 & 900854.300 & 866366.75 & 1015355.060 & 1442369.60 & 1360433.200 & 1315715.100 & 1142062.800 & 1215813.400 & 1320949.000\\\\\n",
       "\tX8808\\_150.596\\_4.822 &  0.00000 &  0.00000 &   0.00000 &   0.00000 &    0.00000 &    0.00000 &    0.0000 &   0.0000 &   0.0000 &    0.00000 & ... &      0.00 &      0.000 &      0.00 &       0.000 &   13985.54 &    2072.857 &    1364.211 &    1253.273 &    6596.773 &    3297.581\\\\\n",
       "\tX4094\\_151.039\\_3.305 &  0.00000 &  0.00000 &   0.00000 &   0.00000 &    0.00000 &    0.00000 &    0.0000 &   0.0000 &   0.0000 &    0.00000 & ... &  13201.85 &  12955.710 &  18610.68 &    5774.838 &   18240.96 &   14023.813 &   13446.125 &   17954.543 &   18217.960 &   22974.564\\\\\n",
       "\tX2584\\_151.039\\_2.783 & 36.13497 & 17.66232 &   0.00000 &   0.00000 &   15.94072 &   19.65039 &    0.0000 &   0.0000 &   0.0000 &    0.00000 & ... &  24133.29 &  17694.852 &  22098.75 &   22315.691 &   22034.44 &   23521.568 &   21772.814 &   24635.717 &   20636.242 &   22654.271\\\\\n",
       "\tX5788\\_151.075\\_3.796 & 32.80677 &  0.00000 & 308.23676 & 616.05220 & 2447.52440 & 2509.11250 & 3567.6426 & 975.3107 & 821.5182 & 1250.88050 & ... &  11755.28 &   9617.317 &  15605.13 &    8434.861 &   16707.12 &   14635.979 &   17395.395 &   18458.530 &   13516.992 &   21439.904\\\\\n",
       "\tX5122\\_151.075\\_3.587 &  0.00000 &  0.00000 &  31.21204 &   0.00000 &    0.00000 &    0.00000 &    0.0000 &   0.0000 &   0.0000 &   17.06957 & ... &  15447.87 &  10175.541 &  15792.29 &   13162.513 &   19439.48 &   16783.209 &   17991.540 &   20361.857 &   16333.573 &   17985.172\\\\\n",
       "\\end{tabular}\n"
      ],
      "text/markdown": [
       "\n",
       "A data.frame: 6 × 84\n",
       "\n",
       "| <!--/--> | bld_plt1_01_0_1.mzML &lt;dbl&gt; | bld_plt1_01_120_1.mzML &lt;dbl&gt; | bld_plt1_01_600_1.mzML &lt;dbl&gt; | bld_plt1_01_720_1.mzML &lt;dbl&gt; | bld_plt1_03_0_1.mzML &lt;dbl&gt; | bld_plt1_03_480_1.mzML &lt;dbl&gt; | bld_plt1_03_600_1.mzML &lt;dbl&gt; | bld_plt1_04_240_1.mzML &lt;dbl&gt; | bld_plt1_04_480_1.mzML &lt;dbl&gt; | bld_plt1_04_600_1.mzML &lt;dbl&gt; | ... ... | skin_08_240_UB.mzML &lt;dbl&gt; | skin_08_480_UB.mzML &lt;dbl&gt; | skin_08_600_UB.mzML &lt;dbl&gt; | skin_08_720_UB.mzML &lt;dbl&gt; | skin_10_0_UB.mzML &lt;dbl&gt; | skin_10_120_UB.mzML &lt;dbl&gt; | skin_10_240_UB.mzML &lt;dbl&gt; | skin_10_480_UB.mzML &lt;dbl&gt; | skin_10_600_UB.mzML &lt;dbl&gt; | skin_10_720_UB.mzML &lt;dbl&gt; |\n",
       "|---|---|---|---|---|---|---|---|---|---|---|---|---|---|---|---|---|---|---|---|---|---|\n",
       "| X9002_150.063_4.963 |  0.00000 |  0.00000 | 185.35068 |  57.32955 |    0.00000 |    0.00000 |  111.4226 |   0.0000 |   0.0000 |  496.61798 | ... | 963556.10 | 900854.300 | 866366.75 | 1015355.060 | 1442369.60 | 1360433.200 | 1315715.100 | 1142062.800 | 1215813.400 | 1320949.000 |\n",
       "| X8808_150.596_4.822 |  0.00000 |  0.00000 |   0.00000 |   0.00000 |    0.00000 |    0.00000 |    0.0000 |   0.0000 |   0.0000 |    0.00000 | ... |      0.00 |      0.000 |      0.00 |       0.000 |   13985.54 |    2072.857 |    1364.211 |    1253.273 |    6596.773 |    3297.581 |\n",
       "| X4094_151.039_3.305 |  0.00000 |  0.00000 |   0.00000 |   0.00000 |    0.00000 |    0.00000 |    0.0000 |   0.0000 |   0.0000 |    0.00000 | ... |  13201.85 |  12955.710 |  18610.68 |    5774.838 |   18240.96 |   14023.813 |   13446.125 |   17954.543 |   18217.960 |   22974.564 |\n",
       "| X2584_151.039_2.783 | 36.13497 | 17.66232 |   0.00000 |   0.00000 |   15.94072 |   19.65039 |    0.0000 |   0.0000 |   0.0000 |    0.00000 | ... |  24133.29 |  17694.852 |  22098.75 |   22315.691 |   22034.44 |   23521.568 |   21772.814 |   24635.717 |   20636.242 |   22654.271 |\n",
       "| X5788_151.075_3.796 | 32.80677 |  0.00000 | 308.23676 | 616.05220 | 2447.52440 | 2509.11250 | 3567.6426 | 975.3107 | 821.5182 | 1250.88050 | ... |  11755.28 |   9617.317 |  15605.13 |    8434.861 |   16707.12 |   14635.979 |   17395.395 |   18458.530 |   13516.992 |   21439.904 |\n",
       "| X5122_151.075_3.587 |  0.00000 |  0.00000 |  31.21204 |   0.00000 |    0.00000 |    0.00000 |    0.0000 |   0.0000 |   0.0000 |   17.06957 | ... |  15447.87 |  10175.541 |  15792.29 |   13162.513 |   19439.48 |   16783.209 |   17991.540 |   20361.857 |   16333.573 |   17985.172 |\n",
       "\n"
      ],
      "text/plain": [
       "                    bld_plt1_01_0_1.mzML bld_plt1_01_120_1.mzML\n",
       "X9002_150.063_4.963  0.00000              0.00000              \n",
       "X8808_150.596_4.822  0.00000              0.00000              \n",
       "X4094_151.039_3.305  0.00000              0.00000              \n",
       "X2584_151.039_2.783 36.13497             17.66232              \n",
       "X5788_151.075_3.796 32.80677              0.00000              \n",
       "X5122_151.075_3.587  0.00000              0.00000              \n",
       "                    bld_plt1_01_600_1.mzML bld_plt1_01_720_1.mzML\n",
       "X9002_150.063_4.963 185.35068               57.32955             \n",
       "X8808_150.596_4.822   0.00000                0.00000             \n",
       "X4094_151.039_3.305   0.00000                0.00000             \n",
       "X2584_151.039_2.783   0.00000                0.00000             \n",
       "X5788_151.075_3.796 308.23676              616.05220             \n",
       "X5122_151.075_3.587  31.21204                0.00000             \n",
       "                    bld_plt1_03_0_1.mzML bld_plt1_03_480_1.mzML\n",
       "X9002_150.063_4.963    0.00000              0.00000            \n",
       "X8808_150.596_4.822    0.00000              0.00000            \n",
       "X4094_151.039_3.305    0.00000              0.00000            \n",
       "X2584_151.039_2.783   15.94072             19.65039            \n",
       "X5788_151.075_3.796 2447.52440           2509.11250            \n",
       "X5122_151.075_3.587    0.00000              0.00000            \n",
       "                    bld_plt1_03_600_1.mzML bld_plt1_04_240_1.mzML\n",
       "X9002_150.063_4.963  111.4226                0.0000              \n",
       "X8808_150.596_4.822    0.0000                0.0000              \n",
       "X4094_151.039_3.305    0.0000                0.0000              \n",
       "X2584_151.039_2.783    0.0000                0.0000              \n",
       "X5788_151.075_3.796 3567.6426              975.3107              \n",
       "X5122_151.075_3.587    0.0000                0.0000              \n",
       "                    bld_plt1_04_480_1.mzML bld_plt1_04_600_1.mzML ...\n",
       "X9002_150.063_4.963   0.0000                496.61798             ...\n",
       "X8808_150.596_4.822   0.0000                  0.00000             ...\n",
       "X4094_151.039_3.305   0.0000                  0.00000             ...\n",
       "X2584_151.039_2.783   0.0000                  0.00000             ...\n",
       "X5788_151.075_3.796 821.5182               1250.88050             ...\n",
       "X5122_151.075_3.587   0.0000                 17.06957             ...\n",
       "                    skin_08_240_UB.mzML skin_08_480_UB.mzML skin_08_600_UB.mzML\n",
       "X9002_150.063_4.963 963556.10           900854.300          866366.75          \n",
       "X8808_150.596_4.822      0.00                0.000               0.00          \n",
       "X4094_151.039_3.305  13201.85            12955.710           18610.68          \n",
       "X2584_151.039_2.783  24133.29            17694.852           22098.75          \n",
       "X5788_151.075_3.796  11755.28             9617.317           15605.13          \n",
       "X5122_151.075_3.587  15447.87            10175.541           15792.29          \n",
       "                    skin_08_720_UB.mzML skin_10_0_UB.mzML skin_10_120_UB.mzML\n",
       "X9002_150.063_4.963 1015355.060         1442369.60        1360433.200        \n",
       "X8808_150.596_4.822       0.000           13985.54           2072.857        \n",
       "X4094_151.039_3.305    5774.838           18240.96          14023.813        \n",
       "X2584_151.039_2.783   22315.691           22034.44          23521.568        \n",
       "X5788_151.075_3.796    8434.861           16707.12          14635.979        \n",
       "X5122_151.075_3.587   13162.513           19439.48          16783.209        \n",
       "                    skin_10_240_UB.mzML skin_10_480_UB.mzML skin_10_600_UB.mzML\n",
       "X9002_150.063_4.963 1315715.100         1142062.800         1215813.400        \n",
       "X8808_150.596_4.822    1364.211            1253.273            6596.773        \n",
       "X4094_151.039_3.305   13446.125           17954.543           18217.960        \n",
       "X2584_151.039_2.783   21772.814           24635.717           20636.242        \n",
       "X5788_151.075_3.796   17395.395           18458.530           13516.992        \n",
       "X5122_151.075_3.587   17991.540           20361.857           16333.573        \n",
       "                    skin_10_720_UB.mzML\n",
       "X9002_150.063_4.963 1320949.000        \n",
       "X8808_150.596_4.822    3297.581        \n",
       "X4094_151.039_3.305   22974.564        \n",
       "X2584_151.039_2.783   22654.271        \n",
       "X5788_151.075_3.796   21439.904        \n",
       "X5122_151.075_3.587   17985.172        "
      ]
     },
     "metadata": {},
     "output_type": "display_data"
    }
   ],
   "source": [
    "#subset the columns from 'Samples' according to the rownames of 'Avg_ft2'\n",
    "blk_rem <- Samples[,colnames(Samples) %in% rownames(Avg_ft2), drop=F]\n",
    "\n",
    "blk_rem <- data.frame(t(blk_rem)) #trasnposing the dataframe\n",
    "\n",
    "head(blk_rem)"
   ]
  },
  {
   "cell_type": "code",
   "execution_count": 71,
   "id": "19ef1062-c281-485a-a675-54ae4bff1809",
   "metadata": {},
   "outputs": [],
   "source": [
    "fName <- 'C:/Users/abzer/OneDrive/Documents/GitHub/CD-MRG-metabolomics_summerschool_2023/data/datacleanup_output'"
   ]
  },
  {
   "cell_type": "code",
   "execution_count": 83,
   "id": "147d7aab-0971-4a2e-b2b9-ac80f24cdb08",
   "metadata": {},
   "outputs": [],
   "source": [
    "setwd(fName)"
   ]
  },
  {
   "cell_type": "code",
   "execution_count": 73,
   "id": "443314f2-a1c0-4c1c-89e8-cd8d18d95995",
   "metadata": {},
   "outputs": [],
   "source": [
    "write.csv(blk_rem, paste0('/',Date, '_Blanks_Removed_with_cutoff_',Cutoff,'.csv'),row.names =TRUE)"
   ]
  },
  {
   "cell_type": "markdown",
   "id": "d339aba2-f4ac-4a3b-b0ab-4a75db857f3f",
   "metadata": {},
   "source": [
    "### 3. Imputation"
   ]
  },
  {
   "cell_type": "markdown",
   "id": "53bea6c1-20d1-42be-86bc-44e309add8ad",
   "metadata": {},
   "source": [
    "<p style='text-align: justify;'> For several reasons, real world datasets might have some missing values in it, in the form of NA, NANs or 0s. Eventhough the gapfilling step of MZmine fills the missing values, we still end up with some missing values or 0s in our feature table. This could be problematic for statistical analysis. We cannot simply discard those rows or columns with missing values as we will lose valuable data. Instead we can try imputing or replacing the missing values in the data with a meaningful, reasonable guess. </p>\n",
    "\n",
    "- Here, first, we use the blank-removed feature table to assess frequencies across relative intensities. The plot from the below cell shows us how many features have which relative intensities. \n",
    "- We then create random values between 0 and the minimum value in our blank-removed table and randomly replace all 0s with these random values. "
   ]
  },
  {
   "cell_type": "code",
   "execution_count": 74,
   "id": "90541421-9753-4256-bfdf-cba600ab4f7e",
   "metadata": {},
   "outputs": [
    {
     "data": {
      "text/html": [
       "<table class=\"dataframe\">\n",
       "<caption>A data.frame: 6 × 6</caption>\n",
       "<thead>\n",
       "\t<tr><th></th><th scope=col>filename</th><th scope=col>ATTRIBUTE_Sample_Type</th><th scope=col>ATTRIBUTE_Subject</th><th scope=col>ATTRIBUTE_Timepoint_min</th><th scope=col>ATTRIBUTE_Sampling_Location</th><th scope=col>ATTRIBUTE_Analysis_order</th></tr>\n",
       "\t<tr><th></th><th scope=col>&lt;chr&gt;</th><th scope=col>&lt;chr&gt;</th><th scope=col>&lt;chr&gt;</th><th scope=col>&lt;chr&gt;</th><th scope=col>&lt;chr&gt;</th><th scope=col>&lt;int&gt;</th></tr>\n",
       "</thead>\n",
       "<tbody>\n",
       "\t<tr><th scope=row>1</th><td>bld_plt1_01_0_1.mzML  </td><td>plasma</td><td>Subject_1</td><td>0  </td><td>not applicable</td><td>19</td></tr>\n",
       "\t<tr><th scope=row>2</th><td>bld_plt1_01_120_1.mzML</td><td>plasma</td><td>Subject_1</td><td>120</td><td>not applicable</td><td>32</td></tr>\n",
       "\t<tr><th scope=row>3</th><td>bld_plt1_01_600_1.mzML</td><td>plasma</td><td>Subject_1</td><td>600</td><td>not applicable</td><td>51</td></tr>\n",
       "\t<tr><th scope=row>4</th><td>bld_plt1_01_720_1.mzML</td><td>plasma</td><td>Subject_1</td><td>720</td><td>not applicable</td><td>50</td></tr>\n",
       "\t<tr><th scope=row>5</th><td>bld_plt1_03_0_1.mzML  </td><td>plasma</td><td>Subject_3</td><td>0  </td><td>not applicable</td><td>20</td></tr>\n",
       "\t<tr><th scope=row>6</th><td>bld_plt1_03_480_1.mzML</td><td>plasma</td><td>Subject_3</td><td>480</td><td>not applicable</td><td>52</td></tr>\n",
       "</tbody>\n",
       "</table>\n"
      ],
      "text/latex": [
       "A data.frame: 6 × 6\n",
       "\\begin{tabular}{r|llllll}\n",
       "  & filename & ATTRIBUTE\\_Sample\\_Type & ATTRIBUTE\\_Subject & ATTRIBUTE\\_Timepoint\\_min & ATTRIBUTE\\_Sampling\\_Location & ATTRIBUTE\\_Analysis\\_order\\\\\n",
       "  & <chr> & <chr> & <chr> & <chr> & <chr> & <int>\\\\\n",
       "\\hline\n",
       "\t1 & bld\\_plt1\\_01\\_0\\_1.mzML   & plasma & Subject\\_1 & 0   & not applicable & 19\\\\\n",
       "\t2 & bld\\_plt1\\_01\\_120\\_1.mzML & plasma & Subject\\_1 & 120 & not applicable & 32\\\\\n",
       "\t3 & bld\\_plt1\\_01\\_600\\_1.mzML & plasma & Subject\\_1 & 600 & not applicable & 51\\\\\n",
       "\t4 & bld\\_plt1\\_01\\_720\\_1.mzML & plasma & Subject\\_1 & 720 & not applicable & 50\\\\\n",
       "\t5 & bld\\_plt1\\_03\\_0\\_1.mzML   & plasma & Subject\\_3 & 0   & not applicable & 20\\\\\n",
       "\t6 & bld\\_plt1\\_03\\_480\\_1.mzML & plasma & Subject\\_3 & 480 & not applicable & 52\\\\\n",
       "\\end{tabular}\n"
      ],
      "text/markdown": [
       "\n",
       "A data.frame: 6 × 6\n",
       "\n",
       "| <!--/--> | filename &lt;chr&gt; | ATTRIBUTE_Sample_Type &lt;chr&gt; | ATTRIBUTE_Subject &lt;chr&gt; | ATTRIBUTE_Timepoint_min &lt;chr&gt; | ATTRIBUTE_Sampling_Location &lt;chr&gt; | ATTRIBUTE_Analysis_order &lt;int&gt; |\n",
       "|---|---|---|---|---|---|---|\n",
       "| 1 | bld_plt1_01_0_1.mzML   | plasma | Subject_1 | 0   | not applicable | 19 |\n",
       "| 2 | bld_plt1_01_120_1.mzML | plasma | Subject_1 | 120 | not applicable | 32 |\n",
       "| 3 | bld_plt1_01_600_1.mzML | plasma | Subject_1 | 600 | not applicable | 51 |\n",
       "| 4 | bld_plt1_01_720_1.mzML | plasma | Subject_1 | 720 | not applicable | 50 |\n",
       "| 5 | bld_plt1_03_0_1.mzML   | plasma | Subject_3 | 0   | not applicable | 20 |\n",
       "| 6 | bld_plt1_03_480_1.mzML | plasma | Subject_3 | 480 | not applicable | 52 |\n",
       "\n"
      ],
      "text/plain": [
       "  filename               ATTRIBUTE_Sample_Type ATTRIBUTE_Subject\n",
       "1 bld_plt1_01_0_1.mzML   plasma                Subject_1        \n",
       "2 bld_plt1_01_120_1.mzML plasma                Subject_1        \n",
       "3 bld_plt1_01_600_1.mzML plasma                Subject_1        \n",
       "4 bld_plt1_01_720_1.mzML plasma                Subject_1        \n",
       "5 bld_plt1_03_0_1.mzML   plasma                Subject_3        \n",
       "6 bld_plt1_03_480_1.mzML plasma                Subject_3        \n",
       "  ATTRIBUTE_Timepoint_min ATTRIBUTE_Sampling_Location ATTRIBUTE_Analysis_order\n",
       "1 0                       not applicable              19                      \n",
       "2 120                     not applicable              32                      \n",
       "3 600                     not applicable              51                      \n",
       "4 720                     not applicable              50                      \n",
       "5 0                       not applicable              20                      \n",
       "6 480                     not applicable              52                      "
      ]
     },
     "metadata": {},
     "output_type": "display_data"
    }
   ],
   "source": [
    "head(md_Samples)"
   ]
  },
  {
   "cell_type": "code",
   "execution_count": 75,
   "id": "5411f61b-0b99-4b74-b35e-b4d70fcf442b",
   "metadata": {},
   "outputs": [
    {
     "name": "stderr",
     "output_type": "stream",
     "text": [
      "The limit of detection (LOD) is: 6\n",
      "\n"
     ]
    },
    {
     "data": {
      "image/png": "[encoded data removed]",
      "text/plain": [
       "plot without title"
      ]
     },
     "metadata": {
      "image/png": {
       "height": 420,
       "width": 420
      }
     },
     "output_type": "display_data"
    }
   ],
   "source": [
    "#creating bins from -1 to 10^10 using sequence function seq()\n",
    "bins <- c(-1,0,(1 * 10^(seq(0,10,1)))) \n",
    "\n",
    "#cut function cuts the give table into its appropriate bins\n",
    "scores_gapfilled <- cut(as.matrix(blk_rem),bins, labels = c('0','1',paste(\"1E\",1:10,sep=\"\")))\n",
    "\n",
    "#transform function convert the tables into a column format: easy for visualization\n",
    "FreqTable <- transform(table(scores_gapfilled)) #contains 2 columns: \"scores_x1\", \"Freq\"\n",
    "FreqTable$Log_Freq <- log(FreqTable$Freq+1) #Log scaling the frequency values\n",
    "colnames(FreqTable)[1] <- 'Range_Bins' #changing the 1st colname to 'Range Bins'\n",
    "\n",
    "## GGPLOT2\n",
    "ggplot(FreqTable, aes(x=Range_Bins, y=Log_Freq)) + \n",
    "    geom_bar(stat = \"identity\", position = \"dodge\", width=0.3) + \n",
    "    ggtitle(label = \"Frequency plot - Gap Filled\") +\n",
    "    xlab(\"Range\") + \n",
    "    ylab(\"(Log)Frequency\") + \n",
    "    theme(plot.title = element_text(hjust = 0.5))\n",
    "\n",
    "Cutoff_LOD <- round(min(blk_rem[blk_rem > 0]))\n",
    "message(paste0(\"The limit of detection (LOD) is: \",Cutoff_LOD)) "
   ]
  },
  {
   "cell_type": "code",
   "execution_count": 76,
   "id": "13f76f0b-a314-487d-be03-4382a3154154",
   "metadata": {},
   "outputs": [
    {
     "data": {
      "text/html": [
       "<style>\n",
       ".list-inline {list-style: none; margin:0; padding: 0}\n",
       ".list-inline>li {display: inline-block}\n",
       ".list-inline>li:not(:last-child)::after {content: \"\\00b7\"; padding: 0 .5ex}\n",
       "</style>\n",
       "<ol class=list-inline><li>5.2</li><li>1.2</li><li>1.7</li><li>1.4</li><li>0.9</li><li>0.8</li><li>3.5</li><li>5.5</li><li>5.4</li><li>1.4</li></ol>\n"
      ],
      "text/latex": [
       "\\begin{enumerate*}\n",
       "\\item 5.2\n",
       "\\item 1.2\n",
       "\\item 1.7\n",
       "\\item 1.4\n",
       "\\item 0.9\n",
       "\\item 0.8\n",
       "\\item 3.5\n",
       "\\item 5.5\n",
       "\\item 5.4\n",
       "\\item 1.4\n",
       "\\end{enumerate*}\n"
      ],
      "text/markdown": [
       "1. 5.2\n",
       "2. 1.2\n",
       "3. 1.7\n",
       "4. 1.4\n",
       "5. 0.9\n",
       "6. 0.8\n",
       "7. 3.5\n",
       "8. 5.5\n",
       "9. 5.4\n",
       "10. 1.4\n",
       "\n",
       "\n"
      ],
      "text/plain": [
       " [1] 5.2 1.2 1.7 1.4 0.9 0.8 3.5 5.5 5.4 1.4"
      ]
     },
     "metadata": {},
     "output_type": "display_data"
    }
   ],
   "source": [
    "# Creating random variables (between 0 and Cutoff_LOD) to replace all zeros\n",
    "set.seed(141222) # by setting a seed, we generate the same set of random number all the time\n",
    "ran_val <-round(runif(length(blk_rem), 0, Cutoff_LOD), digits=1)\n",
    "ran_val[1:10]"
   ]
  },
  {
   "cell_type": "code",
   "execution_count": 78,
   "id": "d38a6add-5059-4ab2-bfb6-e6778ae47661",
   "metadata": {},
   "outputs": [
    {
     "data": {
      "text/html": [
       "<table class=\"dataframe\">\n",
       "<caption>A data.frame: 6 × 84</caption>\n",
       "<thead>\n",
       "\t<tr><th></th><th scope=col>bld_plt1_01_0_1.mzML</th><th scope=col>bld_plt1_01_120_1.mzML</th><th scope=col>bld_plt1_01_600_1.mzML</th><th scope=col>bld_plt1_01_720_1.mzML</th><th scope=col>bld_plt1_03_0_1.mzML</th><th scope=col>bld_plt1_03_480_1.mzML</th><th scope=col>bld_plt1_03_600_1.mzML</th><th scope=col>bld_plt1_04_240_1.mzML</th><th scope=col>bld_plt1_04_480_1.mzML</th><th scope=col>bld_plt1_04_600_1.mzML</th><th scope=col>...</th><th scope=col>skin_08_240_UB.mzML</th><th scope=col>skin_08_480_UB.mzML</th><th scope=col>skin_08_600_UB.mzML</th><th scope=col>skin_08_720_UB.mzML</th><th scope=col>skin_10_0_UB.mzML</th><th scope=col>skin_10_120_UB.mzML</th><th scope=col>skin_10_240_UB.mzML</th><th scope=col>skin_10_480_UB.mzML</th><th scope=col>skin_10_600_UB.mzML</th><th scope=col>skin_10_720_UB.mzML</th></tr>\n",
       "\t<tr><th></th><th scope=col>&lt;dbl&gt;</th><th scope=col>&lt;dbl&gt;</th><th scope=col>&lt;dbl&gt;</th><th scope=col>&lt;dbl&gt;</th><th scope=col>&lt;dbl&gt;</th><th scope=col>&lt;dbl&gt;</th><th scope=col>&lt;dbl&gt;</th><th scope=col>&lt;dbl&gt;</th><th scope=col>&lt;dbl&gt;</th><th scope=col>&lt;dbl&gt;</th><th scope=col>...</th><th scope=col>&lt;dbl&gt;</th><th scope=col>&lt;dbl&gt;</th><th scope=col>&lt;dbl&gt;</th><th scope=col>&lt;dbl&gt;</th><th scope=col>&lt;dbl&gt;</th><th scope=col>&lt;dbl&gt;</th><th scope=col>&lt;dbl&gt;</th><th scope=col>&lt;dbl&gt;</th><th scope=col>&lt;dbl&gt;</th><th scope=col>&lt;dbl&gt;</th></tr>\n",
       "</thead>\n",
       "<tbody>\n",
       "\t<tr><th scope=row>X9002_150.063_4.963</th><td> 3.10000</td><td> 3.50000</td><td>185.35068</td><td> 57.32955</td><td>   4.00000</td><td>   2.30000</td><td> 111.4226</td><td>  0.7000</td><td>  4.1000</td><td> 496.61798</td><td>...</td><td>963556.10</td><td>900854.300</td><td>866366.75</td><td>1015355.060</td><td>1442369.60</td><td>1360433.200</td><td>1315715.100</td><td>1142062.800</td><td>1215813.400</td><td>1320949.000</td></tr>\n",
       "\t<tr><th scope=row>X8808_150.596_4.822</th><td> 3.10000</td><td> 3.50000</td><td>  3.30000</td><td>  1.40000</td><td>   4.00000</td><td>   2.30000</td><td>   1.4000</td><td>  0.7000</td><td>  4.1000</td><td>   4.50000</td><td>...</td><td>     3.30</td><td>     3.900</td><td>     3.70</td><td>      3.000</td><td>  13985.54</td><td>   2072.857</td><td>   1364.211</td><td>   1253.273</td><td>   6596.773</td><td>   3297.581</td></tr>\n",
       "\t<tr><th scope=row>X4094_151.039_3.305</th><td> 3.10000</td><td> 3.50000</td><td>  3.30000</td><td>  1.40000</td><td>   4.00000</td><td>   2.30000</td><td>   1.4000</td><td>  0.7000</td><td>  4.1000</td><td>   4.50000</td><td>...</td><td> 13201.85</td><td> 12955.710</td><td> 18610.68</td><td>   5774.838</td><td>  18240.96</td><td>  14023.813</td><td>  13446.125</td><td>  17954.543</td><td>  18217.960</td><td>  22974.564</td></tr>\n",
       "\t<tr><th scope=row>X2584_151.039_2.783</th><td>36.13497</td><td>17.66232</td><td>  3.30000</td><td>  1.40000</td><td>  15.94072</td><td>  19.65039</td><td>   1.4000</td><td>  0.7000</td><td>  4.1000</td><td>   4.50000</td><td>...</td><td> 24133.29</td><td> 17694.852</td><td> 22098.75</td><td>  22315.691</td><td>  22034.44</td><td>  23521.568</td><td>  21772.814</td><td>  24635.717</td><td>  20636.242</td><td>  22654.271</td></tr>\n",
       "\t<tr><th scope=row>X5788_151.075_3.796</th><td>32.80677</td><td> 3.50000</td><td>308.23676</td><td>616.05220</td><td>2447.52440</td><td>2509.11250</td><td>3567.6426</td><td>975.3107</td><td>821.5182</td><td>1250.88050</td><td>...</td><td> 11755.28</td><td>  9617.317</td><td> 15605.13</td><td>   8434.861</td><td>  16707.12</td><td>  14635.979</td><td>  17395.395</td><td>  18458.530</td><td>  13516.992</td><td>  21439.904</td></tr>\n",
       "\t<tr><th scope=row>X5122_151.075_3.587</th><td> 3.10000</td><td> 3.50000</td><td> 31.21204</td><td>  1.40000</td><td>   4.00000</td><td>   2.30000</td><td>   1.4000</td><td>  0.7000</td><td>  4.1000</td><td>  17.06957</td><td>...</td><td> 15447.87</td><td> 10175.541</td><td> 15792.29</td><td>  13162.513</td><td>  19439.48</td><td>  16783.209</td><td>  17991.540</td><td>  20361.857</td><td>  16333.573</td><td>  17985.172</td></tr>\n",
       "</tbody>\n",
       "</table>\n"
      ],
      "text/latex": [
       "A data.frame: 6 × 84\n",
       "\\begin{tabular}{r|lllllllllllllllllllll}\n",
       "  & bld\\_plt1\\_01\\_0\\_1.mzML & bld\\_plt1\\_01\\_120\\_1.mzML & bld\\_plt1\\_01\\_600\\_1.mzML & bld\\_plt1\\_01\\_720\\_1.mzML & bld\\_plt1\\_03\\_0\\_1.mzML & bld\\_plt1\\_03\\_480\\_1.mzML & bld\\_plt1\\_03\\_600\\_1.mzML & bld\\_plt1\\_04\\_240\\_1.mzML & bld\\_plt1\\_04\\_480\\_1.mzML & bld\\_plt1\\_04\\_600\\_1.mzML & ... & skin\\_08\\_240\\_UB.mzML & skin\\_08\\_480\\_UB.mzML & skin\\_08\\_600\\_UB.mzML & skin\\_08\\_720\\_UB.mzML & skin\\_10\\_0\\_UB.mzML & skin\\_10\\_120\\_UB.mzML & skin\\_10\\_240\\_UB.mzML & skin\\_10\\_480\\_UB.mzML & skin\\_10\\_600\\_UB.mzML & skin\\_10\\_720\\_UB.mzML\\\\\n",
       "  & <dbl> & <dbl> & <dbl> & <dbl> & <dbl> & <dbl> & <dbl> & <dbl> & <dbl> & <dbl> & ... & <dbl> & <dbl> & <dbl> & <dbl> & <dbl> & <dbl> & <dbl> & <dbl> & <dbl> & <dbl>\\\\\n",
       "\\hline\n",
       "\tX9002\\_150.063\\_4.963 &  3.10000 &  3.50000 & 185.35068 &  57.32955 &    4.00000 &    2.30000 &  111.4226 &   0.7000 &   4.1000 &  496.61798 & ... & 963556.10 & 900854.300 & 866366.75 & 1015355.060 & 1442369.60 & 1360433.200 & 1315715.100 & 1142062.800 & 1215813.400 & 1320949.000\\\\\n",
       "\tX8808\\_150.596\\_4.822 &  3.10000 &  3.50000 &   3.30000 &   1.40000 &    4.00000 &    2.30000 &    1.4000 &   0.7000 &   4.1000 &    4.50000 & ... &      3.30 &      3.900 &      3.70 &       3.000 &   13985.54 &    2072.857 &    1364.211 &    1253.273 &    6596.773 &    3297.581\\\\\n",
       "\tX4094\\_151.039\\_3.305 &  3.10000 &  3.50000 &   3.30000 &   1.40000 &    4.00000 &    2.30000 &    1.4000 &   0.7000 &   4.1000 &    4.50000 & ... &  13201.85 &  12955.710 &  18610.68 &    5774.838 &   18240.96 &   14023.813 &   13446.125 &   17954.543 &   18217.960 &   22974.564\\\\\n",
       "\tX2584\\_151.039\\_2.783 & 36.13497 & 17.66232 &   3.30000 &   1.40000 &   15.94072 &   19.65039 &    1.4000 &   0.7000 &   4.1000 &    4.50000 & ... &  24133.29 &  17694.852 &  22098.75 &   22315.691 &   22034.44 &   23521.568 &   21772.814 &   24635.717 &   20636.242 &   22654.271\\\\\n",
       "\tX5788\\_151.075\\_3.796 & 32.80677 &  3.50000 & 308.23676 & 616.05220 & 2447.52440 & 2509.11250 & 3567.6426 & 975.3107 & 821.5182 & 1250.88050 & ... &  11755.28 &   9617.317 &  15605.13 &    8434.861 &   16707.12 &   14635.979 &   17395.395 &   18458.530 &   13516.992 &   21439.904\\\\\n",
       "\tX5122\\_151.075\\_3.587 &  3.10000 &  3.50000 &  31.21204 &   1.40000 &    4.00000 &    2.30000 &    1.4000 &   0.7000 &   4.1000 &   17.06957 & ... &  15447.87 &  10175.541 &  15792.29 &   13162.513 &   19439.48 &   16783.209 &   17991.540 &   20361.857 &   16333.573 &   17985.172\\\\\n",
       "\\end{tabular}\n"
      ],
      "text/markdown": [
       "\n",
       "A data.frame: 6 × 84\n",
       "\n",
       "| <!--/--> | bld_plt1_01_0_1.mzML &lt;dbl&gt; | bld_plt1_01_120_1.mzML &lt;dbl&gt; | bld_plt1_01_600_1.mzML &lt;dbl&gt; | bld_plt1_01_720_1.mzML &lt;dbl&gt; | bld_plt1_03_0_1.mzML &lt;dbl&gt; | bld_plt1_03_480_1.mzML &lt;dbl&gt; | bld_plt1_03_600_1.mzML &lt;dbl&gt; | bld_plt1_04_240_1.mzML &lt;dbl&gt; | bld_plt1_04_480_1.mzML &lt;dbl&gt; | bld_plt1_04_600_1.mzML &lt;dbl&gt; | ... ... | skin_08_240_UB.mzML &lt;dbl&gt; | skin_08_480_UB.mzML &lt;dbl&gt; | skin_08_600_UB.mzML &lt;dbl&gt; | skin_08_720_UB.mzML &lt;dbl&gt; | skin_10_0_UB.mzML &lt;dbl&gt; | skin_10_120_UB.mzML &lt;dbl&gt; | skin_10_240_UB.mzML &lt;dbl&gt; | skin_10_480_UB.mzML &lt;dbl&gt; | skin_10_600_UB.mzML &lt;dbl&gt; | skin_10_720_UB.mzML &lt;dbl&gt; |\n",
       "|---|---|---|---|---|---|---|---|---|---|---|---|---|---|---|---|---|---|---|---|---|---|\n",
       "| X9002_150.063_4.963 |  3.10000 |  3.50000 | 185.35068 |  57.32955 |    4.00000 |    2.30000 |  111.4226 |   0.7000 |   4.1000 |  496.61798 | ... | 963556.10 | 900854.300 | 866366.75 | 1015355.060 | 1442369.60 | 1360433.200 | 1315715.100 | 1142062.800 | 1215813.400 | 1320949.000 |\n",
       "| X8808_150.596_4.822 |  3.10000 |  3.50000 |   3.30000 |   1.40000 |    4.00000 |    2.30000 |    1.4000 |   0.7000 |   4.1000 |    4.50000 | ... |      3.30 |      3.900 |      3.70 |       3.000 |   13985.54 |    2072.857 |    1364.211 |    1253.273 |    6596.773 |    3297.581 |\n",
       "| X4094_151.039_3.305 |  3.10000 |  3.50000 |   3.30000 |   1.40000 |    4.00000 |    2.30000 |    1.4000 |   0.7000 |   4.1000 |    4.50000 | ... |  13201.85 |  12955.710 |  18610.68 |    5774.838 |   18240.96 |   14023.813 |   13446.125 |   17954.543 |   18217.960 |   22974.564 |\n",
       "| X2584_151.039_2.783 | 36.13497 | 17.66232 |   3.30000 |   1.40000 |   15.94072 |   19.65039 |    1.4000 |   0.7000 |   4.1000 |    4.50000 | ... |  24133.29 |  17694.852 |  22098.75 |   22315.691 |   22034.44 |   23521.568 |   21772.814 |   24635.717 |   20636.242 |   22654.271 |\n",
       "| X5788_151.075_3.796 | 32.80677 |  3.50000 | 308.23676 | 616.05220 | 2447.52440 | 2509.11250 | 3567.6426 | 975.3107 | 821.5182 | 1250.88050 | ... |  11755.28 |   9617.317 |  15605.13 |    8434.861 |   16707.12 |   14635.979 |   17395.395 |   18458.530 |   13516.992 |   21439.904 |\n",
       "| X5122_151.075_3.587 |  3.10000 |  3.50000 |  31.21204 |   1.40000 |    4.00000 |    2.30000 |    1.4000 |   0.7000 |   4.1000 |   17.06957 | ... |  15447.87 |  10175.541 |  15792.29 |   13162.513 |   19439.48 |   16783.209 |   17991.540 |   20361.857 |   16333.573 |   17985.172 |\n",
       "\n"
      ],
      "text/plain": [
       "                    bld_plt1_01_0_1.mzML bld_plt1_01_120_1.mzML\n",
       "X9002_150.063_4.963  3.10000              3.50000              \n",
       "X8808_150.596_4.822  3.10000              3.50000              \n",
       "X4094_151.039_3.305  3.10000              3.50000              \n",
       "X2584_151.039_2.783 36.13497             17.66232              \n",
       "X5788_151.075_3.796 32.80677              3.50000              \n",
       "X5122_151.075_3.587  3.10000              3.50000              \n",
       "                    bld_plt1_01_600_1.mzML bld_plt1_01_720_1.mzML\n",
       "X9002_150.063_4.963 185.35068               57.32955             \n",
       "X8808_150.596_4.822   3.30000                1.40000             \n",
       "X4094_151.039_3.305   3.30000                1.40000             \n",
       "X2584_151.039_2.783   3.30000                1.40000             \n",
       "X5788_151.075_3.796 308.23676              616.05220             \n",
       "X5122_151.075_3.587  31.21204                1.40000             \n",
       "                    bld_plt1_03_0_1.mzML bld_plt1_03_480_1.mzML\n",
       "X9002_150.063_4.963    4.00000              2.30000            \n",
       "X8808_150.596_4.822    4.00000              2.30000            \n",
       "X4094_151.039_3.305    4.00000              2.30000            \n",
       "X2584_151.039_2.783   15.94072             19.65039            \n",
       "X5788_151.075_3.796 2447.52440           2509.11250            \n",
       "X5122_151.075_3.587    4.00000              2.30000            \n",
       "                    bld_plt1_03_600_1.mzML bld_plt1_04_240_1.mzML\n",
       "X9002_150.063_4.963  111.4226                0.7000              \n",
       "X8808_150.596_4.822    1.4000                0.7000              \n",
       "X4094_151.039_3.305    1.4000                0.7000              \n",
       "X2584_151.039_2.783    1.4000                0.7000              \n",
       "X5788_151.075_3.796 3567.6426              975.3107              \n",
       "X5122_151.075_3.587    1.4000                0.7000              \n",
       "                    bld_plt1_04_480_1.mzML bld_plt1_04_600_1.mzML ...\n",
       "X9002_150.063_4.963   4.1000                496.61798             ...\n",
       "X8808_150.596_4.822   4.1000                  4.50000             ...\n",
       "X4094_151.039_3.305   4.1000                  4.50000             ...\n",
       "X2584_151.039_2.783   4.1000                  4.50000             ...\n",
       "X5788_151.075_3.796 821.5182               1250.88050             ...\n",
       "X5122_151.075_3.587   4.1000                 17.06957             ...\n",
       "                    skin_08_240_UB.mzML skin_08_480_UB.mzML skin_08_600_UB.mzML\n",
       "X9002_150.063_4.963 963556.10           900854.300          866366.75          \n",
       "X8808_150.596_4.822      3.30                3.900               3.70          \n",
       "X4094_151.039_3.305  13201.85            12955.710           18610.68          \n",
       "X2584_151.039_2.783  24133.29            17694.852           22098.75          \n",
       "X5788_151.075_3.796  11755.28             9617.317           15605.13          \n",
       "X5122_151.075_3.587  15447.87            10175.541           15792.29          \n",
       "                    skin_08_720_UB.mzML skin_10_0_UB.mzML skin_10_120_UB.mzML\n",
       "X9002_150.063_4.963 1015355.060         1442369.60        1360433.200        \n",
       "X8808_150.596_4.822       3.000           13985.54           2072.857        \n",
       "X4094_151.039_3.305    5774.838           18240.96          14023.813        \n",
       "X2584_151.039_2.783   22315.691           22034.44          23521.568        \n",
       "X5788_151.075_3.796    8434.861           16707.12          14635.979        \n",
       "X5122_151.075_3.587   13162.513           19439.48          16783.209        \n",
       "                    skin_10_240_UB.mzML skin_10_480_UB.mzML skin_10_600_UB.mzML\n",
       "X9002_150.063_4.963 1315715.100         1142062.800         1215813.400        \n",
       "X8808_150.596_4.822    1364.211            1253.273            6596.773        \n",
       "X4094_151.039_3.305   13446.125           17954.543           18217.960        \n",
       "X2584_151.039_2.783   21772.814           24635.717           20636.242        \n",
       "X5788_151.075_3.796   17395.395           18458.530           13516.992        \n",
       "X5122_151.075_3.587   17991.540           20361.857           16333.573        \n",
       "                    skin_10_720_UB.mzML\n",
       "X9002_150.063_4.963 1320949.000        \n",
       "X8808_150.596_4.822    3297.581        \n",
       "X4094_151.039_3.305   22974.564        \n",
       "X2584_151.039_2.783   22654.271        \n",
       "X5788_151.075_3.796   21439.904        \n",
       "X5122_151.075_3.587   17985.172        "
      ]
     },
     "metadata": {},
     "output_type": "display_data"
    }
   ],
   "source": [
    "imp <- blk_rem  %>% mutate(across(everything(),\n",
    "                                  ~replace(., . == 0 , # here '.' represents the dataframe 'blk_rem'\n",
    "                                           sample(ran_val, size=1)))) # sample function pick one random sample from 'ran_val'\n",
    "head(imp)"
   ]
  },
  {
   "cell_type": "code",
   "execution_count": 79,
   "id": "b8f2779e-b036-438f-9851-2810bff394ee",
   "metadata": {},
   "outputs": [
    {
     "data": {
      "text/html": [
       "0"
      ],
      "text/latex": [
       "0"
      ],
      "text/markdown": [
       "0"
      ],
      "text/plain": [
       "[1] 0"
      ]
     },
     "metadata": {},
     "output_type": "display_data"
    }
   ],
   "source": [
    "sum(imp==0) # checking if there are any zeros in our imputed table "
   ]
  },
  {
   "cell_type": "code",
   "execution_count": 85,
   "id": "07d848d4-40d2-4aff-ae50-8a27d491c77b",
   "metadata": {},
   "outputs": [],
   "source": [
    "write.csv(imp, paste0(fName, '/', Date, '_Imputed_QuantTable.csv'), row.names =TRUE)"
   ]
  },
  {
   "cell_type": "markdown",
   "id": "53501240-fffb-4321-889e-818b534f3cd3",
   "metadata": {},
   "source": [
    "### 4. Normalization"
   ]
  },
  {
   "cell_type": "markdown",
   "id": "92c8e396-43b7-4931-b060-79e002d102b6",
   "metadata": {},
   "source": [
    "Normalization is performed to compensate for differences in total metabolite concentrations among samples (Y. Wu & Li,2016). Many normalization techniques can also correct the batch effects, such as those caused by sample pipetting or extraction. Here, we perform Probabilistic Quotient Normalization or PQN."
   ]
  },
  {
   "cell_type": "markdown",
   "id": "fcfe01d0-3264-4283-984b-dfb84dcf5b40",
   "metadata": {},
   "source": [
    "PQN is a statistical method that aims to correct for technical variability in MS-based metabolomics data. The goal of PQN is to adjust for systematic variation between samples while preserving the relative differences in metabolite levels between samples.\n",
    "\n",
    "PQN involves a four-step process:\n",
    "\n",
    "1) TIC normalization: Each spectrum is divided by its TIC to adjust for differences in the total signal intensity between samples.\n",
    "2) Control spectrum calculation: A control spectrum representing the typical profile of metabolite levels across all samplesis calculated. This can be a median spectrum from all samples.\n",
    "3) Quotient calculation: For each metabolite feature, the ratio (quotient) of the TIC-normalized intensity of the sample to the control spectrum is calculated.\n",
    "4) Median normalization: The final normalized value for each feature is the median of all the quotients calculated in step 3.\n",
    "\n",
    "By using the median of the quotients, PQN reduces the impact of any individual features with extremely high or low values that might skew the normalization."
   ]
  },
  {
   "cell_type": "code",
   "execution_count": 86,
   "id": "c1ca0679-a764-4338-89da-2e663d4e8d3d",
   "metadata": {},
   "outputs": [
    {
     "data": {
      "text/html": [
       "<table class=\"dataframe\">\n",
       "<caption>A matrix: 3 × 5763 of type dbl</caption>\n",
       "<thead>\n",
       "\t<tr><th></th><th scope=col>X9002_150.063_4.963</th><th scope=col>X8808_150.596_4.822</th><th scope=col>X4094_151.039_3.305</th><th scope=col>X2584_151.039_2.783</th><th scope=col>X5788_151.075_3.796</th><th scope=col>X5122_151.075_3.587</th><th scope=col>X598_151.075_1.534</th><th scope=col>X1334_151.075_2.335</th><th scope=col>X649_151.075_1.623</th><th scope=col>X2884_151.075_2.864</th><th scope=col>...</th><th scope=col>X7262_1259.35_4.281</th><th scope=col>X7209_1259.493_4.282</th><th scope=col>X7274_1259.638_4.269</th><th scope=col>X14656_1280.974_7.835</th><th scope=col>X7238_1282.787_4.259</th><th scope=col>X14686_1310.987_8.01</th><th scope=col>X14690_1315.94_8.014</th><th scope=col>X14715_1369.027_8.219</th><th scope=col>X14730_1427.068_8.446</th><th scope=col>X7267_1469.075_4.282</th></tr>\n",
       "</thead>\n",
       "<tbody>\n",
       "\t<tr><th scope=row>bld_plt1_01_0_1.mzML</th><td>5.202691e-07</td><td>5.202691e-07</td><td>5.202691e-07</td><td>6.064488e-06</td><td>5.505919e-06</td><td>5.202691e-07</td><td>5.202691e-07</td><td>2.441964e-06</td><td>5.202691e-07</td><td>9.461514e-06</td><td>...</td><td>6.861824e-05</td><td>0.0001019863</td><td>0.0001466766</td><td>5.202691e-07</td><td>6.269410e-05</td><td>5.202691e-07</td><td>5.202691e-07</td><td>5.202691e-07</td><td>5.202691e-07</td><td>6.633758e-05</td></tr>\n",
       "\t<tr><th scope=row>bld_plt1_01_120_1.mzML</th><td>5.610802e-07</td><td>5.610802e-07</td><td>5.610802e-07</td><td>2.831422e-06</td><td>5.610802e-07</td><td>5.610802e-07</td><td>5.610802e-07</td><td>5.610802e-07</td><td>5.610802e-07</td><td>5.293242e-06</td><td>...</td><td>1.356957e-03</td><td>0.0017138172</td><td>0.0017372977</td><td>5.610802e-07</td><td>2.228052e-05</td><td>5.610802e-07</td><td>5.610802e-07</td><td>5.610802e-07</td><td>5.610802e-07</td><td>3.589409e-04</td></tr>\n",
       "\t<tr><th scope=row>bld_plt1_01_600_1.mzML</th><td>1.804776e-05</td><td>3.213240e-07</td><td>3.213240e-07</td><td>3.213240e-07</td><td>3.001329e-05</td><td>3.039145e-06</td><td>3.213240e-07</td><td>3.655999e-06</td><td>3.213240e-07</td><td>2.410069e-06</td><td>...</td><td>1.825729e-04</td><td>0.0000834872</td><td>0.0001671779</td><td>3.213240e-07</td><td>3.301126e-06</td><td>3.213240e-07</td><td>3.213240e-07</td><td>3.213240e-07</td><td>3.213240e-07</td><td>1.821116e-05</td></tr>\n",
       "</tbody>\n",
       "</table>\n"
      ],
      "text/latex": [
       "A matrix: 3 × 5763 of type dbl\n",
       "\\begin{tabular}{r|lllllllllllllllllllll}\n",
       "  & X9002\\_150.063\\_4.963 & X8808\\_150.596\\_4.822 & X4094\\_151.039\\_3.305 & X2584\\_151.039\\_2.783 & X5788\\_151.075\\_3.796 & X5122\\_151.075\\_3.587 & X598\\_151.075\\_1.534 & X1334\\_151.075\\_2.335 & X649\\_151.075\\_1.623 & X2884\\_151.075\\_2.864 & ... & X7262\\_1259.35\\_4.281 & X7209\\_1259.493\\_4.282 & X7274\\_1259.638\\_4.269 & X14656\\_1280.974\\_7.835 & X7238\\_1282.787\\_4.259 & X14686\\_1310.987\\_8.01 & X14690\\_1315.94\\_8.014 & X14715\\_1369.027\\_8.219 & X14730\\_1427.068\\_8.446 & X7267\\_1469.075\\_4.282\\\\\n",
       "\\hline\n",
       "\tbld\\_plt1\\_01\\_0\\_1.mzML & 5.202691e-07 & 5.202691e-07 & 5.202691e-07 & 6.064488e-06 & 5.505919e-06 & 5.202691e-07 & 5.202691e-07 & 2.441964e-06 & 5.202691e-07 & 9.461514e-06 & ... & 6.861824e-05 & 0.0001019863 & 0.0001466766 & 5.202691e-07 & 6.269410e-05 & 5.202691e-07 & 5.202691e-07 & 5.202691e-07 & 5.202691e-07 & 6.633758e-05\\\\\n",
       "\tbld\\_plt1\\_01\\_120\\_1.mzML & 5.610802e-07 & 5.610802e-07 & 5.610802e-07 & 2.831422e-06 & 5.610802e-07 & 5.610802e-07 & 5.610802e-07 & 5.610802e-07 & 5.610802e-07 & 5.293242e-06 & ... & 1.356957e-03 & 0.0017138172 & 0.0017372977 & 5.610802e-07 & 2.228052e-05 & 5.610802e-07 & 5.610802e-07 & 5.610802e-07 & 5.610802e-07 & 3.589409e-04\\\\\n",
       "\tbld\\_plt1\\_01\\_600\\_1.mzML & 1.804776e-05 & 3.213240e-07 & 3.213240e-07 & 3.213240e-07 & 3.001329e-05 & 3.039145e-06 & 3.213240e-07 & 3.655999e-06 & 3.213240e-07 & 2.410069e-06 & ... & 1.825729e-04 & 0.0000834872 & 0.0001671779 & 3.213240e-07 & 3.301126e-06 & 3.213240e-07 & 3.213240e-07 & 3.213240e-07 & 3.213240e-07 & 1.821116e-05\\\\\n",
       "\\end{tabular}\n"
      ],
      "text/markdown": [
       "\n",
       "A matrix: 3 × 5763 of type dbl\n",
       "\n",
       "| <!--/--> | X9002_150.063_4.963 | X8808_150.596_4.822 | X4094_151.039_3.305 | X2584_151.039_2.783 | X5788_151.075_3.796 | X5122_151.075_3.587 | X598_151.075_1.534 | X1334_151.075_2.335 | X649_151.075_1.623 | X2884_151.075_2.864 | ... | X7262_1259.35_4.281 | X7209_1259.493_4.282 | X7274_1259.638_4.269 | X14656_1280.974_7.835 | X7238_1282.787_4.259 | X14686_1310.987_8.01 | X14690_1315.94_8.014 | X14715_1369.027_8.219 | X14730_1427.068_8.446 | X7267_1469.075_4.282 |\n",
       "|---|---|---|---|---|---|---|---|---|---|---|---|---|---|---|---|---|---|---|---|---|---|\n",
       "| bld_plt1_01_0_1.mzML | 5.202691e-07 | 5.202691e-07 | 5.202691e-07 | 6.064488e-06 | 5.505919e-06 | 5.202691e-07 | 5.202691e-07 | 2.441964e-06 | 5.202691e-07 | 9.461514e-06 | ... | 6.861824e-05 | 0.0001019863 | 0.0001466766 | 5.202691e-07 | 6.269410e-05 | 5.202691e-07 | 5.202691e-07 | 5.202691e-07 | 5.202691e-07 | 6.633758e-05 |\n",
       "| bld_plt1_01_120_1.mzML | 5.610802e-07 | 5.610802e-07 | 5.610802e-07 | 2.831422e-06 | 5.610802e-07 | 5.610802e-07 | 5.610802e-07 | 5.610802e-07 | 5.610802e-07 | 5.293242e-06 | ... | 1.356957e-03 | 0.0017138172 | 0.0017372977 | 5.610802e-07 | 2.228052e-05 | 5.610802e-07 | 5.610802e-07 | 5.610802e-07 | 5.610802e-07 | 3.589409e-04 |\n",
       "| bld_plt1_01_600_1.mzML | 1.804776e-05 | 3.213240e-07 | 3.213240e-07 | 3.213240e-07 | 3.001329e-05 | 3.039145e-06 | 3.213240e-07 | 3.655999e-06 | 3.213240e-07 | 2.410069e-06 | ... | 1.825729e-04 | 0.0000834872 | 0.0001671779 | 3.213240e-07 | 3.301126e-06 | 3.213240e-07 | 3.213240e-07 | 3.213240e-07 | 3.213240e-07 | 1.821116e-05 |\n",
       "\n"
      ],
      "text/plain": [
       "                       X9002_150.063_4.963 X8808_150.596_4.822\n",
       "bld_plt1_01_0_1.mzML   5.202691e-07        5.202691e-07       \n",
       "bld_plt1_01_120_1.mzML 5.610802e-07        5.610802e-07       \n",
       "bld_plt1_01_600_1.mzML 1.804776e-05        3.213240e-07       \n",
       "                       X4094_151.039_3.305 X2584_151.039_2.783\n",
       "bld_plt1_01_0_1.mzML   5.202691e-07        6.064488e-06       \n",
       "bld_plt1_01_120_1.mzML 5.610802e-07        2.831422e-06       \n",
       "bld_plt1_01_600_1.mzML 3.213240e-07        3.213240e-07       \n",
       "                       X5788_151.075_3.796 X5122_151.075_3.587\n",
       "bld_plt1_01_0_1.mzML   5.505919e-06        5.202691e-07       \n",
       "bld_plt1_01_120_1.mzML 5.610802e-07        5.610802e-07       \n",
       "bld_plt1_01_600_1.mzML 3.001329e-05        3.039145e-06       \n",
       "                       X598_151.075_1.534 X1334_151.075_2.335\n",
       "bld_plt1_01_0_1.mzML   5.202691e-07       2.441964e-06       \n",
       "bld_plt1_01_120_1.mzML 5.610802e-07       5.610802e-07       \n",
       "bld_plt1_01_600_1.mzML 3.213240e-07       3.655999e-06       \n",
       "                       X649_151.075_1.623 X2884_151.075_2.864 ...\n",
       "bld_plt1_01_0_1.mzML   5.202691e-07       9.461514e-06        ...\n",
       "bld_plt1_01_120_1.mzML 5.610802e-07       5.293242e-06        ...\n",
       "bld_plt1_01_600_1.mzML 3.213240e-07       2.410069e-06        ...\n",
       "                       X7262_1259.35_4.281 X7209_1259.493_4.282\n",
       "bld_plt1_01_0_1.mzML   6.861824e-05        0.0001019863        \n",
       "bld_plt1_01_120_1.mzML 1.356957e-03        0.0017138172        \n",
       "bld_plt1_01_600_1.mzML 1.825729e-04        0.0000834872        \n",
       "                       X7274_1259.638_4.269 X14656_1280.974_7.835\n",
       "bld_plt1_01_0_1.mzML   0.0001466766         5.202691e-07         \n",
       "bld_plt1_01_120_1.mzML 0.0017372977         5.610802e-07         \n",
       "bld_plt1_01_600_1.mzML 0.0001671779         3.213240e-07         \n",
       "                       X7238_1282.787_4.259 X14686_1310.987_8.01\n",
       "bld_plt1_01_0_1.mzML   6.269410e-05         5.202691e-07        \n",
       "bld_plt1_01_120_1.mzML 2.228052e-05         5.610802e-07        \n",
       "bld_plt1_01_600_1.mzML 3.301126e-06         3.213240e-07        \n",
       "                       X14690_1315.94_8.014 X14715_1369.027_8.219\n",
       "bld_plt1_01_0_1.mzML   5.202691e-07         5.202691e-07         \n",
       "bld_plt1_01_120_1.mzML 5.610802e-07         5.610802e-07         \n",
       "bld_plt1_01_600_1.mzML 3.213240e-07         3.213240e-07         \n",
       "                       X14730_1427.068_8.446 X7267_1469.075_4.282\n",
       "bld_plt1_01_0_1.mzML   5.202691e-07          6.633758e-05        \n",
       "bld_plt1_01_120_1.mzML 5.610802e-07          3.589409e-04        \n",
       "bld_plt1_01_600_1.mzML 3.213240e-07          1.821116e-05        "
      ]
     },
     "metadata": {},
     "output_type": "display_data"
    },
    {
     "data": {
      "text/html": [
       "<style>\n",
       ".list-inline {list-style: none; margin:0; padding: 0}\n",
       ".list-inline>li {display: inline-block}\n",
       ".list-inline>li:not(:last-child)::after {content: \"\\00b7\"; padding: 0 .5ex}\n",
       "</style>\n",
       "<ol class=list-inline><li>84</li><li>5763</li></ol>\n"
      ],
      "text/latex": [
       "\\begin{enumerate*}\n",
       "\\item 84\n",
       "\\item 5763\n",
       "\\end{enumerate*}\n"
      ],
      "text/markdown": [
       "1. 84\n",
       "2. 5763\n",
       "\n",
       "\n"
      ],
      "text/plain": [
       "[1]   84 5763"
      ]
     },
     "metadata": {},
     "output_type": "display_data"
    },
    {
     "name": "stdout",
     "output_type": "stream",
     "text": [
      "[1] \"No.of NA values in Normalized data: 0\"\n"
     ]
    }
   ],
   "source": [
    "norm_pqn <- normalization(t(imp), \n",
    "                            method = \"pqn\")$newXtrain\n",
    "head(norm_pqn,n=3)\n",
    "dim(norm_pqn)\n",
    "print(paste('No.of NA values in Normalized data:',sum(is.na(norm_pqn)== T)))"
   ]
  },
  {
   "cell_type": "code",
   "execution_count": 90,
   "id": "dc9a789c-bcf3-4210-a91d-9c36ebf60846",
   "metadata": {},
   "outputs": [],
   "source": [
    "write.csv(norm_pqn, paste0(fName, '/', Date, '_imputed_PQN_Normalised_table.csv'), row.names =TRUE)"
   ]
  },
  {
   "cell_type": "markdown",
   "id": "2d800050-9a86-4407-a148-e44c66946908",
   "metadata": {},
   "source": [
    "### 5. Scaling"
   ]
  },
  {
   "cell_type": "markdown",
   "id": "879f4374-6e3f-4308-bf6b-afefa038cbfd",
   "metadata": {},
   "source": [
    "One can also perform center-scaling after imputation. Scaling is typically done to make sure that the data is centered around 0 and has a consistent spread to adjust for differences in offset between high and low-abundant metabolites, thus leaving only relevant variation for analysis. "
   ]
  },
  {
   "cell_type": "code",
   "execution_count": 88,
   "id": "428c6dd9-3a91-42d7-8f59-b36cb3443caf",
   "metadata": {},
   "outputs": [
    {
     "data": {
      "text/html": [
       "TRUE"
      ],
      "text/latex": [
       "TRUE"
      ],
      "text/markdown": [
       "TRUE"
      ],
      "text/plain": [
       "[1] TRUE"
      ]
     },
     "metadata": {},
     "output_type": "display_data"
    }
   ],
   "source": [
    "#transposing the imputed table\n",
    "Imp_t <- as.data.frame(t(imp)) \n",
    "\n",
    "# ordering the rows in the Imp_t table according to the order of fiilenames column of md_Samples\n",
    "Imp_t <- Imp_t[match(md_Samples$filename,rownames(Imp_t)),] \n",
    "\n",
    "identical(rownames(Imp_t),md_Samples$filename) #should return TRUE"
   ]
  },
  {
   "cell_type": "markdown",
   "id": "6d6051b3-3f86-4df1-9b13-0a25ce25399b",
   "metadata": {},
   "source": [
    "When <b>center = TRUE</b>, then centering is done by subtracting the column means (omitting NAs) of x from their corresponding columns. No centering is done for <b>center=FALSE</b>.\n",
    "\n",
    "* If scale = TRUE, center=TRUE,  then scaling is performed by dividing the centered columns of x by their standard deviations.\n",
    "* If scale = TRUE, center=FALSE, then scaling is performed by dividing the columns of x by their root mean squares\n",
    "* If scale is FALSE, no scaling is done."
   ]
  },
  {
   "cell_type": "code",
   "execution_count": 89,
   "id": "136a5111-35f5-4dca-a784-4a8c5eb60e90",
   "metadata": {},
   "outputs": [
    {
     "data": {
      "text/html": [
       "<table class=\"dataframe\">\n",
       "<caption>A matrix: 2 × 5763 of type dbl</caption>\n",
       "<thead>\n",
       "\t<tr><th></th><th scope=col>X9002_150.063_4.963</th><th scope=col>X8808_150.596_4.822</th><th scope=col>X4094_151.039_3.305</th><th scope=col>X2584_151.039_2.783</th><th scope=col>X5788_151.075_3.796</th><th scope=col>X5122_151.075_3.587</th><th scope=col>X598_151.075_1.534</th><th scope=col>X1334_151.075_2.335</th><th scope=col>X649_151.075_1.623</th><th scope=col>X2884_151.075_2.864</th><th scope=col>...</th><th scope=col>X7262_1259.35_4.281</th><th scope=col>X7209_1259.493_4.282</th><th scope=col>X7274_1259.638_4.269</th><th scope=col>X14656_1280.974_7.835</th><th scope=col>X7238_1282.787_4.259</th><th scope=col>X14686_1310.987_8.01</th><th scope=col>X14690_1315.94_8.014</th><th scope=col>X14715_1369.027_8.219</th><th scope=col>X14730_1427.068_8.446</th><th scope=col>X7267_1469.075_4.282</th></tr>\n",
       "</thead>\n",
       "<tbody>\n",
       "\t<tr><th scope=row>bld_plt1_01_0_1.mzML</th><td>-0.8662288</td><td>-0.1964150</td><td>-0.8830656</td><td>-0.9477491</td><td>-0.9475769</td><td>-0.8826282</td><td>-0.7154459</td><td>-0.9454622</td><td>-0.6374947</td><td>-0.8869060</td><td>...</td><td>-0.3324026</td><td>-0.3032855</td><td>-0.2626620</td><td>-0.1698731</td><td> 0.06913859</td><td>-0.2345598</td><td>-0.1871390</td><td>-0.1944025</td><td>-0.1753919</td><td>-0.1349869</td></tr>\n",
       "\t<tr><th scope=row>bld_plt1_01_120_1.mzML</th><td>-0.8662284</td><td>-0.1961836</td><td>-0.8830274</td><td>-0.9491319</td><td>-0.9522178</td><td>-0.8825891</td><td>-0.7154291</td><td>-0.9457964</td><td>-0.6374418</td><td>-0.8875749</td><td>...</td><td> 0.6185785</td><td> 0.8158217</td><td> 0.7605818</td><td>-0.1697089</td><td>-0.11460985</td><td>-0.2345103</td><td>-0.1870444</td><td>-0.1943111</td><td>-0.1752287</td><td> 0.5973241</td></tr>\n",
       "</tbody>\n",
       "</table>\n"
      ],
      "text/latex": [
       "A matrix: 2 × 5763 of type dbl\n",
       "\\begin{tabular}{r|lllllllllllllllllllll}\n",
       "  & X9002\\_150.063\\_4.963 & X8808\\_150.596\\_4.822 & X4094\\_151.039\\_3.305 & X2584\\_151.039\\_2.783 & X5788\\_151.075\\_3.796 & X5122\\_151.075\\_3.587 & X598\\_151.075\\_1.534 & X1334\\_151.075\\_2.335 & X649\\_151.075\\_1.623 & X2884\\_151.075\\_2.864 & ... & X7262\\_1259.35\\_4.281 & X7209\\_1259.493\\_4.282 & X7274\\_1259.638\\_4.269 & X14656\\_1280.974\\_7.835 & X7238\\_1282.787\\_4.259 & X14686\\_1310.987\\_8.01 & X14690\\_1315.94\\_8.014 & X14715\\_1369.027\\_8.219 & X14730\\_1427.068\\_8.446 & X7267\\_1469.075\\_4.282\\\\\n",
       "\\hline\n",
       "\tbld\\_plt1\\_01\\_0\\_1.mzML & -0.8662288 & -0.1964150 & -0.8830656 & -0.9477491 & -0.9475769 & -0.8826282 & -0.7154459 & -0.9454622 & -0.6374947 & -0.8869060 & ... & -0.3324026 & -0.3032855 & -0.2626620 & -0.1698731 &  0.06913859 & -0.2345598 & -0.1871390 & -0.1944025 & -0.1753919 & -0.1349869\\\\\n",
       "\tbld\\_plt1\\_01\\_120\\_1.mzML & -0.8662284 & -0.1961836 & -0.8830274 & -0.9491319 & -0.9522178 & -0.8825891 & -0.7154291 & -0.9457964 & -0.6374418 & -0.8875749 & ... &  0.6185785 &  0.8158217 &  0.7605818 & -0.1697089 & -0.11460985 & -0.2345103 & -0.1870444 & -0.1943111 & -0.1752287 &  0.5973241\\\\\n",
       "\\end{tabular}\n"
      ],
      "text/markdown": [
       "\n",
       "A matrix: 2 × 5763 of type dbl\n",
       "\n",
       "| <!--/--> | X9002_150.063_4.963 | X8808_150.596_4.822 | X4094_151.039_3.305 | X2584_151.039_2.783 | X5788_151.075_3.796 | X5122_151.075_3.587 | X598_151.075_1.534 | X1334_151.075_2.335 | X649_151.075_1.623 | X2884_151.075_2.864 | ... | X7262_1259.35_4.281 | X7209_1259.493_4.282 | X7274_1259.638_4.269 | X14656_1280.974_7.835 | X7238_1282.787_4.259 | X14686_1310.987_8.01 | X14690_1315.94_8.014 | X14715_1369.027_8.219 | X14730_1427.068_8.446 | X7267_1469.075_4.282 |\n",
       "|---|---|---|---|---|---|---|---|---|---|---|---|---|---|---|---|---|---|---|---|---|---|\n",
       "| bld_plt1_01_0_1.mzML | -0.8662288 | -0.1964150 | -0.8830656 | -0.9477491 | -0.9475769 | -0.8826282 | -0.7154459 | -0.9454622 | -0.6374947 | -0.8869060 | ... | -0.3324026 | -0.3032855 | -0.2626620 | -0.1698731 |  0.06913859 | -0.2345598 | -0.1871390 | -0.1944025 | -0.1753919 | -0.1349869 |\n",
       "| bld_plt1_01_120_1.mzML | -0.8662284 | -0.1961836 | -0.8830274 | -0.9491319 | -0.9522178 | -0.8825891 | -0.7154291 | -0.9457964 | -0.6374418 | -0.8875749 | ... |  0.6185785 |  0.8158217 |  0.7605818 | -0.1697089 | -0.11460985 | -0.2345103 | -0.1870444 | -0.1943111 | -0.1752287 |  0.5973241 |\n",
       "\n"
      ],
      "text/plain": [
       "                       X9002_150.063_4.963 X8808_150.596_4.822\n",
       "bld_plt1_01_0_1.mzML   -0.8662288          -0.1964150         \n",
       "bld_plt1_01_120_1.mzML -0.8662284          -0.1961836         \n",
       "                       X4094_151.039_3.305 X2584_151.039_2.783\n",
       "bld_plt1_01_0_1.mzML   -0.8830656          -0.9477491         \n",
       "bld_plt1_01_120_1.mzML -0.8830274          -0.9491319         \n",
       "                       X5788_151.075_3.796 X5122_151.075_3.587\n",
       "bld_plt1_01_0_1.mzML   -0.9475769          -0.8826282         \n",
       "bld_plt1_01_120_1.mzML -0.9522178          -0.8825891         \n",
       "                       X598_151.075_1.534 X1334_151.075_2.335\n",
       "bld_plt1_01_0_1.mzML   -0.7154459         -0.9454622         \n",
       "bld_plt1_01_120_1.mzML -0.7154291         -0.9457964         \n",
       "                       X649_151.075_1.623 X2884_151.075_2.864 ...\n",
       "bld_plt1_01_0_1.mzML   -0.6374947         -0.8869060          ...\n",
       "bld_plt1_01_120_1.mzML -0.6374418         -0.8875749          ...\n",
       "                       X7262_1259.35_4.281 X7209_1259.493_4.282\n",
       "bld_plt1_01_0_1.mzML   -0.3324026          -0.3032855          \n",
       "bld_plt1_01_120_1.mzML  0.6185785           0.8158217          \n",
       "                       X7274_1259.638_4.269 X14656_1280.974_7.835\n",
       "bld_plt1_01_0_1.mzML   -0.2626620           -0.1698731           \n",
       "bld_plt1_01_120_1.mzML  0.7605818           -0.1697089           \n",
       "                       X7238_1282.787_4.259 X14686_1310.987_8.01\n",
       "bld_plt1_01_0_1.mzML    0.06913859          -0.2345598          \n",
       "bld_plt1_01_120_1.mzML -0.11460985          -0.2345103          \n",
       "                       X14690_1315.94_8.014 X14715_1369.027_8.219\n",
       "bld_plt1_01_0_1.mzML   -0.1871390           -0.1944025           \n",
       "bld_plt1_01_120_1.mzML -0.1870444           -0.1943111           \n",
       "                       X14730_1427.068_8.446 X7267_1469.075_4.282\n",
       "bld_plt1_01_0_1.mzML   -0.1753919            -0.1349869          \n",
       "bld_plt1_01_120_1.mzML -0.1752287             0.5973241          "
      ]
     },
     "metadata": {},
     "output_type": "display_data"
    }
   ],
   "source": [
    "Imp_s <- scale(Imp_t, center = T, scale = T) # center and scale data\n",
    "head(Imp_s, n=2)"
   ]
  },
  {
   "cell_type": "code",
   "execution_count": 91,
   "id": "637e569b-4a21-4785-9724-d625f15b0bf4",
   "metadata": {},
   "outputs": [],
   "source": [
    "write.csv(Imp_s, paste0(fName, '/', Date, '_imputed_scaled_table.csv'), row.names =TRUE)"
   ]
  },
  {
   "cell_type": "code",
   "execution_count": 92,
   "id": "fc5ec14f-651a-4688-8c7a-145f1ea88b90",
   "metadata": {},
   "outputs": [
    {
     "data": {
      "text/plain": [
       "R version 4.1.3 (2022-03-10)\n",
       "Platform: x86_64-w64-mingw32/x64 (64-bit)\n",
       "Running under: Windows 10 x64 (build 22621)\n",
       "\n",
       "Matrix products: default\n",
       "\n",
       "locale:\n",
       "[1] LC_COLLATE=English_United Kingdom.1252 \n",
       "[2] LC_CTYPE=English_United Kingdom.1252   \n",
       "[3] LC_MONETARY=English_United Kingdom.1252\n",
       "[4] LC_NUMERIC=C                           \n",
       "[5] LC_TIME=English_United Kingdom.1252    \n",
       "\n",
       "attached base packages:\n",
       "[1] stats     graphics  grDevices utils     datasets  methods   base     \n",
       "\n",
       "other attached packages:\n",
       " [1] vegan_2.6-4      lattice_0.20-45  permute_0.9-7    KODAMA_2.4      \n",
       " [5] umap_0.2.10.0    Rtsne_0.16       minerva_1.5.10   factoextra_1.0.7\n",
       " [9] lubridate_1.9.2  forcats_1.0.0    stringr_1.5.0    dplyr_1.1.0     \n",
       "[13] purrr_1.0.1      readr_2.1.4      tidyr_1.3.0      tibble_3.2.1    \n",
       "[17] ggplot2_3.4.1    tidyverse_2.0.0 \n",
       "\n",
       "loaded via a namespace (and not attached):\n",
       " [1] ggrepel_0.9.3    Rcpp_1.0.10      png_0.1-8        digest_0.6.31   \n",
       " [5] utf8_1.2.3       RSpectra_0.16-1  IRdisplay_1.1    R6_2.5.1        \n",
       " [9] repr_1.1.6       evaluate_0.21    pillar_1.9.0     rlang_1.1.0     \n",
       "[13] uuid_1.1-0       Matrix_1.5-4     reticulate_1.28  labeling_0.4.2  \n",
       "[17] splines_4.1.3    munsell_0.5.0    compiler_4.1.3   pkgconfig_2.0.3 \n",
       "[21] askpass_1.1      base64enc_0.1-3  mgcv_1.8-42      htmltools_0.5.5 \n",
       "[25] openssl_2.0.6    tidyselect_1.2.0 fansi_1.0.4      crayon_1.5.2    \n",
       "[29] tzdb_0.3.0       withr_2.5.0      MASS_7.3-58.3    grid_4.1.3      \n",
       "[33] nlme_3.1-162     jsonlite_1.8.4   gtable_0.3.3     lifecycle_1.0.3 \n",
       "[37] magrittr_2.0.3   scales_1.2.1     cli_3.6.1        stringi_1.7.12  \n",
       "[41] farver_2.1.1     generics_0.1.3   vctrs_0.6.1      IRkernel_1.3.2  \n",
       "[45] tools_4.1.3      glue_1.6.2       hms_1.1.3        parallel_4.1.3  \n",
       "[49] fastmap_1.1.1    timechange_0.2.0 colorspace_2.1-0 cluster_2.1.4   \n",
       "[53] pbdZMQ_0.3-9    "
      ]
     },
     "metadata": {},
     "output_type": "display_data"
    }
   ],
   "source": [
    "sessionInfo()"
   ]
  },
  {
   "cell_type": "code",
   "execution_count": null,
   "id": "67eed5b8-3672-43e9-84f8-df513340d92a",
   "metadata": {},
   "outputs": [],
   "source": []
  }
 ],
 "metadata": {
  "kernelspec": {
   "display_name": "R",
   "language": "R",
   "name": "ir"
  },
  "language_info": {
   "codemirror_mode": "r",
   "file_extension": ".r",
   "mimetype": "text/x-r-source",
   "name": "R",
   "pygments_lexer": "r",
   "version": "4.1.3"
  }
 },
 "nbformat": 4,
 "nbformat_minor": 5
}
