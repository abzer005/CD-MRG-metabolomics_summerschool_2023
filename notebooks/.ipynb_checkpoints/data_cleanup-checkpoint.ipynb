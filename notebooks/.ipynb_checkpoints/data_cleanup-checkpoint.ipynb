{
 "cells": [
  {
   "cell_type": "markdown",
   "id": "c923b31a-6fc2-4b4d-8cc0-3abd2efa5a4a",
   "metadata": {},
   "source": [
    "# Data-Cleanup\n",
    "Author: Abzer Kelminal Pakkir Mohamed Shah <br>\n",
    "Last update: July 22, 2023<br>\n",
    "\n",
    "In this notebook we will perform some preliminay data cleanup such as: Remove the features from the blank samples, impute missing values and perform normalization and/or scaling on our data. <br>\n",
    "\n",
    "<b>Data</b> <br>\n",
    "\n",
    "Non-invasive drug monitoring is desirable as it improves patient experience. Instead of relying on invasive blood draws, drug pharmacokinetics and metabolism could, for example, be monitored through the skin. In this tutorial, we will be working with a subset of the data published by [Panitchpakdi and collaborators (2022)](https://journals.plos.org/plosone/article?id=10.1371/journal.pone.0271794). The datasets consists of plasma and skin swabs (forearm, forehead and upper back) collected from healthy volunteers (n=7) over the course of 24 hours, who have been administered the antihistaminic diphenhydramine. "
   ]
  },
  {
   "cell_type": "markdown",
   "id": "e97ff190-3218-46f8-92bc-5c15b60b4ba1",
   "metadata": {},
   "source": [
    "## Install libraries\n",
    "Install packages needed to perform the analyses:"
   ]
  },
  {
   "cell_type": "code",
   "execution_count": null,
   "id": "11c695ed-14f8-447d-b023-d331e371b818",
   "metadata": {},
   "outputs": [],
   "source": [
    "install.packages('tidyverse')\n",
    "install.packages('factoextra')\n",
    "install.packages('KODAMA')\n",
    "install.packages('vegan')"
   ]
  },
  {
   "cell_type": "markdown",
   "id": "bf81a847-d4da-4907-8214-a542a9e53a3d",
   "metadata": {},
   "source": [
    "Load the installed packages into the current R session:"
   ]
  },
  {
   "cell_type": "code",
   "execution_count": 1,
   "id": "1e811c59-37b1-49fd-a2f4-99333e71cba8",
   "metadata": {},
   "outputs": [
    {
     "name": "stderr",
     "output_type": "stream",
     "text": [
      "-- \u001b[1mAttaching core tidyverse packages\u001b[22m ------------------------ tidyverse 2.0.0 --\n",
      "\u001b[32mv\u001b[39m \u001b[34mdplyr    \u001b[39m 1.1.0     \u001b[32mv\u001b[39m \u001b[34mreadr    \u001b[39m 2.1.4\n",
      "\u001b[32mv\u001b[39m \u001b[34mforcats  \u001b[39m 1.0.0     \u001b[32mv\u001b[39m \u001b[34mstringr  \u001b[39m 1.5.0\n",
      "\u001b[32mv\u001b[39m \u001b[34mggplot2  \u001b[39m 3.4.2     \u001b[32mv\u001b[39m \u001b[34mtibble   \u001b[39m 3.2.1\n",
      "\u001b[32mv\u001b[39m \u001b[34mlubridate\u001b[39m 1.9.2     \u001b[32mv\u001b[39m \u001b[34mtidyr    \u001b[39m 1.3.0\n",
      "\u001b[32mv\u001b[39m \u001b[34mpurrr    \u001b[39m 1.0.1     \n",
      "-- \u001b[1mConflicts\u001b[22m ------------------------------------------ tidyverse_conflicts() --\n",
      "\u001b[31mx\u001b[39m \u001b[34mdplyr\u001b[39m::\u001b[32mfilter()\u001b[39m masks \u001b[34mstats\u001b[39m::filter()\n",
      "\u001b[31mx\u001b[39m \u001b[34mdplyr\u001b[39m::\u001b[32mlag()\u001b[39m    masks \u001b[34mstats\u001b[39m::lag()\n",
      "\u001b[36mi\u001b[39m Use the conflicted package (\u001b[3m\u001b[34m<http://conflicted.r-lib.org/>\u001b[39m\u001b[23m) to force all conflicts to become errors\n",
      "Welcome! Want to learn more? See two factoextra-related books at https://goo.gl/ve3WBa\n",
      "\n",
      "Loading required package: minerva\n",
      "\n",
      "Loading required package: Rtsne\n",
      "\n",
      "Loading required package: umap\n",
      "\n",
      "Loading required package: permute\n",
      "\n",
      "Loading required package: lattice\n",
      "\n",
      "This is vegan 2.6-4\n",
      "\n"
     ]
    }
   ],
   "source": [
    "library(tidyverse)\n",
    "library(factoextra)\n",
    "library(KODAMA)\n",
    "library(vegan)"
   ]
  },
  {
   "cell_type": "markdown",
   "id": "795395a2-c8bb-43e6-b12c-795bedb6a29e",
   "metadata": {},
   "source": [
    "## Read and arrange dataset\n",
    "\n",
    "We are reading the data from GitHUb. <font size=4 color='red'> Here, the urls of feature table are provided for Example dataset (the instructor team), Group 1 and Group 2. Run the url according to your assigned group. </font>"
   ]
  },
  {
   "cell_type": "code",
   "execution_count": 173,
   "id": "d589cf7e-0835-4b9d-8a1f-4ff6d348f0c9",
   "metadata": {},
   "outputs": [],
   "source": [
    "## feature table (Example Set)\n",
    "ft_url <- 'https://raw.githubusercontent.com/ssi-dk/CD-MRG-metabolomics_summerschool_2023/main/data/mzmine_output/Example/example_iimn_gnps_quant.csv'"
   ]
  },
  {
   "cell_type": "code",
   "execution_count": 80,
   "id": "5429bb8f-d257-4385-826a-a64c9460ed83",
   "metadata": {},
   "outputs": [],
   "source": [
    "## feature table (Group 1)\n",
    "ft_url <- 'https://raw.githubusercontent.com/ssi-dk/CD-MRG-metabolomics_summerschool_2023/main/data/mzmine_output/Group1/group1_iimn_gnps_quant.csv'"
   ]
  },
  {
   "cell_type": "code",
   "execution_count": 128,
   "id": "b2dec4d2-6724-492c-af91-490ccd9bc7e2",
   "metadata": {},
   "outputs": [],
   "source": [
    "## feature table (Group 2)\n",
    "ft_url <- 'https://raw.githubusercontent.com/ssi-dk/CD-MRG-metabolomics_summerschool_2023/main/data/mzmine_output/Group2/group2_iimn_gnps_quant.csv'"
   ]
  },
  {
   "cell_type": "code",
   "execution_count": 174,
   "id": "86e6656e-4c90-4265-8c45-9dfded9509ec",
   "metadata": {},
   "outputs": [],
   "source": [
    "## metadata\n",
    "md_url <- 'https://raw.githubusercontent.com/ssi-dk/CD-MRG-metabolomics_summerschool_2023/main/data/metadata/metadata.txt'"
   ]
  },
  {
   "cell_type": "code",
   "execution_count": 175,
   "id": "a1a333e0-1b7a-4549-a200-f9a4584b381a",
   "metadata": {},
   "outputs": [],
   "source": [
    "ft <- read.csv(ft_url, check.names=FALSE)\n",
    "md <- read.csv(md_url, sep=\"\\t\", check.names=FALSE)"
   ]
  },
  {
   "cell_type": "markdown",
   "id": "e6f30da8-49ca-4326-8c45-d2be10f30ea7",
   "metadata": {},
   "source": [
    "View the data:"
   ]
  },
  {
   "cell_type": "code",
   "execution_count": 176,
   "id": "977af3fc-af89-4b4b-a8f6-5a04847aa338",
   "metadata": {},
   "outputs": [
    {
     "data": {
      "text/html": [
       "<table class=\"dataframe\">\n",
       "<caption>A data.frame: 3 × 102</caption>\n",
       "<thead>\n",
       "\t<tr><th></th><th scope=col>row ID</th><th scope=col>row m/z</th><th scope=col>row retention time</th><th scope=col>row ion mobility</th><th scope=col>row ion mobility unit</th><th scope=col>row CCS</th><th scope=col>correlation group ID</th><th scope=col>annotation network number</th><th scope=col>best ion</th><th scope=col>auto MS2 verify</th><th scope=col>...</th><th scope=col>skin_08_480_UB.mzML Peak area</th><th scope=col>skin_08_0_UB.mzML Peak area</th><th scope=col>skin_08_720_UB.mzML Peak area</th><th scope=col>skin_10_720_UB.mzML Peak area</th><th scope=col>skin_08_120_UB.mzML Peak area</th><th scope=col>skin_03_120_UB.mzML Peak area</th><th scope=col>skin_03_240_UB.mzML Peak area</th><th scope=col>skin_03_0_UB.mzML Peak area</th><th scope=col>skin_08_600_UB.mzML Peak area</th><th scope=col></th></tr>\n",
       "\t<tr><th></th><th scope=col>&lt;int&gt;</th><th scope=col>&lt;dbl&gt;</th><th scope=col>&lt;dbl&gt;</th><th scope=col>&lt;lgl&gt;</th><th scope=col>&lt;lgl&gt;</th><th scope=col>&lt;lgl&gt;</th><th scope=col>&lt;int&gt;</th><th scope=col>&lt;int&gt;</th><th scope=col>&lt;chr&gt;</th><th scope=col>&lt;lgl&gt;</th><th scope=col>...</th><th scope=col>&lt;dbl&gt;</th><th scope=col>&lt;dbl&gt;</th><th scope=col>&lt;dbl&gt;</th><th scope=col>&lt;dbl&gt;</th><th scope=col>&lt;dbl&gt;</th><th scope=col>&lt;dbl&gt;</th><th scope=col>&lt;dbl&gt;</th><th scope=col>&lt;dbl&gt;</th><th scope=col>&lt;dbl&gt;</th><th scope=col>&lt;lgl&gt;</th></tr>\n",
       "</thead>\n",
       "<tbody>\n",
       "\t<tr><th scope=row>1</th><td>9002</td><td>150.0629</td><td>4.962805</td><td>NA</td><td>NA</td><td>NA</td><td>20</td><td>144</td><td>[M+H]+</td><td>NA</td><td>...</td><td>900854.30</td><td>1083294.00</td><td>1015355.060</td><td>1320949.000</td><td>1210520.80</td><td>2636820.20</td><td>2352653.8</td><td>2145513.00</td><td>866366.75</td><td>NA</td></tr>\n",
       "\t<tr><th scope=row>2</th><td>8808</td><td>150.5959</td><td>4.821733</td><td>NA</td><td>NA</td><td>NA</td><td>NA</td><td> NA</td><td>      </td><td>NA</td><td>...</td><td>     0.00</td><td>      0.00</td><td>      0.000</td><td>   3297.581</td><td>      0.00</td><td>      0.00</td><td>      0.0</td><td>      0.00</td><td>     0.00</td><td>NA</td></tr>\n",
       "\t<tr><th scope=row>3</th><td>4094</td><td>151.0390</td><td>3.305284</td><td>NA</td><td>NA</td><td>NA</td><td> 0</td><td> NA</td><td>      </td><td>NA</td><td>...</td><td> 12955.71</td><td>  16671.13</td><td>   5774.838</td><td>  22974.564</td><td>  19106.33</td><td>  27579.59</td><td>  18463.5</td><td>  14913.52</td><td> 18610.68</td><td>NA</td></tr>\n",
       "</tbody>\n",
       "</table>\n"
      ],
      "text/latex": [
       "A data.frame: 3 × 102\n",
       "\\begin{tabular}{r|lllllllllllllllllllll}\n",
       "  & row ID & row m/z & row retention time & row ion mobility & row ion mobility unit & row CCS & correlation group ID & annotation network number & best ion & auto MS2 verify & ... & skin\\_08\\_480\\_UB.mzML Peak area & skin\\_08\\_0\\_UB.mzML Peak area & skin\\_08\\_720\\_UB.mzML Peak area & skin\\_10\\_720\\_UB.mzML Peak area & skin\\_08\\_120\\_UB.mzML Peak area & skin\\_03\\_120\\_UB.mzML Peak area & skin\\_03\\_240\\_UB.mzML Peak area & skin\\_03\\_0\\_UB.mzML Peak area & skin\\_08\\_600\\_UB.mzML Peak area & \\\\\n",
       "  & <int> & <dbl> & <dbl> & <lgl> & <lgl> & <lgl> & <int> & <int> & <chr> & <lgl> & ... & <dbl> & <dbl> & <dbl> & <dbl> & <dbl> & <dbl> & <dbl> & <dbl> & <dbl> & <lgl>\\\\\n",
       "\\hline\n",
       "\t1 & 9002 & 150.0629 & 4.962805 & NA & NA & NA & 20 & 144 & {[}M+H{]}+ & NA & ... & 900854.30 & 1083294.00 & 1015355.060 & 1320949.000 & 1210520.80 & 2636820.20 & 2352653.8 & 2145513.00 & 866366.75 & NA\\\\\n",
       "\t2 & 8808 & 150.5959 & 4.821733 & NA & NA & NA & NA &  NA &        & NA & ... &      0.00 &       0.00 &       0.000 &    3297.581 &       0.00 &       0.00 &       0.0 &       0.00 &      0.00 & NA\\\\\n",
       "\t3 & 4094 & 151.0390 & 3.305284 & NA & NA & NA &  0 &  NA &        & NA & ... &  12955.71 &   16671.13 &    5774.838 &   22974.564 &   19106.33 &   27579.59 &   18463.5 &   14913.52 &  18610.68 & NA\\\\\n",
       "\\end{tabular}\n"
      ],
      "text/markdown": [
       "\n",
       "A data.frame: 3 × 102\n",
       "\n",
       "| <!--/--> | row ID &lt;int&gt; | row m/z &lt;dbl&gt; | row retention time &lt;dbl&gt; | row ion mobility &lt;lgl&gt; | row ion mobility unit &lt;lgl&gt; | row CCS &lt;lgl&gt; | correlation group ID &lt;int&gt; | annotation network number &lt;int&gt; | best ion &lt;chr&gt; | auto MS2 verify &lt;lgl&gt; | ... ... | skin_08_480_UB.mzML Peak area &lt;dbl&gt; | skin_08_0_UB.mzML Peak area &lt;dbl&gt; | skin_08_720_UB.mzML Peak area &lt;dbl&gt; | skin_10_720_UB.mzML Peak area &lt;dbl&gt; | skin_08_120_UB.mzML Peak area &lt;dbl&gt; | skin_03_120_UB.mzML Peak area &lt;dbl&gt; | skin_03_240_UB.mzML Peak area &lt;dbl&gt; | skin_03_0_UB.mzML Peak area &lt;dbl&gt; | skin_08_600_UB.mzML Peak area &lt;dbl&gt; | <!----> &lt;lgl&gt; |\n",
       "|---|---|---|---|---|---|---|---|---|---|---|---|---|---|---|---|---|---|---|---|---|---|\n",
       "| 1 | 9002 | 150.0629 | 4.962805 | NA | NA | NA | 20 | 144 | [M+H]+ | NA | ... | 900854.30 | 1083294.00 | 1015355.060 | 1320949.000 | 1210520.80 | 2636820.20 | 2352653.8 | 2145513.00 | 866366.75 | NA |\n",
       "| 2 | 8808 | 150.5959 | 4.821733 | NA | NA | NA | NA |  NA | <!----> | NA | ... |      0.00 |       0.00 |       0.000 |    3297.581 |       0.00 |       0.00 |       0.0 |       0.00 |      0.00 | NA |\n",
       "| 3 | 4094 | 151.0390 | 3.305284 | NA | NA | NA |  0 |  NA | <!----> | NA | ... |  12955.71 |   16671.13 |    5774.838 |   22974.564 |   19106.33 |   27579.59 |   18463.5 |   14913.52 |  18610.68 | NA |\n",
       "\n"
      ],
      "text/plain": [
       "  row ID row m/z  row retention time row ion mobility row ion mobility unit\n",
       "1 9002   150.0629 4.962805           NA               NA                   \n",
       "2 8808   150.5959 4.821733           NA               NA                   \n",
       "3 4094   151.0390 3.305284           NA               NA                   \n",
       "  row CCS correlation group ID annotation network number best ion\n",
       "1 NA      20                   144                       [M+H]+  \n",
       "2 NA      NA                    NA                               \n",
       "3 NA       0                    NA                               \n",
       "  auto MS2 verify ... skin_08_480_UB.mzML Peak area skin_08_0_UB.mzML Peak area\n",
       "1 NA              ... 900854.30                     1083294.00                 \n",
       "2 NA              ...      0.00                           0.00                 \n",
       "3 NA              ...  12955.71                       16671.13                 \n",
       "  skin_08_720_UB.mzML Peak area skin_10_720_UB.mzML Peak area\n",
       "1 1015355.060                   1320949.000                  \n",
       "2       0.000                      3297.581                  \n",
       "3    5774.838                     22974.564                  \n",
       "  skin_08_120_UB.mzML Peak area skin_03_120_UB.mzML Peak area\n",
       "1 1210520.80                    2636820.20                   \n",
       "2       0.00                          0.00                   \n",
       "3   19106.33                      27579.59                   \n",
       "  skin_03_240_UB.mzML Peak area skin_03_0_UB.mzML Peak area\n",
       "1 2352653.8                     2145513.00                 \n",
       "2       0.0                           0.00                 \n",
       "3   18463.5                       14913.52                 \n",
       "  skin_08_600_UB.mzML Peak area   \n",
       "1 866366.75                     NA\n",
       "2      0.00                     NA\n",
       "3  18610.68                     NA"
      ]
     },
     "metadata": {},
     "output_type": "display_data"
    },
    {
     "data": {
      "text/html": [
       "<style>\n",
       ".list-inline {list-style: none; margin:0; padding: 0}\n",
       ".list-inline>li {display: inline-block}\n",
       ".list-inline>li:not(:last-child)::after {content: \"\\00b7\"; padding: 0 .5ex}\n",
       "</style>\n",
       "<ol class=list-inline><li>6182</li><li>102</li></ol>\n"
      ],
      "text/latex": [
       "\\begin{enumerate*}\n",
       "\\item 6182\n",
       "\\item 102\n",
       "\\end{enumerate*}\n"
      ],
      "text/markdown": [
       "1. 6182\n",
       "2. 102\n",
       "\n",
       "\n"
      ],
      "text/plain": [
       "[1] 6182  102"
      ]
     },
     "metadata": {},
     "output_type": "display_data"
    }
   ],
   "source": [
    "head(ft, 3) # shows the first 3 rows of ft\n",
    "dim(ft) #gives the number of rows and columns"
   ]
  },
  {
   "cell_type": "code",
   "execution_count": 177,
   "id": "5fa7fab5-6257-40fc-a38d-3fee7c5f946b",
   "metadata": {},
   "outputs": [
    {
     "data": {
      "text/html": [
       "<table class=\"dataframe\">\n",
       "<caption>A data.frame: 3 × 6</caption>\n",
       "<thead>\n",
       "\t<tr><th></th><th scope=col>filename</th><th scope=col>ATTRIBUTE_Sample_Type</th><th scope=col>ATTRIBUTE_Subject</th><th scope=col>ATTRIBUTE_Timepoint_min</th><th scope=col>ATTRIBUTE_Sampling_Location</th><th scope=col>ATTRIBUTE_Analysis_order</th></tr>\n",
       "\t<tr><th></th><th scope=col>&lt;chr&gt;</th><th scope=col>&lt;chr&gt;</th><th scope=col>&lt;chr&gt;</th><th scope=col>&lt;chr&gt;</th><th scope=col>&lt;chr&gt;</th><th scope=col>&lt;int&gt;</th></tr>\n",
       "</thead>\n",
       "<tbody>\n",
       "\t<tr><th scope=row>1</th><td>bld_plt1_01_0_1.mzML  </td><td>plasma</td><td>Subject_1</td><td>0  </td><td>not applicable</td><td>19</td></tr>\n",
       "\t<tr><th scope=row>2</th><td>bld_plt1_01_120_1.mzML</td><td>plasma</td><td>Subject_1</td><td>120</td><td>not applicable</td><td>32</td></tr>\n",
       "\t<tr><th scope=row>3</th><td>bld_plt1_01_600_1.mzML</td><td>plasma</td><td>Subject_1</td><td>600</td><td>not applicable</td><td>51</td></tr>\n",
       "</tbody>\n",
       "</table>\n"
      ],
      "text/latex": [
       "A data.frame: 3 × 6\n",
       "\\begin{tabular}{r|llllll}\n",
       "  & filename & ATTRIBUTE\\_Sample\\_Type & ATTRIBUTE\\_Subject & ATTRIBUTE\\_Timepoint\\_min & ATTRIBUTE\\_Sampling\\_Location & ATTRIBUTE\\_Analysis\\_order\\\\\n",
       "  & <chr> & <chr> & <chr> & <chr> & <chr> & <int>\\\\\n",
       "\\hline\n",
       "\t1 & bld\\_plt1\\_01\\_0\\_1.mzML   & plasma & Subject\\_1 & 0   & not applicable & 19\\\\\n",
       "\t2 & bld\\_plt1\\_01\\_120\\_1.mzML & plasma & Subject\\_1 & 120 & not applicable & 32\\\\\n",
       "\t3 & bld\\_plt1\\_01\\_600\\_1.mzML & plasma & Subject\\_1 & 600 & not applicable & 51\\\\\n",
       "\\end{tabular}\n"
      ],
      "text/markdown": [
       "\n",
       "A data.frame: 3 × 6\n",
       "\n",
       "| <!--/--> | filename &lt;chr&gt; | ATTRIBUTE_Sample_Type &lt;chr&gt; | ATTRIBUTE_Subject &lt;chr&gt; | ATTRIBUTE_Timepoint_min &lt;chr&gt; | ATTRIBUTE_Sampling_Location &lt;chr&gt; | ATTRIBUTE_Analysis_order &lt;int&gt; |\n",
       "|---|---|---|---|---|---|---|\n",
       "| 1 | bld_plt1_01_0_1.mzML   | plasma | Subject_1 | 0   | not applicable | 19 |\n",
       "| 2 | bld_plt1_01_120_1.mzML | plasma | Subject_1 | 120 | not applicable | 32 |\n",
       "| 3 | bld_plt1_01_600_1.mzML | plasma | Subject_1 | 600 | not applicable | 51 |\n",
       "\n"
      ],
      "text/plain": [
       "  filename               ATTRIBUTE_Sample_Type ATTRIBUTE_Subject\n",
       "1 bld_plt1_01_0_1.mzML   plasma                Subject_1        \n",
       "2 bld_plt1_01_120_1.mzML plasma                Subject_1        \n",
       "3 bld_plt1_01_600_1.mzML plasma                Subject_1        \n",
       "  ATTRIBUTE_Timepoint_min ATTRIBUTE_Sampling_Location ATTRIBUTE_Analysis_order\n",
       "1 0                       not applicable              19                      \n",
       "2 120                     not applicable              32                      \n",
       "3 600                     not applicable              51                      "
      ]
     },
     "metadata": {},
     "output_type": "display_data"
    },
    {
     "data": {
      "text/html": [
       "<style>\n",
       ".list-inline {list-style: none; margin:0; padding: 0}\n",
       ".list-inline>li {display: inline-block}\n",
       ".list-inline>li:not(:last-child)::after {content: \"\\00b7\"; padding: 0 .5ex}\n",
       "</style>\n",
       "<ol class=list-inline><li>172</li><li>6</li></ol>\n"
      ],
      "text/latex": [
       "\\begin{enumerate*}\n",
       "\\item 172\n",
       "\\item 6\n",
       "\\end{enumerate*}\n"
      ],
      "text/markdown": [
       "1. 172\n",
       "2. 6\n",
       "\n",
       "\n"
      ],
      "text/plain": [
       "[1] 172   6"
      ]
     },
     "metadata": {},
     "output_type": "display_data"
    }
   ],
   "source": [
    "head(md, 3)\n",
    "dim(md)"
   ]
  },
  {
   "cell_type": "code",
   "execution_count": 178,
   "id": "18a9a759-0f14-4488-b9fd-555f183ebfe2",
   "metadata": {},
   "outputs": [],
   "source": [
    "#storing the files under different names to preserve the original files\n",
    "new_ft <- ft \n",
    "new_md <- md"
   ]
  },
  {
   "cell_type": "code",
   "execution_count": 179,
   "id": "c23e016e-4ce4-460a-8335-660e5d9cd557",
   "metadata": {},
   "outputs": [],
   "source": [
    "#removing Peak area extensions from the column names of new_ft to match with filenames in new_md\n",
    "colnames(new_ft) <- gsub(' Peak area','',colnames(new_ft)) "
   ]
  },
  {
   "cell_type": "markdown",
   "id": "ea8d8ec9-60bb-4a29-9bea-bb5b34283986",
   "metadata": {},
   "source": [
    "Looking at the ft dataframe, we can notice that the last column is full of 'NA' values."
   ]
  },
  {
   "cell_type": "code",
   "execution_count": 180,
   "id": "43d4b391-dff8-4248-83cd-05f701071b99",
   "metadata": {},
   "outputs": [],
   "source": [
    "#removing if any NA columns present in the new_ft and new_md file\n",
    "\n",
    "new_ft <- new_ft[,colSums(is.na(new_ft))<nrow(new_ft)] #removing NA columns from new_ft\n",
    "new_md <- new_md[,colSums(is.na(new_md))<nrow(new_md)] #removing NA columns from new_md"
   ]
  },
  {
   "cell_type": "code",
   "execution_count": 181,
   "id": "45beb585-1b27-4971-ba4c-9a74c9224bdc",
   "metadata": {},
   "outputs": [],
   "source": [
    "#Changing the row names of the files into the combined name as \"XID_mz_RT\" to capture the important info:\n",
    "rownames(new_ft) <- paste(paste0(\"X\", new_ft$`row ID`),\n",
    "                          round(new_ft$`row m/z`, digits = 3),\n",
    "                          round(new_ft$`row retention time`, digits = 3),\n",
    "                          sep = '_')"
   ]
  },
  {
   "cell_type": "code",
   "execution_count": 182,
   "id": "0cfbb91e-4f83-4cd6-8fd7-5f2585e437d8",
   "metadata": {},
   "outputs": [
    {
     "data": {
      "text/html": [
       "<table class=\"dataframe\">\n",
       "<caption>A data.frame: 2 × 97</caption>\n",
       "<thead>\n",
       "\t<tr><th></th><th scope=col>row ID</th><th scope=col>row m/z</th><th scope=col>row retention time</th><th scope=col>correlation group ID</th><th scope=col>annotation network number</th><th scope=col>best ion</th><th scope=col>identified by n=</th><th scope=col>partners</th><th scope=col>neutral M mass</th><th scope=col>bld_plt2_blk_04.mzML</th><th scope=col>...</th><th scope=col>skin_08_240_UB.mzML</th><th scope=col>skin_08_480_UB.mzML</th><th scope=col>skin_08_0_UB.mzML</th><th scope=col>skin_08_720_UB.mzML</th><th scope=col>skin_10_720_UB.mzML</th><th scope=col>skin_08_120_UB.mzML</th><th scope=col>skin_03_120_UB.mzML</th><th scope=col>skin_03_240_UB.mzML</th><th scope=col>skin_03_0_UB.mzML</th><th scope=col>skin_08_600_UB.mzML</th></tr>\n",
       "\t<tr><th></th><th scope=col>&lt;int&gt;</th><th scope=col>&lt;dbl&gt;</th><th scope=col>&lt;dbl&gt;</th><th scope=col>&lt;int&gt;</th><th scope=col>&lt;int&gt;</th><th scope=col>&lt;chr&gt;</th><th scope=col>&lt;int&gt;</th><th scope=col>&lt;chr&gt;</th><th scope=col>&lt;dbl&gt;</th><th scope=col>&lt;dbl&gt;</th><th scope=col>...</th><th scope=col>&lt;dbl&gt;</th><th scope=col>&lt;dbl&gt;</th><th scope=col>&lt;dbl&gt;</th><th scope=col>&lt;dbl&gt;</th><th scope=col>&lt;dbl&gt;</th><th scope=col>&lt;dbl&gt;</th><th scope=col>&lt;dbl&gt;</th><th scope=col>&lt;dbl&gt;</th><th scope=col>&lt;dbl&gt;</th><th scope=col>&lt;dbl&gt;</th></tr>\n",
       "</thead>\n",
       "<tbody>\n",
       "\t<tr><th scope=row>X9002_150.063_4.963</th><td>9002</td><td>150.0629</td><td>4.962805</td><td>20</td><td>144</td><td>[M+H]+</td><td> 2</td><td>9002;9013</td><td>149.0556</td><td>260.5778</td><td>...</td><td>963556.1</td><td>900854.3</td><td>1083294</td><td>1015355</td><td>1320949.000</td><td>1210521</td><td>2636820</td><td>2352654</td><td>2145513</td><td>866366.8</td></tr>\n",
       "\t<tr><th scope=row>X8808_150.596_4.822</th><td>8808</td><td>150.5959</td><td>4.821733</td><td>NA</td><td> NA</td><td>      </td><td>NA</td><td>         </td><td>      NA</td><td>  0.0000</td><td>...</td><td>     0.0</td><td>     0.0</td><td>      0</td><td>      0</td><td>   3297.581</td><td>      0</td><td>      0</td><td>      0</td><td>      0</td><td>     0.0</td></tr>\n",
       "</tbody>\n",
       "</table>\n"
      ],
      "text/latex": [
       "A data.frame: 2 × 97\n",
       "\\begin{tabular}{r|lllllllllllllllllllll}\n",
       "  & row ID & row m/z & row retention time & correlation group ID & annotation network number & best ion & identified by n= & partners & neutral M mass & bld\\_plt2\\_blk\\_04.mzML & ... & skin\\_08\\_240\\_UB.mzML & skin\\_08\\_480\\_UB.mzML & skin\\_08\\_0\\_UB.mzML & skin\\_08\\_720\\_UB.mzML & skin\\_10\\_720\\_UB.mzML & skin\\_08\\_120\\_UB.mzML & skin\\_03\\_120\\_UB.mzML & skin\\_03\\_240\\_UB.mzML & skin\\_03\\_0\\_UB.mzML & skin\\_08\\_600\\_UB.mzML\\\\\n",
       "  & <int> & <dbl> & <dbl> & <int> & <int> & <chr> & <int> & <chr> & <dbl> & <dbl> & ... & <dbl> & <dbl> & <dbl> & <dbl> & <dbl> & <dbl> & <dbl> & <dbl> & <dbl> & <dbl>\\\\\n",
       "\\hline\n",
       "\tX9002\\_150.063\\_4.963 & 9002 & 150.0629 & 4.962805 & 20 & 144 & {[}M+H{]}+ &  2 & 9002;9013 & 149.0556 & 260.5778 & ... & 963556.1 & 900854.3 & 1083294 & 1015355 & 1320949.000 & 1210521 & 2636820 & 2352654 & 2145513 & 866366.8\\\\\n",
       "\tX8808\\_150.596\\_4.822 & 8808 & 150.5959 & 4.821733 & NA &  NA &        & NA &           &       NA &   0.0000 & ... &      0.0 &      0.0 &       0 &       0 &    3297.581 &       0 &       0 &       0 &       0 &      0.0\\\\\n",
       "\\end{tabular}\n"
      ],
      "text/markdown": [
       "\n",
       "A data.frame: 2 × 97\n",
       "\n",
       "| <!--/--> | row ID &lt;int&gt; | row m/z &lt;dbl&gt; | row retention time &lt;dbl&gt; | correlation group ID &lt;int&gt; | annotation network number &lt;int&gt; | best ion &lt;chr&gt; | identified by n= &lt;int&gt; | partners &lt;chr&gt; | neutral M mass &lt;dbl&gt; | bld_plt2_blk_04.mzML &lt;dbl&gt; | ... ... | skin_08_240_UB.mzML &lt;dbl&gt; | skin_08_480_UB.mzML &lt;dbl&gt; | skin_08_0_UB.mzML &lt;dbl&gt; | skin_08_720_UB.mzML &lt;dbl&gt; | skin_10_720_UB.mzML &lt;dbl&gt; | skin_08_120_UB.mzML &lt;dbl&gt; | skin_03_120_UB.mzML &lt;dbl&gt; | skin_03_240_UB.mzML &lt;dbl&gt; | skin_03_0_UB.mzML &lt;dbl&gt; | skin_08_600_UB.mzML &lt;dbl&gt; |\n",
       "|---|---|---|---|---|---|---|---|---|---|---|---|---|---|---|---|---|---|---|---|---|---|\n",
       "| X9002_150.063_4.963 | 9002 | 150.0629 | 4.962805 | 20 | 144 | [M+H]+ |  2 | 9002;9013 | 149.0556 | 260.5778 | ... | 963556.1 | 900854.3 | 1083294 | 1015355 | 1320949.000 | 1210521 | 2636820 | 2352654 | 2145513 | 866366.8 |\n",
       "| X8808_150.596_4.822 | 8808 | 150.5959 | 4.821733 | NA |  NA | <!----> | NA | <!----> |       NA |   0.0000 | ... |      0.0 |      0.0 |       0 |       0 |    3297.581 |       0 |       0 |       0 |       0 |      0.0 |\n",
       "\n"
      ],
      "text/plain": [
       "                    row ID row m/z  row retention time correlation group ID\n",
       "X9002_150.063_4.963 9002   150.0629 4.962805           20                  \n",
       "X8808_150.596_4.822 8808   150.5959 4.821733           NA                  \n",
       "                    annotation network number best ion identified by n=\n",
       "X9002_150.063_4.963 144                       [M+H]+    2              \n",
       "X8808_150.596_4.822  NA                                NA              \n",
       "                    partners  neutral M mass bld_plt2_blk_04.mzML ...\n",
       "X9002_150.063_4.963 9002;9013 149.0556       260.5778             ...\n",
       "X8808_150.596_4.822                 NA         0.0000             ...\n",
       "                    skin_08_240_UB.mzML skin_08_480_UB.mzML skin_08_0_UB.mzML\n",
       "X9002_150.063_4.963 963556.1            900854.3            1083294          \n",
       "X8808_150.596_4.822      0.0                 0.0                  0          \n",
       "                    skin_08_720_UB.mzML skin_10_720_UB.mzML skin_08_120_UB.mzML\n",
       "X9002_150.063_4.963 1015355             1320949.000         1210521            \n",
       "X8808_150.596_4.822       0                3297.581               0            \n",
       "                    skin_03_120_UB.mzML skin_03_240_UB.mzML skin_03_0_UB.mzML\n",
       "X9002_150.063_4.963 2636820             2352654             2145513          \n",
       "X8808_150.596_4.822       0                   0                   0          \n",
       "                    skin_08_600_UB.mzML\n",
       "X9002_150.063_4.963 866366.8           \n",
       "X8808_150.596_4.822      0.0           "
      ]
     },
     "metadata": {},
     "output_type": "display_data"
    },
    {
     "data": {
      "text/html": [
       "<table class=\"dataframe\">\n",
       "<caption>A data.frame: 2 × 6</caption>\n",
       "<thead>\n",
       "\t<tr><th></th><th scope=col>filename</th><th scope=col>ATTRIBUTE_Sample_Type</th><th scope=col>ATTRIBUTE_Subject</th><th scope=col>ATTRIBUTE_Timepoint_min</th><th scope=col>ATTRIBUTE_Sampling_Location</th><th scope=col>ATTRIBUTE_Analysis_order</th></tr>\n",
       "\t<tr><th></th><th scope=col>&lt;chr&gt;</th><th scope=col>&lt;chr&gt;</th><th scope=col>&lt;chr&gt;</th><th scope=col>&lt;chr&gt;</th><th scope=col>&lt;chr&gt;</th><th scope=col>&lt;int&gt;</th></tr>\n",
       "</thead>\n",
       "<tbody>\n",
       "\t<tr><th scope=row>1</th><td>bld_plt1_01_0_1.mzML  </td><td>plasma</td><td>Subject_1</td><td>0  </td><td>not applicable</td><td>19</td></tr>\n",
       "\t<tr><th scope=row>2</th><td>bld_plt1_01_120_1.mzML</td><td>plasma</td><td>Subject_1</td><td>120</td><td>not applicable</td><td>32</td></tr>\n",
       "</tbody>\n",
       "</table>\n"
      ],
      "text/latex": [
       "A data.frame: 2 × 6\n",
       "\\begin{tabular}{r|llllll}\n",
       "  & filename & ATTRIBUTE\\_Sample\\_Type & ATTRIBUTE\\_Subject & ATTRIBUTE\\_Timepoint\\_min & ATTRIBUTE\\_Sampling\\_Location & ATTRIBUTE\\_Analysis\\_order\\\\\n",
       "  & <chr> & <chr> & <chr> & <chr> & <chr> & <int>\\\\\n",
       "\\hline\n",
       "\t1 & bld\\_plt1\\_01\\_0\\_1.mzML   & plasma & Subject\\_1 & 0   & not applicable & 19\\\\\n",
       "\t2 & bld\\_plt1\\_01\\_120\\_1.mzML & plasma & Subject\\_1 & 120 & not applicable & 32\\\\\n",
       "\\end{tabular}\n"
      ],
      "text/markdown": [
       "\n",
       "A data.frame: 2 × 6\n",
       "\n",
       "| <!--/--> | filename &lt;chr&gt; | ATTRIBUTE_Sample_Type &lt;chr&gt; | ATTRIBUTE_Subject &lt;chr&gt; | ATTRIBUTE_Timepoint_min &lt;chr&gt; | ATTRIBUTE_Sampling_Location &lt;chr&gt; | ATTRIBUTE_Analysis_order &lt;int&gt; |\n",
       "|---|---|---|---|---|---|---|\n",
       "| 1 | bld_plt1_01_0_1.mzML   | plasma | Subject_1 | 0   | not applicable | 19 |\n",
       "| 2 | bld_plt1_01_120_1.mzML | plasma | Subject_1 | 120 | not applicable | 32 |\n",
       "\n"
      ],
      "text/plain": [
       "  filename               ATTRIBUTE_Sample_Type ATTRIBUTE_Subject\n",
       "1 bld_plt1_01_0_1.mzML   plasma                Subject_1        \n",
       "2 bld_plt1_01_120_1.mzML plasma                Subject_1        \n",
       "  ATTRIBUTE_Timepoint_min ATTRIBUTE_Sampling_Location ATTRIBUTE_Analysis_order\n",
       "1 0                       not applicable              19                      \n",
       "2 120                     not applicable              32                      "
      ]
     },
     "metadata": {},
     "output_type": "display_data"
    }
   ],
   "source": [
    "head(new_ft,2) \n",
    "head(new_md,2) "
   ]
  },
  {
   "cell_type": "code",
   "execution_count": 183,
   "id": "3bd003f6-657a-4a57-98b5-90100c936f78",
   "metadata": {},
   "outputs": [],
   "source": [
    "#Picking only the files with column names containing 'mzML' and excluding other columns:\n",
    "new_ft <- new_ft[,grep('\\\\.mzML$',colnames(new_ft))] "
   ]
  },
  {
   "cell_type": "code",
   "execution_count": 184,
   "id": "b3ab28f1-fabe-463c-8850-72e522f47852",
   "metadata": {},
   "outputs": [],
   "source": [
    "new_ft <- new_ft[,order(colnames(new_ft)),drop=F] #ordering the ft by its column names\n",
    "new_md <- new_md[order(new_md$filename),,drop=F] #ordering the md by the 1st column filename"
   ]
  },
  {
   "cell_type": "code",
   "execution_count": 185,
   "id": "6a2fa16e-d613-4ff5-bed8-720631a1c6bd",
   "metadata": {},
   "outputs": [
    {
     "data": {
      "text/html": [
       "<table class=\"dataframe\">\n",
       "<caption>A data.frame: 2 × 88</caption>\n",
       "<thead>\n",
       "\t<tr><th></th><th scope=col>bld_plt1_01_0_1.mzML</th><th scope=col>bld_plt1_01_120_1.mzML</th><th scope=col>bld_plt1_01_600_1.mzML</th><th scope=col>bld_plt1_01_720_1.mzML</th><th scope=col>bld_plt1_03_0_1.mzML</th><th scope=col>bld_plt1_03_480_1.mzML</th><th scope=col>bld_plt1_03_600_1.mzML</th><th scope=col>bld_plt1_04_240_1.mzML</th><th scope=col>bld_plt1_04_480_1.mzML</th><th scope=col>bld_plt1_04_600_1.mzML</th><th scope=col>...</th><th scope=col>skin_08_600_UB.mzML</th><th scope=col>skin_08_720_UB.mzML</th><th scope=col>skin_10_0_UB.mzML</th><th scope=col>skin_10_120_UB.mzML</th><th scope=col>skin_10_240_UB.mzML</th><th scope=col>skin_10_480_UB.mzML</th><th scope=col>skin_10_600_UB.mzML</th><th scope=col>skin_10_720_UB.mzML</th><th scope=col>skin_blank_03.mzML</th><th scope=col>skin_blank_20.mzML</th></tr>\n",
       "\t<tr><th></th><th scope=col>&lt;dbl&gt;</th><th scope=col>&lt;dbl&gt;</th><th scope=col>&lt;dbl&gt;</th><th scope=col>&lt;dbl&gt;</th><th scope=col>&lt;dbl&gt;</th><th scope=col>&lt;dbl&gt;</th><th scope=col>&lt;dbl&gt;</th><th scope=col>&lt;dbl&gt;</th><th scope=col>&lt;dbl&gt;</th><th scope=col>&lt;dbl&gt;</th><th scope=col>...</th><th scope=col>&lt;dbl&gt;</th><th scope=col>&lt;dbl&gt;</th><th scope=col>&lt;dbl&gt;</th><th scope=col>&lt;dbl&gt;</th><th scope=col>&lt;dbl&gt;</th><th scope=col>&lt;dbl&gt;</th><th scope=col>&lt;dbl&gt;</th><th scope=col>&lt;dbl&gt;</th><th scope=col>&lt;dbl&gt;</th><th scope=col>&lt;dbl&gt;</th></tr>\n",
       "</thead>\n",
       "<tbody>\n",
       "\t<tr><th scope=row>X9002_150.063_4.963</th><td>0</td><td>0</td><td>185.3507</td><td>57.32955</td><td>0</td><td>0</td><td>111.4226</td><td>0</td><td>0</td><td>496.618</td><td>...</td><td>866366.8</td><td>1015355</td><td>1442369.60</td><td>1360433.200</td><td>1315715.100</td><td>1142062.800</td><td>1215813.400</td><td>1320949.000</td><td>178.2026</td><td>779.6436</td></tr>\n",
       "\t<tr><th scope=row>X8808_150.596_4.822</th><td>0</td><td>0</td><td>  0.0000</td><td> 0.00000</td><td>0</td><td>0</td><td>  0.0000</td><td>0</td><td>0</td><td>  0.000</td><td>...</td><td>     0.0</td><td>      0</td><td>  13985.54</td><td>   2072.857</td><td>   1364.211</td><td>   1253.273</td><td>   6596.773</td><td>   3297.581</td><td>  0.0000</td><td>  0.0000</td></tr>\n",
       "</tbody>\n",
       "</table>\n"
      ],
      "text/latex": [
       "A data.frame: 2 × 88\n",
       "\\begin{tabular}{r|lllllllllllllllllllll}\n",
       "  & bld\\_plt1\\_01\\_0\\_1.mzML & bld\\_plt1\\_01\\_120\\_1.mzML & bld\\_plt1\\_01\\_600\\_1.mzML & bld\\_plt1\\_01\\_720\\_1.mzML & bld\\_plt1\\_03\\_0\\_1.mzML & bld\\_plt1\\_03\\_480\\_1.mzML & bld\\_plt1\\_03\\_600\\_1.mzML & bld\\_plt1\\_04\\_240\\_1.mzML & bld\\_plt1\\_04\\_480\\_1.mzML & bld\\_plt1\\_04\\_600\\_1.mzML & ... & skin\\_08\\_600\\_UB.mzML & skin\\_08\\_720\\_UB.mzML & skin\\_10\\_0\\_UB.mzML & skin\\_10\\_120\\_UB.mzML & skin\\_10\\_240\\_UB.mzML & skin\\_10\\_480\\_UB.mzML & skin\\_10\\_600\\_UB.mzML & skin\\_10\\_720\\_UB.mzML & skin\\_blank\\_03.mzML & skin\\_blank\\_20.mzML\\\\\n",
       "  & <dbl> & <dbl> & <dbl> & <dbl> & <dbl> & <dbl> & <dbl> & <dbl> & <dbl> & <dbl> & ... & <dbl> & <dbl> & <dbl> & <dbl> & <dbl> & <dbl> & <dbl> & <dbl> & <dbl> & <dbl>\\\\\n",
       "\\hline\n",
       "\tX9002\\_150.063\\_4.963 & 0 & 0 & 185.3507 & 57.32955 & 0 & 0 & 111.4226 & 0 & 0 & 496.618 & ... & 866366.8 & 1015355 & 1442369.60 & 1360433.200 & 1315715.100 & 1142062.800 & 1215813.400 & 1320949.000 & 178.2026 & 779.6436\\\\\n",
       "\tX8808\\_150.596\\_4.822 & 0 & 0 &   0.0000 &  0.00000 & 0 & 0 &   0.0000 & 0 & 0 &   0.000 & ... &      0.0 &       0 &   13985.54 &    2072.857 &    1364.211 &    1253.273 &    6596.773 &    3297.581 &   0.0000 &   0.0000\\\\\n",
       "\\end{tabular}\n"
      ],
      "text/markdown": [
       "\n",
       "A data.frame: 2 × 88\n",
       "\n",
       "| <!--/--> | bld_plt1_01_0_1.mzML &lt;dbl&gt; | bld_plt1_01_120_1.mzML &lt;dbl&gt; | bld_plt1_01_600_1.mzML &lt;dbl&gt; | bld_plt1_01_720_1.mzML &lt;dbl&gt; | bld_plt1_03_0_1.mzML &lt;dbl&gt; | bld_plt1_03_480_1.mzML &lt;dbl&gt; | bld_plt1_03_600_1.mzML &lt;dbl&gt; | bld_plt1_04_240_1.mzML &lt;dbl&gt; | bld_plt1_04_480_1.mzML &lt;dbl&gt; | bld_plt1_04_600_1.mzML &lt;dbl&gt; | ... ... | skin_08_600_UB.mzML &lt;dbl&gt; | skin_08_720_UB.mzML &lt;dbl&gt; | skin_10_0_UB.mzML &lt;dbl&gt; | skin_10_120_UB.mzML &lt;dbl&gt; | skin_10_240_UB.mzML &lt;dbl&gt; | skin_10_480_UB.mzML &lt;dbl&gt; | skin_10_600_UB.mzML &lt;dbl&gt; | skin_10_720_UB.mzML &lt;dbl&gt; | skin_blank_03.mzML &lt;dbl&gt; | skin_blank_20.mzML &lt;dbl&gt; |\n",
       "|---|---|---|---|---|---|---|---|---|---|---|---|---|---|---|---|---|---|---|---|---|---|\n",
       "| X9002_150.063_4.963 | 0 | 0 | 185.3507 | 57.32955 | 0 | 0 | 111.4226 | 0 | 0 | 496.618 | ... | 866366.8 | 1015355 | 1442369.60 | 1360433.200 | 1315715.100 | 1142062.800 | 1215813.400 | 1320949.000 | 178.2026 | 779.6436 |\n",
       "| X8808_150.596_4.822 | 0 | 0 |   0.0000 |  0.00000 | 0 | 0 |   0.0000 | 0 | 0 |   0.000 | ... |      0.0 |       0 |   13985.54 |    2072.857 |    1364.211 |    1253.273 |    6596.773 |    3297.581 |   0.0000 |   0.0000 |\n",
       "\n"
      ],
      "text/plain": [
       "                    bld_plt1_01_0_1.mzML bld_plt1_01_120_1.mzML\n",
       "X9002_150.063_4.963 0                    0                     \n",
       "X8808_150.596_4.822 0                    0                     \n",
       "                    bld_plt1_01_600_1.mzML bld_plt1_01_720_1.mzML\n",
       "X9002_150.063_4.963 185.3507               57.32955              \n",
       "X8808_150.596_4.822   0.0000                0.00000              \n",
       "                    bld_plt1_03_0_1.mzML bld_plt1_03_480_1.mzML\n",
       "X9002_150.063_4.963 0                    0                     \n",
       "X8808_150.596_4.822 0                    0                     \n",
       "                    bld_plt1_03_600_1.mzML bld_plt1_04_240_1.mzML\n",
       "X9002_150.063_4.963 111.4226               0                     \n",
       "X8808_150.596_4.822   0.0000               0                     \n",
       "                    bld_plt1_04_480_1.mzML bld_plt1_04_600_1.mzML ...\n",
       "X9002_150.063_4.963 0                      496.618                ...\n",
       "X8808_150.596_4.822 0                        0.000                ...\n",
       "                    skin_08_600_UB.mzML skin_08_720_UB.mzML skin_10_0_UB.mzML\n",
       "X9002_150.063_4.963 866366.8            1015355             1442369.60       \n",
       "X8808_150.596_4.822      0.0                  0               13985.54       \n",
       "                    skin_10_120_UB.mzML skin_10_240_UB.mzML skin_10_480_UB.mzML\n",
       "X9002_150.063_4.963 1360433.200         1315715.100         1142062.800        \n",
       "X8808_150.596_4.822    2072.857            1364.211            1253.273        \n",
       "                    skin_10_600_UB.mzML skin_10_720_UB.mzML skin_blank_03.mzML\n",
       "X9002_150.063_4.963 1215813.400         1320949.000         178.2026          \n",
       "X8808_150.596_4.822    6596.773            3297.581           0.0000          \n",
       "                    skin_blank_20.mzML\n",
       "X9002_150.063_4.963 779.6436          \n",
       "X8808_150.596_4.822   0.0000          "
      ]
     },
     "metadata": {},
     "output_type": "display_data"
    },
    {
     "data": {
      "text/html": [
       "<table class=\"dataframe\">\n",
       "<caption>A data.frame: 2 × 6</caption>\n",
       "<thead>\n",
       "\t<tr><th></th><th scope=col>filename</th><th scope=col>ATTRIBUTE_Sample_Type</th><th scope=col>ATTRIBUTE_Subject</th><th scope=col>ATTRIBUTE_Timepoint_min</th><th scope=col>ATTRIBUTE_Sampling_Location</th><th scope=col>ATTRIBUTE_Analysis_order</th></tr>\n",
       "\t<tr><th></th><th scope=col>&lt;chr&gt;</th><th scope=col>&lt;chr&gt;</th><th scope=col>&lt;chr&gt;</th><th scope=col>&lt;chr&gt;</th><th scope=col>&lt;chr&gt;</th><th scope=col>&lt;int&gt;</th></tr>\n",
       "</thead>\n",
       "<tbody>\n",
       "\t<tr><th scope=row>1</th><td>bld_plt1_01_0_1.mzML  </td><td>plasma</td><td>Subject_1</td><td>0  </td><td>not applicable</td><td>19</td></tr>\n",
       "\t<tr><th scope=row>2</th><td>bld_plt1_01_120_1.mzML</td><td>plasma</td><td>Subject_1</td><td>120</td><td>not applicable</td><td>32</td></tr>\n",
       "</tbody>\n",
       "</table>\n"
      ],
      "text/latex": [
       "A data.frame: 2 × 6\n",
       "\\begin{tabular}{r|llllll}\n",
       "  & filename & ATTRIBUTE\\_Sample\\_Type & ATTRIBUTE\\_Subject & ATTRIBUTE\\_Timepoint\\_min & ATTRIBUTE\\_Sampling\\_Location & ATTRIBUTE\\_Analysis\\_order\\\\\n",
       "  & <chr> & <chr> & <chr> & <chr> & <chr> & <int>\\\\\n",
       "\\hline\n",
       "\t1 & bld\\_plt1\\_01\\_0\\_1.mzML   & plasma & Subject\\_1 & 0   & not applicable & 19\\\\\n",
       "\t2 & bld\\_plt1\\_01\\_120\\_1.mzML & plasma & Subject\\_1 & 120 & not applicable & 32\\\\\n",
       "\\end{tabular}\n"
      ],
      "text/markdown": [
       "\n",
       "A data.frame: 2 × 6\n",
       "\n",
       "| <!--/--> | filename &lt;chr&gt; | ATTRIBUTE_Sample_Type &lt;chr&gt; | ATTRIBUTE_Subject &lt;chr&gt; | ATTRIBUTE_Timepoint_min &lt;chr&gt; | ATTRIBUTE_Sampling_Location &lt;chr&gt; | ATTRIBUTE_Analysis_order &lt;int&gt; |\n",
       "|---|---|---|---|---|---|---|\n",
       "| 1 | bld_plt1_01_0_1.mzML   | plasma | Subject_1 | 0   | not applicable | 19 |\n",
       "| 2 | bld_plt1_01_120_1.mzML | plasma | Subject_1 | 120 | not applicable | 32 |\n",
       "\n"
      ],
      "text/plain": [
       "  filename               ATTRIBUTE_Sample_Type ATTRIBUTE_Subject\n",
       "1 bld_plt1_01_0_1.mzML   plasma                Subject_1        \n",
       "2 bld_plt1_01_120_1.mzML plasma                Subject_1        \n",
       "  ATTRIBUTE_Timepoint_min ATTRIBUTE_Sampling_Location ATTRIBUTE_Analysis_order\n",
       "1 0                       not applicable              19                      \n",
       "2 120                     not applicable              32                      "
      ]
     },
     "metadata": {},
     "output_type": "display_data"
    }
   ],
   "source": [
    "head(new_ft,2) \n",
    "head(new_md,2) "
   ]
  },
  {
   "cell_type": "markdown",
   "id": "6d17ac09-713d-4b50-aaba-f7cb3c280cbb",
   "metadata": {},
   "source": [
    "Looking at the different groups:"
   ]
  },
  {
   "cell_type": "code",
   "execution_count": 186,
   "id": "cb763ed8-89bc-4b31-8c44-cad9a4dd02c1",
   "metadata": {},
   "outputs": [
    {
     "data": {
      "text/plain": [
       "\n",
       "       forearm       forehead not applicable     upper back \n",
       "            42             42             46             42 "
      ]
     },
     "metadata": {},
     "output_type": "display_data"
    },
    {
     "data": {
      "text/plain": [
       "\n",
       "not applicable      Subject_1     Subject_10      Subject_3      Subject_4 \n",
       "             4             24             24             24             24 \n",
       "     Subject_5      Subject_7      Subject_8 \n",
       "            24             24             24 "
      ]
     },
     "metadata": {},
     "output_type": "display_data"
    },
    {
     "data": {
      "text/plain": [
       "\n",
       "      plasma plasma_blank         skin   skin_blank \n",
       "          42            2          126            2 "
      ]
     },
     "metadata": {},
     "output_type": "display_data"
    }
   ],
   "source": [
    "table(new_md$ATTRIBUTE_Sampling_Location)\n",
    "table(new_md$ATTRIBUTE_Subject)\n",
    "table(new_md$ATTRIBUTE_Sample_Type)"
   ]
  },
  {
   "cell_type": "markdown",
   "id": "7de8e8d1-de3d-4d95-9acd-af332d038dbd",
   "metadata": {},
   "source": [
    "The command `table(new_md$ATTRIBUTE_Subject)` shows that we have data from 7 different subjects. For each subject, we collected both skin and plasma samples at six different time points, giving us a total of 84 samples (6 time points * 7 subjects * 2 sample types). Along with these, we also have 4 blank samples, bringing our total sample count to 88.\n",
    "\n",
    "For the purpose of this project, the instructor team will be focusing on samples collected from the upper back. Meanwhile, the students will work on different samples. Specifically:\n",
    "\n",
    "- <font color = 'red'>Group 1 will be examining skin samples collected from the forehead.</font> `ATTRIBUTE_Sampling_Location == 'forehead'`\n",
    "- <font color = 'red'>Group 2 will be studying skin samples collected from the forearm.</font> `ATTRIBUTE_Sampling_Location == 'forearm'`\n",
    "\n",
    "The overall objective of these investigations is to check whether skin samples could be suitable for non-invasive drug monitoring by comparing the results with those obtained from plasma samples.  \n",
    "\n",
    "<font color = 'red' size = 4>In the following cell, please change the condition in the `ATTRIBUTE_Sampling_Location` according to that of your group.</font> Here, the files corresponding to plasma samples as well blanks are given under the `not applicable` condition."
   ]
  },
  {
   "cell_type": "code",
   "execution_count": 187,
   "id": "4b7061f1-848e-4dd9-a6e4-72b469970d55",
   "metadata": {},
   "outputs": [],
   "source": [
    "# subsetting only the upper back samples along with the plasma samples and blanks\n",
    "new_md <- new_md %>% filter(ATTRIBUTE_Sampling_Location == 'upper back'|  # change this into forearm or forehead\n",
    "                            ATTRIBUTE_Sampling_Location == 'not applicable')"
   ]
  },
  {
   "cell_type": "code",
   "execution_count": 188,
   "id": "3c29d275-e750-43c2-bc2b-205a5617082a",
   "metadata": {},
   "outputs": [
    {
     "data": {
      "text/html": [
       "<table class=\"dataframe\">\n",
       "<caption>A data.frame: 2 × 6</caption>\n",
       "<thead>\n",
       "\t<tr><th></th><th scope=col>filename</th><th scope=col>ATTRIBUTE_Sample_Type</th><th scope=col>ATTRIBUTE_Subject</th><th scope=col>ATTRIBUTE_Timepoint_min</th><th scope=col>ATTRIBUTE_Sampling_Location</th><th scope=col>ATTRIBUTE_Analysis_order</th></tr>\n",
       "\t<tr><th></th><th scope=col>&lt;chr&gt;</th><th scope=col>&lt;chr&gt;</th><th scope=col>&lt;chr&gt;</th><th scope=col>&lt;chr&gt;</th><th scope=col>&lt;chr&gt;</th><th scope=col>&lt;int&gt;</th></tr>\n",
       "</thead>\n",
       "<tbody>\n",
       "\t<tr><th scope=row>1</th><td>bld_plt1_01_0_1.mzML  </td><td>plasma</td><td>Subject_1</td><td>0  </td><td>not applicable</td><td>19</td></tr>\n",
       "\t<tr><th scope=row>2</th><td>bld_plt1_01_120_1.mzML</td><td>plasma</td><td>Subject_1</td><td>120</td><td>not applicable</td><td>32</td></tr>\n",
       "</tbody>\n",
       "</table>\n"
      ],
      "text/latex": [
       "A data.frame: 2 × 6\n",
       "\\begin{tabular}{r|llllll}\n",
       "  & filename & ATTRIBUTE\\_Sample\\_Type & ATTRIBUTE\\_Subject & ATTRIBUTE\\_Timepoint\\_min & ATTRIBUTE\\_Sampling\\_Location & ATTRIBUTE\\_Analysis\\_order\\\\\n",
       "  & <chr> & <chr> & <chr> & <chr> & <chr> & <int>\\\\\n",
       "\\hline\n",
       "\t1 & bld\\_plt1\\_01\\_0\\_1.mzML   & plasma & Subject\\_1 & 0   & not applicable & 19\\\\\n",
       "\t2 & bld\\_plt1\\_01\\_120\\_1.mzML & plasma & Subject\\_1 & 120 & not applicable & 32\\\\\n",
       "\\end{tabular}\n"
      ],
      "text/markdown": [
       "\n",
       "A data.frame: 2 × 6\n",
       "\n",
       "| <!--/--> | filename &lt;chr&gt; | ATTRIBUTE_Sample_Type &lt;chr&gt; | ATTRIBUTE_Subject &lt;chr&gt; | ATTRIBUTE_Timepoint_min &lt;chr&gt; | ATTRIBUTE_Sampling_Location &lt;chr&gt; | ATTRIBUTE_Analysis_order &lt;int&gt; |\n",
       "|---|---|---|---|---|---|---|\n",
       "| 1 | bld_plt1_01_0_1.mzML   | plasma | Subject_1 | 0   | not applicable | 19 |\n",
       "| 2 | bld_plt1_01_120_1.mzML | plasma | Subject_1 | 120 | not applicable | 32 |\n",
       "\n"
      ],
      "text/plain": [
       "  filename               ATTRIBUTE_Sample_Type ATTRIBUTE_Subject\n",
       "1 bld_plt1_01_0_1.mzML   plasma                Subject_1        \n",
       "2 bld_plt1_01_120_1.mzML plasma                Subject_1        \n",
       "  ATTRIBUTE_Timepoint_min ATTRIBUTE_Sampling_Location ATTRIBUTE_Analysis_order\n",
       "1 0                       not applicable              19                      \n",
       "2 120                     not applicable              32                      "
      ]
     },
     "metadata": {},
     "output_type": "display_data"
    },
    {
     "data": {
      "text/html": [
       "<style>\n",
       ".list-inline {list-style: none; margin:0; padding: 0}\n",
       ".list-inline>li {display: inline-block}\n",
       ".list-inline>li:not(:last-child)::after {content: \"\\00b7\"; padding: 0 .5ex}\n",
       "</style>\n",
       "<ol class=list-inline><li>88</li><li>6</li></ol>\n"
      ],
      "text/latex": [
       "\\begin{enumerate*}\n",
       "\\item 88\n",
       "\\item 6\n",
       "\\end{enumerate*}\n"
      ],
      "text/markdown": [
       "1. 88\n",
       "2. 6\n",
       "\n",
       "\n"
      ],
      "text/plain": [
       "[1] 88  6"
      ]
     },
     "metadata": {},
     "output_type": "display_data"
    }
   ],
   "source": [
    "head(new_md,2)\n",
    "dim(new_md)"
   ]
  },
  {
   "cell_type": "code",
   "execution_count": 189,
   "id": "422a97dc-5318-4d01-ae9b-9a9718ca3888",
   "metadata": {},
   "outputs": [],
   "source": [
    "# using this metadata, subset the corresponding columns from new_ft\n",
    "new_ft <- new_ft[,colnames(new_ft) %in% new_md$filename]"
   ]
  },
  {
   "cell_type": "code",
   "execution_count": 190,
   "id": "b97585b4-803a-4d09-abe9-9b04f1f79b50",
   "metadata": {},
   "outputs": [
    {
     "data": {
      "text/plain": [
       "\n",
       "TRUE \n",
       "  88 "
      ]
     },
     "metadata": {},
     "output_type": "display_data"
    }
   ],
   "source": [
    "# how many files in the metadata are also present in the feature table\n",
    "table(new_md$filename %in% colnames(new_ft))"
   ]
  },
  {
   "cell_type": "code",
   "execution_count": 191,
   "id": "7eca4011-5127-4ad1-9f21-9d80efae927b",
   "metadata": {},
   "outputs": [
    {
     "data": {
      "text/html": [],
      "text/latex": [],
      "text/markdown": [],
      "text/plain": [
       "character(0)"
      ]
     },
     "metadata": {},
     "output_type": "display_data"
    }
   ],
   "source": [
    "# If the above cell returns FALSE, check which file names in the metadata are not in the feature table.\n",
    "setdiff(new_md$filename,colnames(new_ft))"
   ]
  },
  {
   "cell_type": "code",
   "execution_count": 192,
   "id": "f8341f98-b435-4856-91ce-ca83163c6009",
   "metadata": {},
   "outputs": [
    {
     "data": {
      "text/html": [
       "<style>\n",
       ".list-inline {list-style: none; margin:0; padding: 0}\n",
       ".list-inline>li {display: inline-block}\n",
       ".list-inline>li:not(:last-child)::after {content: \"\\00b7\"; padding: 0 .5ex}\n",
       "</style>\n",
       "<ol class=list-inline><li>6182</li><li>102</li></ol>\n"
      ],
      "text/latex": [
       "\\begin{enumerate*}\n",
       "\\item 6182\n",
       "\\item 102\n",
       "\\end{enumerate*}\n"
      ],
      "text/markdown": [
       "1. 6182\n",
       "2. 102\n",
       "\n",
       "\n"
      ],
      "text/plain": [
       "[1] 6182  102"
      ]
     },
     "metadata": {},
     "output_type": "display_data"
    },
    {
     "data": {
      "text/html": [
       "<style>\n",
       ".list-inline {list-style: none; margin:0; padding: 0}\n",
       ".list-inline>li {display: inline-block}\n",
       ".list-inline>li:not(:last-child)::after {content: \"\\00b7\"; padding: 0 .5ex}\n",
       "</style>\n",
       "<ol class=list-inline><li>6182</li><li>88</li></ol>\n"
      ],
      "text/latex": [
       "\\begin{enumerate*}\n",
       "\\item 6182\n",
       "\\item 88\n",
       "\\end{enumerate*}\n"
      ],
      "text/markdown": [
       "1. 6182\n",
       "2. 88\n",
       "\n",
       "\n"
      ],
      "text/plain": [
       "[1] 6182   88"
      ]
     },
     "metadata": {},
     "output_type": "display_data"
    },
    {
     "data": {
      "text/html": [
       "<style>\n",
       ".list-inline {list-style: none; margin:0; padding: 0}\n",
       ".list-inline>li {display: inline-block}\n",
       ".list-inline>li:not(:last-child)::after {content: \"\\00b7\"; padding: 0 .5ex}\n",
       "</style>\n",
       "<ol class=list-inline><li>88</li><li>6</li></ol>\n"
      ],
      "text/latex": [
       "\\begin{enumerate*}\n",
       "\\item 88\n",
       "\\item 6\n",
       "\\end{enumerate*}\n"
      ],
      "text/markdown": [
       "1. 88\n",
       "2. 6\n",
       "\n",
       "\n"
      ],
      "text/plain": [
       "[1] 88  6"
      ]
     },
     "metadata": {},
     "output_type": "display_data"
    }
   ],
   "source": [
    "#checking the dimensions of our new_ft and new_md:\n",
    "dim(ft) # our original feature table\n",
    "dim(new_ft) \n",
    "dim(new_md)"
   ]
  },
  {
   "cell_type": "markdown",
   "id": "2baa7466-809d-4f8e-b91f-937cdfb2bd01",
   "metadata": {},
   "source": [
    "Here, notice that the number of columns in new_ft is the same as number of rows in new_md (88). This shows that we have equal number of files for data cleanup."
   ]
  },
  {
   "cell_type": "markdown",
   "id": "0904147d-169a-42bb-b57a-d2df58ecda68",
   "metadata": {},
   "source": [
    "## Data Cleanup"
   ]
  },
  {
   "cell_type": "code",
   "execution_count": 193,
   "id": "611d20bd-b797-4070-b842-94245b8d8a7d",
   "metadata": {},
   "outputs": [
    {
     "data": {
      "text/html": [
       "TRUE"
      ],
      "text/latex": [
       "TRUE"
      ],
      "text/markdown": [
       "TRUE"
      ],
      "text/plain": [
       "[1] TRUE"
      ]
     },
     "metadata": {},
     "output_type": "display_data"
    }
   ],
   "source": [
    "ft_t <- as.data.frame(t(new_ft)) #transposing the ft\n",
    "ft_t <- ft_t %>% mutate_all(as.numeric)  #converting all values to numeric\n",
    "identical(new_md$filename,rownames(ft_t)) #should return TRUE now"
   ]
  },
  {
   "cell_type": "code",
   "execution_count": 194,
   "id": "ef0c77c6-d30f-486b-ac6c-54189c4a7911",
   "metadata": {},
   "outputs": [
    {
     "data": {
      "text/html": [
       "<table class=\"dataframe\">\n",
       "<caption>A data.frame: 3 × 6182</caption>\n",
       "<thead>\n",
       "\t<tr><th></th><th scope=col>X9002_150.063_4.963</th><th scope=col>X8808_150.596_4.822</th><th scope=col>X4094_151.039_3.305</th><th scope=col>X2584_151.039_2.783</th><th scope=col>X5788_151.075_3.796</th><th scope=col>X5122_151.075_3.587</th><th scope=col>X598_151.075_1.534</th><th scope=col>X1334_151.075_2.335</th><th scope=col>X649_151.075_1.623</th><th scope=col>X2884_151.075_2.864</th><th scope=col>...</th><th scope=col>X7209_1259.493_4.282</th><th scope=col>X7274_1259.638_4.269</th><th scope=col>X14656_1280.974_7.835</th><th scope=col>X7238_1282.787_4.259</th><th scope=col>X14458_1303.827_7.386</th><th scope=col>X14686_1310.987_8.01</th><th scope=col>X14690_1315.94_8.014</th><th scope=col>X14715_1369.027_8.219</th><th scope=col>X14730_1427.068_8.446</th><th scope=col>X7267_1469.075_4.282</th></tr>\n",
       "\t<tr><th></th><th scope=col>&lt;dbl&gt;</th><th scope=col>&lt;dbl&gt;</th><th scope=col>&lt;dbl&gt;</th><th scope=col>&lt;dbl&gt;</th><th scope=col>&lt;dbl&gt;</th><th scope=col>&lt;dbl&gt;</th><th scope=col>&lt;dbl&gt;</th><th scope=col>&lt;dbl&gt;</th><th scope=col>&lt;dbl&gt;</th><th scope=col>&lt;dbl&gt;</th><th scope=col>...</th><th scope=col>&lt;dbl&gt;</th><th scope=col>&lt;dbl&gt;</th><th scope=col>&lt;dbl&gt;</th><th scope=col>&lt;dbl&gt;</th><th scope=col>&lt;dbl&gt;</th><th scope=col>&lt;dbl&gt;</th><th scope=col>&lt;dbl&gt;</th><th scope=col>&lt;dbl&gt;</th><th scope=col>&lt;dbl&gt;</th><th scope=col>&lt;dbl&gt;</th></tr>\n",
       "</thead>\n",
       "<tbody>\n",
       "\t<tr><th scope=row>bld_plt1_01_0_1.mzML</th><td>  0.0000</td><td>0</td><td>0</td><td>36.13497</td><td> 32.80677</td><td> 0.00000</td><td>0</td><td>14.55033</td><td>0</td><td>56.37600</td><td>...</td><td>  607.6808</td><td>  873.9661</td><td>0</td><td>373.55997</td><td>513.7577</td><td>0</td><td>0</td><td>0</td><td>0</td><td> 395.2695</td></tr>\n",
       "\t<tr><th scope=row>bld_plt1_01_120_1.mzML</th><td>  0.0000</td><td>0</td><td>0</td><td>17.66232</td><td>  0.00000</td><td> 0.00000</td><td>0</td><td> 0.00000</td><td>0</td><td>33.01907</td><td>...</td><td>10690.7350</td><td>10837.2060</td><td>0</td><td>138.98517</td><td>  0.0000</td><td>0</td><td>0</td><td>0</td><td>0</td><td>2239.0618</td></tr>\n",
       "\t<tr><th scope=row>bld_plt1_01_600_1.mzML</th><td>185.3507</td><td>0</td><td>0</td><td> 0.00000</td><td>308.23676</td><td>31.21204</td><td>0</td><td>37.54714</td><td>0</td><td>24.75143</td><td>...</td><td>  857.4142</td><td> 1716.9182</td><td>0</td><td> 33.90259</td><td>510.5584</td><td>0</td><td>0</td><td>0</td><td>0</td><td> 187.0287</td></tr>\n",
       "</tbody>\n",
       "</table>\n"
      ],
      "text/latex": [
       "A data.frame: 3 × 6182\n",
       "\\begin{tabular}{r|lllllllllllllllllllll}\n",
       "  & X9002\\_150.063\\_4.963 & X8808\\_150.596\\_4.822 & X4094\\_151.039\\_3.305 & X2584\\_151.039\\_2.783 & X5788\\_151.075\\_3.796 & X5122\\_151.075\\_3.587 & X598\\_151.075\\_1.534 & X1334\\_151.075\\_2.335 & X649\\_151.075\\_1.623 & X2884\\_151.075\\_2.864 & ... & X7209\\_1259.493\\_4.282 & X7274\\_1259.638\\_4.269 & X14656\\_1280.974\\_7.835 & X7238\\_1282.787\\_4.259 & X14458\\_1303.827\\_7.386 & X14686\\_1310.987\\_8.01 & X14690\\_1315.94\\_8.014 & X14715\\_1369.027\\_8.219 & X14730\\_1427.068\\_8.446 & X7267\\_1469.075\\_4.282\\\\\n",
       "  & <dbl> & <dbl> & <dbl> & <dbl> & <dbl> & <dbl> & <dbl> & <dbl> & <dbl> & <dbl> & ... & <dbl> & <dbl> & <dbl> & <dbl> & <dbl> & <dbl> & <dbl> & <dbl> & <dbl> & <dbl>\\\\\n",
       "\\hline\n",
       "\tbld\\_plt1\\_01\\_0\\_1.mzML &   0.0000 & 0 & 0 & 36.13497 &  32.80677 &  0.00000 & 0 & 14.55033 & 0 & 56.37600 & ... &   607.6808 &   873.9661 & 0 & 373.55997 & 513.7577 & 0 & 0 & 0 & 0 &  395.2695\\\\\n",
       "\tbld\\_plt1\\_01\\_120\\_1.mzML &   0.0000 & 0 & 0 & 17.66232 &   0.00000 &  0.00000 & 0 &  0.00000 & 0 & 33.01907 & ... & 10690.7350 & 10837.2060 & 0 & 138.98517 &   0.0000 & 0 & 0 & 0 & 0 & 2239.0618\\\\\n",
       "\tbld\\_plt1\\_01\\_600\\_1.mzML & 185.3507 & 0 & 0 &  0.00000 & 308.23676 & 31.21204 & 0 & 37.54714 & 0 & 24.75143 & ... &   857.4142 &  1716.9182 & 0 &  33.90259 & 510.5584 & 0 & 0 & 0 & 0 &  187.0287\\\\\n",
       "\\end{tabular}\n"
      ],
      "text/markdown": [
       "\n",
       "A data.frame: 3 × 6182\n",
       "\n",
       "| <!--/--> | X9002_150.063_4.963 &lt;dbl&gt; | X8808_150.596_4.822 &lt;dbl&gt; | X4094_151.039_3.305 &lt;dbl&gt; | X2584_151.039_2.783 &lt;dbl&gt; | X5788_151.075_3.796 &lt;dbl&gt; | X5122_151.075_3.587 &lt;dbl&gt; | X598_151.075_1.534 &lt;dbl&gt; | X1334_151.075_2.335 &lt;dbl&gt; | X649_151.075_1.623 &lt;dbl&gt; | X2884_151.075_2.864 &lt;dbl&gt; | ... ... | X7209_1259.493_4.282 &lt;dbl&gt; | X7274_1259.638_4.269 &lt;dbl&gt; | X14656_1280.974_7.835 &lt;dbl&gt; | X7238_1282.787_4.259 &lt;dbl&gt; | X14458_1303.827_7.386 &lt;dbl&gt; | X14686_1310.987_8.01 &lt;dbl&gt; | X14690_1315.94_8.014 &lt;dbl&gt; | X14715_1369.027_8.219 &lt;dbl&gt; | X14730_1427.068_8.446 &lt;dbl&gt; | X7267_1469.075_4.282 &lt;dbl&gt; |\n",
       "|---|---|---|---|---|---|---|---|---|---|---|---|---|---|---|---|---|---|---|---|---|---|\n",
       "| bld_plt1_01_0_1.mzML |   0.0000 | 0 | 0 | 36.13497 |  32.80677 |  0.00000 | 0 | 14.55033 | 0 | 56.37600 | ... |   607.6808 |   873.9661 | 0 | 373.55997 | 513.7577 | 0 | 0 | 0 | 0 |  395.2695 |\n",
       "| bld_plt1_01_120_1.mzML |   0.0000 | 0 | 0 | 17.66232 |   0.00000 |  0.00000 | 0 |  0.00000 | 0 | 33.01907 | ... | 10690.7350 | 10837.2060 | 0 | 138.98517 |   0.0000 | 0 | 0 | 0 | 0 | 2239.0618 |\n",
       "| bld_plt1_01_600_1.mzML | 185.3507 | 0 | 0 |  0.00000 | 308.23676 | 31.21204 | 0 | 37.54714 | 0 | 24.75143 | ... |   857.4142 |  1716.9182 | 0 |  33.90259 | 510.5584 | 0 | 0 | 0 | 0 |  187.0287 |\n",
       "\n"
      ],
      "text/plain": [
       "                       X9002_150.063_4.963 X8808_150.596_4.822\n",
       "bld_plt1_01_0_1.mzML     0.0000            0                  \n",
       "bld_plt1_01_120_1.mzML   0.0000            0                  \n",
       "bld_plt1_01_600_1.mzML 185.3507            0                  \n",
       "                       X4094_151.039_3.305 X2584_151.039_2.783\n",
       "bld_plt1_01_0_1.mzML   0                   36.13497           \n",
       "bld_plt1_01_120_1.mzML 0                   17.66232           \n",
       "bld_plt1_01_600_1.mzML 0                    0.00000           \n",
       "                       X5788_151.075_3.796 X5122_151.075_3.587\n",
       "bld_plt1_01_0_1.mzML    32.80677            0.00000           \n",
       "bld_plt1_01_120_1.mzML   0.00000            0.00000           \n",
       "bld_plt1_01_600_1.mzML 308.23676           31.21204           \n",
       "                       X598_151.075_1.534 X1334_151.075_2.335\n",
       "bld_plt1_01_0_1.mzML   0                  14.55033           \n",
       "bld_plt1_01_120_1.mzML 0                   0.00000           \n",
       "bld_plt1_01_600_1.mzML 0                  37.54714           \n",
       "                       X649_151.075_1.623 X2884_151.075_2.864 ...\n",
       "bld_plt1_01_0_1.mzML   0                  56.37600            ...\n",
       "bld_plt1_01_120_1.mzML 0                  33.01907            ...\n",
       "bld_plt1_01_600_1.mzML 0                  24.75143            ...\n",
       "                       X7209_1259.493_4.282 X7274_1259.638_4.269\n",
       "bld_plt1_01_0_1.mzML     607.6808             873.9661          \n",
       "bld_plt1_01_120_1.mzML 10690.7350           10837.2060          \n",
       "bld_plt1_01_600_1.mzML   857.4142            1716.9182          \n",
       "                       X14656_1280.974_7.835 X7238_1282.787_4.259\n",
       "bld_plt1_01_0_1.mzML   0                     373.55997           \n",
       "bld_plt1_01_120_1.mzML 0                     138.98517           \n",
       "bld_plt1_01_600_1.mzML 0                      33.90259           \n",
       "                       X14458_1303.827_7.386 X14686_1310.987_8.01\n",
       "bld_plt1_01_0_1.mzML   513.7577              0                   \n",
       "bld_plt1_01_120_1.mzML   0.0000              0                   \n",
       "bld_plt1_01_600_1.mzML 510.5584              0                   \n",
       "                       X14690_1315.94_8.014 X14715_1369.027_8.219\n",
       "bld_plt1_01_0_1.mzML   0                    0                    \n",
       "bld_plt1_01_120_1.mzML 0                    0                    \n",
       "bld_plt1_01_600_1.mzML 0                    0                    \n",
       "                       X14730_1427.068_8.446 X7267_1469.075_4.282\n",
       "bld_plt1_01_0_1.mzML   0                      395.2695           \n",
       "bld_plt1_01_120_1.mzML 0                     2239.0618           \n",
       "bld_plt1_01_600_1.mzML 0                      187.0287           "
      ]
     },
     "metadata": {},
     "output_type": "display_data"
    },
    {
     "data": {
      "text/html": [
       "<style>\n",
       ".list-inline {list-style: none; margin:0; padding: 0}\n",
       ".list-inline>li {display: inline-block}\n",
       ".list-inline>li:not(:last-child)::after {content: \"\\00b7\"; padding: 0 .5ex}\n",
       "</style>\n",
       "<ol class=list-inline><li>88</li><li>6182</li></ol>\n"
      ],
      "text/latex": [
       "\\begin{enumerate*}\n",
       "\\item 88\n",
       "\\item 6182\n",
       "\\end{enumerate*}\n"
      ],
      "text/markdown": [
       "1. 88\n",
       "2. 6182\n",
       "\n",
       "\n"
      ],
      "text/plain": [
       "[1]   88 6182"
      ]
     },
     "metadata": {},
     "output_type": "display_data"
    }
   ],
   "source": [
    "head(ft_t, 3)\n",
    "dim(ft_t)"
   ]
  },
  {
   "cell_type": "code",
   "execution_count": 195,
   "id": "97643cf7-1a5e-451e-8d40-1eb2d6421170",
   "metadata": {},
   "outputs": [
    {
     "data": {
      "text/html": [
       "<table class=\"dataframe\">\n",
       "<caption>A data.frame: 3 × 6</caption>\n",
       "<thead>\n",
       "\t<tr><th></th><th scope=col>filename</th><th scope=col>ATTRIBUTE_Sample_Type</th><th scope=col>ATTRIBUTE_Subject</th><th scope=col>ATTRIBUTE_Timepoint_min</th><th scope=col>ATTRIBUTE_Sampling_Location</th><th scope=col>ATTRIBUTE_Analysis_order</th></tr>\n",
       "\t<tr><th></th><th scope=col>&lt;chr&gt;</th><th scope=col>&lt;chr&gt;</th><th scope=col>&lt;chr&gt;</th><th scope=col>&lt;chr&gt;</th><th scope=col>&lt;chr&gt;</th><th scope=col>&lt;int&gt;</th></tr>\n",
       "</thead>\n",
       "<tbody>\n",
       "\t<tr><th scope=row>1</th><td>bld_plt1_01_0_1.mzML  </td><td>plasma</td><td>Subject_1</td><td>0  </td><td>not applicable</td><td>19</td></tr>\n",
       "\t<tr><th scope=row>2</th><td>bld_plt1_01_120_1.mzML</td><td>plasma</td><td>Subject_1</td><td>120</td><td>not applicable</td><td>32</td></tr>\n",
       "\t<tr><th scope=row>3</th><td>bld_plt1_01_600_1.mzML</td><td>plasma</td><td>Subject_1</td><td>600</td><td>not applicable</td><td>51</td></tr>\n",
       "</tbody>\n",
       "</table>\n"
      ],
      "text/latex": [
       "A data.frame: 3 × 6\n",
       "\\begin{tabular}{r|llllll}\n",
       "  & filename & ATTRIBUTE\\_Sample\\_Type & ATTRIBUTE\\_Subject & ATTRIBUTE\\_Timepoint\\_min & ATTRIBUTE\\_Sampling\\_Location & ATTRIBUTE\\_Analysis\\_order\\\\\n",
       "  & <chr> & <chr> & <chr> & <chr> & <chr> & <int>\\\\\n",
       "\\hline\n",
       "\t1 & bld\\_plt1\\_01\\_0\\_1.mzML   & plasma & Subject\\_1 & 0   & not applicable & 19\\\\\n",
       "\t2 & bld\\_plt1\\_01\\_120\\_1.mzML & plasma & Subject\\_1 & 120 & not applicable & 32\\\\\n",
       "\t3 & bld\\_plt1\\_01\\_600\\_1.mzML & plasma & Subject\\_1 & 600 & not applicable & 51\\\\\n",
       "\\end{tabular}\n"
      ],
      "text/markdown": [
       "\n",
       "A data.frame: 3 × 6\n",
       "\n",
       "| <!--/--> | filename &lt;chr&gt; | ATTRIBUTE_Sample_Type &lt;chr&gt; | ATTRIBUTE_Subject &lt;chr&gt; | ATTRIBUTE_Timepoint_min &lt;chr&gt; | ATTRIBUTE_Sampling_Location &lt;chr&gt; | ATTRIBUTE_Analysis_order &lt;int&gt; |\n",
       "|---|---|---|---|---|---|---|\n",
       "| 1 | bld_plt1_01_0_1.mzML   | plasma | Subject_1 | 0   | not applicable | 19 |\n",
       "| 2 | bld_plt1_01_120_1.mzML | plasma | Subject_1 | 120 | not applicable | 32 |\n",
       "| 3 | bld_plt1_01_600_1.mzML | plasma | Subject_1 | 600 | not applicable | 51 |\n",
       "\n"
      ],
      "text/plain": [
       "  filename               ATTRIBUTE_Sample_Type ATTRIBUTE_Subject\n",
       "1 bld_plt1_01_0_1.mzML   plasma                Subject_1        \n",
       "2 bld_plt1_01_120_1.mzML plasma                Subject_1        \n",
       "3 bld_plt1_01_600_1.mzML plasma                Subject_1        \n",
       "  ATTRIBUTE_Timepoint_min ATTRIBUTE_Sampling_Location ATTRIBUTE_Analysis_order\n",
       "1 0                       not applicable              19                      \n",
       "2 120                     not applicable              32                      \n",
       "3 600                     not applicable              51                      "
      ]
     },
     "metadata": {},
     "output_type": "display_data"
    },
    {
     "data": {
      "text/html": [
       "<style>\n",
       ".list-inline {list-style: none; margin:0; padding: 0}\n",
       ".list-inline>li {display: inline-block}\n",
       ".list-inline>li:not(:last-child)::after {content: \"\\00b7\"; padding: 0 .5ex}\n",
       "</style>\n",
       "<ol class=list-inline><li>88</li><li>6</li></ol>\n"
      ],
      "text/latex": [
       "\\begin{enumerate*}\n",
       "\\item 88\n",
       "\\item 6\n",
       "\\end{enumerate*}\n"
      ],
      "text/markdown": [
       "1. 88\n",
       "2. 6\n",
       "\n",
       "\n"
      ],
      "text/plain": [
       "[1] 88  6"
      ]
     },
     "metadata": {},
     "output_type": "display_data"
    }
   ],
   "source": [
    "head(new_md, 3)\n",
    "dim(new_md)"
   ]
  },
  {
   "cell_type": "markdown",
   "id": "b5c7db9d-0f94-4856-af21-ada693c06642",
   "metadata": {},
   "source": [
    "We can see that our feature table and metadata are in the same order. In the feature table, the samples are in rows and features are in columns. In the metadata, we have the samples in rows as well, here the columns are attributes explaining these samples."
   ]
  },
  {
   "cell_type": "markdown",
   "id": "77cb2065-d66e-44ca-bf60-43d6280b11f9",
   "metadata": {},
   "source": [
    "## 1. Blank removal"
   ]
  },
  {
   "cell_type": "markdown",
   "id": "935c029e-f3aa-4f94-9af4-10b70ff40072",
   "metadata": {},
   "source": [
    "<p style='text-align: justify;'> Blank samples contain no analytes of interest and consist, for example, of the solvent, matrix, tissue or growth media that was used to prepare or dissolve the samples and analytes of interest. Such as the analytes, the mass spectral features deriving from blank samples are also detected by the LC-MS/MS instrument. We need to remove these blank features to obtain accurate results.</p>\n",
    "\n",
    "- To eliminate these blank features, we first split the feature table into blanks and samples, and then use a cutoff filter. \n",
    "- Next, we calculate the average feature intensities for the blanks and samples, and subsequently calculate the ratio of 'average_feature_blanks' to 'average_feature_sample'. \n",
    "- We compare this ratio against the user-defined cutoff to determine which features to be removed. \n",
    "- When the cutoff is set to 0.3, it means that the feature's intensity in the blanks is more than 30% of its intensity in the actual samples. These features are considered to be predominantly from the blank, so they are removed from the dataset.\n",
    "- Raising the cutoff leads to fewer background features being identified and more analyte features being observed. Conversely, lowering the cutoff, such as 10% (0.1), is more rigorous and leads to the removal of more features.\n",
    "\n",
    "<font color=\"red\" size =4>We use a cutoff of 0.1</font>"
   ]
  },
  {
   "cell_type": "code",
   "execution_count": 196,
   "id": "5180fbe3-bd27-431d-8779-41de34a8437a",
   "metadata": {},
   "outputs": [
    {
     "data": {
      "text/plain": [
       "\n",
       "      plasma plasma_blank         skin   skin_blank \n",
       "          42            2           42            2 "
      ]
     },
     "metadata": {},
     "output_type": "display_data"
    }
   ],
   "source": [
    "table(new_md$ATTRIBUTE_Sample_Type)"
   ]
  },
  {
   "cell_type": "code",
   "execution_count": 197,
   "id": "b62c5a17-7739-4252-bd68-67c877ed80dd",
   "metadata": {},
   "outputs": [
    {
     "data": {
      "text/html": [
       "<table class=\"dataframe\">\n",
       "<caption>A data.frame: 2 × 6182</caption>\n",
       "<thead>\n",
       "\t<tr><th></th><th scope=col>X9002_150.063_4.963</th><th scope=col>X8808_150.596_4.822</th><th scope=col>X4094_151.039_3.305</th><th scope=col>X2584_151.039_2.783</th><th scope=col>X5788_151.075_3.796</th><th scope=col>X5122_151.075_3.587</th><th scope=col>X598_151.075_1.534</th><th scope=col>X1334_151.075_2.335</th><th scope=col>X649_151.075_1.623</th><th scope=col>X2884_151.075_2.864</th><th scope=col>...</th><th scope=col>X7209_1259.493_4.282</th><th scope=col>X7274_1259.638_4.269</th><th scope=col>X14656_1280.974_7.835</th><th scope=col>X7238_1282.787_4.259</th><th scope=col>X14458_1303.827_7.386</th><th scope=col>X14686_1310.987_8.01</th><th scope=col>X14690_1315.94_8.014</th><th scope=col>X14715_1369.027_8.219</th><th scope=col>X14730_1427.068_8.446</th><th scope=col>X7267_1469.075_4.282</th></tr>\n",
       "\t<tr><th></th><th scope=col>&lt;dbl&gt;</th><th scope=col>&lt;dbl&gt;</th><th scope=col>&lt;dbl&gt;</th><th scope=col>&lt;dbl&gt;</th><th scope=col>&lt;dbl&gt;</th><th scope=col>&lt;dbl&gt;</th><th scope=col>&lt;dbl&gt;</th><th scope=col>&lt;dbl&gt;</th><th scope=col>&lt;dbl&gt;</th><th scope=col>&lt;dbl&gt;</th><th scope=col>...</th><th scope=col>&lt;dbl&gt;</th><th scope=col>&lt;dbl&gt;</th><th scope=col>&lt;dbl&gt;</th><th scope=col>&lt;dbl&gt;</th><th scope=col>&lt;dbl&gt;</th><th scope=col>&lt;dbl&gt;</th><th scope=col>&lt;dbl&gt;</th><th scope=col>&lt;dbl&gt;</th><th scope=col>&lt;dbl&gt;</th><th scope=col>&lt;dbl&gt;</th></tr>\n",
       "</thead>\n",
       "<tbody>\n",
       "\t<tr><th scope=row>bld_plt1_blk_02.mzML</th><td>130.0856</td><td>0</td><td>0</td><td>0</td><td> 0.00000</td><td>0</td><td>0</td><td>0</td><td>0</td><td> 0.00000</td><td>...</td><td>26.56705</td><td>32.13451</td><td>0</td><td>38.03688</td><td>1957.326</td><td>0</td><td>0</td><td>0</td><td>0</td><td>41.82424</td></tr>\n",
       "\t<tr><th scope=row>bld_plt2_blk_04.mzML</th><td>260.5778</td><td>0</td><td>0</td><td>0</td><td>14.45017</td><td>0</td><td>0</td><td>0</td><td>0</td><td>10.07951</td><td>...</td><td>37.94781</td><td>20.07441</td><td>0</td><td>24.93487</td><td>   0.000</td><td>0</td><td>0</td><td>0</td><td>0</td><td>24.29009</td></tr>\n",
       "</tbody>\n",
       "</table>\n"
      ],
      "text/latex": [
       "A data.frame: 2 × 6182\n",
       "\\begin{tabular}{r|lllllllllllllllllllll}\n",
       "  & X9002\\_150.063\\_4.963 & X8808\\_150.596\\_4.822 & X4094\\_151.039\\_3.305 & X2584\\_151.039\\_2.783 & X5788\\_151.075\\_3.796 & X5122\\_151.075\\_3.587 & X598\\_151.075\\_1.534 & X1334\\_151.075\\_2.335 & X649\\_151.075\\_1.623 & X2884\\_151.075\\_2.864 & ... & X7209\\_1259.493\\_4.282 & X7274\\_1259.638\\_4.269 & X14656\\_1280.974\\_7.835 & X7238\\_1282.787\\_4.259 & X14458\\_1303.827\\_7.386 & X14686\\_1310.987\\_8.01 & X14690\\_1315.94\\_8.014 & X14715\\_1369.027\\_8.219 & X14730\\_1427.068\\_8.446 & X7267\\_1469.075\\_4.282\\\\\n",
       "  & <dbl> & <dbl> & <dbl> & <dbl> & <dbl> & <dbl> & <dbl> & <dbl> & <dbl> & <dbl> & ... & <dbl> & <dbl> & <dbl> & <dbl> & <dbl> & <dbl> & <dbl> & <dbl> & <dbl> & <dbl>\\\\\n",
       "\\hline\n",
       "\tbld\\_plt1\\_blk\\_02.mzML & 130.0856 & 0 & 0 & 0 &  0.00000 & 0 & 0 & 0 & 0 &  0.00000 & ... & 26.56705 & 32.13451 & 0 & 38.03688 & 1957.326 & 0 & 0 & 0 & 0 & 41.82424\\\\\n",
       "\tbld\\_plt2\\_blk\\_04.mzML & 260.5778 & 0 & 0 & 0 & 14.45017 & 0 & 0 & 0 & 0 & 10.07951 & ... & 37.94781 & 20.07441 & 0 & 24.93487 &    0.000 & 0 & 0 & 0 & 0 & 24.29009\\\\\n",
       "\\end{tabular}\n"
      ],
      "text/markdown": [
       "\n",
       "A data.frame: 2 × 6182\n",
       "\n",
       "| <!--/--> | X9002_150.063_4.963 &lt;dbl&gt; | X8808_150.596_4.822 &lt;dbl&gt; | X4094_151.039_3.305 &lt;dbl&gt; | X2584_151.039_2.783 &lt;dbl&gt; | X5788_151.075_3.796 &lt;dbl&gt; | X5122_151.075_3.587 &lt;dbl&gt; | X598_151.075_1.534 &lt;dbl&gt; | X1334_151.075_2.335 &lt;dbl&gt; | X649_151.075_1.623 &lt;dbl&gt; | X2884_151.075_2.864 &lt;dbl&gt; | ... ... | X7209_1259.493_4.282 &lt;dbl&gt; | X7274_1259.638_4.269 &lt;dbl&gt; | X14656_1280.974_7.835 &lt;dbl&gt; | X7238_1282.787_4.259 &lt;dbl&gt; | X14458_1303.827_7.386 &lt;dbl&gt; | X14686_1310.987_8.01 &lt;dbl&gt; | X14690_1315.94_8.014 &lt;dbl&gt; | X14715_1369.027_8.219 &lt;dbl&gt; | X14730_1427.068_8.446 &lt;dbl&gt; | X7267_1469.075_4.282 &lt;dbl&gt; |\n",
       "|---|---|---|---|---|---|---|---|---|---|---|---|---|---|---|---|---|---|---|---|---|---|\n",
       "| bld_plt1_blk_02.mzML | 130.0856 | 0 | 0 | 0 |  0.00000 | 0 | 0 | 0 | 0 |  0.00000 | ... | 26.56705 | 32.13451 | 0 | 38.03688 | 1957.326 | 0 | 0 | 0 | 0 | 41.82424 |\n",
       "| bld_plt2_blk_04.mzML | 260.5778 | 0 | 0 | 0 | 14.45017 | 0 | 0 | 0 | 0 | 10.07951 | ... | 37.94781 | 20.07441 | 0 | 24.93487 |    0.000 | 0 | 0 | 0 | 0 | 24.29009 |\n",
       "\n"
      ],
      "text/plain": [
       "                     X9002_150.063_4.963 X8808_150.596_4.822\n",
       "bld_plt1_blk_02.mzML 130.0856            0                  \n",
       "bld_plt2_blk_04.mzML 260.5778            0                  \n",
       "                     X4094_151.039_3.305 X2584_151.039_2.783\n",
       "bld_plt1_blk_02.mzML 0                   0                  \n",
       "bld_plt2_blk_04.mzML 0                   0                  \n",
       "                     X5788_151.075_3.796 X5122_151.075_3.587 X598_151.075_1.534\n",
       "bld_plt1_blk_02.mzML  0.00000            0                   0                 \n",
       "bld_plt2_blk_04.mzML 14.45017            0                   0                 \n",
       "                     X1334_151.075_2.335 X649_151.075_1.623 X2884_151.075_2.864\n",
       "bld_plt1_blk_02.mzML 0                   0                   0.00000           \n",
       "bld_plt2_blk_04.mzML 0                   0                  10.07951           \n",
       "                     ... X7209_1259.493_4.282 X7274_1259.638_4.269\n",
       "bld_plt1_blk_02.mzML ... 26.56705             32.13451            \n",
       "bld_plt2_blk_04.mzML ... 37.94781             20.07441            \n",
       "                     X14656_1280.974_7.835 X7238_1282.787_4.259\n",
       "bld_plt1_blk_02.mzML 0                     38.03688            \n",
       "bld_plt2_blk_04.mzML 0                     24.93487            \n",
       "                     X14458_1303.827_7.386 X14686_1310.987_8.01\n",
       "bld_plt1_blk_02.mzML 1957.326              0                   \n",
       "bld_plt2_blk_04.mzML    0.000              0                   \n",
       "                     X14690_1315.94_8.014 X14715_1369.027_8.219\n",
       "bld_plt1_blk_02.mzML 0                    0                    \n",
       "bld_plt2_blk_04.mzML 0                    0                    \n",
       "                     X14730_1427.068_8.446 X7267_1469.075_4.282\n",
       "bld_plt1_blk_02.mzML 0                     41.82424            \n",
       "bld_plt2_blk_04.mzML 0                     24.29009            "
      ]
     },
     "metadata": {},
     "output_type": "display_data"
    },
    {
     "data": {
      "text/html": [
       "<style>\n",
       ".list-inline {list-style: none; margin:0; padding: 0}\n",
       ".list-inline>li {display: inline-block}\n",
       ".list-inline>li:not(:last-child)::after {content: \"\\00b7\"; padding: 0 .5ex}\n",
       "</style>\n",
       "<ol class=list-inline><li>4</li><li>6182</li></ol>\n"
      ],
      "text/latex": [
       "\\begin{enumerate*}\n",
       "\\item 4\n",
       "\\item 6182\n",
       "\\end{enumerate*}\n"
      ],
      "text/markdown": [
       "1. 4\n",
       "2. 6182\n",
       "\n",
       "\n"
      ],
      "text/plain": [
       "[1]    4 6182"
      ]
     },
     "metadata": {},
     "output_type": "display_data"
    }
   ],
   "source": [
    "#Getting the blanks based on the metadata:\n",
    "\n",
    "#filtering the rows from metadata with the condition = blanks\n",
    "md_blank <- new_md %>% filter(`ATTRIBUTE_Sample_Type` == \"plasma_blank\"|\n",
    "                              `ATTRIBUTE_Sample_Type` == \"skin_blank\")  \n",
    "\n",
    "#getting the corresponding rows from ft_t\n",
    "Blanks <- ft_t[which(rownames(ft_t) %in% (md_blank$`filename`)),,drop=F] \n",
    "\n",
    "head(Blanks, n=2)\n",
    "dim(Blanks)"
   ]
  },
  {
   "cell_type": "markdown",
   "id": "0b6fd97e-af1c-4ab0-a251-86c64b3387b0",
   "metadata": {},
   "source": [
    "Looking at the dimension (rows, columns) of the dataframe 'Blanks', 4 samples are detected as blanks."
   ]
  },
  {
   "cell_type": "code",
   "execution_count": 198,
   "id": "33026a5b-8f8c-46ae-beb7-80d8bb135329",
   "metadata": {},
   "outputs": [
    {
     "data": {
      "text/html": [
       "<table class=\"dataframe\">\n",
       "<caption>A data.frame: 2 × 6182</caption>\n",
       "<thead>\n",
       "\t<tr><th></th><th scope=col>X9002_150.063_4.963</th><th scope=col>X8808_150.596_4.822</th><th scope=col>X4094_151.039_3.305</th><th scope=col>X2584_151.039_2.783</th><th scope=col>X5788_151.075_3.796</th><th scope=col>X5122_151.075_3.587</th><th scope=col>X598_151.075_1.534</th><th scope=col>X1334_151.075_2.335</th><th scope=col>X649_151.075_1.623</th><th scope=col>X2884_151.075_2.864</th><th scope=col>...</th><th scope=col>X7209_1259.493_4.282</th><th scope=col>X7274_1259.638_4.269</th><th scope=col>X14656_1280.974_7.835</th><th scope=col>X7238_1282.787_4.259</th><th scope=col>X14458_1303.827_7.386</th><th scope=col>X14686_1310.987_8.01</th><th scope=col>X14690_1315.94_8.014</th><th scope=col>X14715_1369.027_8.219</th><th scope=col>X14730_1427.068_8.446</th><th scope=col>X7267_1469.075_4.282</th></tr>\n",
       "\t<tr><th></th><th scope=col>&lt;dbl&gt;</th><th scope=col>&lt;dbl&gt;</th><th scope=col>&lt;dbl&gt;</th><th scope=col>&lt;dbl&gt;</th><th scope=col>&lt;dbl&gt;</th><th scope=col>&lt;dbl&gt;</th><th scope=col>&lt;dbl&gt;</th><th scope=col>&lt;dbl&gt;</th><th scope=col>&lt;dbl&gt;</th><th scope=col>&lt;dbl&gt;</th><th scope=col>...</th><th scope=col>&lt;dbl&gt;</th><th scope=col>&lt;dbl&gt;</th><th scope=col>&lt;dbl&gt;</th><th scope=col>&lt;dbl&gt;</th><th scope=col>&lt;dbl&gt;</th><th scope=col>&lt;dbl&gt;</th><th scope=col>&lt;dbl&gt;</th><th scope=col>&lt;dbl&gt;</th><th scope=col>&lt;dbl&gt;</th><th scope=col>&lt;dbl&gt;</th></tr>\n",
       "</thead>\n",
       "<tbody>\n",
       "\t<tr><th scope=row>bld_plt1_01_0_1.mzML</th><td>0</td><td>0</td><td>0</td><td>36.13497</td><td>32.80677</td><td>0</td><td>0</td><td>14.55033</td><td>0</td><td>56.37600</td><td>...</td><td>  607.6808</td><td>  873.9661</td><td>0</td><td>373.5600</td><td>513.7577</td><td>0</td><td>0</td><td>0</td><td>0</td><td> 395.2695</td></tr>\n",
       "\t<tr><th scope=row>bld_plt1_01_120_1.mzML</th><td>0</td><td>0</td><td>0</td><td>17.66232</td><td> 0.00000</td><td>0</td><td>0</td><td> 0.00000</td><td>0</td><td>33.01907</td><td>...</td><td>10690.7350</td><td>10837.2060</td><td>0</td><td>138.9852</td><td>  0.0000</td><td>0</td><td>0</td><td>0</td><td>0</td><td>2239.0618</td></tr>\n",
       "</tbody>\n",
       "</table>\n"
      ],
      "text/latex": [
       "A data.frame: 2 × 6182\n",
       "\\begin{tabular}{r|lllllllllllllllllllll}\n",
       "  & X9002\\_150.063\\_4.963 & X8808\\_150.596\\_4.822 & X4094\\_151.039\\_3.305 & X2584\\_151.039\\_2.783 & X5788\\_151.075\\_3.796 & X5122\\_151.075\\_3.587 & X598\\_151.075\\_1.534 & X1334\\_151.075\\_2.335 & X649\\_151.075\\_1.623 & X2884\\_151.075\\_2.864 & ... & X7209\\_1259.493\\_4.282 & X7274\\_1259.638\\_4.269 & X14656\\_1280.974\\_7.835 & X7238\\_1282.787\\_4.259 & X14458\\_1303.827\\_7.386 & X14686\\_1310.987\\_8.01 & X14690\\_1315.94\\_8.014 & X14715\\_1369.027\\_8.219 & X14730\\_1427.068\\_8.446 & X7267\\_1469.075\\_4.282\\\\\n",
       "  & <dbl> & <dbl> & <dbl> & <dbl> & <dbl> & <dbl> & <dbl> & <dbl> & <dbl> & <dbl> & ... & <dbl> & <dbl> & <dbl> & <dbl> & <dbl> & <dbl> & <dbl> & <dbl> & <dbl> & <dbl>\\\\\n",
       "\\hline\n",
       "\tbld\\_plt1\\_01\\_0\\_1.mzML & 0 & 0 & 0 & 36.13497 & 32.80677 & 0 & 0 & 14.55033 & 0 & 56.37600 & ... &   607.6808 &   873.9661 & 0 & 373.5600 & 513.7577 & 0 & 0 & 0 & 0 &  395.2695\\\\\n",
       "\tbld\\_plt1\\_01\\_120\\_1.mzML & 0 & 0 & 0 & 17.66232 &  0.00000 & 0 & 0 &  0.00000 & 0 & 33.01907 & ... & 10690.7350 & 10837.2060 & 0 & 138.9852 &   0.0000 & 0 & 0 & 0 & 0 & 2239.0618\\\\\n",
       "\\end{tabular}\n"
      ],
      "text/markdown": [
       "\n",
       "A data.frame: 2 × 6182\n",
       "\n",
       "| <!--/--> | X9002_150.063_4.963 &lt;dbl&gt; | X8808_150.596_4.822 &lt;dbl&gt; | X4094_151.039_3.305 &lt;dbl&gt; | X2584_151.039_2.783 &lt;dbl&gt; | X5788_151.075_3.796 &lt;dbl&gt; | X5122_151.075_3.587 &lt;dbl&gt; | X598_151.075_1.534 &lt;dbl&gt; | X1334_151.075_2.335 &lt;dbl&gt; | X649_151.075_1.623 &lt;dbl&gt; | X2884_151.075_2.864 &lt;dbl&gt; | ... ... | X7209_1259.493_4.282 &lt;dbl&gt; | X7274_1259.638_4.269 &lt;dbl&gt; | X14656_1280.974_7.835 &lt;dbl&gt; | X7238_1282.787_4.259 &lt;dbl&gt; | X14458_1303.827_7.386 &lt;dbl&gt; | X14686_1310.987_8.01 &lt;dbl&gt; | X14690_1315.94_8.014 &lt;dbl&gt; | X14715_1369.027_8.219 &lt;dbl&gt; | X14730_1427.068_8.446 &lt;dbl&gt; | X7267_1469.075_4.282 &lt;dbl&gt; |\n",
       "|---|---|---|---|---|---|---|---|---|---|---|---|---|---|---|---|---|---|---|---|---|---|\n",
       "| bld_plt1_01_0_1.mzML | 0 | 0 | 0 | 36.13497 | 32.80677 | 0 | 0 | 14.55033 | 0 | 56.37600 | ... |   607.6808 |   873.9661 | 0 | 373.5600 | 513.7577 | 0 | 0 | 0 | 0 |  395.2695 |\n",
       "| bld_plt1_01_120_1.mzML | 0 | 0 | 0 | 17.66232 |  0.00000 | 0 | 0 |  0.00000 | 0 | 33.01907 | ... | 10690.7350 | 10837.2060 | 0 | 138.9852 |   0.0000 | 0 | 0 | 0 | 0 | 2239.0618 |\n",
       "\n"
      ],
      "text/plain": [
       "                       X9002_150.063_4.963 X8808_150.596_4.822\n",
       "bld_plt1_01_0_1.mzML   0                   0                  \n",
       "bld_plt1_01_120_1.mzML 0                   0                  \n",
       "                       X4094_151.039_3.305 X2584_151.039_2.783\n",
       "bld_plt1_01_0_1.mzML   0                   36.13497           \n",
       "bld_plt1_01_120_1.mzML 0                   17.66232           \n",
       "                       X5788_151.075_3.796 X5122_151.075_3.587\n",
       "bld_plt1_01_0_1.mzML   32.80677            0                  \n",
       "bld_plt1_01_120_1.mzML  0.00000            0                  \n",
       "                       X598_151.075_1.534 X1334_151.075_2.335\n",
       "bld_plt1_01_0_1.mzML   0                  14.55033           \n",
       "bld_plt1_01_120_1.mzML 0                   0.00000           \n",
       "                       X649_151.075_1.623 X2884_151.075_2.864 ...\n",
       "bld_plt1_01_0_1.mzML   0                  56.37600            ...\n",
       "bld_plt1_01_120_1.mzML 0                  33.01907            ...\n",
       "                       X7209_1259.493_4.282 X7274_1259.638_4.269\n",
       "bld_plt1_01_0_1.mzML     607.6808             873.9661          \n",
       "bld_plt1_01_120_1.mzML 10690.7350           10837.2060          \n",
       "                       X14656_1280.974_7.835 X7238_1282.787_4.259\n",
       "bld_plt1_01_0_1.mzML   0                     373.5600            \n",
       "bld_plt1_01_120_1.mzML 0                     138.9852            \n",
       "                       X14458_1303.827_7.386 X14686_1310.987_8.01\n",
       "bld_plt1_01_0_1.mzML   513.7577              0                   \n",
       "bld_plt1_01_120_1.mzML   0.0000              0                   \n",
       "                       X14690_1315.94_8.014 X14715_1369.027_8.219\n",
       "bld_plt1_01_0_1.mzML   0                    0                    \n",
       "bld_plt1_01_120_1.mzML 0                    0                    \n",
       "                       X14730_1427.068_8.446 X7267_1469.075_4.282\n",
       "bld_plt1_01_0_1.mzML   0                      395.2695           \n",
       "bld_plt1_01_120_1.mzML 0                     2239.0618           "
      ]
     },
     "metadata": {},
     "output_type": "display_data"
    },
    {
     "data": {
      "text/html": [
       "<style>\n",
       ".list-inline {list-style: none; margin:0; padding: 0}\n",
       ".list-inline>li {display: inline-block}\n",
       ".list-inline>li:not(:last-child)::after {content: \"\\00b7\"; padding: 0 .5ex}\n",
       "</style>\n",
       "<ol class=list-inline><li>84</li><li>6182</li></ol>\n"
      ],
      "text/latex": [
       "\\begin{enumerate*}\n",
       "\\item 84\n",
       "\\item 6182\n",
       "\\end{enumerate*}\n"
      ],
      "text/markdown": [
       "1. 84\n",
       "2. 6182\n",
       "\n",
       "\n"
      ],
      "text/plain": [
       "[1]   84 6182"
      ]
     },
     "metadata": {},
     "output_type": "display_data"
    }
   ],
   "source": [
    "#Getting the samples based on the metadata:\n",
    "\n",
    "#filtering the rows from metadata with the condition = samples\n",
    "md_Samples <- new_md %>% filter(`ATTRIBUTE_Sample_Type` == \"plasma\"|\n",
    "                                `ATTRIBUTE_Sample_Type` == \"skin\")  \n",
    "\n",
    "#getting the corresponding rows from ft_t\n",
    "Samples <- ft_t[which(rownames(ft_t) %in% (md_Samples$`filename`)),,drop=F] \n",
    "\n",
    "head(Samples, n=2)\n",
    "dim(Samples)"
   ]
  },
  {
   "cell_type": "markdown",
   "id": "11a550ca-4fbd-44bb-b335-99dba1533139",
   "metadata": {},
   "source": [
    "Looking at the dimension (rows, columns) of the dataframe 'Samples', 84 samples are detected as samples.<font color=\"red\" size=4> We enter the Cutoff value in the next cell.</font>"
   ]
  },
  {
   "cell_type": "code",
   "execution_count": 199,
   "id": "0ca4d380-d414-4858-969a-e2e8d23e0259",
   "metadata": {},
   "outputs": [],
   "source": [
    "#Ideal cutoff range: 0.1-0.3 (10 -30%)\n",
    "Cutoff <- 0.1 "
   ]
  },
  {
   "cell_type": "code",
   "execution_count": 200,
   "id": "002678cc-b0c9-40a2-8928-9d4dd52e644d",
   "metadata": {},
   "outputs": [
    {
     "name": "stdout",
     "output_type": "stream",
     "text": [
      "Total no.of features: 6182 \n",
      "No.of background or noise features: 613 \n",
      "No.of features after excluding noise: 5569 \n"
     ]
    }
   ],
   "source": [
    "#Getting mean for every feature in blank and Samples in a data frame named 'Avg_ft'\n",
    "Avg_ft <- data.frame(Avg_blank = colMeans(Blanks, na.rm= F)) \n",
    "\n",
    "# adding another column 'Avg_samples' for feature means of samples\n",
    "Avg_ft$`Avg_samples` <- colMeans(Samples, na.rm = F) \n",
    "    \n",
    "#Getting the ratio of blank vs Sample\n",
    "Avg_ft$`Ratio_blank_Sample` <- (Avg_ft$`Avg_blank`+1)/(Avg_ft$`Avg_samples`+1)\n",
    "    \n",
    "# Creating a bin with 1s when the ratio > Cutoff, else put 0s\n",
    "Avg_ft$`Bg_bin` <- ifelse(Avg_ft$`Ratio_blank_Sample` > Cutoff, 1, 0 )\n",
    "\n",
    "# subset the dataframe that are just sample features\n",
    "Avg_ft2 <- filter(Avg_ft, `Bg_bin`==0) \n",
    "\n",
    "#Calculating the number of background features and features present\n",
    "cat(paste(\"Total no.of features:\",nrow(Avg_ft),\"\\n\"))\n",
    "cat(paste(\"No.of background or noise features:\",sum(Avg_ft$`Bg_bin` ==1,na.rm = T),\"\\n\"))\n",
    "cat(paste(\"No.of features after excluding noise:\",nrow(Avg_ft2)),\"\\n\")"
   ]
  },
  {
   "cell_type": "code",
   "execution_count": 201,
   "id": "9a2185ef-f0a7-4a0a-b436-305721dd99c3",
   "metadata": {},
   "outputs": [
    {
     "data": {
      "text/html": [
       "<table class=\"dataframe\">\n",
       "<caption>A data.frame: 6 × 5569</caption>\n",
       "<thead>\n",
       "\t<tr><th></th><th scope=col>X9002_150.063_4.963</th><th scope=col>X8808_150.596_4.822</th><th scope=col>X4094_151.039_3.305</th><th scope=col>X2584_151.039_2.783</th><th scope=col>X5788_151.075_3.796</th><th scope=col>X5122_151.075_3.587</th><th scope=col>X598_151.075_1.534</th><th scope=col>X1334_151.075_2.335</th><th scope=col>X649_151.075_1.623</th><th scope=col>X2884_151.075_2.864</th><th scope=col>...</th><th scope=col>X14653_1257.898_7.839</th><th scope=col>X7262_1259.35_4.281</th><th scope=col>X7209_1259.493_4.282</th><th scope=col>X7274_1259.638_4.269</th><th scope=col>X14656_1280.974_7.835</th><th scope=col>X14686_1310.987_8.01</th><th scope=col>X14690_1315.94_8.014</th><th scope=col>X14715_1369.027_8.219</th><th scope=col>X14730_1427.068_8.446</th><th scope=col>X7267_1469.075_4.282</th></tr>\n",
       "\t<tr><th></th><th scope=col>&lt;dbl&gt;</th><th scope=col>&lt;dbl&gt;</th><th scope=col>&lt;dbl&gt;</th><th scope=col>&lt;dbl&gt;</th><th scope=col>&lt;dbl&gt;</th><th scope=col>&lt;dbl&gt;</th><th scope=col>&lt;dbl&gt;</th><th scope=col>&lt;dbl&gt;</th><th scope=col>&lt;dbl&gt;</th><th scope=col>&lt;dbl&gt;</th><th scope=col>...</th><th scope=col>&lt;dbl&gt;</th><th scope=col>&lt;dbl&gt;</th><th scope=col>&lt;dbl&gt;</th><th scope=col>&lt;dbl&gt;</th><th scope=col>&lt;dbl&gt;</th><th scope=col>&lt;dbl&gt;</th><th scope=col>&lt;dbl&gt;</th><th scope=col>&lt;dbl&gt;</th><th scope=col>&lt;dbl&gt;</th><th scope=col>&lt;dbl&gt;</th></tr>\n",
       "</thead>\n",
       "<tbody>\n",
       "\t<tr><th scope=row>bld_plt1_01_0_1.mzML</th><td>  0.00000</td><td>0</td><td>0</td><td>36.13497</td><td>  32.80677</td><td> 0.00000</td><td> 0.00000</td><td>14.55033</td><td> 0.000</td><td> 56.37600</td><td>...</td><td>0</td><td> 408.8587</td><td>  607.68080</td><td>  873.96606</td><td>0</td><td>0</td><td>0</td><td>0</td><td>0</td><td> 395.26947</td></tr>\n",
       "\t<tr><th scope=row>bld_plt1_01_120_1.mzML</th><td>  0.00000</td><td>0</td><td>0</td><td>17.66232</td><td>   0.00000</td><td> 0.00000</td><td> 0.00000</td><td> 0.00000</td><td> 0.000</td><td> 33.01907</td><td>...</td><td>0</td><td>8464.6520</td><td>10690.73500</td><td>10837.20600</td><td>0</td><td>0</td><td>0</td><td>0</td><td>0</td><td>2239.06180</td></tr>\n",
       "\t<tr><th scope=row>bld_plt1_01_600_1.mzML</th><td>185.35068</td><td>0</td><td>0</td><td> 0.00000</td><td> 308.23676</td><td>31.21204</td><td> 0.00000</td><td>37.54714</td><td> 0.000</td><td> 24.75143</td><td>...</td><td>0</td><td>1875.0247</td><td>  857.41420</td><td> 1716.91820</td><td>0</td><td>0</td><td>0</td><td>0</td><td>0</td><td> 187.02872</td></tr>\n",
       "\t<tr><th scope=row>bld_plt1_01_720_1.mzML</th><td> 57.32955</td><td>0</td><td>0</td><td> 0.00000</td><td> 616.05220</td><td> 0.00000</td><td>15.91446</td><td>44.60009</td><td>11.753</td><td> 36.06472</td><td>...</td><td>0</td><td>  30.1744</td><td>   96.46013</td><td>   99.44711</td><td>0</td><td>0</td><td>0</td><td>0</td><td>0</td><td> 134.53008</td></tr>\n",
       "\t<tr><th scope=row>bld_plt1_03_0_1.mzML</th><td>  0.00000</td><td>0</td><td>0</td><td>15.94072</td><td>2447.52440</td><td> 0.00000</td><td> 0.00000</td><td>21.92746</td><td> 0.000</td><td>172.07106</td><td>...</td><td>0</td><td> 380.3729</td><td>  500.14636</td><td>  152.57812</td><td>0</td><td>0</td><td>0</td><td>0</td><td>0</td><td>  77.46094</td></tr>\n",
       "\t<tr><th scope=row>bld_plt1_03_480_1.mzML</th><td>  0.00000</td><td>0</td><td>0</td><td>19.65039</td><td>2509.11250</td><td> 0.00000</td><td> 0.00000</td><td> 0.00000</td><td> 0.000</td><td> 71.28131</td><td>...</td><td>0</td><td> 120.3879</td><td>  100.30728</td><td>  104.21318</td><td>0</td><td>0</td><td>0</td><td>0</td><td>0</td><td>  52.57648</td></tr>\n",
       "</tbody>\n",
       "</table>\n"
      ],
      "text/latex": [
       "A data.frame: 6 × 5569\n",
       "\\begin{tabular}{r|lllllllllllllllllllll}\n",
       "  & X9002\\_150.063\\_4.963 & X8808\\_150.596\\_4.822 & X4094\\_151.039\\_3.305 & X2584\\_151.039\\_2.783 & X5788\\_151.075\\_3.796 & X5122\\_151.075\\_3.587 & X598\\_151.075\\_1.534 & X1334\\_151.075\\_2.335 & X649\\_151.075\\_1.623 & X2884\\_151.075\\_2.864 & ... & X14653\\_1257.898\\_7.839 & X7262\\_1259.35\\_4.281 & X7209\\_1259.493\\_4.282 & X7274\\_1259.638\\_4.269 & X14656\\_1280.974\\_7.835 & X14686\\_1310.987\\_8.01 & X14690\\_1315.94\\_8.014 & X14715\\_1369.027\\_8.219 & X14730\\_1427.068\\_8.446 & X7267\\_1469.075\\_4.282\\\\\n",
       "  & <dbl> & <dbl> & <dbl> & <dbl> & <dbl> & <dbl> & <dbl> & <dbl> & <dbl> & <dbl> & ... & <dbl> & <dbl> & <dbl> & <dbl> & <dbl> & <dbl> & <dbl> & <dbl> & <dbl> & <dbl>\\\\\n",
       "\\hline\n",
       "\tbld\\_plt1\\_01\\_0\\_1.mzML &   0.00000 & 0 & 0 & 36.13497 &   32.80677 &  0.00000 &  0.00000 & 14.55033 &  0.000 &  56.37600 & ... & 0 &  408.8587 &   607.68080 &   873.96606 & 0 & 0 & 0 & 0 & 0 &  395.26947\\\\\n",
       "\tbld\\_plt1\\_01\\_120\\_1.mzML &   0.00000 & 0 & 0 & 17.66232 &    0.00000 &  0.00000 &  0.00000 &  0.00000 &  0.000 &  33.01907 & ... & 0 & 8464.6520 & 10690.73500 & 10837.20600 & 0 & 0 & 0 & 0 & 0 & 2239.06180\\\\\n",
       "\tbld\\_plt1\\_01\\_600\\_1.mzML & 185.35068 & 0 & 0 &  0.00000 &  308.23676 & 31.21204 &  0.00000 & 37.54714 &  0.000 &  24.75143 & ... & 0 & 1875.0247 &   857.41420 &  1716.91820 & 0 & 0 & 0 & 0 & 0 &  187.02872\\\\\n",
       "\tbld\\_plt1\\_01\\_720\\_1.mzML &  57.32955 & 0 & 0 &  0.00000 &  616.05220 &  0.00000 & 15.91446 & 44.60009 & 11.753 &  36.06472 & ... & 0 &   30.1744 &    96.46013 &    99.44711 & 0 & 0 & 0 & 0 & 0 &  134.53008\\\\\n",
       "\tbld\\_plt1\\_03\\_0\\_1.mzML &   0.00000 & 0 & 0 & 15.94072 & 2447.52440 &  0.00000 &  0.00000 & 21.92746 &  0.000 & 172.07106 & ... & 0 &  380.3729 &   500.14636 &   152.57812 & 0 & 0 & 0 & 0 & 0 &   77.46094\\\\\n",
       "\tbld\\_plt1\\_03\\_480\\_1.mzML &   0.00000 & 0 & 0 & 19.65039 & 2509.11250 &  0.00000 &  0.00000 &  0.00000 &  0.000 &  71.28131 & ... & 0 &  120.3879 &   100.30728 &   104.21318 & 0 & 0 & 0 & 0 & 0 &   52.57648\\\\\n",
       "\\end{tabular}\n"
      ],
      "text/markdown": [
       "\n",
       "A data.frame: 6 × 5569\n",
       "\n",
       "| <!--/--> | X9002_150.063_4.963 &lt;dbl&gt; | X8808_150.596_4.822 &lt;dbl&gt; | X4094_151.039_3.305 &lt;dbl&gt; | X2584_151.039_2.783 &lt;dbl&gt; | X5788_151.075_3.796 &lt;dbl&gt; | X5122_151.075_3.587 &lt;dbl&gt; | X598_151.075_1.534 &lt;dbl&gt; | X1334_151.075_2.335 &lt;dbl&gt; | X649_151.075_1.623 &lt;dbl&gt; | X2884_151.075_2.864 &lt;dbl&gt; | ... ... | X14653_1257.898_7.839 &lt;dbl&gt; | X7262_1259.35_4.281 &lt;dbl&gt; | X7209_1259.493_4.282 &lt;dbl&gt; | X7274_1259.638_4.269 &lt;dbl&gt; | X14656_1280.974_7.835 &lt;dbl&gt; | X14686_1310.987_8.01 &lt;dbl&gt; | X14690_1315.94_8.014 &lt;dbl&gt; | X14715_1369.027_8.219 &lt;dbl&gt; | X14730_1427.068_8.446 &lt;dbl&gt; | X7267_1469.075_4.282 &lt;dbl&gt; |\n",
       "|---|---|---|---|---|---|---|---|---|---|---|---|---|---|---|---|---|---|---|---|---|---|\n",
       "| bld_plt1_01_0_1.mzML |   0.00000 | 0 | 0 | 36.13497 |   32.80677 |  0.00000 |  0.00000 | 14.55033 |  0.000 |  56.37600 | ... | 0 |  408.8587 |   607.68080 |   873.96606 | 0 | 0 | 0 | 0 | 0 |  395.26947 |\n",
       "| bld_plt1_01_120_1.mzML |   0.00000 | 0 | 0 | 17.66232 |    0.00000 |  0.00000 |  0.00000 |  0.00000 |  0.000 |  33.01907 | ... | 0 | 8464.6520 | 10690.73500 | 10837.20600 | 0 | 0 | 0 | 0 | 0 | 2239.06180 |\n",
       "| bld_plt1_01_600_1.mzML | 185.35068 | 0 | 0 |  0.00000 |  308.23676 | 31.21204 |  0.00000 | 37.54714 |  0.000 |  24.75143 | ... | 0 | 1875.0247 |   857.41420 |  1716.91820 | 0 | 0 | 0 | 0 | 0 |  187.02872 |\n",
       "| bld_plt1_01_720_1.mzML |  57.32955 | 0 | 0 |  0.00000 |  616.05220 |  0.00000 | 15.91446 | 44.60009 | 11.753 |  36.06472 | ... | 0 |   30.1744 |    96.46013 |    99.44711 | 0 | 0 | 0 | 0 | 0 |  134.53008 |\n",
       "| bld_plt1_03_0_1.mzML |   0.00000 | 0 | 0 | 15.94072 | 2447.52440 |  0.00000 |  0.00000 | 21.92746 |  0.000 | 172.07106 | ... | 0 |  380.3729 |   500.14636 |   152.57812 | 0 | 0 | 0 | 0 | 0 |   77.46094 |\n",
       "| bld_plt1_03_480_1.mzML |   0.00000 | 0 | 0 | 19.65039 | 2509.11250 |  0.00000 |  0.00000 |  0.00000 |  0.000 |  71.28131 | ... | 0 |  120.3879 |   100.30728 |   104.21318 | 0 | 0 | 0 | 0 | 0 |   52.57648 |\n",
       "\n"
      ],
      "text/plain": [
       "                       X9002_150.063_4.963 X8808_150.596_4.822\n",
       "bld_plt1_01_0_1.mzML     0.00000           0                  \n",
       "bld_plt1_01_120_1.mzML   0.00000           0                  \n",
       "bld_plt1_01_600_1.mzML 185.35068           0                  \n",
       "bld_plt1_01_720_1.mzML  57.32955           0                  \n",
       "bld_plt1_03_0_1.mzML     0.00000           0                  \n",
       "bld_plt1_03_480_1.mzML   0.00000           0                  \n",
       "                       X4094_151.039_3.305 X2584_151.039_2.783\n",
       "bld_plt1_01_0_1.mzML   0                   36.13497           \n",
       "bld_plt1_01_120_1.mzML 0                   17.66232           \n",
       "bld_plt1_01_600_1.mzML 0                    0.00000           \n",
       "bld_plt1_01_720_1.mzML 0                    0.00000           \n",
       "bld_plt1_03_0_1.mzML   0                   15.94072           \n",
       "bld_plt1_03_480_1.mzML 0                   19.65039           \n",
       "                       X5788_151.075_3.796 X5122_151.075_3.587\n",
       "bld_plt1_01_0_1.mzML     32.80677           0.00000           \n",
       "bld_plt1_01_120_1.mzML    0.00000           0.00000           \n",
       "bld_plt1_01_600_1.mzML  308.23676          31.21204           \n",
       "bld_plt1_01_720_1.mzML  616.05220           0.00000           \n",
       "bld_plt1_03_0_1.mzML   2447.52440           0.00000           \n",
       "bld_plt1_03_480_1.mzML 2509.11250           0.00000           \n",
       "                       X598_151.075_1.534 X1334_151.075_2.335\n",
       "bld_plt1_01_0_1.mzML    0.00000           14.55033           \n",
       "bld_plt1_01_120_1.mzML  0.00000            0.00000           \n",
       "bld_plt1_01_600_1.mzML  0.00000           37.54714           \n",
       "bld_plt1_01_720_1.mzML 15.91446           44.60009           \n",
       "bld_plt1_03_0_1.mzML    0.00000           21.92746           \n",
       "bld_plt1_03_480_1.mzML  0.00000            0.00000           \n",
       "                       X649_151.075_1.623 X2884_151.075_2.864 ...\n",
       "bld_plt1_01_0_1.mzML    0.000              56.37600           ...\n",
       "bld_plt1_01_120_1.mzML  0.000              33.01907           ...\n",
       "bld_plt1_01_600_1.mzML  0.000              24.75143           ...\n",
       "bld_plt1_01_720_1.mzML 11.753              36.06472           ...\n",
       "bld_plt1_03_0_1.mzML    0.000             172.07106           ...\n",
       "bld_plt1_03_480_1.mzML  0.000              71.28131           ...\n",
       "                       X14653_1257.898_7.839 X7262_1259.35_4.281\n",
       "bld_plt1_01_0_1.mzML   0                      408.8587          \n",
       "bld_plt1_01_120_1.mzML 0                     8464.6520          \n",
       "bld_plt1_01_600_1.mzML 0                     1875.0247          \n",
       "bld_plt1_01_720_1.mzML 0                       30.1744          \n",
       "bld_plt1_03_0_1.mzML   0                      380.3729          \n",
       "bld_plt1_03_480_1.mzML 0                      120.3879          \n",
       "                       X7209_1259.493_4.282 X7274_1259.638_4.269\n",
       "bld_plt1_01_0_1.mzML     607.68080            873.96606         \n",
       "bld_plt1_01_120_1.mzML 10690.73500          10837.20600         \n",
       "bld_plt1_01_600_1.mzML   857.41420           1716.91820         \n",
       "bld_plt1_01_720_1.mzML    96.46013             99.44711         \n",
       "bld_plt1_03_0_1.mzML     500.14636            152.57812         \n",
       "bld_plt1_03_480_1.mzML   100.30728            104.21318         \n",
       "                       X14656_1280.974_7.835 X14686_1310.987_8.01\n",
       "bld_plt1_01_0_1.mzML   0                     0                   \n",
       "bld_plt1_01_120_1.mzML 0                     0                   \n",
       "bld_plt1_01_600_1.mzML 0                     0                   \n",
       "bld_plt1_01_720_1.mzML 0                     0                   \n",
       "bld_plt1_03_0_1.mzML   0                     0                   \n",
       "bld_plt1_03_480_1.mzML 0                     0                   \n",
       "                       X14690_1315.94_8.014 X14715_1369.027_8.219\n",
       "bld_plt1_01_0_1.mzML   0                    0                    \n",
       "bld_plt1_01_120_1.mzML 0                    0                    \n",
       "bld_plt1_01_600_1.mzML 0                    0                    \n",
       "bld_plt1_01_720_1.mzML 0                    0                    \n",
       "bld_plt1_03_0_1.mzML   0                    0                    \n",
       "bld_plt1_03_480_1.mzML 0                    0                    \n",
       "                       X14730_1427.068_8.446 X7267_1469.075_4.282\n",
       "bld_plt1_01_0_1.mzML   0                      395.26947          \n",
       "bld_plt1_01_120_1.mzML 0                     2239.06180          \n",
       "bld_plt1_01_600_1.mzML 0                      187.02872          \n",
       "bld_plt1_01_720_1.mzML 0                      134.53008          \n",
       "bld_plt1_03_0_1.mzML   0                       77.46094          \n",
       "bld_plt1_03_480_1.mzML 0                       52.57648          "
      ]
     },
     "metadata": {},
     "output_type": "display_data"
    }
   ],
   "source": [
    "#subset the columns from 'Samples' according to the rownames of 'Avg_ft2'\n",
    "blk_rem <- Samples[,colnames(Samples) %in% rownames(Avg_ft2), drop=F]\n",
    "\n",
    "head(blk_rem)"
   ]
  },
  {
   "cell_type": "code",
   "execution_count": 202,
   "id": "443314f2-a1c0-4c1c-89e8-cd8d18d95995",
   "metadata": {},
   "outputs": [],
   "source": [
    "write.csv(blk_rem, paste0('Blanks_Removed_with_cutoff_', Cutoff,'.csv'), row.names =TRUE)"
   ]
  },
  {
   "cell_type": "markdown",
   "id": "d339aba2-f4ac-4a3b-b0ab-4a75db857f3f",
   "metadata": {},
   "source": [
    "## 2. Imputation"
   ]
  },
  {
   "cell_type": "markdown",
   "id": "53bea6c1-20d1-42be-86bc-44e309add8ad",
   "metadata": {},
   "source": [
    "<p style='text-align: justify;'> For several reasons, real world datasets might have some missing values in it, in the form of NA, NANs or 0s. Eventhough the gapfilling step of MZmine fills the missing values, we still end up with some missing values or 0s in our feature table. This could be problematic for statistical analysis. We cannot simply discard those rows or columns with missing values as we will lose valuable data. Instead we can try imputing or replacing the missing values in the data with a meaningful, reasonable guess. </p>\n",
    "\n",
    "- Here, first, we use the blank-removed feature table to assess frequencies across relative intensities. The plot from the below cell shows us how many features have which relative intensities. \n",
    "- We then replace all 0s with a random value between 0 and the minimum value in our blank-removed table. "
   ]
  },
  {
   "cell_type": "code",
   "execution_count": 203,
   "id": "90541421-9753-4256-bfdf-cba600ab4f7e",
   "metadata": {},
   "outputs": [
    {
     "data": {
      "text/html": [
       "<table class=\"dataframe\">\n",
       "<caption>A data.frame: 6 × 6</caption>\n",
       "<thead>\n",
       "\t<tr><th></th><th scope=col>filename</th><th scope=col>ATTRIBUTE_Sample_Type</th><th scope=col>ATTRIBUTE_Subject</th><th scope=col>ATTRIBUTE_Timepoint_min</th><th scope=col>ATTRIBUTE_Sampling_Location</th><th scope=col>ATTRIBUTE_Analysis_order</th></tr>\n",
       "\t<tr><th></th><th scope=col>&lt;chr&gt;</th><th scope=col>&lt;chr&gt;</th><th scope=col>&lt;chr&gt;</th><th scope=col>&lt;chr&gt;</th><th scope=col>&lt;chr&gt;</th><th scope=col>&lt;int&gt;</th></tr>\n",
       "</thead>\n",
       "<tbody>\n",
       "\t<tr><th scope=row>1</th><td>bld_plt1_01_0_1.mzML  </td><td>plasma</td><td>Subject_1</td><td>0  </td><td>not applicable</td><td>19</td></tr>\n",
       "\t<tr><th scope=row>2</th><td>bld_plt1_01_120_1.mzML</td><td>plasma</td><td>Subject_1</td><td>120</td><td>not applicable</td><td>32</td></tr>\n",
       "\t<tr><th scope=row>3</th><td>bld_plt1_01_600_1.mzML</td><td>plasma</td><td>Subject_1</td><td>600</td><td>not applicable</td><td>51</td></tr>\n",
       "\t<tr><th scope=row>4</th><td>bld_plt1_01_720_1.mzML</td><td>plasma</td><td>Subject_1</td><td>720</td><td>not applicable</td><td>50</td></tr>\n",
       "\t<tr><th scope=row>5</th><td>bld_plt1_03_0_1.mzML  </td><td>plasma</td><td>Subject_3</td><td>0  </td><td>not applicable</td><td>20</td></tr>\n",
       "\t<tr><th scope=row>6</th><td>bld_plt1_03_480_1.mzML</td><td>plasma</td><td>Subject_3</td><td>480</td><td>not applicable</td><td>52</td></tr>\n",
       "</tbody>\n",
       "</table>\n"
      ],
      "text/latex": [
       "A data.frame: 6 × 6\n",
       "\\begin{tabular}{r|llllll}\n",
       "  & filename & ATTRIBUTE\\_Sample\\_Type & ATTRIBUTE\\_Subject & ATTRIBUTE\\_Timepoint\\_min & ATTRIBUTE\\_Sampling\\_Location & ATTRIBUTE\\_Analysis\\_order\\\\\n",
       "  & <chr> & <chr> & <chr> & <chr> & <chr> & <int>\\\\\n",
       "\\hline\n",
       "\t1 & bld\\_plt1\\_01\\_0\\_1.mzML   & plasma & Subject\\_1 & 0   & not applicable & 19\\\\\n",
       "\t2 & bld\\_plt1\\_01\\_120\\_1.mzML & plasma & Subject\\_1 & 120 & not applicable & 32\\\\\n",
       "\t3 & bld\\_plt1\\_01\\_600\\_1.mzML & plasma & Subject\\_1 & 600 & not applicable & 51\\\\\n",
       "\t4 & bld\\_plt1\\_01\\_720\\_1.mzML & plasma & Subject\\_1 & 720 & not applicable & 50\\\\\n",
       "\t5 & bld\\_plt1\\_03\\_0\\_1.mzML   & plasma & Subject\\_3 & 0   & not applicable & 20\\\\\n",
       "\t6 & bld\\_plt1\\_03\\_480\\_1.mzML & plasma & Subject\\_3 & 480 & not applicable & 52\\\\\n",
       "\\end{tabular}\n"
      ],
      "text/markdown": [
       "\n",
       "A data.frame: 6 × 6\n",
       "\n",
       "| <!--/--> | filename &lt;chr&gt; | ATTRIBUTE_Sample_Type &lt;chr&gt; | ATTRIBUTE_Subject &lt;chr&gt; | ATTRIBUTE_Timepoint_min &lt;chr&gt; | ATTRIBUTE_Sampling_Location &lt;chr&gt; | ATTRIBUTE_Analysis_order &lt;int&gt; |\n",
       "|---|---|---|---|---|---|---|\n",
       "| 1 | bld_plt1_01_0_1.mzML   | plasma | Subject_1 | 0   | not applicable | 19 |\n",
       "| 2 | bld_plt1_01_120_1.mzML | plasma | Subject_1 | 120 | not applicable | 32 |\n",
       "| 3 | bld_plt1_01_600_1.mzML | plasma | Subject_1 | 600 | not applicable | 51 |\n",
       "| 4 | bld_plt1_01_720_1.mzML | plasma | Subject_1 | 720 | not applicable | 50 |\n",
       "| 5 | bld_plt1_03_0_1.mzML   | plasma | Subject_3 | 0   | not applicable | 20 |\n",
       "| 6 | bld_plt1_03_480_1.mzML | plasma | Subject_3 | 480 | not applicable | 52 |\n",
       "\n"
      ],
      "text/plain": [
       "  filename               ATTRIBUTE_Sample_Type ATTRIBUTE_Subject\n",
       "1 bld_plt1_01_0_1.mzML   plasma                Subject_1        \n",
       "2 bld_plt1_01_120_1.mzML plasma                Subject_1        \n",
       "3 bld_plt1_01_600_1.mzML plasma                Subject_1        \n",
       "4 bld_plt1_01_720_1.mzML plasma                Subject_1        \n",
       "5 bld_plt1_03_0_1.mzML   plasma                Subject_3        \n",
       "6 bld_plt1_03_480_1.mzML plasma                Subject_3        \n",
       "  ATTRIBUTE_Timepoint_min ATTRIBUTE_Sampling_Location ATTRIBUTE_Analysis_order\n",
       "1 0                       not applicable              19                      \n",
       "2 120                     not applicable              32                      \n",
       "3 600                     not applicable              51                      \n",
       "4 720                     not applicable              50                      \n",
       "5 0                       not applicable              20                      \n",
       "6 480                     not applicable              52                      "
      ]
     },
     "metadata": {},
     "output_type": "display_data"
    },
    {
     "data": {
      "text/html": [
       "<style>\n",
       ".list-inline {list-style: none; margin:0; padding: 0}\n",
       ".list-inline>li {display: inline-block}\n",
       ".list-inline>li:not(:last-child)::after {content: \"\\00b7\"; padding: 0 .5ex}\n",
       "</style>\n",
       "<ol class=list-inline><li>84</li><li>6</li></ol>\n"
      ],
      "text/latex": [
       "\\begin{enumerate*}\n",
       "\\item 84\n",
       "\\item 6\n",
       "\\end{enumerate*}\n"
      ],
      "text/markdown": [
       "1. 84\n",
       "2. 6\n",
       "\n",
       "\n"
      ],
      "text/plain": [
       "[1] 84  6"
      ]
     },
     "metadata": {},
     "output_type": "display_data"
    }
   ],
   "source": [
    "head(md_Samples)\n",
    "dim(md_Samples)"
   ]
  },
  {
   "cell_type": "markdown",
   "id": "ae372e70-b8de-4b2c-b9cc-47bec14c1185",
   "metadata": {},
   "source": [
    "Notice that, the number of rows are 84, meaning we have excluded the 4 rows belonging to the 'blanks' from the metadata."
   ]
  },
  {
   "cell_type": "code",
   "execution_count": 204,
   "id": "5411f61b-0b99-4b74-b35e-b4d70fcf442b",
   "metadata": {},
   "outputs": [
    {
     "name": "stderr",
     "output_type": "stream",
     "text": [
      "The limit of detection (LOD) is: 6\n",
      "\n"
     ]
    },
    {
     "data": {
      "image/png": "[encoded data removed]",
      "text/plain": [
       "plot without title"
      ]
     },
     "metadata": {
      "image/png": {
       "height": 420,
       "width": 420
      }
     },
     "output_type": "display_data"
    }
   ],
   "source": [
    "#creating bins from -1 to 10^10 using sequence function seq()\n",
    "bins <- c(-1,0,(1 * 10^(seq(0,10,1)))) \n",
    "\n",
    "#cut function cuts the give table into its appropriate bins\n",
    "scores_gapfilled <- cut(as.matrix(blk_rem),bins, labels = c('0','1',paste(\"1E\",1:10,sep=\"\")))\n",
    "\n",
    "#transform function convert the tables into a column format: easy for visualization\n",
    "FreqTable <- transform(table(scores_gapfilled)) #contains 2 columns: \"scores_x1\", \"Freq\"\n",
    "FreqTable$Log_Freq <- log(FreqTable$Freq+1) #Log scaling the frequency values\n",
    "colnames(FreqTable)[1] <- 'Range_Bins' #changing the 1st colname to 'Range Bins'\n",
    "\n",
    "## GGPLOT2\n",
    "ggplot(FreqTable, aes(x=Range_Bins, y=Log_Freq)) + \n",
    "    geom_bar(stat = \"identity\", position = \"dodge\", width=0.3) + \n",
    "    ggtitle(label = \"Frequency plot - Gap Filled\") +\n",
    "    xlab(\"Range\") + \n",
    "    ylab(\"(Log)Frequency\") + \n",
    "    theme(plot.title = element_text(hjust = 0.5))\n",
    "\n",
    "Cutoff_LOD <- round(min(blk_rem[blk_rem > 0]))\n",
    "message(paste0(\"The limit of detection (LOD) is: \",Cutoff_LOD)) "
   ]
  },
  {
   "cell_type": "markdown",
   "id": "7141b803-f5bc-4e0b-bac3-10ff5f3b01a1",
   "metadata": {},
   "source": [
    "Here, we can see that there are many zeros in our dataframe. We will impute all these zeros now."
   ]
  },
  {
   "cell_type": "code",
   "execution_count": 205,
   "id": "13f76f0b-a314-487d-be03-4382a3154154",
   "metadata": {},
   "outputs": [],
   "source": [
    "set.seed(141222) # by setting a seed, we generate the same set of random number all the time\n",
    "\n",
    "imp <- blk_rem\n",
    "\n",
    "for (i in 1:ncol(imp)) {\n",
    "  imp[,i] <- ifelse(imp[,i] == 0, \n",
    "                     round(runif(nrow(imp), min = 1, max = Cutoff_LOD), 1),\n",
    "                     imp[,i])\n",
    "}"
   ]
  },
  {
   "cell_type": "code",
   "execution_count": 206,
   "id": "81cc3ae0-367c-41d5-a11c-a959144f61bd",
   "metadata": {},
   "outputs": [
    {
     "data": {
      "text/html": [
       "<table class=\"dataframe\">\n",
       "<caption>A data.frame: 3 × 5569</caption>\n",
       "<thead>\n",
       "\t<tr><th></th><th scope=col>X9002_150.063_4.963</th><th scope=col>X8808_150.596_4.822</th><th scope=col>X4094_151.039_3.305</th><th scope=col>X2584_151.039_2.783</th><th scope=col>X5788_151.075_3.796</th><th scope=col>X5122_151.075_3.587</th><th scope=col>X598_151.075_1.534</th><th scope=col>X1334_151.075_2.335</th><th scope=col>X649_151.075_1.623</th><th scope=col>X2884_151.075_2.864</th><th scope=col>...</th><th scope=col>X14653_1257.898_7.839</th><th scope=col>X7262_1259.35_4.281</th><th scope=col>X7209_1259.493_4.282</th><th scope=col>X7274_1259.638_4.269</th><th scope=col>X14656_1280.974_7.835</th><th scope=col>X14686_1310.987_8.01</th><th scope=col>X14690_1315.94_8.014</th><th scope=col>X14715_1369.027_8.219</th><th scope=col>X14730_1427.068_8.446</th><th scope=col>X7267_1469.075_4.282</th></tr>\n",
       "\t<tr><th></th><th scope=col>&lt;dbl&gt;</th><th scope=col>&lt;dbl&gt;</th><th scope=col>&lt;dbl&gt;</th><th scope=col>&lt;dbl&gt;</th><th scope=col>&lt;dbl&gt;</th><th scope=col>&lt;dbl&gt;</th><th scope=col>&lt;dbl&gt;</th><th scope=col>&lt;dbl&gt;</th><th scope=col>&lt;dbl&gt;</th><th scope=col>&lt;dbl&gt;</th><th scope=col>...</th><th scope=col>&lt;dbl&gt;</th><th scope=col>&lt;dbl&gt;</th><th scope=col>&lt;dbl&gt;</th><th scope=col>&lt;dbl&gt;</th><th scope=col>&lt;dbl&gt;</th><th scope=col>&lt;dbl&gt;</th><th scope=col>&lt;dbl&gt;</th><th scope=col>&lt;dbl&gt;</th><th scope=col>&lt;dbl&gt;</th><th scope=col>&lt;dbl&gt;</th></tr>\n",
       "</thead>\n",
       "<tbody>\n",
       "\t<tr><th scope=row>bld_plt1_01_0_1.mzML</th><td>  5.3000</td><td>3.6</td><td>2.8</td><td>36.13497</td><td> 32.80677</td><td> 2.60000</td><td>3.7</td><td>14.55033</td><td>2.8</td><td>56.37600</td><td>...</td><td>2.1</td><td> 408.8587</td><td>  607.6808</td><td>  873.9661</td><td>2.5</td><td>1.7</td><td>1.4</td><td>2.6</td><td>3.0</td><td> 395.2695</td></tr>\n",
       "\t<tr><th scope=row>bld_plt1_01_120_1.mzML</th><td>  2.0000</td><td>2.2</td><td>2.8</td><td>17.66232</td><td>  1.40000</td><td> 6.00000</td><td>6.0</td><td> 3.60000</td><td>4.8</td><td>33.01907</td><td>...</td><td>5.4</td><td>8464.6520</td><td>10690.7350</td><td>10837.2060</td><td>4.2</td><td>1.9</td><td>5.9</td><td>3.9</td><td>4.1</td><td>2239.0618</td></tr>\n",
       "\t<tr><th scope=row>bld_plt1_01_600_1.mzML</th><td>185.3507</td><td>1.7</td><td>5.0</td><td> 1.60000</td><td>308.23676</td><td>31.21204</td><td>2.0</td><td>37.54714</td><td>2.4</td><td>24.75143</td><td>...</td><td>5.4</td><td>1875.0247</td><td>  857.4142</td><td> 1716.9182</td><td>1.5</td><td>4.8</td><td>4.3</td><td>5.4</td><td>5.6</td><td> 187.0287</td></tr>\n",
       "</tbody>\n",
       "</table>\n"
      ],
      "text/latex": [
       "A data.frame: 3 × 5569\n",
       "\\begin{tabular}{r|lllllllllllllllllllll}\n",
       "  & X9002\\_150.063\\_4.963 & X8808\\_150.596\\_4.822 & X4094\\_151.039\\_3.305 & X2584\\_151.039\\_2.783 & X5788\\_151.075\\_3.796 & X5122\\_151.075\\_3.587 & X598\\_151.075\\_1.534 & X1334\\_151.075\\_2.335 & X649\\_151.075\\_1.623 & X2884\\_151.075\\_2.864 & ... & X14653\\_1257.898\\_7.839 & X7262\\_1259.35\\_4.281 & X7209\\_1259.493\\_4.282 & X7274\\_1259.638\\_4.269 & X14656\\_1280.974\\_7.835 & X14686\\_1310.987\\_8.01 & X14690\\_1315.94\\_8.014 & X14715\\_1369.027\\_8.219 & X14730\\_1427.068\\_8.446 & X7267\\_1469.075\\_4.282\\\\\n",
       "  & <dbl> & <dbl> & <dbl> & <dbl> & <dbl> & <dbl> & <dbl> & <dbl> & <dbl> & <dbl> & ... & <dbl> & <dbl> & <dbl> & <dbl> & <dbl> & <dbl> & <dbl> & <dbl> & <dbl> & <dbl>\\\\\n",
       "\\hline\n",
       "\tbld\\_plt1\\_01\\_0\\_1.mzML &   5.3000 & 3.6 & 2.8 & 36.13497 &  32.80677 &  2.60000 & 3.7 & 14.55033 & 2.8 & 56.37600 & ... & 2.1 &  408.8587 &   607.6808 &   873.9661 & 2.5 & 1.7 & 1.4 & 2.6 & 3.0 &  395.2695\\\\\n",
       "\tbld\\_plt1\\_01\\_120\\_1.mzML &   2.0000 & 2.2 & 2.8 & 17.66232 &   1.40000 &  6.00000 & 6.0 &  3.60000 & 4.8 & 33.01907 & ... & 5.4 & 8464.6520 & 10690.7350 & 10837.2060 & 4.2 & 1.9 & 5.9 & 3.9 & 4.1 & 2239.0618\\\\\n",
       "\tbld\\_plt1\\_01\\_600\\_1.mzML & 185.3507 & 1.7 & 5.0 &  1.60000 & 308.23676 & 31.21204 & 2.0 & 37.54714 & 2.4 & 24.75143 & ... & 5.4 & 1875.0247 &   857.4142 &  1716.9182 & 1.5 & 4.8 & 4.3 & 5.4 & 5.6 &  187.0287\\\\\n",
       "\\end{tabular}\n"
      ],
      "text/markdown": [
       "\n",
       "A data.frame: 3 × 5569\n",
       "\n",
       "| <!--/--> | X9002_150.063_4.963 &lt;dbl&gt; | X8808_150.596_4.822 &lt;dbl&gt; | X4094_151.039_3.305 &lt;dbl&gt; | X2584_151.039_2.783 &lt;dbl&gt; | X5788_151.075_3.796 &lt;dbl&gt; | X5122_151.075_3.587 &lt;dbl&gt; | X598_151.075_1.534 &lt;dbl&gt; | X1334_151.075_2.335 &lt;dbl&gt; | X649_151.075_1.623 &lt;dbl&gt; | X2884_151.075_2.864 &lt;dbl&gt; | ... ... | X14653_1257.898_7.839 &lt;dbl&gt; | X7262_1259.35_4.281 &lt;dbl&gt; | X7209_1259.493_4.282 &lt;dbl&gt; | X7274_1259.638_4.269 &lt;dbl&gt; | X14656_1280.974_7.835 &lt;dbl&gt; | X14686_1310.987_8.01 &lt;dbl&gt; | X14690_1315.94_8.014 &lt;dbl&gt; | X14715_1369.027_8.219 &lt;dbl&gt; | X14730_1427.068_8.446 &lt;dbl&gt; | X7267_1469.075_4.282 &lt;dbl&gt; |\n",
       "|---|---|---|---|---|---|---|---|---|---|---|---|---|---|---|---|---|---|---|---|---|---|\n",
       "| bld_plt1_01_0_1.mzML |   5.3000 | 3.6 | 2.8 | 36.13497 |  32.80677 |  2.60000 | 3.7 | 14.55033 | 2.8 | 56.37600 | ... | 2.1 |  408.8587 |   607.6808 |   873.9661 | 2.5 | 1.7 | 1.4 | 2.6 | 3.0 |  395.2695 |\n",
       "| bld_plt1_01_120_1.mzML |   2.0000 | 2.2 | 2.8 | 17.66232 |   1.40000 |  6.00000 | 6.0 |  3.60000 | 4.8 | 33.01907 | ... | 5.4 | 8464.6520 | 10690.7350 | 10837.2060 | 4.2 | 1.9 | 5.9 | 3.9 | 4.1 | 2239.0618 |\n",
       "| bld_plt1_01_600_1.mzML | 185.3507 | 1.7 | 5.0 |  1.60000 | 308.23676 | 31.21204 | 2.0 | 37.54714 | 2.4 | 24.75143 | ... | 5.4 | 1875.0247 |   857.4142 |  1716.9182 | 1.5 | 4.8 | 4.3 | 5.4 | 5.6 |  187.0287 |\n",
       "\n"
      ],
      "text/plain": [
       "                       X9002_150.063_4.963 X8808_150.596_4.822\n",
       "bld_plt1_01_0_1.mzML     5.3000            3.6                \n",
       "bld_plt1_01_120_1.mzML   2.0000            2.2                \n",
       "bld_plt1_01_600_1.mzML 185.3507            1.7                \n",
       "                       X4094_151.039_3.305 X2584_151.039_2.783\n",
       "bld_plt1_01_0_1.mzML   2.8                 36.13497           \n",
       "bld_plt1_01_120_1.mzML 2.8                 17.66232           \n",
       "bld_plt1_01_600_1.mzML 5.0                  1.60000           \n",
       "                       X5788_151.075_3.796 X5122_151.075_3.587\n",
       "bld_plt1_01_0_1.mzML    32.80677            2.60000           \n",
       "bld_plt1_01_120_1.mzML   1.40000            6.00000           \n",
       "bld_plt1_01_600_1.mzML 308.23676           31.21204           \n",
       "                       X598_151.075_1.534 X1334_151.075_2.335\n",
       "bld_plt1_01_0_1.mzML   3.7                14.55033           \n",
       "bld_plt1_01_120_1.mzML 6.0                 3.60000           \n",
       "bld_plt1_01_600_1.mzML 2.0                37.54714           \n",
       "                       X649_151.075_1.623 X2884_151.075_2.864 ...\n",
       "bld_plt1_01_0_1.mzML   2.8                56.37600            ...\n",
       "bld_plt1_01_120_1.mzML 4.8                33.01907            ...\n",
       "bld_plt1_01_600_1.mzML 2.4                24.75143            ...\n",
       "                       X14653_1257.898_7.839 X7262_1259.35_4.281\n",
       "bld_plt1_01_0_1.mzML   2.1                    408.8587          \n",
       "bld_plt1_01_120_1.mzML 5.4                   8464.6520          \n",
       "bld_plt1_01_600_1.mzML 5.4                   1875.0247          \n",
       "                       X7209_1259.493_4.282 X7274_1259.638_4.269\n",
       "bld_plt1_01_0_1.mzML     607.6808             873.9661          \n",
       "bld_plt1_01_120_1.mzML 10690.7350           10837.2060          \n",
       "bld_plt1_01_600_1.mzML   857.4142            1716.9182          \n",
       "                       X14656_1280.974_7.835 X14686_1310.987_8.01\n",
       "bld_plt1_01_0_1.mzML   2.5                   1.7                 \n",
       "bld_plt1_01_120_1.mzML 4.2                   1.9                 \n",
       "bld_plt1_01_600_1.mzML 1.5                   4.8                 \n",
       "                       X14690_1315.94_8.014 X14715_1369.027_8.219\n",
       "bld_plt1_01_0_1.mzML   1.4                  2.6                  \n",
       "bld_plt1_01_120_1.mzML 5.9                  3.9                  \n",
       "bld_plt1_01_600_1.mzML 4.3                  5.4                  \n",
       "                       X14730_1427.068_8.446 X7267_1469.075_4.282\n",
       "bld_plt1_01_0_1.mzML   3.0                    395.2695           \n",
       "bld_plt1_01_120_1.mzML 4.1                   2239.0618           \n",
       "bld_plt1_01_600_1.mzML 5.6                    187.0287           "
      ]
     },
     "metadata": {},
     "output_type": "display_data"
    }
   ],
   "source": [
    "head(imp,3)"
   ]
  },
  {
   "cell_type": "code",
   "execution_count": 207,
   "id": "b8f2779e-b036-438f-9851-2810bff394ee",
   "metadata": {},
   "outputs": [
    {
     "data": {
      "text/html": [
       "0"
      ],
      "text/latex": [
       "0"
      ],
      "text/markdown": [
       "0"
      ],
      "text/plain": [
       "[1] 0"
      ]
     },
     "metadata": {},
     "output_type": "display_data"
    }
   ],
   "source": [
    "sum(imp==0) # checking if there are any zeros in our imputed table "
   ]
  },
  {
   "cell_type": "code",
   "execution_count": 208,
   "id": "07d848d4-40d2-4aff-ae50-8a27d491c77b",
   "metadata": {},
   "outputs": [],
   "source": [
    "write.csv(imp, 'Imputed_QuantTable.csv', row.names =TRUE)"
   ]
  },
  {
   "cell_type": "markdown",
   "id": "53501240-fffb-4321-889e-818b534f3cd3",
   "metadata": {},
   "source": [
    "## 4. Normalization (after Imputation)"
   ]
  },
  {
   "cell_type": "markdown",
   "id": "92c8e396-43b7-4931-b060-79e002d102b6",
   "metadata": {},
   "source": [
    "Normalization is performed to compensate for differences in total metabolite concentrations among samples (Y. Wu & Li,2016). Many normalization techniques can also reduce the batch effects (injection order effects), such as those caused by sample pipetting or extraction. Here, we show how to perform TIC and PQN normalization methodss."
   ]
  },
  {
   "cell_type": "markdown",
   "id": "646b787a-0279-4749-bc28-821126aed6fd",
   "metadata": {},
   "source": [
    "### <font color ='darkblue'> Total Ion Current (TIC) or sample-centric normalization </font>\n",
    "<a name=\"tic\"></a>\n",
    "\n",
    "<p style='text-align: justify;'> In TIC normalization, also known as total sum normalization, every feature within a sample is normalized relative to the  area of the TIC chromatogram. This involves dividing the peak area of each feature by the sum of peak areas of all features within a sample. \n",
    "It is a simple normalization technique that is commonly used as it is easy to implement and computationally inexpensive. TIC normalization is appropriate when the amount of sample injected into the instrument is not consistent across all samples, and when the differences in the total ion count among samples are mainly due to differences in the amount of sample injected or instrument sensitivity. However, TIC has its limitation such as few features with high ion observation can heavily influence the calculation. Also it assumes most metabolites are stable and equally up/down-regulated among samples, which does not hold true in many cases like normal vs cancerous tissues comparison. Also,  the original article of the test dataset used TIC normalization. </p>"
   ]
  },
  {
   "cell_type": "code",
   "execution_count": 209,
   "id": "d052c711-e85c-4f68-a482-622fcdd4de94",
   "metadata": {},
   "outputs": [
    {
     "data": {
      "text/html": [
       "<table class=\"dataframe\">\n",
       "<caption>A data.frame: 3 × 5569</caption>\n",
       "<thead>\n",
       "\t<tr><th></th><th scope=col>X9002_150.063_4.963</th><th scope=col>X8808_150.596_4.822</th><th scope=col>X4094_151.039_3.305</th><th scope=col>X2584_151.039_2.783</th><th scope=col>X5788_151.075_3.796</th><th scope=col>X5122_151.075_3.587</th><th scope=col>X598_151.075_1.534</th><th scope=col>X1334_151.075_2.335</th><th scope=col>X649_151.075_1.623</th><th scope=col>X2884_151.075_2.864</th><th scope=col>...</th><th scope=col>X14653_1257.898_7.839</th><th scope=col>X7262_1259.35_4.281</th><th scope=col>X7209_1259.493_4.282</th><th scope=col>X7274_1259.638_4.269</th><th scope=col>X14656_1280.974_7.835</th><th scope=col>X14686_1310.987_8.01</th><th scope=col>X14690_1315.94_8.014</th><th scope=col>X14715_1369.027_8.219</th><th scope=col>X14730_1427.068_8.446</th><th scope=col>X7267_1469.075_4.282</th></tr>\n",
       "\t<tr><th></th><th scope=col>&lt;dbl&gt;</th><th scope=col>&lt;dbl&gt;</th><th scope=col>&lt;dbl&gt;</th><th scope=col>&lt;dbl&gt;</th><th scope=col>&lt;dbl&gt;</th><th scope=col>&lt;dbl&gt;</th><th scope=col>&lt;dbl&gt;</th><th scope=col>&lt;dbl&gt;</th><th scope=col>&lt;dbl&gt;</th><th scope=col>&lt;dbl&gt;</th><th scope=col>...</th><th scope=col>&lt;dbl&gt;</th><th scope=col>&lt;dbl&gt;</th><th scope=col>&lt;dbl&gt;</th><th scope=col>&lt;dbl&gt;</th><th scope=col>&lt;dbl&gt;</th><th scope=col>&lt;dbl&gt;</th><th scope=col>&lt;dbl&gt;</th><th scope=col>&lt;dbl&gt;</th><th scope=col>&lt;dbl&gt;</th><th scope=col>&lt;dbl&gt;</th></tr>\n",
       "</thead>\n",
       "<tbody>\n",
       "\t<tr><th scope=row>bld_plt1_01_0_1.mzML</th><td>2.196048e-07</td><td>1.491655e-07</td><td>1.160176e-07</td><td>1.497248e-06</td><td>1.359344e-06</td><td>1.077307e-07</td><td>1.533090e-07</td><td>6.028911e-07</td><td>1.160176e-07</td><td>2.335932e-06</td><td>...</td><td>8.701322e-08</td><td>1.694100e-05</td><td>2.517917e-05</td><td>3.621267e-05</td><td>1.035872e-07</td><td>7.043927e-08</td><td>5.800881e-08</td><td>1.077307e-07</td><td>1.243046e-07</td><td>1.637794e-05</td></tr>\n",
       "\t<tr><th scope=row>bld_plt1_01_120_1.mzML</th><td>8.488921e-08</td><td>9.337813e-08</td><td>1.188449e-07</td><td>7.496702e-07</td><td>5.942244e-08</td><td>2.546676e-07</td><td>2.546676e-07</td><td>1.528006e-07</td><td>2.037341e-07</td><td>1.401481e-06</td><td>...</td><td>2.292009e-07</td><td>3.592788e-04</td><td>4.537640e-04</td><td>4.599809e-04</td><td>1.782673e-07</td><td>8.064475e-08</td><td>2.504232e-07</td><td>1.655340e-07</td><td>1.740229e-07</td><td>9.503609e-05</td></tr>\n",
       "\t<tr><th scope=row>bld_plt1_01_600_1.mzML</th><td>8.590606e-06</td><td>7.879135e-08</td><td>2.317393e-07</td><td>7.415656e-08</td><td>1.428611e-05</td><td>1.446611e-06</td><td>9.269570e-08</td><td>1.740229e-06</td><td>1.112348e-07</td><td>1.147176e-06</td><td>...</td><td>2.502784e-07</td><td>8.690337e-05</td><td>3.973931e-05</td><td>7.957547e-05</td><td>6.952178e-08</td><td>2.224697e-07</td><td>1.992958e-07</td><td>2.502784e-07</td><td>2.595480e-07</td><td>8.668380e-06</td></tr>\n",
       "</tbody>\n",
       "</table>\n"
      ],
      "text/latex": [
       "A data.frame: 3 × 5569\n",
       "\\begin{tabular}{r|lllllllllllllllllllll}\n",
       "  & X9002\\_150.063\\_4.963 & X8808\\_150.596\\_4.822 & X4094\\_151.039\\_3.305 & X2584\\_151.039\\_2.783 & X5788\\_151.075\\_3.796 & X5122\\_151.075\\_3.587 & X598\\_151.075\\_1.534 & X1334\\_151.075\\_2.335 & X649\\_151.075\\_1.623 & X2884\\_151.075\\_2.864 & ... & X14653\\_1257.898\\_7.839 & X7262\\_1259.35\\_4.281 & X7209\\_1259.493\\_4.282 & X7274\\_1259.638\\_4.269 & X14656\\_1280.974\\_7.835 & X14686\\_1310.987\\_8.01 & X14690\\_1315.94\\_8.014 & X14715\\_1369.027\\_8.219 & X14730\\_1427.068\\_8.446 & X7267\\_1469.075\\_4.282\\\\\n",
       "  & <dbl> & <dbl> & <dbl> & <dbl> & <dbl> & <dbl> & <dbl> & <dbl> & <dbl> & <dbl> & ... & <dbl> & <dbl> & <dbl> & <dbl> & <dbl> & <dbl> & <dbl> & <dbl> & <dbl> & <dbl>\\\\\n",
       "\\hline\n",
       "\tbld\\_plt1\\_01\\_0\\_1.mzML & 2.196048e-07 & 1.491655e-07 & 1.160176e-07 & 1.497248e-06 & 1.359344e-06 & 1.077307e-07 & 1.533090e-07 & 6.028911e-07 & 1.160176e-07 & 2.335932e-06 & ... & 8.701322e-08 & 1.694100e-05 & 2.517917e-05 & 3.621267e-05 & 1.035872e-07 & 7.043927e-08 & 5.800881e-08 & 1.077307e-07 & 1.243046e-07 & 1.637794e-05\\\\\n",
       "\tbld\\_plt1\\_01\\_120\\_1.mzML & 8.488921e-08 & 9.337813e-08 & 1.188449e-07 & 7.496702e-07 & 5.942244e-08 & 2.546676e-07 & 2.546676e-07 & 1.528006e-07 & 2.037341e-07 & 1.401481e-06 & ... & 2.292009e-07 & 3.592788e-04 & 4.537640e-04 & 4.599809e-04 & 1.782673e-07 & 8.064475e-08 & 2.504232e-07 & 1.655340e-07 & 1.740229e-07 & 9.503609e-05\\\\\n",
       "\tbld\\_plt1\\_01\\_600\\_1.mzML & 8.590606e-06 & 7.879135e-08 & 2.317393e-07 & 7.415656e-08 & 1.428611e-05 & 1.446611e-06 & 9.269570e-08 & 1.740229e-06 & 1.112348e-07 & 1.147176e-06 & ... & 2.502784e-07 & 8.690337e-05 & 3.973931e-05 & 7.957547e-05 & 6.952178e-08 & 2.224697e-07 & 1.992958e-07 & 2.502784e-07 & 2.595480e-07 & 8.668380e-06\\\\\n",
       "\\end{tabular}\n"
      ],
      "text/markdown": [
       "\n",
       "A data.frame: 3 × 5569\n",
       "\n",
       "| <!--/--> | X9002_150.063_4.963 &lt;dbl&gt; | X8808_150.596_4.822 &lt;dbl&gt; | X4094_151.039_3.305 &lt;dbl&gt; | X2584_151.039_2.783 &lt;dbl&gt; | X5788_151.075_3.796 &lt;dbl&gt; | X5122_151.075_3.587 &lt;dbl&gt; | X598_151.075_1.534 &lt;dbl&gt; | X1334_151.075_2.335 &lt;dbl&gt; | X649_151.075_1.623 &lt;dbl&gt; | X2884_151.075_2.864 &lt;dbl&gt; | ... ... | X14653_1257.898_7.839 &lt;dbl&gt; | X7262_1259.35_4.281 &lt;dbl&gt; | X7209_1259.493_4.282 &lt;dbl&gt; | X7274_1259.638_4.269 &lt;dbl&gt; | X14656_1280.974_7.835 &lt;dbl&gt; | X14686_1310.987_8.01 &lt;dbl&gt; | X14690_1315.94_8.014 &lt;dbl&gt; | X14715_1369.027_8.219 &lt;dbl&gt; | X14730_1427.068_8.446 &lt;dbl&gt; | X7267_1469.075_4.282 &lt;dbl&gt; |\n",
       "|---|---|---|---|---|---|---|---|---|---|---|---|---|---|---|---|---|---|---|---|---|---|\n",
       "| bld_plt1_01_0_1.mzML | 2.196048e-07 | 1.491655e-07 | 1.160176e-07 | 1.497248e-06 | 1.359344e-06 | 1.077307e-07 | 1.533090e-07 | 6.028911e-07 | 1.160176e-07 | 2.335932e-06 | ... | 8.701322e-08 | 1.694100e-05 | 2.517917e-05 | 3.621267e-05 | 1.035872e-07 | 7.043927e-08 | 5.800881e-08 | 1.077307e-07 | 1.243046e-07 | 1.637794e-05 |\n",
       "| bld_plt1_01_120_1.mzML | 8.488921e-08 | 9.337813e-08 | 1.188449e-07 | 7.496702e-07 | 5.942244e-08 | 2.546676e-07 | 2.546676e-07 | 1.528006e-07 | 2.037341e-07 | 1.401481e-06 | ... | 2.292009e-07 | 3.592788e-04 | 4.537640e-04 | 4.599809e-04 | 1.782673e-07 | 8.064475e-08 | 2.504232e-07 | 1.655340e-07 | 1.740229e-07 | 9.503609e-05 |\n",
       "| bld_plt1_01_600_1.mzML | 8.590606e-06 | 7.879135e-08 | 2.317393e-07 | 7.415656e-08 | 1.428611e-05 | 1.446611e-06 | 9.269570e-08 | 1.740229e-06 | 1.112348e-07 | 1.147176e-06 | ... | 2.502784e-07 | 8.690337e-05 | 3.973931e-05 | 7.957547e-05 | 6.952178e-08 | 2.224697e-07 | 1.992958e-07 | 2.502784e-07 | 2.595480e-07 | 8.668380e-06 |\n",
       "\n"
      ],
      "text/plain": [
       "                       X9002_150.063_4.963 X8808_150.596_4.822\n",
       "bld_plt1_01_0_1.mzML   2.196048e-07        1.491655e-07       \n",
       "bld_plt1_01_120_1.mzML 8.488921e-08        9.337813e-08       \n",
       "bld_plt1_01_600_1.mzML 8.590606e-06        7.879135e-08       \n",
       "                       X4094_151.039_3.305 X2584_151.039_2.783\n",
       "bld_plt1_01_0_1.mzML   1.160176e-07        1.497248e-06       \n",
       "bld_plt1_01_120_1.mzML 1.188449e-07        7.496702e-07       \n",
       "bld_plt1_01_600_1.mzML 2.317393e-07        7.415656e-08       \n",
       "                       X5788_151.075_3.796 X5122_151.075_3.587\n",
       "bld_plt1_01_0_1.mzML   1.359344e-06        1.077307e-07       \n",
       "bld_plt1_01_120_1.mzML 5.942244e-08        2.546676e-07       \n",
       "bld_plt1_01_600_1.mzML 1.428611e-05        1.446611e-06       \n",
       "                       X598_151.075_1.534 X1334_151.075_2.335\n",
       "bld_plt1_01_0_1.mzML   1.533090e-07       6.028911e-07       \n",
       "bld_plt1_01_120_1.mzML 2.546676e-07       1.528006e-07       \n",
       "bld_plt1_01_600_1.mzML 9.269570e-08       1.740229e-06       \n",
       "                       X649_151.075_1.623 X2884_151.075_2.864 ...\n",
       "bld_plt1_01_0_1.mzML   1.160176e-07       2.335932e-06        ...\n",
       "bld_plt1_01_120_1.mzML 2.037341e-07       1.401481e-06        ...\n",
       "bld_plt1_01_600_1.mzML 1.112348e-07       1.147176e-06        ...\n",
       "                       X14653_1257.898_7.839 X7262_1259.35_4.281\n",
       "bld_plt1_01_0_1.mzML   8.701322e-08          1.694100e-05       \n",
       "bld_plt1_01_120_1.mzML 2.292009e-07          3.592788e-04       \n",
       "bld_plt1_01_600_1.mzML 2.502784e-07          8.690337e-05       \n",
       "                       X7209_1259.493_4.282 X7274_1259.638_4.269\n",
       "bld_plt1_01_0_1.mzML   2.517917e-05         3.621267e-05        \n",
       "bld_plt1_01_120_1.mzML 4.537640e-04         4.599809e-04        \n",
       "bld_plt1_01_600_1.mzML 3.973931e-05         7.957547e-05        \n",
       "                       X14656_1280.974_7.835 X14686_1310.987_8.01\n",
       "bld_plt1_01_0_1.mzML   1.035872e-07          7.043927e-08        \n",
       "bld_plt1_01_120_1.mzML 1.782673e-07          8.064475e-08        \n",
       "bld_plt1_01_600_1.mzML 6.952178e-08          2.224697e-07        \n",
       "                       X14690_1315.94_8.014 X14715_1369.027_8.219\n",
       "bld_plt1_01_0_1.mzML   5.800881e-08         1.077307e-07         \n",
       "bld_plt1_01_120_1.mzML 2.504232e-07         1.655340e-07         \n",
       "bld_plt1_01_600_1.mzML 1.992958e-07         2.502784e-07         \n",
       "                       X14730_1427.068_8.446 X7267_1469.075_4.282\n",
       "bld_plt1_01_0_1.mzML   1.243046e-07          1.637794e-05        \n",
       "bld_plt1_01_120_1.mzML 1.740229e-07          9.503609e-05        \n",
       "bld_plt1_01_600_1.mzML 2.595480e-07          8.668380e-06        "
      ]
     },
     "metadata": {},
     "output_type": "display_data"
    },
    {
     "data": {
      "text/html": [
       "<style>\n",
       ".list-inline {list-style: none; margin:0; padding: 0}\n",
       ".list-inline>li {display: inline-block}\n",
       ".list-inline>li:not(:last-child)::after {content: \"\\00b7\"; padding: 0 .5ex}\n",
       "</style>\n",
       "<ol class=list-inline><li>84</li><li>5569</li></ol>\n"
      ],
      "text/latex": [
       "\\begin{enumerate*}\n",
       "\\item 84\n",
       "\\item 5569\n",
       "\\end{enumerate*}\n"
      ],
      "text/markdown": [
       "1. 84\n",
       "2. 5569\n",
       "\n",
       "\n"
      ],
      "text/plain": [
       "[1]   84 5569"
      ]
     },
     "metadata": {},
     "output_type": "display_data"
    },
    {
     "name": "stdout",
     "output_type": "stream",
     "text": [
      "[1] \"No.of NA values in Normalized data: 0\"\n"
     ]
    }
   ],
   "source": [
    "norm_tic <- normalization(imp, \n",
    "                            method = \"sum\")$newXtrain\n",
    "head(norm_tic,n=3)\n",
    "dim(norm_tic)\n",
    "print(paste('No.of NA values in Normalized data:', sum(is.na(norm_tic)== T)))"
   ]
  },
  {
   "cell_type": "code",
   "execution_count": 210,
   "id": "057a5a5f-6321-49f9-b890-448d9dbf512f",
   "metadata": {},
   "outputs": [],
   "source": [
    "write.csv(norm_tic, 'Imputed_TIC_Normalised_table.csv', row.names =TRUE)"
   ]
  },
  {
   "cell_type": "markdown",
   "id": "672f9643-d5df-4a4f-9140-ccb5824e6fef",
   "metadata": {},
   "source": [
    "### <font color ='darkblue'> Probabilistic Quotient Normalization (PQN) </font>\n",
    "<a name=\"pqn\"></a>"
   ]
  },
  {
   "cell_type": "markdown",
   "id": "fcfe01d0-3264-4283-984b-dfb84dcf5b40",
   "metadata": {},
   "source": [
    "PQN is a statistical method that aims to correct for technical variability in MS-based metabolomics data. The goal of PQN is to adjust for systematic variation between samples while preserving the relative differences in metabolite levels between samples.\n",
    "\n",
    "PQN involves a four-step process:\n",
    "\n",
    "- Step 1: TIC normalization: Each spectrum is divided by its TIC to adjust for differences in the total signal intensity between samples.\n",
    "- Step 2: Control spectrum calculation: A control spectrum representing the typical profile of metabolite levels across all samplesis calculated. This can be a median spectrum from all samples.\n",
    "- Step 3: Quotient calculation: For each metabolite feature, the ratio (quotient) of the TIC-normalized intensity of the sample to the control spectrum is calculated.\n",
    "- Step 4: Median normalization: The final normalized value for each feature is the median of all the quotients calculated in step 3.\n",
    "\n",
    "By using the median of the quotients, PQN reduces the impact of any individual features with extremely high or low values that might skew the normalization."
   ]
  },
  {
   "cell_type": "code",
   "execution_count": 211,
   "id": "c1ca0679-a764-4338-89da-2e663d4e8d3d",
   "metadata": {},
   "outputs": [
    {
     "data": {
      "text/html": [
       "<table class=\"dataframe\">\n",
       "<caption>A data.frame: 3 × 5569</caption>\n",
       "<thead>\n",
       "\t<tr><th></th><th scope=col>X9002_150.063_4.963</th><th scope=col>X8808_150.596_4.822</th><th scope=col>X4094_151.039_3.305</th><th scope=col>X2584_151.039_2.783</th><th scope=col>X5788_151.075_3.796</th><th scope=col>X5122_151.075_3.587</th><th scope=col>X598_151.075_1.534</th><th scope=col>X1334_151.075_2.335</th><th scope=col>X649_151.075_1.623</th><th scope=col>X2884_151.075_2.864</th><th scope=col>...</th><th scope=col>X14653_1257.898_7.839</th><th scope=col>X7262_1259.35_4.281</th><th scope=col>X7209_1259.493_4.282</th><th scope=col>X7274_1259.638_4.269</th><th scope=col>X14656_1280.974_7.835</th><th scope=col>X14686_1310.987_8.01</th><th scope=col>X14690_1315.94_8.014</th><th scope=col>X14715_1369.027_8.219</th><th scope=col>X14730_1427.068_8.446</th><th scope=col>X7267_1469.075_4.282</th></tr>\n",
       "\t<tr><th></th><th scope=col>&lt;dbl&gt;</th><th scope=col>&lt;dbl&gt;</th><th scope=col>&lt;dbl&gt;</th><th scope=col>&lt;dbl&gt;</th><th scope=col>&lt;dbl&gt;</th><th scope=col>&lt;dbl&gt;</th><th scope=col>&lt;dbl&gt;</th><th scope=col>&lt;dbl&gt;</th><th scope=col>&lt;dbl&gt;</th><th scope=col>&lt;dbl&gt;</th><th scope=col>...</th><th scope=col>&lt;dbl&gt;</th><th scope=col>&lt;dbl&gt;</th><th scope=col>&lt;dbl&gt;</th><th scope=col>&lt;dbl&gt;</th><th scope=col>&lt;dbl&gt;</th><th scope=col>&lt;dbl&gt;</th><th scope=col>&lt;dbl&gt;</th><th scope=col>&lt;dbl&gt;</th><th scope=col>&lt;dbl&gt;</th><th scope=col>&lt;dbl&gt;</th></tr>\n",
       "</thead>\n",
       "<tbody>\n",
       "\t<tr><th scope=row>bld_plt1_01_0_1.mzML</th><td>1.181865e-06</td><td>8.027762e-07</td><td>6.243815e-07</td><td>8.057860e-06</td><td>7.315692e-06</td><td>5.797828e-07</td><td>8.250755e-07</td><td>3.244628e-06</td><td>6.243815e-07</td><td>1.257148e-05</td><td>...</td><td>4.682861e-07</td><td>9.117278e-05</td><td>0.0001355088</td><td>0.0001948887</td><td>5.574835e-07</td><td>3.790888e-07</td><td>3.121907e-07</td><td>5.797828e-07</td><td>6.689802e-07</td><td>8.814248e-05</td></tr>\n",
       "\t<tr><th scope=row>bld_plt1_01_120_1.mzML</th><td>4.373576e-07</td><td>4.810933e-07</td><td>6.123006e-07</td><td>3.862375e-06</td><td>3.061503e-07</td><td>1.312073e-06</td><td>1.312073e-06</td><td>7.872436e-07</td><td>1.049658e-06</td><td>7.220570e-06</td><td>...</td><td>1.180865e-06</td><td>1.851040e-03</td><td>0.0023378369</td><td>0.0023698670</td><td>9.184509e-07</td><td>4.154897e-07</td><td>1.290205e-06</td><td>8.528473e-07</td><td>8.965830e-07</td><td>4.896353e-04</td></tr>\n",
       "\t<tr><th scope=row>bld_plt1_01_600_1.mzML</th><td>2.663479e-05</td><td>2.442890e-07</td><td>7.184972e-07</td><td>2.299191e-07</td><td>4.429345e-05</td><td>4.485153e-06</td><td>2.873989e-07</td><td>5.395503e-06</td><td>3.448786e-07</td><td>3.556767e-06</td><td>...</td><td>7.759769e-07</td><td>2.694400e-04</td><td>0.0001232099</td><td>0.0002467202</td><td>2.155492e-07</td><td>6.897573e-07</td><td>6.179076e-07</td><td>7.759769e-07</td><td>8.047168e-07</td><td>2.687592e-05</td></tr>\n",
       "</tbody>\n",
       "</table>\n"
      ],
      "text/latex": [
       "A data.frame: 3 × 5569\n",
       "\\begin{tabular}{r|lllllllllllllllllllll}\n",
       "  & X9002\\_150.063\\_4.963 & X8808\\_150.596\\_4.822 & X4094\\_151.039\\_3.305 & X2584\\_151.039\\_2.783 & X5788\\_151.075\\_3.796 & X5122\\_151.075\\_3.587 & X598\\_151.075\\_1.534 & X1334\\_151.075\\_2.335 & X649\\_151.075\\_1.623 & X2884\\_151.075\\_2.864 & ... & X14653\\_1257.898\\_7.839 & X7262\\_1259.35\\_4.281 & X7209\\_1259.493\\_4.282 & X7274\\_1259.638\\_4.269 & X14656\\_1280.974\\_7.835 & X14686\\_1310.987\\_8.01 & X14690\\_1315.94\\_8.014 & X14715\\_1369.027\\_8.219 & X14730\\_1427.068\\_8.446 & X7267\\_1469.075\\_4.282\\\\\n",
       "  & <dbl> & <dbl> & <dbl> & <dbl> & <dbl> & <dbl> & <dbl> & <dbl> & <dbl> & <dbl> & ... & <dbl> & <dbl> & <dbl> & <dbl> & <dbl> & <dbl> & <dbl> & <dbl> & <dbl> & <dbl>\\\\\n",
       "\\hline\n",
       "\tbld\\_plt1\\_01\\_0\\_1.mzML & 1.181865e-06 & 8.027762e-07 & 6.243815e-07 & 8.057860e-06 & 7.315692e-06 & 5.797828e-07 & 8.250755e-07 & 3.244628e-06 & 6.243815e-07 & 1.257148e-05 & ... & 4.682861e-07 & 9.117278e-05 & 0.0001355088 & 0.0001948887 & 5.574835e-07 & 3.790888e-07 & 3.121907e-07 & 5.797828e-07 & 6.689802e-07 & 8.814248e-05\\\\\n",
       "\tbld\\_plt1\\_01\\_120\\_1.mzML & 4.373576e-07 & 4.810933e-07 & 6.123006e-07 & 3.862375e-06 & 3.061503e-07 & 1.312073e-06 & 1.312073e-06 & 7.872436e-07 & 1.049658e-06 & 7.220570e-06 & ... & 1.180865e-06 & 1.851040e-03 & 0.0023378369 & 0.0023698670 & 9.184509e-07 & 4.154897e-07 & 1.290205e-06 & 8.528473e-07 & 8.965830e-07 & 4.896353e-04\\\\\n",
       "\tbld\\_plt1\\_01\\_600\\_1.mzML & 2.663479e-05 & 2.442890e-07 & 7.184972e-07 & 2.299191e-07 & 4.429345e-05 & 4.485153e-06 & 2.873989e-07 & 5.395503e-06 & 3.448786e-07 & 3.556767e-06 & ... & 7.759769e-07 & 2.694400e-04 & 0.0001232099 & 0.0002467202 & 2.155492e-07 & 6.897573e-07 & 6.179076e-07 & 7.759769e-07 & 8.047168e-07 & 2.687592e-05\\\\\n",
       "\\end{tabular}\n"
      ],
      "text/markdown": [
       "\n",
       "A data.frame: 3 × 5569\n",
       "\n",
       "| <!--/--> | X9002_150.063_4.963 &lt;dbl&gt; | X8808_150.596_4.822 &lt;dbl&gt; | X4094_151.039_3.305 &lt;dbl&gt; | X2584_151.039_2.783 &lt;dbl&gt; | X5788_151.075_3.796 &lt;dbl&gt; | X5122_151.075_3.587 &lt;dbl&gt; | X598_151.075_1.534 &lt;dbl&gt; | X1334_151.075_2.335 &lt;dbl&gt; | X649_151.075_1.623 &lt;dbl&gt; | X2884_151.075_2.864 &lt;dbl&gt; | ... ... | X14653_1257.898_7.839 &lt;dbl&gt; | X7262_1259.35_4.281 &lt;dbl&gt; | X7209_1259.493_4.282 &lt;dbl&gt; | X7274_1259.638_4.269 &lt;dbl&gt; | X14656_1280.974_7.835 &lt;dbl&gt; | X14686_1310.987_8.01 &lt;dbl&gt; | X14690_1315.94_8.014 &lt;dbl&gt; | X14715_1369.027_8.219 &lt;dbl&gt; | X14730_1427.068_8.446 &lt;dbl&gt; | X7267_1469.075_4.282 &lt;dbl&gt; |\n",
       "|---|---|---|---|---|---|---|---|---|---|---|---|---|---|---|---|---|---|---|---|---|---|\n",
       "| bld_plt1_01_0_1.mzML | 1.181865e-06 | 8.027762e-07 | 6.243815e-07 | 8.057860e-06 | 7.315692e-06 | 5.797828e-07 | 8.250755e-07 | 3.244628e-06 | 6.243815e-07 | 1.257148e-05 | ... | 4.682861e-07 | 9.117278e-05 | 0.0001355088 | 0.0001948887 | 5.574835e-07 | 3.790888e-07 | 3.121907e-07 | 5.797828e-07 | 6.689802e-07 | 8.814248e-05 |\n",
       "| bld_plt1_01_120_1.mzML | 4.373576e-07 | 4.810933e-07 | 6.123006e-07 | 3.862375e-06 | 3.061503e-07 | 1.312073e-06 | 1.312073e-06 | 7.872436e-07 | 1.049658e-06 | 7.220570e-06 | ... | 1.180865e-06 | 1.851040e-03 | 0.0023378369 | 0.0023698670 | 9.184509e-07 | 4.154897e-07 | 1.290205e-06 | 8.528473e-07 | 8.965830e-07 | 4.896353e-04 |\n",
       "| bld_plt1_01_600_1.mzML | 2.663479e-05 | 2.442890e-07 | 7.184972e-07 | 2.299191e-07 | 4.429345e-05 | 4.485153e-06 | 2.873989e-07 | 5.395503e-06 | 3.448786e-07 | 3.556767e-06 | ... | 7.759769e-07 | 2.694400e-04 | 0.0001232099 | 0.0002467202 | 2.155492e-07 | 6.897573e-07 | 6.179076e-07 | 7.759769e-07 | 8.047168e-07 | 2.687592e-05 |\n",
       "\n"
      ],
      "text/plain": [
       "                       X9002_150.063_4.963 X8808_150.596_4.822\n",
       "bld_plt1_01_0_1.mzML   1.181865e-06        8.027762e-07       \n",
       "bld_plt1_01_120_1.mzML 4.373576e-07        4.810933e-07       \n",
       "bld_plt1_01_600_1.mzML 2.663479e-05        2.442890e-07       \n",
       "                       X4094_151.039_3.305 X2584_151.039_2.783\n",
       "bld_plt1_01_0_1.mzML   6.243815e-07        8.057860e-06       \n",
       "bld_plt1_01_120_1.mzML 6.123006e-07        3.862375e-06       \n",
       "bld_plt1_01_600_1.mzML 7.184972e-07        2.299191e-07       \n",
       "                       X5788_151.075_3.796 X5122_151.075_3.587\n",
       "bld_plt1_01_0_1.mzML   7.315692e-06        5.797828e-07       \n",
       "bld_plt1_01_120_1.mzML 3.061503e-07        1.312073e-06       \n",
       "bld_plt1_01_600_1.mzML 4.429345e-05        4.485153e-06       \n",
       "                       X598_151.075_1.534 X1334_151.075_2.335\n",
       "bld_plt1_01_0_1.mzML   8.250755e-07       3.244628e-06       \n",
       "bld_plt1_01_120_1.mzML 1.312073e-06       7.872436e-07       \n",
       "bld_plt1_01_600_1.mzML 2.873989e-07       5.395503e-06       \n",
       "                       X649_151.075_1.623 X2884_151.075_2.864 ...\n",
       "bld_plt1_01_0_1.mzML   6.243815e-07       1.257148e-05        ...\n",
       "bld_plt1_01_120_1.mzML 1.049658e-06       7.220570e-06        ...\n",
       "bld_plt1_01_600_1.mzML 3.448786e-07       3.556767e-06        ...\n",
       "                       X14653_1257.898_7.839 X7262_1259.35_4.281\n",
       "bld_plt1_01_0_1.mzML   4.682861e-07          9.117278e-05       \n",
       "bld_plt1_01_120_1.mzML 1.180865e-06          1.851040e-03       \n",
       "bld_plt1_01_600_1.mzML 7.759769e-07          2.694400e-04       \n",
       "                       X7209_1259.493_4.282 X7274_1259.638_4.269\n",
       "bld_plt1_01_0_1.mzML   0.0001355088         0.0001948887        \n",
       "bld_plt1_01_120_1.mzML 0.0023378369         0.0023698670        \n",
       "bld_plt1_01_600_1.mzML 0.0001232099         0.0002467202        \n",
       "                       X14656_1280.974_7.835 X14686_1310.987_8.01\n",
       "bld_plt1_01_0_1.mzML   5.574835e-07          3.790888e-07        \n",
       "bld_plt1_01_120_1.mzML 9.184509e-07          4.154897e-07        \n",
       "bld_plt1_01_600_1.mzML 2.155492e-07          6.897573e-07        \n",
       "                       X14690_1315.94_8.014 X14715_1369.027_8.219\n",
       "bld_plt1_01_0_1.mzML   3.121907e-07         5.797828e-07         \n",
       "bld_plt1_01_120_1.mzML 1.290205e-06         8.528473e-07         \n",
       "bld_plt1_01_600_1.mzML 6.179076e-07         7.759769e-07         \n",
       "                       X14730_1427.068_8.446 X7267_1469.075_4.282\n",
       "bld_plt1_01_0_1.mzML   6.689802e-07          8.814248e-05        \n",
       "bld_plt1_01_120_1.mzML 8.965830e-07          4.896353e-04        \n",
       "bld_plt1_01_600_1.mzML 8.047168e-07          2.687592e-05        "
      ]
     },
     "metadata": {},
     "output_type": "display_data"
    },
    {
     "data": {
      "text/html": [
       "<style>\n",
       ".list-inline {list-style: none; margin:0; padding: 0}\n",
       ".list-inline>li {display: inline-block}\n",
       ".list-inline>li:not(:last-child)::after {content: \"\\00b7\"; padding: 0 .5ex}\n",
       "</style>\n",
       "<ol class=list-inline><li>84</li><li>5569</li></ol>\n"
      ],
      "text/latex": [
       "\\begin{enumerate*}\n",
       "\\item 84\n",
       "\\item 5569\n",
       "\\end{enumerate*}\n"
      ],
      "text/markdown": [
       "1. 84\n",
       "2. 5569\n",
       "\n",
       "\n"
      ],
      "text/plain": [
       "[1]   84 5569"
      ]
     },
     "metadata": {},
     "output_type": "display_data"
    },
    {
     "name": "stdout",
     "output_type": "stream",
     "text": [
      "[1] \"No.of NA values in Normalized data: 0\"\n"
     ]
    }
   ],
   "source": [
    "norm_pqn <- normalization(imp, \n",
    "                            method = \"pqn\")$newXtrain\n",
    "head(norm_pqn,n=3)\n",
    "dim(norm_pqn)\n",
    "print(paste('No.of NA values in Normalized data:',sum(is.na(norm_pqn)== T)))"
   ]
  },
  {
   "cell_type": "code",
   "execution_count": 212,
   "id": "dc9a789c-bcf3-4210-a91d-9c36ebf60846",
   "metadata": {},
   "outputs": [],
   "source": [
    "write.csv(norm_pqn, 'Imputed_PQN_Normalised_table.csv', row.names =TRUE)"
   ]
  },
  {
   "cell_type": "markdown",
   "id": "2d800050-9a86-4407-a148-e44c66946908",
   "metadata": {},
   "source": [
    "## 5. Scaling (after Imputation)"
   ]
  },
  {
   "cell_type": "markdown",
   "id": "879f4374-6e3f-4308-bf6b-afefa038cbfd",
   "metadata": {},
   "source": [
    "One can also perform center-scaling after imputation. Scaling is typically done to make sure that the data is centered around 0 and has a consistent spread to adjust for differences in offset between high and low-abundant metabolites, thus leaving only relevant variation for analysis. "
   ]
  },
  {
   "cell_type": "code",
   "execution_count": 213,
   "id": "428c6dd9-3a91-42d7-8f59-b36cb3443caf",
   "metadata": {},
   "outputs": [
    {
     "data": {
      "text/html": [
       "TRUE"
      ],
      "text/latex": [
       "TRUE"
      ],
      "text/markdown": [
       "TRUE"
      ],
      "text/plain": [
       "[1] TRUE"
      ]
     },
     "metadata": {},
     "output_type": "display_data"
    }
   ],
   "source": [
    "# ordering the rows in the imp table according to the order of filenames column of md_Samples\n",
    "imp <- imp[match(md_Samples$filename, rownames(imp)),] \n",
    "identical(rownames(imp), md_Samples$filename) #should return TRUE"
   ]
  },
  {
   "cell_type": "markdown",
   "id": "6d6051b3-3f86-4df1-9b13-0a25ce25399b",
   "metadata": {},
   "source": [
    "When <b>center = TRUE</b>, then centering is done by subtracting the column means (omitting NAs) of x from their corresponding columns. No centering is done for <b>center=FALSE</b>.\n",
    "\n",
    "* If scale = TRUE, center=TRUE,  then scaling is performed by dividing the centered columns of x by their standard deviations.\n",
    "* If scale = TRUE, center=FALSE, then scaling is performed by dividing the columns of x by their root mean squares\n",
    "* If scale is FALSE, no scaling is done."
   ]
  },
  {
   "cell_type": "code",
   "execution_count": 214,
   "id": "136a5111-35f5-4dca-a784-4a8c5eb60e90",
   "metadata": {},
   "outputs": [
    {
     "data": {
      "text/html": [
       "<table class=\"dataframe\">\n",
       "<caption>A matrix: 2 × 5569 of type dbl</caption>\n",
       "<thead>\n",
       "\t<tr><th></th><th scope=col>X9002_150.063_4.963</th><th scope=col>X8808_150.596_4.822</th><th scope=col>X4094_151.039_3.305</th><th scope=col>X2584_151.039_2.783</th><th scope=col>X5788_151.075_3.796</th><th scope=col>X5122_151.075_3.587</th><th scope=col>X598_151.075_1.534</th><th scope=col>X1334_151.075_2.335</th><th scope=col>X649_151.075_1.623</th><th scope=col>X2884_151.075_2.864</th><th scope=col>...</th><th scope=col>X14653_1257.898_7.839</th><th scope=col>X7262_1259.35_4.281</th><th scope=col>X7209_1259.493_4.282</th><th scope=col>X7274_1259.638_4.269</th><th scope=col>X14656_1280.974_7.835</th><th scope=col>X14686_1310.987_8.01</th><th scope=col>X14690_1315.94_8.014</th><th scope=col>X14715_1369.027_8.219</th><th scope=col>X14730_1427.068_8.446</th><th scope=col>X7267_1469.075_4.282</th></tr>\n",
       "</thead>\n",
       "<tbody>\n",
       "\t<tr><th scope=row>bld_plt1_01_0_1.mzML</th><td>-0.8662273</td><td>-0.1965295</td><td>-0.8831492</td><td>-0.9477855</td><td>-0.9476314</td><td>-0.8827588</td><td>-0.7154505</td><td>-0.9454694</td><td>-0.6376003</td><td>-0.8869060</td><td>...</td><td>-0.2132227</td><td>-0.3324730</td><td>-0.3033492</td><td>-0.2627040</td><td>-0.1705409</td><td>-0.2348066</td><td>-0.1877471</td><td>-0.1946509</td><td>-0.1756857</td><td>-0.1351521</td></tr>\n",
       "\t<tr><th scope=row>bld_plt1_01_120_1.mzML</th><td>-0.8662301</td><td>-0.1973397</td><td>-0.8831492</td><td>-0.9491684</td><td>-0.9526049</td><td>-0.8824262</td><td>-0.7153539</td><td>-0.9458006</td><td>-0.6373360</td><td>-0.8875749</td><td>...</td><td>-0.2122461</td><td> 0.6185309</td><td> 0.8157820</td><td> 0.7605538</td><td>-0.1698431</td><td>-0.2347819</td><td>-0.1866834</td><td>-0.1943536</td><td>-0.1752368</td><td> 0.5971932</td></tr>\n",
       "</tbody>\n",
       "</table>\n"
      ],
      "text/latex": [
       "A matrix: 2 × 5569 of type dbl\n",
       "\\begin{tabular}{r|lllllllllllllllllllll}\n",
       "  & X9002\\_150.063\\_4.963 & X8808\\_150.596\\_4.822 & X4094\\_151.039\\_3.305 & X2584\\_151.039\\_2.783 & X5788\\_151.075\\_3.796 & X5122\\_151.075\\_3.587 & X598\\_151.075\\_1.534 & X1334\\_151.075\\_2.335 & X649\\_151.075\\_1.623 & X2884\\_151.075\\_2.864 & ... & X14653\\_1257.898\\_7.839 & X7262\\_1259.35\\_4.281 & X7209\\_1259.493\\_4.282 & X7274\\_1259.638\\_4.269 & X14656\\_1280.974\\_7.835 & X14686\\_1310.987\\_8.01 & X14690\\_1315.94\\_8.014 & X14715\\_1369.027\\_8.219 & X14730\\_1427.068\\_8.446 & X7267\\_1469.075\\_4.282\\\\\n",
       "\\hline\n",
       "\tbld\\_plt1\\_01\\_0\\_1.mzML & -0.8662273 & -0.1965295 & -0.8831492 & -0.9477855 & -0.9476314 & -0.8827588 & -0.7154505 & -0.9454694 & -0.6376003 & -0.8869060 & ... & -0.2132227 & -0.3324730 & -0.3033492 & -0.2627040 & -0.1705409 & -0.2348066 & -0.1877471 & -0.1946509 & -0.1756857 & -0.1351521\\\\\n",
       "\tbld\\_plt1\\_01\\_120\\_1.mzML & -0.8662301 & -0.1973397 & -0.8831492 & -0.9491684 & -0.9526049 & -0.8824262 & -0.7153539 & -0.9458006 & -0.6373360 & -0.8875749 & ... & -0.2122461 &  0.6185309 &  0.8157820 &  0.7605538 & -0.1698431 & -0.2347819 & -0.1866834 & -0.1943536 & -0.1752368 &  0.5971932\\\\\n",
       "\\end{tabular}\n"
      ],
      "text/markdown": [
       "\n",
       "A matrix: 2 × 5569 of type dbl\n",
       "\n",
       "| <!--/--> | X9002_150.063_4.963 | X8808_150.596_4.822 | X4094_151.039_3.305 | X2584_151.039_2.783 | X5788_151.075_3.796 | X5122_151.075_3.587 | X598_151.075_1.534 | X1334_151.075_2.335 | X649_151.075_1.623 | X2884_151.075_2.864 | ... | X14653_1257.898_7.839 | X7262_1259.35_4.281 | X7209_1259.493_4.282 | X7274_1259.638_4.269 | X14656_1280.974_7.835 | X14686_1310.987_8.01 | X14690_1315.94_8.014 | X14715_1369.027_8.219 | X14730_1427.068_8.446 | X7267_1469.075_4.282 |\n",
       "|---|---|---|---|---|---|---|---|---|---|---|---|---|---|---|---|---|---|---|---|---|---|\n",
       "| bld_plt1_01_0_1.mzML | -0.8662273 | -0.1965295 | -0.8831492 | -0.9477855 | -0.9476314 | -0.8827588 | -0.7154505 | -0.9454694 | -0.6376003 | -0.8869060 | ... | -0.2132227 | -0.3324730 | -0.3033492 | -0.2627040 | -0.1705409 | -0.2348066 | -0.1877471 | -0.1946509 | -0.1756857 | -0.1351521 |\n",
       "| bld_plt1_01_120_1.mzML | -0.8662301 | -0.1973397 | -0.8831492 | -0.9491684 | -0.9526049 | -0.8824262 | -0.7153539 | -0.9458006 | -0.6373360 | -0.8875749 | ... | -0.2122461 |  0.6185309 |  0.8157820 |  0.7605538 | -0.1698431 | -0.2347819 | -0.1866834 | -0.1943536 | -0.1752368 |  0.5971932 |\n",
       "\n"
      ],
      "text/plain": [
       "                       X9002_150.063_4.963 X8808_150.596_4.822\n",
       "bld_plt1_01_0_1.mzML   -0.8662273          -0.1965295         \n",
       "bld_plt1_01_120_1.mzML -0.8662301          -0.1973397         \n",
       "                       X4094_151.039_3.305 X2584_151.039_2.783\n",
       "bld_plt1_01_0_1.mzML   -0.8831492          -0.9477855         \n",
       "bld_plt1_01_120_1.mzML -0.8831492          -0.9491684         \n",
       "                       X5788_151.075_3.796 X5122_151.075_3.587\n",
       "bld_plt1_01_0_1.mzML   -0.9476314          -0.8827588         \n",
       "bld_plt1_01_120_1.mzML -0.9526049          -0.8824262         \n",
       "                       X598_151.075_1.534 X1334_151.075_2.335\n",
       "bld_plt1_01_0_1.mzML   -0.7154505         -0.9454694         \n",
       "bld_plt1_01_120_1.mzML -0.7153539         -0.9458006         \n",
       "                       X649_151.075_1.623 X2884_151.075_2.864 ...\n",
       "bld_plt1_01_0_1.mzML   -0.6376003         -0.8869060          ...\n",
       "bld_plt1_01_120_1.mzML -0.6373360         -0.8875749          ...\n",
       "                       X14653_1257.898_7.839 X7262_1259.35_4.281\n",
       "bld_plt1_01_0_1.mzML   -0.2132227            -0.3324730         \n",
       "bld_plt1_01_120_1.mzML -0.2122461             0.6185309         \n",
       "                       X7209_1259.493_4.282 X7274_1259.638_4.269\n",
       "bld_plt1_01_0_1.mzML   -0.3033492           -0.2627040          \n",
       "bld_plt1_01_120_1.mzML  0.8157820            0.7605538          \n",
       "                       X14656_1280.974_7.835 X14686_1310.987_8.01\n",
       "bld_plt1_01_0_1.mzML   -0.1705409            -0.2348066          \n",
       "bld_plt1_01_120_1.mzML -0.1698431            -0.2347819          \n",
       "                       X14690_1315.94_8.014 X14715_1369.027_8.219\n",
       "bld_plt1_01_0_1.mzML   -0.1877471           -0.1946509           \n",
       "bld_plt1_01_120_1.mzML -0.1866834           -0.1943536           \n",
       "                       X14730_1427.068_8.446 X7267_1469.075_4.282\n",
       "bld_plt1_01_0_1.mzML   -0.1756857            -0.1351521          \n",
       "bld_plt1_01_120_1.mzML -0.1752368             0.5971932          "
      ]
     },
     "metadata": {},
     "output_type": "display_data"
    }
   ],
   "source": [
    "imp_s <- scale(imp, center = T, scale = T) # center and scale data\n",
    "head(imp_s, n=2)"
   ]
  },
  {
   "cell_type": "code",
   "execution_count": 215,
   "id": "637e569b-4a21-4785-9724-d625f15b0bf4",
   "metadata": {},
   "outputs": [],
   "source": [
    "write.csv(imp_s, 'Imputed_scaled_table.csv', row.names =TRUE)"
   ]
  },
  {
   "cell_type": "markdown",
   "id": "7be22a69-488f-4a16-b97a-74058a06c46c",
   "metadata": {},
   "source": [
    "Now, we can use this data to perform further multivariate and univariate analyses."
   ]
  },
  {
   "cell_type": "code",
   "execution_count": 70,
   "id": "fc5ec14f-651a-4688-8c7a-145f1ea88b90",
   "metadata": {},
   "outputs": [
    {
     "data": {
      "text/plain": [
       "R version 4.1.3 (2022-03-10)\n",
       "Platform: x86_64-w64-mingw32/x64 (64-bit)\n",
       "Running under: Windows 10 x64 (build 22621)\n",
       "\n",
       "Matrix products: default\n",
       "\n",
       "locale:\n",
       "[1] LC_COLLATE=English_United Kingdom.1252 \n",
       "[2] LC_CTYPE=English_United Kingdom.1252   \n",
       "[3] LC_MONETARY=English_United Kingdom.1252\n",
       "[4] LC_NUMERIC=C                           \n",
       "[5] LC_TIME=English_United Kingdom.1252    \n",
       "\n",
       "attached base packages:\n",
       "[1] stats     graphics  grDevices utils     datasets  methods   base     \n",
       "\n",
       "other attached packages:\n",
       " [1] vegan_2.6-4      lattice_0.20-45  permute_0.9-7    KODAMA_2.4      \n",
       " [5] umap_0.2.10.0    Rtsne_0.16       minerva_1.5.10   factoextra_1.0.7\n",
       " [9] lubridate_1.9.2  forcats_1.0.0    stringr_1.5.0    dplyr_1.1.0     \n",
       "[13] purrr_1.0.1      readr_2.1.4      tidyr_1.3.0      tibble_3.2.1    \n",
       "[17] ggplot2_3.4.2    tidyverse_2.0.0 \n",
       "\n",
       "loaded via a namespace (and not attached):\n",
       " [1] ggrepel_0.9.3    Rcpp_1.0.10      png_0.1-8        digest_0.6.31   \n",
       " [5] utf8_1.2.3       RSpectra_0.16-1  IRdisplay_1.1    R6_2.5.1        \n",
       " [9] repr_1.1.6       evaluate_0.21    pillar_1.9.0     rlang_1.1.0     \n",
       "[13] uuid_1.1-0       Matrix_1.5-4     reticulate_1.28  labeling_0.4.2  \n",
       "[17] splines_4.1.3    munsell_0.5.0    compiler_4.1.3   pkgconfig_2.0.3 \n",
       "[21] askpass_1.1      base64enc_0.1-3  mgcv_1.8-42      htmltools_0.5.5 \n",
       "[25] openssl_2.0.6    tidyselect_1.2.0 fansi_1.0.4      crayon_1.5.2    \n",
       "[29] tzdb_0.3.0       withr_2.5.0      MASS_7.3-58.3    grid_4.1.3      \n",
       "[33] nlme_3.1-162     jsonlite_1.8.4   gtable_0.3.3     lifecycle_1.0.3 \n",
       "[37] magrittr_2.0.3   scales_1.2.1     cli_3.6.1        stringi_1.7.12  \n",
       "[41] farver_2.1.1     generics_0.1.3   vctrs_0.6.1      IRkernel_1.3.2  \n",
       "[45] tools_4.1.3      glue_1.6.2       hms_1.1.3        parallel_4.1.3  \n",
       "[49] fastmap_1.1.1    timechange_0.2.0 colorspace_2.1-0 cluster_2.1.4   \n",
       "[53] pbdZMQ_0.3-9    "
      ]
     },
     "metadata": {},
     "output_type": "display_data"
    }
   ],
   "source": [
    "sessionInfo()"
   ]
  }
 ],
 "metadata": {
  "kernelspec": {
   "display_name": "R",
   "language": "R",
   "name": "ir"
  },
  "language_info": {
   "codemirror_mode": "r",
   "file_extension": ".r",
   "mimetype": "text/x-r-source",
   "name": "R",
   "pygments_lexer": "r",
   "version": "4.1.3"
  }
 },
 "nbformat": 4,
 "nbformat_minor": 5
}
